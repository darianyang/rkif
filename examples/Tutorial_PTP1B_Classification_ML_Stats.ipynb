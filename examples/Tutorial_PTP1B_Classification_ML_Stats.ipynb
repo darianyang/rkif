{
 "cells": [
  {
   "attachments": {},
   "cell_type": "markdown",
   "metadata": {},
   "source": [
    "[![Open in Colab](https://colab.research.google.com/assets/colab-badge.svg)](https://colab.research.google.com/github/kamerlinlab/KIF/blob/main/tutorials/Tutorial_PTP1B_Classification_ML_Stats.ipynb)"
   ]
  },
  {
   "attachments": {},
   "cell_type": "markdown",
   "metadata": {},
   "source": [
    "## Tutorial for Classification Machine Learning and Statistical Analysis on Simulations of PTP1B. \n",
    "\n",
    "In this jupyter notebook we will use the model_building.py and stat_modelling.py modules to identify differences in the molecular interactions across PTP1B when the WPD-loop of PTP1B is in the Closed state, versus when the WPD-loop is in the Open state.\n",
    "\n",
    "This notebook will also cover all the pre- and post-processing steps requireds to prepare, analyse and visualise the results.\n",
    "\n",
    "The dataset used here is for WT PTP1B and is the same data as what was used in the manuscript. \n",
    "\n",
    "<center><img src=\"https://raw.githubusercontent.com/kamerlinlab/KIF/main/tutorials/miscellaneous/ptp1b_banner.png\" alt=\"Drawing\" style=\"width: 70%\" /></center>"
   ]
  },
  {
   "attachments": {},
   "cell_type": "markdown",
   "metadata": {},
   "source": [
    "### Setup\n",
    "\n",
    "Install and load the required modules and then download the dataset we'll be working on from google drive"
   ]
  },
  {
   "cell_type": "code",
   "execution_count": 1,
   "metadata": {},
   "outputs": [
    {
     "name": "stdout",
     "output_type": "stream",
     "text": [
      "Requirement already satisfied: KIF in c:\\users\\rory crean\\desktop\\github\\key-interactions-finder (0.1.1)\n",
      "Requirement already satisfied: plotly in c:\\anaconda3\\envs\\ml_conf_features_3.8\\lib\\site-packages (5.4.0)\n",
      "Requirement already satisfied: pandas in c:\\anaconda3\\envs\\ml_conf_features_3.8\\lib\\site-packages (from KIF) (1.3.4)\n",
      "Requirement already satisfied: numpy in c:\\anaconda3\\envs\\ml_conf_features_3.8\\lib\\site-packages (from KIF) (1.21.4)\n",
      "Requirement already satisfied: scikit-learn in c:\\anaconda3\\envs\\ml_conf_features_3.8\\lib\\site-packages (from KIF) (1.0.1)\n",
      "Requirement already satisfied: scipy in c:\\anaconda3\\envs\\ml_conf_features_3.8\\lib\\site-packages (from KIF) (1.7.2)\n",
      "Requirement already satisfied: xgboost in c:\\anaconda3\\envs\\ml_conf_features_3.8\\lib\\site-packages (from KIF) (1.7.2)\n",
      "Requirement already satisfied: catboost in c:\\anaconda3\\envs\\ml_conf_features_3.8\\lib\\site-packages (from KIF) (1.1.1)\n",
      "Requirement already satisfied: MDAnalysis in c:\\anaconda3\\envs\\ml_conf_features_3.8\\lib\\site-packages (from KIF) (2.4.2)\n",
      "Requirement already satisfied: gdown in c:\\anaconda3\\envs\\ml_conf_features_3.8\\lib\\site-packages (from KIF) (4.6.0)\n",
      "Requirement already satisfied: tenacity>=6.2.0 in c:\\anaconda3\\envs\\ml_conf_features_3.8\\lib\\site-packages (from plotly) (8.0.1)\n",
      "Requirement already satisfied: six in c:\\anaconda3\\envs\\ml_conf_features_3.8\\lib\\site-packages (from plotly) (1.16.0)\n",
      "Requirement already satisfied: graphviz in c:\\anaconda3\\envs\\ml_conf_features_3.8\\lib\\site-packages (from catboost->KIF) (0.20.1)\n",
      "Requirement already satisfied: matplotlib in c:\\anaconda3\\envs\\ml_conf_features_3.8\\lib\\site-packages (from catboost->KIF) (3.5.0)\n",
      "Requirement already satisfied: python-dateutil>=2.7.3 in c:\\anaconda3\\envs\\ml_conf_features_3.8\\lib\\site-packages (from pandas->KIF) (2.8.2)\n",
      "Requirement already satisfied: pytz>=2017.3 in c:\\anaconda3\\envs\\ml_conf_features_3.8\\lib\\site-packages (from pandas->KIF) (2021.3)\n",
      "Requirement already satisfied: requests[socks] in c:\\anaconda3\\envs\\ml_conf_features_3.8\\lib\\site-packages (from gdown->KIF) (2.28.1)\n",
      "Requirement already satisfied: beautifulsoup4 in c:\\anaconda3\\envs\\ml_conf_features_3.8\\lib\\site-packages (from gdown->KIF) (4.11.1)\n",
      "Requirement already satisfied: filelock in c:\\anaconda3\\envs\\ml_conf_features_3.8\\lib\\site-packages (from gdown->KIF) (3.8.2)\n",
      "Requirement already satisfied: tqdm in c:\\anaconda3\\envs\\ml_conf_features_3.8\\lib\\site-packages (from gdown->KIF) (4.64.1)\n",
      "Requirement already satisfied: mmtf-python>=1.0.0 in c:\\anaconda3\\envs\\ml_conf_features_3.8\\lib\\site-packages (from MDAnalysis->KIF) (1.1.3)\n",
      "Requirement already satisfied: joblib>=0.12 in c:\\anaconda3\\envs\\ml_conf_features_3.8\\lib\\site-packages (from MDAnalysis->KIF) (1.1.0)\n",
      "Requirement already satisfied: fasteners in c:\\anaconda3\\envs\\ml_conf_features_3.8\\lib\\site-packages (from MDAnalysis->KIF) (0.18)\n",
      "Requirement already satisfied: gsd>=1.9.3 in c:\\anaconda3\\envs\\ml_conf_features_3.8\\lib\\site-packages (from MDAnalysis->KIF) (2.7.0)\n",
      "Requirement already satisfied: biopython>=1.80 in c:\\anaconda3\\envs\\ml_conf_features_3.8\\lib\\site-packages (from MDAnalysis->KIF) (1.80)\n",
      "Requirement already satisfied: GridDataFormats>=0.4.0 in c:\\anaconda3\\envs\\ml_conf_features_3.8\\lib\\site-packages (from MDAnalysis->KIF) (1.0.1)\n",
      "Requirement already satisfied: threadpoolctl in c:\\anaconda3\\envs\\ml_conf_features_3.8\\lib\\site-packages (from MDAnalysis->KIF) (3.0.0)\n",
      "Requirement already satisfied: packaging in c:\\anaconda3\\envs\\ml_conf_features_3.8\\lib\\site-packages (from MDAnalysis->KIF) (21.3)\n",
      "Requirement already satisfied: networkx>=2.0 in c:\\anaconda3\\envs\\ml_conf_features_3.8\\lib\\site-packages (from MDAnalysis->KIF) (2.8.8)\n",
      "Requirement already satisfied: mrcfile in c:\\anaconda3\\envs\\ml_conf_features_3.8\\lib\\site-packages (from GridDataFormats>=0.4.0->MDAnalysis->KIF) (1.4.3)\n",
      "Requirement already satisfied: fonttools>=4.22.0 in c:\\anaconda3\\envs\\ml_conf_features_3.8\\lib\\site-packages (from matplotlib->catboost->KIF) (4.28.1)\n",
      "Requirement already satisfied: kiwisolver>=1.0.1 in c:\\anaconda3\\envs\\ml_conf_features_3.8\\lib\\site-packages (from matplotlib->catboost->KIF) (1.3.2)\n",
      "Requirement already satisfied: pyparsing>=2.2.1 in c:\\anaconda3\\envs\\ml_conf_features_3.8\\lib\\site-packages (from matplotlib->catboost->KIF) (3.0.6)\n",
      "Requirement already satisfied: pillow>=6.2.0 in c:\\anaconda3\\envs\\ml_conf_features_3.8\\lib\\site-packages (from matplotlib->catboost->KIF) (8.4.0)\n",
      "Requirement already satisfied: cycler>=0.10 in c:\\anaconda3\\envs\\ml_conf_features_3.8\\lib\\site-packages (from matplotlib->catboost->KIF) (0.11.0)\n",
      "Requirement already satisfied: msgpack>=1.0.0 in c:\\anaconda3\\envs\\ml_conf_features_3.8\\lib\\site-packages (from mmtf-python>=1.0.0->MDAnalysis->KIF) (1.0.4)\n",
      "Requirement already satisfied: colorama in c:\\anaconda3\\envs\\ml_conf_features_3.8\\lib\\site-packages (from tqdm->gdown->KIF) (0.4.5)\n",
      "Requirement already satisfied: soupsieve>1.2 in c:\\anaconda3\\envs\\ml_conf_features_3.8\\lib\\site-packages (from beautifulsoup4->gdown->KIF) (2.3.2.post1)\n",
      "Requirement already satisfied: idna<4,>=2.5 in c:\\anaconda3\\envs\\ml_conf_features_3.8\\lib\\site-packages (from requests[socks]->gdown->KIF) (3.4)\n",
      "Requirement already satisfied: charset-normalizer<3,>=2 in c:\\anaconda3\\envs\\ml_conf_features_3.8\\lib\\site-packages (from requests[socks]->gdown->KIF) (2.1.1)\n",
      "Requirement already satisfied: certifi>=2017.4.17 in c:\\anaconda3\\envs\\ml_conf_features_3.8\\lib\\site-packages (from requests[socks]->gdown->KIF) (2022.6.15)\n",
      "Requirement already satisfied: urllib3<1.27,>=1.21.1 in c:\\anaconda3\\envs\\ml_conf_features_3.8\\lib\\site-packages (from requests[socks]->gdown->KIF) (1.26.13)\n",
      "Requirement already satisfied: PySocks!=1.5.7,>=1.5.6 in c:\\anaconda3\\envs\\ml_conf_features_3.8\\lib\\site-packages (from requests[socks]->gdown->KIF) (1.7.1)\n",
      "Note: you may need to restart the kernel to use updated packages.\n",
      "Requirement already satisfied: kaleido in c:\\anaconda3\\envs\\ml_conf_features_3.8\\lib\\site-packages (0.2.1)\n",
      "Note: you may need to restart the kernel to use updated packages.\n"
     ]
    }
   ],
   "source": [
    "# Alongside installing KIF, we'll be using plotly to visualise some of the results. \n",
    "# We'll use kaleido with plotly.\n",
    "%pip install KIF plotly \n",
    "%pip install -U kaleido "
   ]
  },
  {
   "cell_type": "code",
   "execution_count": 2,
   "metadata": {},
   "outputs": [],
   "source": [
    "import pandas as pd\n",
    "\n",
    "from key_interactions_finder import data_preperation\n",
    "from key_interactions_finder import model_building\n",
    "from key_interactions_finder import stat_modelling\n",
    "from key_interactions_finder import post_proccessing\n",
    "from key_interactions_finder import pymol_projections"
   ]
  },
  {
   "attachments": {},
   "cell_type": "markdown",
   "metadata": {},
   "source": [
    "We will first need to download the PTP1B dataset from google drive. \n",
    "The tutorial data will be saved in the relative path defined by \"save_dir\" in the cell block below.\n",
    "\n",
    "You can change this as you see fit. If you want to use the current directory you can do:\n",
    "\n",
    "save_dir=\"\""
   ]
  },
  {
   "cell_type": "code",
   "execution_count": 3,
   "metadata": {},
   "outputs": [
    {
     "name": "stderr",
     "output_type": "stream",
     "text": [
      "Downloading...\n",
      "From: https://drive.google.com/uc?id=1hJbwCCuTTgI4xglwu1vXyzo-yaZJbmUY\n",
      "To: c:\\Users\\Rory Crean\\Desktop\\Github\\key-interactions-finder\\tutorials\\tutorial_datasets\\tutorial_dataset.zip\n",
      "100%|██████████| 27.5M/27.5M [00:01<00:00, 20.0MB/s]\n"
     ]
    },
    {
     "name": "stdout",
     "output_type": "stream",
     "text": [
      "Tutorial files were successfully downloaded and unzipped.\n"
     ]
    }
   ],
   "source": [
    "from key_interactions_finder.utils import download_prep_tutorial_dataset\n",
    "\n",
    "drive_url = r\"https://drive.google.com/file/d/1hJbwCCuTTgI4xglwu1vXyzo-yaZJbmUY/view?usp=share_link\"\n",
    "save_dir = \"tutorial_datasets/\"\n",
    "\n",
    "download_prep_tutorial_dataset(drive_url=drive_url, save_dir=save_dir)"
   ]
  },
  {
   "attachments": {},
   "cell_type": "markdown",
   "metadata": {},
   "source": [
    "At this point, we'll define the location of our downloaded input files and where we would like to save our output files to throughout this tutorial."
   ]
  },
  {
   "cell_type": "code",
   "execution_count": 4,
   "metadata": {},
   "outputs": [],
   "source": [
    "# Where all input data is stored. \n",
    "in_dir = save_dir + r\"PTP1B_Tutorial/Input_data/\"\n",
    "\n",
    "# The target variable's per frame values are stored here. \n",
    "classifications_file = in_dir + r\"WT_PTP1B_Class_Assingments.txt\"\n",
    "\n",
    "# The pdb file will later be used to determine the distance of each residue to a site of interest.\n",
    "pdb_file = in_dir + r\"WT_PTP1B_Phospho_Enzyme_Closed.pdb\"\n",
    "\n",
    "# output folders for the stats and ml analysis. These will be created if they don't already exist.\n",
    "stats_out_dir = save_dir + r\"PTP1B_Tutorial/PTP1B_stat_analysis\"\n",
    "ml_out_dir = save_dir + r\"PTP1B_Tutorial/PTP1B_ml_analysis\""
   ]
  },
  {
   "attachments": {},
   "cell_type": "markdown",
   "metadata": {},
   "source": [
    "### Preparation Step 1: Load the non-covalent interaction datasets\n",
    "\n",
    "The contact identification calculation was split into 4 blocks of different residues ranges. We will first need to load these blocks in and merge them. Luckly this is very easy with pandas. \n",
    "\n",
    "Note this data was generated using the script: \"identify_contacts.py\" which is provided with KIF."
   ]
  },
  {
   "cell_type": "code",
   "execution_count": 5,
   "metadata": {},
   "outputs": [
    {
     "data": {
      "text/html": [
       "<div>\n",
       "<style scoped>\n",
       "    .dataframe tbody tr th:only-of-type {\n",
       "        vertical-align: middle;\n",
       "    }\n",
       "\n",
       "    .dataframe tbody tr th {\n",
       "        vertical-align: top;\n",
       "    }\n",
       "\n",
       "    .dataframe thead th {\n",
       "        text-align: right;\n",
       "    }\n",
       "</style>\n",
       "<table border=\"1\" class=\"dataframe\">\n",
       "  <thead>\n",
       "    <tr style=\"text-align: right;\">\n",
       "      <th></th>\n",
       "      <th>1Glu 4Lys Saltbr</th>\n",
       "      <th>1Glu 5Glu Other</th>\n",
       "      <th>1Glu 240Pro Other</th>\n",
       "      <th>1Glu 241Ser Hbond</th>\n",
       "      <th>1Glu 243Val Other</th>\n",
       "      <th>1Glu 244Asp Other</th>\n",
       "      <th>2Met 5Glu Other</th>\n",
       "      <th>2Met 6Phe Other</th>\n",
       "      <th>2Met 234Met Other</th>\n",
       "      <th>2Met 240Pro Other</th>\n",
       "      <th>...</th>\n",
       "      <th>289Gln 292Glu Hbond</th>\n",
       "      <th>289Gln 293Leu Other</th>\n",
       "      <th>290Trp 293Leu Other</th>\n",
       "      <th>290Trp 294Ser Hbond</th>\n",
       "      <th>291Lys 294Ser Hbond</th>\n",
       "      <th>291Lys 295Hip Other</th>\n",
       "      <th>291Lys 296Glu Saltbr</th>\n",
       "      <th>291Lys 297Asp Saltbr</th>\n",
       "      <th>292Glu 295Hip Hbond</th>\n",
       "      <th>295Hip 298Leu Hbond</th>\n",
       "    </tr>\n",
       "  </thead>\n",
       "  <tbody>\n",
       "    <tr>\n",
       "      <th>0</th>\n",
       "      <td>11.7873</td>\n",
       "      <td>3.8771</td>\n",
       "      <td>2.2511</td>\n",
       "      <td>2.8257</td>\n",
       "      <td>0.0003</td>\n",
       "      <td>0.0</td>\n",
       "      <td>4.9883</td>\n",
       "      <td>3.3310</td>\n",
       "      <td>0.5597</td>\n",
       "      <td>0.9231</td>\n",
       "      <td>...</td>\n",
       "      <td>5.8577</td>\n",
       "      <td>4.9207</td>\n",
       "      <td>1.3966</td>\n",
       "      <td>4.5413</td>\n",
       "      <td>3.5480</td>\n",
       "      <td>1.8982</td>\n",
       "      <td>4.0810</td>\n",
       "      <td>0.0004</td>\n",
       "      <td>9.5329</td>\n",
       "      <td>0.0021</td>\n",
       "    </tr>\n",
       "    <tr>\n",
       "      <th>1</th>\n",
       "      <td>11.5986</td>\n",
       "      <td>2.0279</td>\n",
       "      <td>0.1625</td>\n",
       "      <td>1.5210</td>\n",
       "      <td>0.0036</td>\n",
       "      <td>0.0</td>\n",
       "      <td>3.6268</td>\n",
       "      <td>3.5072</td>\n",
       "      <td>0.0064</td>\n",
       "      <td>1.9025</td>\n",
       "      <td>...</td>\n",
       "      <td>3.0508</td>\n",
       "      <td>3.8434</td>\n",
       "      <td>0.2670</td>\n",
       "      <td>4.0187</td>\n",
       "      <td>2.8860</td>\n",
       "      <td>0.6077</td>\n",
       "      <td>6.1905</td>\n",
       "      <td>0.0027</td>\n",
       "      <td>7.9961</td>\n",
       "      <td>0.1484</td>\n",
       "    </tr>\n",
       "    <tr>\n",
       "      <th>2</th>\n",
       "      <td>7.7794</td>\n",
       "      <td>3.2396</td>\n",
       "      <td>0.1173</td>\n",
       "      <td>2.6724</td>\n",
       "      <td>0.0025</td>\n",
       "      <td>0.0</td>\n",
       "      <td>4.0700</td>\n",
       "      <td>2.9013</td>\n",
       "      <td>0.1024</td>\n",
       "      <td>0.3117</td>\n",
       "      <td>...</td>\n",
       "      <td>5.2784</td>\n",
       "      <td>4.8548</td>\n",
       "      <td>1.5899</td>\n",
       "      <td>5.0631</td>\n",
       "      <td>3.8698</td>\n",
       "      <td>1.0813</td>\n",
       "      <td>10.3764</td>\n",
       "      <td>0.0021</td>\n",
       "      <td>8.4305</td>\n",
       "      <td>0.0001</td>\n",
       "    </tr>\n",
       "  </tbody>\n",
       "</table>\n",
       "<p>3 rows × 989 columns</p>\n",
       "</div>"
      ],
      "text/plain": [
       "   1Glu 4Lys Saltbr  1Glu 5Glu Other  1Glu 240Pro Other  1Glu 241Ser Hbond  \\\n",
       "0           11.7873           3.8771             2.2511             2.8257   \n",
       "1           11.5986           2.0279             0.1625             1.5210   \n",
       "2            7.7794           3.2396             0.1173             2.6724   \n",
       "\n",
       "   1Glu 243Val Other  1Glu 244Asp Other  2Met 5Glu Other  2Met 6Phe Other  \\\n",
       "0             0.0003                0.0           4.9883           3.3310   \n",
       "1             0.0036                0.0           3.6268           3.5072   \n",
       "2             0.0025                0.0           4.0700           2.9013   \n",
       "\n",
       "   2Met 234Met Other  2Met 240Pro Other  ...  289Gln 292Glu Hbond  \\\n",
       "0             0.5597             0.9231  ...               5.8577   \n",
       "1             0.0064             1.9025  ...               3.0508   \n",
       "2             0.1024             0.3117  ...               5.2784   \n",
       "\n",
       "   289Gln 293Leu Other  290Trp 293Leu Other  290Trp 294Ser Hbond  \\\n",
       "0               4.9207               1.3966               4.5413   \n",
       "1               3.8434               0.2670               4.0187   \n",
       "2               4.8548               1.5899               5.0631   \n",
       "\n",
       "   291Lys 294Ser Hbond  291Lys 295Hip Other  291Lys 296Glu Saltbr  \\\n",
       "0               3.5480               1.8982                4.0810   \n",
       "1               2.8860               0.6077                6.1905   \n",
       "2               3.8698               1.0813               10.3764   \n",
       "\n",
       "   291Lys 297Asp Saltbr  292Glu 295Hip Hbond  295Hip 298Leu Hbond  \n",
       "0                0.0004               9.5329               0.0021  \n",
       "1                0.0027               7.9961               0.1484  \n",
       "2                0.0021               8.4305               0.0001  \n",
       "\n",
       "[3 rows x 989 columns]"
      ]
     },
     "execution_count": 5,
     "metadata": {},
     "output_type": "execute_result"
    }
   ],
   "source": [
    "input_files = [\"PTP1B_block1.csv\", \"PTP1B_block2.csv\", \"PTP1B_block3.csv\", \"PTP1B_block4.csv\"]\n",
    "dfs = []\n",
    "for file_name in input_files:\n",
    "    file_path = in_dir + file_name\n",
    "    df = pd.read_csv(file_path)\n",
    "    dfs.append(df)\n",
    "\n",
    "all_contacts_df = pd.concat(dfs, join='outer', axis=1)\n",
    "all_contacts_df.head(3)"
   ]
  },
  {
   "attachments": {},
   "cell_type": "markdown",
   "metadata": {},
   "source": [
    "We can see we now have a dataframe with all the contacts found (989) identified and of length 10000, with matches with the number of frames in the trajectory. "
   ]
  },
  {
   "cell_type": "code",
   "execution_count": 6,
   "metadata": {},
   "outputs": [
    {
     "data": {
      "text/plain": [
       "(10000, 989)"
      ]
     },
     "execution_count": 6,
     "metadata": {},
     "output_type": "execute_result"
    }
   ],
   "source": [
    "all_contacts_df.shape"
   ]
  },
  {
   "attachments": {},
   "cell_type": "markdown",
   "metadata": {},
   "source": [
    "### Preparation Step 2. Prepare the Dataset for calculations with the data_preperation.py module. \n",
    "\n",
    "In this step, we take our dataframe and merge our per frame classifications file to it.\n",
    "\n",
    "We can also optionally perform several forms of filtering on the non-covalent interactions identified to select what types of interactions we would like to study.  "
   ]
  },
  {
   "cell_type": "code",
   "execution_count": 7,
   "metadata": {},
   "outputs": [
    {
     "name": "stdout",
     "output_type": "stream",
     "text": [
      "Your PyContact features and target variable have been succesufully merged.\n",
      "You can access this dataset through the class attribute: '.df_processed'.\n"
     ]
    }
   ],
   "source": [
    "# First we generate an instance of the SupervisedFeatureData class (because we have per frame target labels).\n",
    "supervised_dataset = data_preperation.SupervisedFeatureData(\n",
    "    input_df=all_contacts_df,\n",
    "    target_file=classifications_file,\n",
    "    is_classification=True,\n",
    "    header_present=False # If your target_file has a header present, set to True.\n",
    ")"
   ]
  },
  {
   "cell_type": "code",
   "execution_count": 8,
   "metadata": {},
   "outputs": [
    {
     "data": {
      "text/html": [
       "<div>\n",
       "<style scoped>\n",
       "    .dataframe tbody tr th:only-of-type {\n",
       "        vertical-align: middle;\n",
       "    }\n",
       "\n",
       "    .dataframe tbody tr th {\n",
       "        vertical-align: top;\n",
       "    }\n",
       "\n",
       "    .dataframe thead th {\n",
       "        text-align: right;\n",
       "    }\n",
       "</style>\n",
       "<table border=\"1\" class=\"dataframe\">\n",
       "  <thead>\n",
       "    <tr style=\"text-align: right;\">\n",
       "      <th></th>\n",
       "      <th>Target</th>\n",
       "      <th>1Glu 4Lys Saltbr</th>\n",
       "      <th>1Glu 5Glu Other</th>\n",
       "      <th>1Glu 240Pro Other</th>\n",
       "      <th>1Glu 241Ser Hbond</th>\n",
       "      <th>1Glu 243Val Other</th>\n",
       "      <th>1Glu 244Asp Other</th>\n",
       "      <th>2Met 5Glu Other</th>\n",
       "      <th>2Met 6Phe Other</th>\n",
       "      <th>2Met 234Met Other</th>\n",
       "      <th>...</th>\n",
       "      <th>289Gln 292Glu Hbond</th>\n",
       "      <th>289Gln 293Leu Other</th>\n",
       "      <th>290Trp 293Leu Other</th>\n",
       "      <th>290Trp 294Ser Hbond</th>\n",
       "      <th>291Lys 294Ser Hbond</th>\n",
       "      <th>291Lys 295Hip Other</th>\n",
       "      <th>291Lys 296Glu Saltbr</th>\n",
       "      <th>291Lys 297Asp Saltbr</th>\n",
       "      <th>292Glu 295Hip Hbond</th>\n",
       "      <th>295Hip 298Leu Hbond</th>\n",
       "    </tr>\n",
       "  </thead>\n",
       "  <tbody>\n",
       "    <tr>\n",
       "      <th>0</th>\n",
       "      <td>Closed</td>\n",
       "      <td>11.7873</td>\n",
       "      <td>3.8771</td>\n",
       "      <td>2.2511</td>\n",
       "      <td>2.8257</td>\n",
       "      <td>0.0003</td>\n",
       "      <td>0.0000</td>\n",
       "      <td>4.9883</td>\n",
       "      <td>3.3310</td>\n",
       "      <td>0.5597</td>\n",
       "      <td>...</td>\n",
       "      <td>5.8577</td>\n",
       "      <td>4.9207</td>\n",
       "      <td>1.3966</td>\n",
       "      <td>4.5413</td>\n",
       "      <td>3.5480</td>\n",
       "      <td>1.8982</td>\n",
       "      <td>4.0810</td>\n",
       "      <td>0.0004</td>\n",
       "      <td>9.5329</td>\n",
       "      <td>0.0021</td>\n",
       "    </tr>\n",
       "    <tr>\n",
       "      <th>1</th>\n",
       "      <td>Closed</td>\n",
       "      <td>11.5986</td>\n",
       "      <td>2.0279</td>\n",
       "      <td>0.1625</td>\n",
       "      <td>1.5210</td>\n",
       "      <td>0.0036</td>\n",
       "      <td>0.0000</td>\n",
       "      <td>3.6268</td>\n",
       "      <td>3.5072</td>\n",
       "      <td>0.0064</td>\n",
       "      <td>...</td>\n",
       "      <td>3.0508</td>\n",
       "      <td>3.8434</td>\n",
       "      <td>0.2670</td>\n",
       "      <td>4.0187</td>\n",
       "      <td>2.8860</td>\n",
       "      <td>0.6077</td>\n",
       "      <td>6.1905</td>\n",
       "      <td>0.0027</td>\n",
       "      <td>7.9961</td>\n",
       "      <td>0.1484</td>\n",
       "    </tr>\n",
       "    <tr>\n",
       "      <th>2</th>\n",
       "      <td>Closed</td>\n",
       "      <td>7.7794</td>\n",
       "      <td>3.2396</td>\n",
       "      <td>0.1173</td>\n",
       "      <td>2.6724</td>\n",
       "      <td>0.0025</td>\n",
       "      <td>0.0000</td>\n",
       "      <td>4.0700</td>\n",
       "      <td>2.9013</td>\n",
       "      <td>0.1024</td>\n",
       "      <td>...</td>\n",
       "      <td>5.2784</td>\n",
       "      <td>4.8548</td>\n",
       "      <td>1.5899</td>\n",
       "      <td>5.0631</td>\n",
       "      <td>3.8698</td>\n",
       "      <td>1.0813</td>\n",
       "      <td>10.3764</td>\n",
       "      <td>0.0021</td>\n",
       "      <td>8.4305</td>\n",
       "      <td>0.0001</td>\n",
       "    </tr>\n",
       "    <tr>\n",
       "      <th>3</th>\n",
       "      <td>Closed</td>\n",
       "      <td>7.0477</td>\n",
       "      <td>1.6177</td>\n",
       "      <td>0.2778</td>\n",
       "      <td>0.6766</td>\n",
       "      <td>0.0000</td>\n",
       "      <td>0.0000</td>\n",
       "      <td>4.7946</td>\n",
       "      <td>2.7631</td>\n",
       "      <td>1.2100</td>\n",
       "      <td>...</td>\n",
       "      <td>4.7681</td>\n",
       "      <td>4.3495</td>\n",
       "      <td>3.0597</td>\n",
       "      <td>5.3966</td>\n",
       "      <td>4.7426</td>\n",
       "      <td>0.5909</td>\n",
       "      <td>7.1754</td>\n",
       "      <td>0.0120</td>\n",
       "      <td>4.6376</td>\n",
       "      <td>0.0347</td>\n",
       "    </tr>\n",
       "    <tr>\n",
       "      <th>4</th>\n",
       "      <td>Closed</td>\n",
       "      <td>5.1379</td>\n",
       "      <td>1.2913</td>\n",
       "      <td>0.2407</td>\n",
       "      <td>0.7466</td>\n",
       "      <td>0.0003</td>\n",
       "      <td>0.0000</td>\n",
       "      <td>4.0074</td>\n",
       "      <td>3.4370</td>\n",
       "      <td>1.2473</td>\n",
       "      <td>...</td>\n",
       "      <td>4.0849</td>\n",
       "      <td>5.0764</td>\n",
       "      <td>1.9743</td>\n",
       "      <td>5.0200</td>\n",
       "      <td>5.5969</td>\n",
       "      <td>1.3683</td>\n",
       "      <td>7.4113</td>\n",
       "      <td>0.0044</td>\n",
       "      <td>6.7782</td>\n",
       "      <td>0.0006</td>\n",
       "    </tr>\n",
       "    <tr>\n",
       "      <th>...</th>\n",
       "      <td>...</td>\n",
       "      <td>...</td>\n",
       "      <td>...</td>\n",
       "      <td>...</td>\n",
       "      <td>...</td>\n",
       "      <td>...</td>\n",
       "      <td>...</td>\n",
       "      <td>...</td>\n",
       "      <td>...</td>\n",
       "      <td>...</td>\n",
       "      <td>...</td>\n",
       "      <td>...</td>\n",
       "      <td>...</td>\n",
       "      <td>...</td>\n",
       "      <td>...</td>\n",
       "      <td>...</td>\n",
       "      <td>...</td>\n",
       "      <td>...</td>\n",
       "      <td>...</td>\n",
       "      <td>...</td>\n",
       "      <td>...</td>\n",
       "    </tr>\n",
       "    <tr>\n",
       "      <th>9995</th>\n",
       "      <td>Open</td>\n",
       "      <td>9.9967</td>\n",
       "      <td>3.5990</td>\n",
       "      <td>0.0120</td>\n",
       "      <td>5.9129</td>\n",
       "      <td>0.8203</td>\n",
       "      <td>0.0012</td>\n",
       "      <td>5.7118</td>\n",
       "      <td>3.4871</td>\n",
       "      <td>0.7801</td>\n",
       "      <td>...</td>\n",
       "      <td>3.7995</td>\n",
       "      <td>6.7416</td>\n",
       "      <td>4.0403</td>\n",
       "      <td>5.4065</td>\n",
       "      <td>5.0490</td>\n",
       "      <td>3.4596</td>\n",
       "      <td>12.9961</td>\n",
       "      <td>0.0025</td>\n",
       "      <td>6.5109</td>\n",
       "      <td>0.0174</td>\n",
       "    </tr>\n",
       "    <tr>\n",
       "      <th>9996</th>\n",
       "      <td>Open</td>\n",
       "      <td>9.9186</td>\n",
       "      <td>2.9649</td>\n",
       "      <td>0.0148</td>\n",
       "      <td>8.3658</td>\n",
       "      <td>2.6657</td>\n",
       "      <td>0.0777</td>\n",
       "      <td>4.7486</td>\n",
       "      <td>3.4420</td>\n",
       "      <td>0.0823</td>\n",
       "      <td>...</td>\n",
       "      <td>4.8272</td>\n",
       "      <td>4.5485</td>\n",
       "      <td>2.2995</td>\n",
       "      <td>5.0739</td>\n",
       "      <td>3.8750</td>\n",
       "      <td>3.6292</td>\n",
       "      <td>10.0779</td>\n",
       "      <td>0.0040</td>\n",
       "      <td>8.1487</td>\n",
       "      <td>0.0010</td>\n",
       "    </tr>\n",
       "    <tr>\n",
       "      <th>9997</th>\n",
       "      <td>Open</td>\n",
       "      <td>6.7540</td>\n",
       "      <td>1.7064</td>\n",
       "      <td>0.0295</td>\n",
       "      <td>9.1168</td>\n",
       "      <td>1.9575</td>\n",
       "      <td>0.0229</td>\n",
       "      <td>3.3653</td>\n",
       "      <td>3.4084</td>\n",
       "      <td>0.0144</td>\n",
       "      <td>...</td>\n",
       "      <td>5.4347</td>\n",
       "      <td>5.1678</td>\n",
       "      <td>2.6428</td>\n",
       "      <td>4.7954</td>\n",
       "      <td>6.1449</td>\n",
       "      <td>3.7615</td>\n",
       "      <td>11.7561</td>\n",
       "      <td>0.0006</td>\n",
       "      <td>6.0633</td>\n",
       "      <td>0.0025</td>\n",
       "    </tr>\n",
       "    <tr>\n",
       "      <th>9998</th>\n",
       "      <td>Open</td>\n",
       "      <td>8.2204</td>\n",
       "      <td>2.8096</td>\n",
       "      <td>0.0072</td>\n",
       "      <td>2.3583</td>\n",
       "      <td>0.0069</td>\n",
       "      <td>0.0000</td>\n",
       "      <td>5.1797</td>\n",
       "      <td>3.2275</td>\n",
       "      <td>0.7801</td>\n",
       "      <td>...</td>\n",
       "      <td>4.3518</td>\n",
       "      <td>5.9081</td>\n",
       "      <td>1.4750</td>\n",
       "      <td>4.5312</td>\n",
       "      <td>3.1011</td>\n",
       "      <td>2.8072</td>\n",
       "      <td>8.3094</td>\n",
       "      <td>0.0016</td>\n",
       "      <td>5.4612</td>\n",
       "      <td>0.0588</td>\n",
       "    </tr>\n",
       "    <tr>\n",
       "      <th>9999</th>\n",
       "      <td>Open</td>\n",
       "      <td>5.7520</td>\n",
       "      <td>1.6429</td>\n",
       "      <td>0.0110</td>\n",
       "      <td>3.1299</td>\n",
       "      <td>0.0879</td>\n",
       "      <td>0.0000</td>\n",
       "      <td>4.6123</td>\n",
       "      <td>4.1928</td>\n",
       "      <td>0.5338</td>\n",
       "      <td>...</td>\n",
       "      <td>2.9182</td>\n",
       "      <td>6.3540</td>\n",
       "      <td>3.9603</td>\n",
       "      <td>5.3723</td>\n",
       "      <td>5.6050</td>\n",
       "      <td>2.6781</td>\n",
       "      <td>12.0344</td>\n",
       "      <td>0.0008</td>\n",
       "      <td>7.6402</td>\n",
       "      <td>0.0001</td>\n",
       "    </tr>\n",
       "  </tbody>\n",
       "</table>\n",
       "<p>10000 rows × 990 columns</p>\n",
       "</div>"
      ],
      "text/plain": [
       "      Target  1Glu 4Lys Saltbr  1Glu 5Glu Other  1Glu 240Pro Other  \\\n",
       "0     Closed           11.7873           3.8771             2.2511   \n",
       "1     Closed           11.5986           2.0279             0.1625   \n",
       "2     Closed            7.7794           3.2396             0.1173   \n",
       "3     Closed            7.0477           1.6177             0.2778   \n",
       "4     Closed            5.1379           1.2913             0.2407   \n",
       "...      ...               ...              ...                ...   \n",
       "9995    Open            9.9967           3.5990             0.0120   \n",
       "9996    Open            9.9186           2.9649             0.0148   \n",
       "9997    Open            6.7540           1.7064             0.0295   \n",
       "9998    Open            8.2204           2.8096             0.0072   \n",
       "9999    Open            5.7520           1.6429             0.0110   \n",
       "\n",
       "      1Glu 241Ser Hbond  1Glu 243Val Other  1Glu 244Asp Other  \\\n",
       "0                2.8257             0.0003             0.0000   \n",
       "1                1.5210             0.0036             0.0000   \n",
       "2                2.6724             0.0025             0.0000   \n",
       "3                0.6766             0.0000             0.0000   \n",
       "4                0.7466             0.0003             0.0000   \n",
       "...                 ...                ...                ...   \n",
       "9995             5.9129             0.8203             0.0012   \n",
       "9996             8.3658             2.6657             0.0777   \n",
       "9997             9.1168             1.9575             0.0229   \n",
       "9998             2.3583             0.0069             0.0000   \n",
       "9999             3.1299             0.0879             0.0000   \n",
       "\n",
       "      2Met 5Glu Other  2Met 6Phe Other  2Met 234Met Other  ...  \\\n",
       "0              4.9883           3.3310             0.5597  ...   \n",
       "1              3.6268           3.5072             0.0064  ...   \n",
       "2              4.0700           2.9013             0.1024  ...   \n",
       "3              4.7946           2.7631             1.2100  ...   \n",
       "4              4.0074           3.4370             1.2473  ...   \n",
       "...               ...              ...                ...  ...   \n",
       "9995           5.7118           3.4871             0.7801  ...   \n",
       "9996           4.7486           3.4420             0.0823  ...   \n",
       "9997           3.3653           3.4084             0.0144  ...   \n",
       "9998           5.1797           3.2275             0.7801  ...   \n",
       "9999           4.6123           4.1928             0.5338  ...   \n",
       "\n",
       "      289Gln 292Glu Hbond  289Gln 293Leu Other  290Trp 293Leu Other  \\\n",
       "0                  5.8577               4.9207               1.3966   \n",
       "1                  3.0508               3.8434               0.2670   \n",
       "2                  5.2784               4.8548               1.5899   \n",
       "3                  4.7681               4.3495               3.0597   \n",
       "4                  4.0849               5.0764               1.9743   \n",
       "...                   ...                  ...                  ...   \n",
       "9995               3.7995               6.7416               4.0403   \n",
       "9996               4.8272               4.5485               2.2995   \n",
       "9997               5.4347               5.1678               2.6428   \n",
       "9998               4.3518               5.9081               1.4750   \n",
       "9999               2.9182               6.3540               3.9603   \n",
       "\n",
       "      290Trp 294Ser Hbond  291Lys 294Ser Hbond  291Lys 295Hip Other  \\\n",
       "0                  4.5413               3.5480               1.8982   \n",
       "1                  4.0187               2.8860               0.6077   \n",
       "2                  5.0631               3.8698               1.0813   \n",
       "3                  5.3966               4.7426               0.5909   \n",
       "4                  5.0200               5.5969               1.3683   \n",
       "...                   ...                  ...                  ...   \n",
       "9995               5.4065               5.0490               3.4596   \n",
       "9996               5.0739               3.8750               3.6292   \n",
       "9997               4.7954               6.1449               3.7615   \n",
       "9998               4.5312               3.1011               2.8072   \n",
       "9999               5.3723               5.6050               2.6781   \n",
       "\n",
       "      291Lys 296Glu Saltbr  291Lys 297Asp Saltbr  292Glu 295Hip Hbond  \\\n",
       "0                   4.0810                0.0004               9.5329   \n",
       "1                   6.1905                0.0027               7.9961   \n",
       "2                  10.3764                0.0021               8.4305   \n",
       "3                   7.1754                0.0120               4.6376   \n",
       "4                   7.4113                0.0044               6.7782   \n",
       "...                    ...                   ...                  ...   \n",
       "9995               12.9961                0.0025               6.5109   \n",
       "9996               10.0779                0.0040               8.1487   \n",
       "9997               11.7561                0.0006               6.0633   \n",
       "9998                8.3094                0.0016               5.4612   \n",
       "9999               12.0344                0.0008               7.6402   \n",
       "\n",
       "      295Hip 298Leu Hbond  \n",
       "0                  0.0021  \n",
       "1                  0.1484  \n",
       "2                  0.0001  \n",
       "3                  0.0347  \n",
       "4                  0.0006  \n",
       "...                   ...  \n",
       "9995               0.0174  \n",
       "9996               0.0010  \n",
       "9997               0.0025  \n",
       "9998               0.0588  \n",
       "9999               0.0001  \n",
       "\n",
       "[10000 rows x 990 columns]"
      ]
     },
     "execution_count": 8,
     "metadata": {},
     "output_type": "execute_result"
    }
   ],
   "source": [
    "# As stated above to access the newly generated dataframe we can use the class attribute as follows\n",
    "supervised_dataset.df_processed"
   ]
  },
  {
   "attachments": {},
   "cell_type": "markdown",
   "metadata": {},
   "source": [
    "##### Optional Feature Filtering\n",
    "\n",
    "In the above dataframe we have 1887 columns (so 989 features + 1 target). We can take all of these forward for the statistical analysis or we can perform some filtering in advance (the choice is yours). \n",
    "There are five built in filtering methods available to you to perform filtering:\n",
    "\n",
    "1. **filter_by_occupancy(min_occupancy)** - Remove features that have an %occupancy less than the provided cut-off. %Occupancy is the % of frames with a non 0 value, i.e. the interaction is present in that frame.\n",
    "\n",
    "2. **filter_by_interaction_type(interaction_types_included)** - Inteactions are defined as one of four possible types: (\"Hbond\", \"Saltbr\", \"Hydrophobic\", \"Other\"). You select the interactions you want to include.\n",
    "\n",
    "3. **filter_by_avg_strength(average_strength_cut_off)** - Filter by the per frame contact score/strength for each interaction. You can filter features by the average score. Values below the cut-off are removed. \n",
    "\n",
    "4. **filter_by_occupancy_by_class(min_occupancy)** - Special alternative to the the standard filter features by occupancy method. %occupancy is determined for each class (as opposed to whole dataset), meaning only observations from 1 class have to meet the cut-off to keep the feature. Only avaible to datasets with a categorical target variable (classification). \n",
    "\n",
    "\n",
    "Finally if at any point in time you want to reset any filtering you've already performed, you can use the following method: \n",
    "\n",
    "5. **reset_filtering()** \n"
   ]
  },
  {
   "cell_type": "code",
   "execution_count": 9,
   "metadata": {},
   "outputs": [
    {
     "name": "stdout",
     "output_type": "stream",
     "text": [
      "Number of features before any filtering: 989\n",
      "Number of features after filtering by occupancy: 987\n",
      "Number of features after filtering by interaction type: 441\n",
      "Number of features after filtering by average interaction scores: 391\n"
     ]
    }
   ],
   "source": [
    "# An example of filtering the dataset using the available methods. \n",
    "supervised_dataset.reset_filtering() \n",
    "print(f\"Number of features before any filtering: {len(supervised_dataset.df_processed.columns) - 1}\")\n",
    "\n",
    "# Features with a %occupancy of less than 25% are removed. \n",
    "supervised_dataset.filter_by_occupancy_by_class(min_occupancy=25)\n",
    "print(f\"Number of features after filtering by occupancy: {len(supervised_dataset.df_filtered.columns) - 1}\")\n",
    "\n",
    "# Remove features with interaction type \"Other\". \n",
    "supervised_dataset.filter_by_interaction_type(\n",
    "    interaction_types_included=[\"Hbond\", \"Saltbr\", \"Hydrophobic\"]) \n",
    "print(f\"Number of features after filtering by interaction type: {len(supervised_dataset.df_filtered.columns) - 1}\")\n",
    "\n",
    "# Features with an average interaction strength less than 0.5 will be removed. \n",
    "supervised_dataset.filter_by_avg_strength(\n",
    "    average_strength_cut_off=0.5,  \n",
    ")\n",
    "print(f\"Number of features after filtering by average interaction scores: {len(supervised_dataset.df_filtered.columns) - 1}\")"
   ]
  },
  {
   "attachments": {},
   "cell_type": "markdown",
   "metadata": {},
   "source": [
    "Now if we look at the class attributes of our SupervisedFeatureData() instance (we called it: supervised_dataset) using the special \"\\_\\_dict__\" method we can see two dataframes we could use in the statistical analysis to follow. "
   ]
  },
  {
   "cell_type": "code",
   "execution_count": 10,
   "metadata": {},
   "outputs": [
    {
     "data": {
      "text/plain": [
       "dict_keys(['input_df', 'is_classification', 'target_file', 'header_present', 'df_processed', 'df_filtered'])"
      ]
     },
     "execution_count": 10,
     "metadata": {},
     "output_type": "execute_result"
    }
   ],
   "source": [
    "supervised_dataset.__dict__.keys()"
   ]
  },
  {
   "attachments": {},
   "cell_type": "markdown",
   "metadata": {},
   "source": [
    "They are: \n",
    "- 'df_processed' - The unfiltered dataframe, 989 features\n",
    "- 'df_filtered' - The filtered dataframe. Less than 989 features. \n",
    "\n",
    "In the following sections we will use the filtered dataframe but either dataframe could be justified based on your goals. "
   ]
  },
  {
   "attachments": {},
   "cell_type": "markdown",
   "metadata": {},
   "source": [
    "## Analysis Time! \n",
    "\n",
    "Our dataset is now ready for either statistical analysis or ML or both! "
   ]
  },
  {
   "attachments": {},
   "cell_type": "markdown",
   "metadata": {},
   "source": [
    "### Part 1.1. Perform Statistical Analysis with the stat_modelling.py module. \n",
    "\n",
    "Now we will perform the actual statistical modelling to compare the differences for each feature when the WPD-loop is in the closed and open state. \n",
    "\n",
    "With this module, we can calculate two different metrics to evaluate how different/similar each feature is when the protein is in the closed WPD-loop conformation or the open-WPD-loop conformation: \n",
    "\n",
    "1. The [Jensen-Shannon distance](https://docs.scipy.org/doc/scipy/reference/generated/scipy.spatial.distance.jensenshannon.html). For this method, Kernel density estimations (KDEs) are calculated for the normalised interaction stength of feature in each state before performing the calculation. We can also extract these KDEs as we did in the manuscript (and will show you how to do it here) to compare the interaction strengths for each state. \n",
    "\n",
    "2. The [mutual information](https://scikit-learn.org/stable/modules/generated/sklearn.feature_selection.mutual_info_classif.html) using the implementation available in Scikit-learn. The mutual information can capture any kind of dependancy/relationship between variables and score their dependancy\n",
    "\n",
    "In both cases, the higher the score, the more \"different\" the feature is when in the two different states. Scores are in the range 0 and 1.   "
   ]
  },
  {
   "cell_type": "code",
   "execution_count": 11,
   "metadata": {},
   "outputs": [],
   "source": [
    "stat_model = stat_modelling.ClassificationStatModel(\n",
    "    dataset=supervised_dataset.df_filtered, \n",
    "    class_names=[\"Closed\", \"Open\"], # select the two class labels to compare. Has to be 2 labels. \n",
    "    out_dir=stats_out_dir,\n",
    "    interaction_types_included=[\"Hbond\", \"Saltbr\", \"Hydrophobic\"] # select which interaction types to include, in this case: \"Other\" removed. \n",
    ")"
   ]
  },
  {
   "cell_type": "code",
   "execution_count": 12,
   "metadata": {},
   "outputs": [
    {
     "name": "stdout",
     "output_type": "stream",
     "text": [
      "Jensen-Shannon (JS) distances calculated.\n",
      "tutorial_datasets\\PTP1B_stat_analysis\\Jensen_Shannon_Per_Feature_Scores.csv written to disk.\n",
      "You can also access these results via the class attribute: 'js_distances'.\n"
     ]
    }
   ],
   "source": [
    "# First we can calculate the Jensen-Shannon distances\n",
    "stat_model.calc_js_distances()"
   ]
  },
  {
   "cell_type": "code",
   "execution_count": 13,
   "metadata": {},
   "outputs": [
    {
     "name": "stdout",
     "output_type": "stream",
     "text": [
      "Mutual information scores calculated.\n",
      "tutorial_datasets\\PTP1B_stat_analysis\\Mutual_Information_Per_Feature_Scores.csv written to disk.\n",
      "You can also access these results via the class attribute: 'mutual_infos'.\n"
     ]
    }
   ],
   "source": [
    "# Now we can calculate the mutual information\n",
    "stat_model.calc_mutual_info_to_target()"
   ]
  },
  {
   "cell_type": "code",
   "execution_count": 14,
   "metadata": {},
   "outputs": [],
   "source": [
    "# As printed above we can access the results from these calculations from the class instance's (we called it stat_model) attributes. \n",
    "mi_results = stat_model.mutual_infos\n",
    "js_results = stat_model.js_distances\n",
    "# stat_model.__dict__.keys() # uncomment to see all attributes available. "
   ]
  },
  {
   "attachments": {},
   "cell_type": "markdown",
   "metadata": {},
   "source": [
    "### Part 1.2. Work up the Statistical Analysis with the post_proccessing.py module. \n",
    "\n",
    "In this module we have access to 3 methods to process the results. \n",
    "\n",
    "1. We can convert the per feature scores to per residue scores, by summing (and then normalising) every per feature score that each residue is involved in.\n",
    "This can allow us to identify residues which seem to differ the most between each state. \n",
    "\n",
    "2. We can also try to predict the \"direction\" that each feature favours. This essentially means in which class is the feature on average stronger in.  \n",
    "\n",
    "3. We can obtain the kernel density estimations for selected interactions to compare how the interactions stengths differ between states. "
   ]
  },
  {
   "cell_type": "code",
   "execution_count": 15,
   "metadata": {},
   "outputs": [
    {
     "data": {
      "text/plain": [
       "dict_keys(['stat_model', 'out_dir', 'per_residue_mutual_infos', 'per_residue_js_distances', 'feature_directions'])"
      ]
     },
     "execution_count": 15,
     "metadata": {},
     "output_type": "execute_result"
    }
   ],
   "source": [
    "# First generate an instance of the class. \n",
    "post_proc = post_proccessing.StatClassificationPostProcessor(\n",
    "    stat_model=stat_model,\n",
    "    out_dir=stats_out_dir\n",
    ")\n",
    "\n",
    "# As you have already seen in the prior steps, we can take a look at class attributes with the __dict__ method. \n",
    "# Note that some of these attributes will be empty until we have run the next few code blocks.\n",
    "post_proc.__dict__.keys()"
   ]
  },
  {
   "cell_type": "code",
   "execution_count": 16,
   "metadata": {},
   "outputs": [
    {
     "name": "stdout",
     "output_type": "stream",
     "text": [
      "tutorial_datasets\\PTP1B_stat_analysis\\Jensen_Shannon_Distance_Scores_Per_Residue.csv written to disk.\n",
      "tutorial_datasets\\PTP1B_stat_analysis\\Mutual_Information_Scores_Per_Residue.csv written to disk.\n"
     ]
    }
   ],
   "source": [
    "# Now we can run the get_per_res_scores() method, changing the stat_method accordingly.\n",
    "js_per_res_scores = post_proc.get_per_res_scores(\n",
    "    stat_method=\"jensen_shannon\")\n",
    "mi_per_res_scores = post_proc.get_per_res_scores(\n",
    "    stat_method=\"mutual_information\")"
   ]
  },
  {
   "cell_type": "code",
   "execution_count": 17,
   "metadata": {},
   "outputs": [
    {
     "name": "stdout",
     "output_type": "stream",
     "text": [
      "tutorial_datasets\\PTP1B_stat_analysis\\Feature_Direction_Estimates.csv written to disk.\n",
      "You can access these predictions through the 'feature_directions' class attribute.\n"
     ]
    },
    {
     "name": "stderr",
     "output_type": "stream",
     "text": [
      "c:\\users\\rory crean\\desktop\\github\\key-interactions-finder\\key_interactions_finder\\post_proccessing.py:748: UserWarning: Warning, this method is very simplistic and just calculates the average contact score/strength for all features for both classes to determine the direction each feature appears to favour. You should therefore interpret these results with care...\n",
      "  warnings.warn(warning_message)\n",
      "c:\\users\\rory crean\\desktop\\github\\key-interactions-finder\\key_interactions_finder\\post_proccessing.py:758: FutureWarning: Dropping of nuisance columns in DataFrame reductions (with 'numeric_only=None') is deprecated; in a future version this will raise TypeError.  Select only valid columns before calling the reduction.\n",
      "  avg_contact_scores[class_name] = class_observations.mean()\n"
     ]
    }
   ],
   "source": [
    "# Here we predict the \"direction\" that each feature favours. \n",
    "# This essentially means in which class is the feature on average stronger in.  \n",
    "# Because of the nature of the method, a warning is given. \n",
    "post_proc.estimate_feature_directions()"
   ]
  },
  {
   "cell_type": "code",
   "execution_count": 18,
   "metadata": {},
   "outputs": [
    {
     "data": {
      "text/plain": [
       "dict_keys(['180Asp 220Arg Saltbr', '182Gly 265Gln Hbond', '179Pro 220Arg Hbond', '181Phe 262Thr Hbond', '181Phe 265Gln Hbond', '179Pro 184Pro Hydrophobic', '186Ser 189Ser Hbond', '111Arg 180Asp Saltbr', '178Trp 182Gly Hbond', '178Trp 220Arg Hbond'])"
      ]
     },
     "execution_count": 18,
     "metadata": {},
     "output_type": "execute_result"
    }
   ],
   "source": [
    "# We can also extract the kernel density estimations for the feature with the largest differences. \n",
    "x_values, selected_kdes = post_proc.get_kdes(\n",
    "    number_features=10) # top 10 features based on Jensen Shannon Distances. \n",
    "\n",
    "selected_kdes[\"Closed\"].keys() # here we can see what features were in the top 10 and could be plotted. "
   ]
  },
  {
   "attachments": {},
   "cell_type": "markdown",
   "metadata": {},
   "source": [
    "**Optional:** Now we will take a look at the most different feature in both states using the plotly plotting library. "
   ]
  },
  {
   "cell_type": "code",
   "execution_count": 19,
   "metadata": {},
   "outputs": [],
   "source": [
    "import plotly.express as px\n",
    "import plotly.graph_objects as go"
   ]
  },
  {
   "cell_type": "code",
   "execution_count": 23,
   "metadata": {},
   "outputs": [
    {
     "data": {
      "text/html": [
       "<div>\n",
       "<style scoped>\n",
       "    .dataframe tbody tr th:only-of-type {\n",
       "        vertical-align: middle;\n",
       "    }\n",
       "\n",
       "    .dataframe tbody tr th {\n",
       "        vertical-align: top;\n",
       "    }\n",
       "\n",
       "    .dataframe thead th {\n",
       "        text-align: right;\n",
       "    }\n",
       "</style>\n",
       "<table border=\"1\" class=\"dataframe\">\n",
       "  <thead>\n",
       "    <tr style=\"text-align: right;\">\n",
       "      <th></th>\n",
       "      <th>Normalised Interaction Strength</th>\n",
       "      <th>Closed WPD-Loop</th>\n",
       "      <th>Open WPD-Loop</th>\n",
       "    </tr>\n",
       "  </thead>\n",
       "  <tbody>\n",
       "    <tr>\n",
       "      <th>0</th>\n",
       "      <td>0.00</td>\n",
       "      <td>0.000373</td>\n",
       "      <td>19.910058</td>\n",
       "    </tr>\n",
       "    <tr>\n",
       "      <th>1</th>\n",
       "      <td>0.02</td>\n",
       "      <td>0.002418</td>\n",
       "      <td>12.141980</td>\n",
       "    </tr>\n",
       "    <tr>\n",
       "      <th>2</th>\n",
       "      <td>0.04</td>\n",
       "      <td>0.007941</td>\n",
       "      <td>2.745188</td>\n",
       "    </tr>\n",
       "    <tr>\n",
       "      <th>3</th>\n",
       "      <td>0.06</td>\n",
       "      <td>0.018791</td>\n",
       "      <td>0.238356</td>\n",
       "    </tr>\n",
       "    <tr>\n",
       "      <th>4</th>\n",
       "      <td>0.08</td>\n",
       "      <td>0.036506</td>\n",
       "      <td>0.012218</td>\n",
       "    </tr>\n",
       "  </tbody>\n",
       "</table>\n",
       "</div>"
      ],
      "text/plain": [
       "   Normalised Interaction Strength  Closed WPD-Loop  Open WPD-Loop\n",
       "0                             0.00         0.000373      19.910058\n",
       "1                             0.02         0.002418      12.141980\n",
       "2                             0.04         0.007941       2.745188\n",
       "3                             0.06         0.018791       0.238356\n",
       "4                             0.08         0.036506       0.012218"
      ]
     },
     "execution_count": 23,
     "metadata": {},
     "output_type": "execute_result"
    }
   ],
   "source": [
    "interaction_df = pd.DataFrame(\n",
    "    {\"Normalised Interaction Strength\": list(x_values[:, 0]),\n",
    "     \"Closed WPD-Loop\": selected_kdes[\"Closed\"][\"180Asp 220Arg Saltbr\"],\n",
    "     \"Open WPD-Loop\": selected_kdes[\"Open\"][\"180Asp 220Arg Saltbr\"]\n",
    "    }\n",
    ")\n",
    "\n",
    "interaction_df.head()"
   ]
  },
  {
   "cell_type": "code",
   "execution_count": 24,
   "metadata": {},
   "outputs": [
    {
     "data": {
      "image/svg+xml": [
       "<svg class=\"main-svg\" xmlns=\"http://www.w3.org/2000/svg\" xmlns:xlink=\"http://www.w3.org/1999/xlink\" width=\"700\" height=\"500\" style=\"\" viewBox=\"0 0 700 500\"><rect x=\"0\" y=\"0\" width=\"700\" height=\"500\" style=\"fill: rgb(255, 255, 255); fill-opacity: 1;\"/><defs id=\"defs-a03412\"><g class=\"clips\"><clipPath id=\"clipa03412xyplot\" class=\"plotclip\"><rect width=\"446\" height=\"320\"/></clipPath><clipPath class=\"axesclip\" id=\"clipa03412x\"><rect x=\"80\" y=\"0\" width=\"446\" height=\"500\"/></clipPath><clipPath class=\"axesclip\" id=\"clipa03412y\"><rect x=\"0\" y=\"100\" width=\"700\" height=\"320\"/></clipPath><clipPath class=\"axesclip\" id=\"clipa03412xy\"><rect x=\"80\" y=\"100\" width=\"446\" height=\"320\"/></clipPath></g><g class=\"gradients\"/><g class=\"patterns\"/></defs><g class=\"bglayer\"><rect class=\"bg\" x=\"80\" y=\"100\" width=\"446\" height=\"320\" style=\"fill: rgb(229, 236, 246); fill-opacity: 1; stroke-width: 0;\"/></g><g class=\"layer-below\"><g class=\"imagelayer\"/><g class=\"shapelayer\"/></g><g class=\"cartesianlayer\"><g class=\"subplot xy\"><g class=\"layer-subplot\"><g class=\"shapelayer\"/><g class=\"imagelayer\"/></g><g class=\"gridlayer\"><g class=\"x\"><path class=\"xgrid crisp\" transform=\"translate(186.44,0)\" d=\"M0,100v320\" style=\"stroke: rgb(255, 255, 255); stroke-opacity: 1; stroke-width: 1px;\"/><path class=\"xgrid crisp\" transform=\"translate(266.83000000000004,0)\" d=\"M0,100v320\" style=\"stroke: rgb(255, 255, 255); stroke-opacity: 1; stroke-width: 1px;\"/><path class=\"xgrid crisp\" transform=\"translate(347.21,0)\" d=\"M0,100v320\" style=\"stroke: rgb(255, 255, 255); stroke-opacity: 1; stroke-width: 1px;\"/><path class=\"xgrid crisp\" transform=\"translate(427.6,0)\" d=\"M0,100v320\" style=\"stroke: rgb(255, 255, 255); stroke-opacity: 1; stroke-width: 1px;\"/><path class=\"xgrid crisp\" transform=\"translate(507.99,0)\" d=\"M0,100v320\" style=\"stroke: rgb(255, 255, 255); stroke-opacity: 1; stroke-width: 1px;\"/></g><g class=\"y\"><path class=\"ygrid crisp\" transform=\"translate(0,329.81)\" d=\"M80,0h446\" style=\"stroke: rgb(255, 255, 255); stroke-opacity: 1; stroke-width: 1px;\"/><path class=\"ygrid crisp\" transform=\"translate(0,259.37)\" d=\"M80,0h446\" style=\"stroke: rgb(255, 255, 255); stroke-opacity: 1; stroke-width: 1px;\"/><path class=\"ygrid crisp\" transform=\"translate(0,188.92000000000002)\" d=\"M80,0h446\" style=\"stroke: rgb(255, 255, 255); stroke-opacity: 1; stroke-width: 1px;\"/><path class=\"ygrid crisp\" transform=\"translate(0,118.48)\" d=\"M80,0h446\" style=\"stroke: rgb(255, 255, 255); stroke-opacity: 1; stroke-width: 1px;\"/></g></g><g class=\"zerolinelayer\"><path class=\"xzl zl crisp\" transform=\"translate(106.05,0)\" d=\"M0,100v320\" style=\"stroke: rgb(255, 255, 255); stroke-opacity: 1; stroke-width: 2px;\"/><path class=\"yzl zl crisp\" transform=\"translate(0,400.25)\" d=\"M80,0h446\" style=\"stroke: rgb(255, 255, 255); stroke-opacity: 1; stroke-width: 2px;\"/></g><path class=\"xlines-below\"/><path class=\"ylines-below\"/><g class=\"overlines-below\"/><g class=\"xaxislayer-below\"/><g class=\"yaxislayer-below\"/><g class=\"overaxes-below\"/><g class=\"plot\" transform=\"translate(80,100)\" clip-path=\"url(#clipa03412xyplot)\"><g class=\"scatterlayer mlayer\"><g class=\"trace scatter tracea7d741\" style=\"stroke-miterlimit: 2; opacity: 1;\"><g class=\"fills\"/><g class=\"errorbars\"/><g class=\"lines\"><path class=\"js-line\" d=\"M26.05,300.24L66.24,299.47L74.28,299.1L106.44,296.21L114.48,294.7L130.55,290.52L138.59,287.88L146.63,284.45L154.67,279.63L162.71,274.76L170.75,270.85L178.79,266.93L186.83,264.19L210.94,260.8L218.98,261.21L235.06,264.78L243.1,266.83L267.21,274.27L275.25,275.79L283.29,277.14L291.33,279.39L331.52,292.89L339.56,294.48L355.64,297.4L363.68,298.28L395.83,300.07L403.87,300.17L419.95,300.17\" style=\"vector-effect: non-scaling-stroke; fill: none; stroke: rgb(99, 110, 250); stroke-opacity: 1; stroke-width: 2px; opacity: 1;\"/></g><g class=\"points\"><path class=\"point\" transform=\"translate(26.05,300.24)\" d=\"M3,0A3,3 0 1,1 0,-3A3,3 0 0,1 3,0Z\" style=\"opacity: 1; stroke-width: 0px; fill: rgb(99, 110, 250); fill-opacity: 1;\"/><path class=\"point\" transform=\"translate(34.09,300.22)\" d=\"M3,0A3,3 0 1,1 0,-3A3,3 0 0,1 3,0Z\" style=\"opacity: 1; stroke-width: 0px; fill: rgb(99, 110, 250); fill-opacity: 1;\"/><path class=\"point\" transform=\"translate(42.13,300.14)\" d=\"M3,0A3,3 0 1,1 0,-3A3,3 0 0,1 3,0Z\" style=\"opacity: 1; stroke-width: 0px; fill: rgb(99, 110, 250); fill-opacity: 1;\"/><path class=\"point\" transform=\"translate(50.17,299.99)\" d=\"M3,0A3,3 0 1,1 0,-3A3,3 0 0,1 3,0Z\" style=\"opacity: 1; stroke-width: 0px; fill: rgb(99, 110, 250); fill-opacity: 1;\"/><path class=\"point\" transform=\"translate(58.21,299.74)\" d=\"M3,0A3,3 0 1,1 0,-3A3,3 0 0,1 3,0Z\" style=\"opacity: 1; stroke-width: 0px; fill: rgb(99, 110, 250); fill-opacity: 1;\"/><path class=\"point\" transform=\"translate(66.24,299.47)\" d=\"M3,0A3,3 0 1,1 0,-3A3,3 0 0,1 3,0Z\" style=\"opacity: 1; stroke-width: 0px; fill: rgb(99, 110, 250); fill-opacity: 1;\"/><path class=\"point\" transform=\"translate(74.28,299.1)\" d=\"M3,0A3,3 0 1,1 0,-3A3,3 0 0,1 3,0Z\" style=\"opacity: 1; stroke-width: 0px; fill: rgb(99, 110, 250); fill-opacity: 1;\"/><path class=\"point\" transform=\"translate(82.32,298.39)\" d=\"M3,0A3,3 0 1,1 0,-3A3,3 0 0,1 3,0Z\" style=\"opacity: 1; stroke-width: 0px; fill: rgb(99, 110, 250); fill-opacity: 1;\"/><path class=\"point\" transform=\"translate(90.36,297.64)\" d=\"M3,0A3,3 0 1,1 0,-3A3,3 0 0,1 3,0Z\" style=\"opacity: 1; stroke-width: 0px; fill: rgb(99, 110, 250); fill-opacity: 1;\"/><path class=\"point\" transform=\"translate(98.4,297.13)\" d=\"M3,0A3,3 0 1,1 0,-3A3,3 0 0,1 3,0Z\" style=\"opacity: 1; stroke-width: 0px; fill: rgb(99, 110, 250); fill-opacity: 1;\"/><path class=\"point\" transform=\"translate(106.44,296.21)\" d=\"M3,0A3,3 0 1,1 0,-3A3,3 0 0,1 3,0Z\" style=\"opacity: 1; stroke-width: 0px; fill: rgb(99, 110, 250); fill-opacity: 1;\"/><path class=\"point\" transform=\"translate(114.48,294.7)\" d=\"M3,0A3,3 0 1,1 0,-3A3,3 0 0,1 3,0Z\" style=\"opacity: 1; stroke-width: 0px; fill: rgb(99, 110, 250); fill-opacity: 1;\"/><path class=\"point\" transform=\"translate(122.52,292.81)\" d=\"M3,0A3,3 0 1,1 0,-3A3,3 0 0,1 3,0Z\" style=\"opacity: 1; stroke-width: 0px; fill: rgb(99, 110, 250); fill-opacity: 1;\"/><path class=\"point\" transform=\"translate(130.55,290.52)\" d=\"M3,0A3,3 0 1,1 0,-3A3,3 0 0,1 3,0Z\" style=\"opacity: 1; stroke-width: 0px; fill: rgb(99, 110, 250); fill-opacity: 1;\"/><path class=\"point\" transform=\"translate(138.59,287.88)\" d=\"M3,0A3,3 0 1,1 0,-3A3,3 0 0,1 3,0Z\" style=\"opacity: 1; stroke-width: 0px; fill: rgb(99, 110, 250); fill-opacity: 1;\"/><path class=\"point\" transform=\"translate(146.63,284.45)\" d=\"M3,0A3,3 0 1,1 0,-3A3,3 0 0,1 3,0Z\" style=\"opacity: 1; stroke-width: 0px; fill: rgb(99, 110, 250); fill-opacity: 1;\"/><path class=\"point\" transform=\"translate(154.67,279.63)\" d=\"M3,0A3,3 0 1,1 0,-3A3,3 0 0,1 3,0Z\" style=\"opacity: 1; stroke-width: 0px; fill: rgb(99, 110, 250); fill-opacity: 1;\"/><path class=\"point\" transform=\"translate(162.71,274.76)\" d=\"M3,0A3,3 0 1,1 0,-3A3,3 0 0,1 3,0Z\" style=\"opacity: 1; stroke-width: 0px; fill: rgb(99, 110, 250); fill-opacity: 1;\"/><path class=\"point\" transform=\"translate(170.75,270.85)\" d=\"M3,0A3,3 0 1,1 0,-3A3,3 0 0,1 3,0Z\" style=\"opacity: 1; stroke-width: 0px; fill: rgb(99, 110, 250); fill-opacity: 1;\"/><path class=\"point\" transform=\"translate(178.79,266.93)\" d=\"M3,0A3,3 0 1,1 0,-3A3,3 0 0,1 3,0Z\" style=\"opacity: 1; stroke-width: 0px; fill: rgb(99, 110, 250); fill-opacity: 1;\"/><path class=\"point\" transform=\"translate(186.83,264.19)\" d=\"M3,0A3,3 0 1,1 0,-3A3,3 0 0,1 3,0Z\" style=\"opacity: 1; stroke-width: 0px; fill: rgb(99, 110, 250); fill-opacity: 1;\"/><path class=\"point\" transform=\"translate(194.86,262.98)\" d=\"M3,0A3,3 0 1,1 0,-3A3,3 0 0,1 3,0Z\" style=\"opacity: 1; stroke-width: 0px; fill: rgb(99, 110, 250); fill-opacity: 1;\"/><path class=\"point\" transform=\"translate(202.9,261.73)\" d=\"M3,0A3,3 0 1,1 0,-3A3,3 0 0,1 3,0Z\" style=\"opacity: 1; stroke-width: 0px; fill: rgb(99, 110, 250); fill-opacity: 1;\"/><path class=\"point\" transform=\"translate(210.94,260.8)\" d=\"M3,0A3,3 0 1,1 0,-3A3,3 0 0,1 3,0Z\" style=\"opacity: 1; stroke-width: 0px; fill: rgb(99, 110, 250); fill-opacity: 1;\"/><path class=\"point\" transform=\"translate(218.98,261.21)\" d=\"M3,0A3,3 0 1,1 0,-3A3,3 0 0,1 3,0Z\" style=\"opacity: 1; stroke-width: 0px; fill: rgb(99, 110, 250); fill-opacity: 1;\"/><path class=\"point\" transform=\"translate(227.02,262.75)\" d=\"M3,0A3,3 0 1,1 0,-3A3,3 0 0,1 3,0Z\" style=\"opacity: 1; stroke-width: 0px; fill: rgb(99, 110, 250); fill-opacity: 1;\"/><path class=\"point\" transform=\"translate(235.06,264.78)\" d=\"M3,0A3,3 0 1,1 0,-3A3,3 0 0,1 3,0Z\" style=\"opacity: 1; stroke-width: 0px; fill: rgb(99, 110, 250); fill-opacity: 1;\"/><path class=\"point\" transform=\"translate(243.1,266.83)\" d=\"M3,0A3,3 0 1,1 0,-3A3,3 0 0,1 3,0Z\" style=\"opacity: 1; stroke-width: 0px; fill: rgb(99, 110, 250); fill-opacity: 1;\"/><path class=\"point\" transform=\"translate(251.14,269.5)\" d=\"M3,0A3,3 0 1,1 0,-3A3,3 0 0,1 3,0Z\" style=\"opacity: 1; stroke-width: 0px; fill: rgb(99, 110, 250); fill-opacity: 1;\"/><path class=\"point\" transform=\"translate(259.17,272.23)\" d=\"M3,0A3,3 0 1,1 0,-3A3,3 0 0,1 3,0Z\" style=\"opacity: 1; stroke-width: 0px; fill: rgb(99, 110, 250); fill-opacity: 1;\"/><path class=\"point\" transform=\"translate(267.21,274.27)\" d=\"M3,0A3,3 0 1,1 0,-3A3,3 0 0,1 3,0Z\" style=\"opacity: 1; stroke-width: 0px; fill: rgb(99, 110, 250); fill-opacity: 1;\"/><path class=\"point\" transform=\"translate(275.25,275.79)\" d=\"M3,0A3,3 0 1,1 0,-3A3,3 0 0,1 3,0Z\" style=\"opacity: 1; stroke-width: 0px; fill: rgb(99, 110, 250); fill-opacity: 1;\"/><path class=\"point\" transform=\"translate(283.29,277.14)\" d=\"M3,0A3,3 0 1,1 0,-3A3,3 0 0,1 3,0Z\" style=\"opacity: 1; stroke-width: 0px; fill: rgb(99, 110, 250); fill-opacity: 1;\"/><path class=\"point\" transform=\"translate(291.33,279.39)\" d=\"M3,0A3,3 0 1,1 0,-3A3,3 0 0,1 3,0Z\" style=\"opacity: 1; stroke-width: 0px; fill: rgb(99, 110, 250); fill-opacity: 1;\"/><path class=\"point\" transform=\"translate(299.37,282.08)\" d=\"M3,0A3,3 0 1,1 0,-3A3,3 0 0,1 3,0Z\" style=\"opacity: 1; stroke-width: 0px; fill: rgb(99, 110, 250); fill-opacity: 1;\"/><path class=\"point\" transform=\"translate(307.41,284.92)\" d=\"M3,0A3,3 0 1,1 0,-3A3,3 0 0,1 3,0Z\" style=\"opacity: 1; stroke-width: 0px; fill: rgb(99, 110, 250); fill-opacity: 1;\"/><path class=\"point\" transform=\"translate(315.45,288.12)\" d=\"M3,0A3,3 0 1,1 0,-3A3,3 0 0,1 3,0Z\" style=\"opacity: 1; stroke-width: 0px; fill: rgb(99, 110, 250); fill-opacity: 1;\"/><path class=\"point\" transform=\"translate(323.48,290.91)\" d=\"M3,0A3,3 0 1,1 0,-3A3,3 0 0,1 3,0Z\" style=\"opacity: 1; stroke-width: 0px; fill: rgb(99, 110, 250); fill-opacity: 1;\"/><path class=\"point\" transform=\"translate(331.52,292.89)\" d=\"M3,0A3,3 0 1,1 0,-3A3,3 0 0,1 3,0Z\" style=\"opacity: 1; stroke-width: 0px; fill: rgb(99, 110, 250); fill-opacity: 1;\"/><path class=\"point\" transform=\"translate(339.56,294.48)\" d=\"M3,0A3,3 0 1,1 0,-3A3,3 0 0,1 3,0Z\" style=\"opacity: 1; stroke-width: 0px; fill: rgb(99, 110, 250); fill-opacity: 1;\"/><path class=\"point\" transform=\"translate(347.6,296.08)\" d=\"M3,0A3,3 0 1,1 0,-3A3,3 0 0,1 3,0Z\" style=\"opacity: 1; stroke-width: 0px; fill: rgb(99, 110, 250); fill-opacity: 1;\"/><path class=\"point\" transform=\"translate(355.64,297.4)\" d=\"M3,0A3,3 0 1,1 0,-3A3,3 0 0,1 3,0Z\" style=\"opacity: 1; stroke-width: 0px; fill: rgb(99, 110, 250); fill-opacity: 1;\"/><path class=\"point\" transform=\"translate(363.68,298.28)\" d=\"M3,0A3,3 0 1,1 0,-3A3,3 0 0,1 3,0Z\" style=\"opacity: 1; stroke-width: 0px; fill: rgb(99, 110, 250); fill-opacity: 1;\"/><path class=\"point\" transform=\"translate(371.72,298.83)\" d=\"M3,0A3,3 0 1,1 0,-3A3,3 0 0,1 3,0Z\" style=\"opacity: 1; stroke-width: 0px; fill: rgb(99, 110, 250); fill-opacity: 1;\"/><path class=\"point\" transform=\"translate(379.76,299.38)\" d=\"M3,0A3,3 0 1,1 0,-3A3,3 0 0,1 3,0Z\" style=\"opacity: 1; stroke-width: 0px; fill: rgb(99, 110, 250); fill-opacity: 1;\"/><path class=\"point\" transform=\"translate(387.79,299.84)\" d=\"M3,0A3,3 0 1,1 0,-3A3,3 0 0,1 3,0Z\" style=\"opacity: 1; stroke-width: 0px; fill: rgb(99, 110, 250); fill-opacity: 1;\"/><path class=\"point\" transform=\"translate(395.83,300.07)\" d=\"M3,0A3,3 0 1,1 0,-3A3,3 0 0,1 3,0Z\" style=\"opacity: 1; stroke-width: 0px; fill: rgb(99, 110, 250); fill-opacity: 1;\"/><path class=\"point\" transform=\"translate(403.87,300.17)\" d=\"M3,0A3,3 0 1,1 0,-3A3,3 0 0,1 3,0Z\" style=\"opacity: 1; stroke-width: 0px; fill: rgb(99, 110, 250); fill-opacity: 1;\"/><path class=\"point\" transform=\"translate(411.91,300.18)\" d=\"M3,0A3,3 0 1,1 0,-3A3,3 0 0,1 3,0Z\" style=\"opacity: 1; stroke-width: 0px; fill: rgb(99, 110, 250); fill-opacity: 1;\"/><path class=\"point\" transform=\"translate(419.95,300.17)\" d=\"M3,0A3,3 0 1,1 0,-3A3,3 0 0,1 3,0Z\" style=\"opacity: 1; stroke-width: 0px; fill: rgb(99, 110, 250); fill-opacity: 1;\"/></g><g class=\"text\"/></g><g class=\"trace scatter tracec464af\" style=\"stroke-miterlimit: 2; opacity: 1;\"><g class=\"fills\"/><g class=\"errorbars\"/><g class=\"lines\"><path class=\"js-line\" d=\"M26.05,19.75L34.09,129.19L42.13,261.57L50.17,296.89L58.21,300.08L130.55,300.25L138.59,300.25L419.95,300.25\" style=\"vector-effect: non-scaling-stroke; fill: none; stroke: rgb(239, 85, 59); stroke-opacity: 1; stroke-width: 2px; opacity: 1;\"/></g><g class=\"points\"><path class=\"point\" transform=\"translate(26.05,19.75)\" d=\"M3,0A3,3 0 1,1 0,-3A3,3 0 0,1 3,0Z\" style=\"opacity: 1; stroke-width: 0px; fill: rgb(239, 85, 59); fill-opacity: 1;\"/><path class=\"point\" transform=\"translate(34.09,129.19)\" d=\"M3,0A3,3 0 1,1 0,-3A3,3 0 0,1 3,0Z\" style=\"opacity: 1; stroke-width: 0px; fill: rgb(239, 85, 59); fill-opacity: 1;\"/><path class=\"point\" transform=\"translate(42.13,261.57)\" d=\"M3,0A3,3 0 1,1 0,-3A3,3 0 0,1 3,0Z\" style=\"opacity: 1; stroke-width: 0px; fill: rgb(239, 85, 59); fill-opacity: 1;\"/><path class=\"point\" transform=\"translate(50.17,296.89)\" d=\"M3,0A3,3 0 1,1 0,-3A3,3 0 0,1 3,0Z\" style=\"opacity: 1; stroke-width: 0px; fill: rgb(239, 85, 59); fill-opacity: 1;\"/><path class=\"point\" transform=\"translate(58.21,300.08)\" d=\"M3,0A3,3 0 1,1 0,-3A3,3 0 0,1 3,0Z\" style=\"opacity: 1; stroke-width: 0px; fill: rgb(239, 85, 59); fill-opacity: 1;\"/><path class=\"point\" transform=\"translate(66.24,300.18)\" d=\"M3,0A3,3 0 1,1 0,-3A3,3 0 0,1 3,0Z\" style=\"opacity: 1; stroke-width: 0px; fill: rgb(239, 85, 59); fill-opacity: 1;\"/><path class=\"point\" transform=\"translate(74.28,300.21)\" d=\"M3,0A3,3 0 1,1 0,-3A3,3 0 0,1 3,0Z\" style=\"opacity: 1; stroke-width: 0px; fill: rgb(239, 85, 59); fill-opacity: 1;\"/><path class=\"point\" transform=\"translate(82.32,300.24)\" d=\"M3,0A3,3 0 1,1 0,-3A3,3 0 0,1 3,0Z\" style=\"opacity: 1; stroke-width: 0px; fill: rgb(239, 85, 59); fill-opacity: 1;\"/><path class=\"point\" transform=\"translate(90.36,300.25)\" d=\"M3,0A3,3 0 1,1 0,-3A3,3 0 0,1 3,0Z\" style=\"opacity: 1; stroke-width: 0px; fill: rgb(239, 85, 59); fill-opacity: 1;\"/><path class=\"point\" transform=\"translate(98.4,300.25)\" d=\"M3,0A3,3 0 1,1 0,-3A3,3 0 0,1 3,0Z\" style=\"opacity: 1; stroke-width: 0px; fill: rgb(239, 85, 59); fill-opacity: 1;\"/><path class=\"point\" transform=\"translate(106.44,300.25)\" d=\"M3,0A3,3 0 1,1 0,-3A3,3 0 0,1 3,0Z\" style=\"opacity: 1; stroke-width: 0px; fill: rgb(239, 85, 59); fill-opacity: 1;\"/><path class=\"point\" transform=\"translate(114.48,300.25)\" d=\"M3,0A3,3 0 1,1 0,-3A3,3 0 0,1 3,0Z\" style=\"opacity: 1; stroke-width: 0px; fill: rgb(239, 85, 59); fill-opacity: 1;\"/><path class=\"point\" transform=\"translate(122.52,300.25)\" d=\"M3,0A3,3 0 1,1 0,-3A3,3 0 0,1 3,0Z\" style=\"opacity: 1; stroke-width: 0px; fill: rgb(239, 85, 59); fill-opacity: 1;\"/><path class=\"point\" transform=\"translate(130.55,300.25)\" d=\"M3,0A3,3 0 1,1 0,-3A3,3 0 0,1 3,0Z\" style=\"opacity: 1; stroke-width: 0px; fill: rgb(239, 85, 59); fill-opacity: 1;\"/><path class=\"point\" transform=\"translate(138.59,300.25)\" d=\"M3,0A3,3 0 1,1 0,-3A3,3 0 0,1 3,0Z\" style=\"opacity: 1; stroke-width: 0px; fill: rgb(239, 85, 59); fill-opacity: 1;\"/><path class=\"point\" transform=\"translate(146.63,300.25)\" d=\"M3,0A3,3 0 1,1 0,-3A3,3 0 0,1 3,0Z\" style=\"opacity: 1; stroke-width: 0px; fill: rgb(239, 85, 59); fill-opacity: 1;\"/><path class=\"point\" transform=\"translate(154.67,300.25)\" d=\"M3,0A3,3 0 1,1 0,-3A3,3 0 0,1 3,0Z\" style=\"opacity: 1; stroke-width: 0px; fill: rgb(239, 85, 59); fill-opacity: 1;\"/><path class=\"point\" transform=\"translate(162.71,300.25)\" d=\"M3,0A3,3 0 1,1 0,-3A3,3 0 0,1 3,0Z\" style=\"opacity: 1; stroke-width: 0px; fill: rgb(239, 85, 59); fill-opacity: 1;\"/><path class=\"point\" transform=\"translate(170.75,300.25)\" d=\"M3,0A3,3 0 1,1 0,-3A3,3 0 0,1 3,0Z\" style=\"opacity: 1; stroke-width: 0px; fill: rgb(239, 85, 59); fill-opacity: 1;\"/><path class=\"point\" transform=\"translate(178.79,300.25)\" d=\"M3,0A3,3 0 1,1 0,-3A3,3 0 0,1 3,0Z\" style=\"opacity: 1; stroke-width: 0px; fill: rgb(239, 85, 59); fill-opacity: 1;\"/><path class=\"point\" transform=\"translate(186.83,300.25)\" d=\"M3,0A3,3 0 1,1 0,-3A3,3 0 0,1 3,0Z\" style=\"opacity: 1; stroke-width: 0px; fill: rgb(239, 85, 59); fill-opacity: 1;\"/><path class=\"point\" transform=\"translate(194.86,300.25)\" d=\"M3,0A3,3 0 1,1 0,-3A3,3 0 0,1 3,0Z\" style=\"opacity: 1; stroke-width: 0px; fill: rgb(239, 85, 59); fill-opacity: 1;\"/><path class=\"point\" transform=\"translate(202.9,300.25)\" d=\"M3,0A3,3 0 1,1 0,-3A3,3 0 0,1 3,0Z\" style=\"opacity: 1; stroke-width: 0px; fill: rgb(239, 85, 59); fill-opacity: 1;\"/><path class=\"point\" transform=\"translate(210.94,300.25)\" d=\"M3,0A3,3 0 1,1 0,-3A3,3 0 0,1 3,0Z\" style=\"opacity: 1; stroke-width: 0px; fill: rgb(239, 85, 59); fill-opacity: 1;\"/><path class=\"point\" transform=\"translate(218.98,300.25)\" d=\"M3,0A3,3 0 1,1 0,-3A3,3 0 0,1 3,0Z\" style=\"opacity: 1; stroke-width: 0px; fill: rgb(239, 85, 59); fill-opacity: 1;\"/><path class=\"point\" transform=\"translate(227.02,300.25)\" d=\"M3,0A3,3 0 1,1 0,-3A3,3 0 0,1 3,0Z\" style=\"opacity: 1; stroke-width: 0px; fill: rgb(239, 85, 59); fill-opacity: 1;\"/><path class=\"point\" transform=\"translate(235.06,300.25)\" d=\"M3,0A3,3 0 1,1 0,-3A3,3 0 0,1 3,0Z\" style=\"opacity: 1; stroke-width: 0px; fill: rgb(239, 85, 59); fill-opacity: 1;\"/><path class=\"point\" transform=\"translate(243.1,300.25)\" d=\"M3,0A3,3 0 1,1 0,-3A3,3 0 0,1 3,0Z\" style=\"opacity: 1; stroke-width: 0px; fill: rgb(239, 85, 59); fill-opacity: 1;\"/><path class=\"point\" transform=\"translate(251.14,300.25)\" d=\"M3,0A3,3 0 1,1 0,-3A3,3 0 0,1 3,0Z\" style=\"opacity: 1; stroke-width: 0px; fill: rgb(239, 85, 59); fill-opacity: 1;\"/><path class=\"point\" transform=\"translate(259.17,300.25)\" d=\"M3,0A3,3 0 1,1 0,-3A3,3 0 0,1 3,0Z\" style=\"opacity: 1; stroke-width: 0px; fill: rgb(239, 85, 59); fill-opacity: 1;\"/><path class=\"point\" transform=\"translate(267.21,300.25)\" d=\"M3,0A3,3 0 1,1 0,-3A3,3 0 0,1 3,0Z\" style=\"opacity: 1; stroke-width: 0px; fill: rgb(239, 85, 59); fill-opacity: 1;\"/><path class=\"point\" transform=\"translate(275.25,300.25)\" d=\"M3,0A3,3 0 1,1 0,-3A3,3 0 0,1 3,0Z\" style=\"opacity: 1; stroke-width: 0px; fill: rgb(239, 85, 59); fill-opacity: 1;\"/><path class=\"point\" transform=\"translate(283.29,300.25)\" d=\"M3,0A3,3 0 1,1 0,-3A3,3 0 0,1 3,0Z\" style=\"opacity: 1; stroke-width: 0px; fill: rgb(239, 85, 59); fill-opacity: 1;\"/><path class=\"point\" transform=\"translate(291.33,300.25)\" d=\"M3,0A3,3 0 1,1 0,-3A3,3 0 0,1 3,0Z\" style=\"opacity: 1; stroke-width: 0px; fill: rgb(239, 85, 59); fill-opacity: 1;\"/><path class=\"point\" transform=\"translate(299.37,300.25)\" d=\"M3,0A3,3 0 1,1 0,-3A3,3 0 0,1 3,0Z\" style=\"opacity: 1; stroke-width: 0px; fill: rgb(239, 85, 59); fill-opacity: 1;\"/><path class=\"point\" transform=\"translate(307.41,300.25)\" d=\"M3,0A3,3 0 1,1 0,-3A3,3 0 0,1 3,0Z\" style=\"opacity: 1; stroke-width: 0px; fill: rgb(239, 85, 59); fill-opacity: 1;\"/><path class=\"point\" transform=\"translate(315.45,300.25)\" d=\"M3,0A3,3 0 1,1 0,-3A3,3 0 0,1 3,0Z\" style=\"opacity: 1; stroke-width: 0px; fill: rgb(239, 85, 59); fill-opacity: 1;\"/><path class=\"point\" transform=\"translate(323.48,300.25)\" d=\"M3,0A3,3 0 1,1 0,-3A3,3 0 0,1 3,0Z\" style=\"opacity: 1; stroke-width: 0px; fill: rgb(239, 85, 59); fill-opacity: 1;\"/><path class=\"point\" transform=\"translate(331.52,300.25)\" d=\"M3,0A3,3 0 1,1 0,-3A3,3 0 0,1 3,0Z\" style=\"opacity: 1; stroke-width: 0px; fill: rgb(239, 85, 59); fill-opacity: 1;\"/><path class=\"point\" transform=\"translate(339.56,300.25)\" d=\"M3,0A3,3 0 1,1 0,-3A3,3 0 0,1 3,0Z\" style=\"opacity: 1; stroke-width: 0px; fill: rgb(239, 85, 59); fill-opacity: 1;\"/><path class=\"point\" transform=\"translate(347.6,300.25)\" d=\"M3,0A3,3 0 1,1 0,-3A3,3 0 0,1 3,0Z\" style=\"opacity: 1; stroke-width: 0px; fill: rgb(239, 85, 59); fill-opacity: 1;\"/><path class=\"point\" transform=\"translate(355.64,300.25)\" d=\"M3,0A3,3 0 1,1 0,-3A3,3 0 0,1 3,0Z\" style=\"opacity: 1; stroke-width: 0px; fill: rgb(239, 85, 59); fill-opacity: 1;\"/><path class=\"point\" transform=\"translate(363.68,300.25)\" d=\"M3,0A3,3 0 1,1 0,-3A3,3 0 0,1 3,0Z\" style=\"opacity: 1; stroke-width: 0px; fill: rgb(239, 85, 59); fill-opacity: 1;\"/><path class=\"point\" transform=\"translate(371.72,300.25)\" d=\"M3,0A3,3 0 1,1 0,-3A3,3 0 0,1 3,0Z\" style=\"opacity: 1; stroke-width: 0px; fill: rgb(239, 85, 59); fill-opacity: 1;\"/><path class=\"point\" transform=\"translate(379.76,300.25)\" d=\"M3,0A3,3 0 1,1 0,-3A3,3 0 0,1 3,0Z\" style=\"opacity: 1; stroke-width: 0px; fill: rgb(239, 85, 59); fill-opacity: 1;\"/><path class=\"point\" transform=\"translate(387.79,300.25)\" d=\"M3,0A3,3 0 1,1 0,-3A3,3 0 0,1 3,0Z\" style=\"opacity: 1; stroke-width: 0px; fill: rgb(239, 85, 59); fill-opacity: 1;\"/><path class=\"point\" transform=\"translate(395.83,300.25)\" d=\"M3,0A3,3 0 1,1 0,-3A3,3 0 0,1 3,0Z\" style=\"opacity: 1; stroke-width: 0px; fill: rgb(239, 85, 59); fill-opacity: 1;\"/><path class=\"point\" transform=\"translate(403.87,300.25)\" d=\"M3,0A3,3 0 1,1 0,-3A3,3 0 0,1 3,0Z\" style=\"opacity: 1; stroke-width: 0px; fill: rgb(239, 85, 59); fill-opacity: 1;\"/><path class=\"point\" transform=\"translate(411.91,300.25)\" d=\"M3,0A3,3 0 1,1 0,-3A3,3 0 0,1 3,0Z\" style=\"opacity: 1; stroke-width: 0px; fill: rgb(239, 85, 59); fill-opacity: 1;\"/><path class=\"point\" transform=\"translate(419.95,300.25)\" d=\"M3,0A3,3 0 1,1 0,-3A3,3 0 0,1 3,0Z\" style=\"opacity: 1; stroke-width: 0px; fill: rgb(239, 85, 59); fill-opacity: 1;\"/></g><g class=\"text\"/></g></g></g><g class=\"overplot\"/><path class=\"xlines-above crisp\" d=\"M0,0\" style=\"fill: none;\"/><path class=\"ylines-above crisp\" d=\"M0,0\" style=\"fill: none;\"/><g class=\"overlines-above\"/><g class=\"xaxislayer-above\"><g class=\"xtick\"><text text-anchor=\"middle\" x=\"0\" y=\"433\" transform=\"translate(106.05,0)\" style=\"font-family: 'Open Sans', verdana, arial, sans-serif; font-size: 12px; fill: rgb(42, 63, 95); fill-opacity: 1; white-space: pre; opacity: 1;\">0</text></g><g class=\"xtick\"><text text-anchor=\"middle\" x=\"0\" y=\"433\" style=\"font-family: 'Open Sans', verdana, arial, sans-serif; font-size: 12px; fill: rgb(42, 63, 95); fill-opacity: 1; white-space: pre; opacity: 1;\" transform=\"translate(186.44,0)\">0.2</text></g><g class=\"xtick\"><text text-anchor=\"middle\" x=\"0\" y=\"433\" style=\"font-family: 'Open Sans', verdana, arial, sans-serif; font-size: 12px; fill: rgb(42, 63, 95); fill-opacity: 1; white-space: pre; opacity: 1;\" transform=\"translate(266.83000000000004,0)\">0.4</text></g><g class=\"xtick\"><text text-anchor=\"middle\" x=\"0\" y=\"433\" style=\"font-family: 'Open Sans', verdana, arial, sans-serif; font-size: 12px; fill: rgb(42, 63, 95); fill-opacity: 1; white-space: pre; opacity: 1;\" transform=\"translate(347.21,0)\">0.6</text></g><g class=\"xtick\"><text text-anchor=\"middle\" x=\"0\" y=\"433\" style=\"font-family: 'Open Sans', verdana, arial, sans-serif; font-size: 12px; fill: rgb(42, 63, 95); fill-opacity: 1; white-space: pre; opacity: 1;\" transform=\"translate(427.6,0)\">0.8</text></g><g class=\"xtick\"><text text-anchor=\"middle\" x=\"0\" y=\"433\" style=\"font-family: 'Open Sans', verdana, arial, sans-serif; font-size: 12px; fill: rgb(42, 63, 95); fill-opacity: 1; white-space: pre; opacity: 1;\" transform=\"translate(507.99,0)\">1</text></g></g><g class=\"yaxislayer-above\"><g class=\"ytick\"><text text-anchor=\"end\" x=\"79\" y=\"4.199999999999999\" transform=\"translate(0,400.25)\" style=\"font-family: 'Open Sans', verdana, arial, sans-serif; font-size: 12px; fill: rgb(42, 63, 95); fill-opacity: 1; white-space: pre; opacity: 1;\">0</text></g><g class=\"ytick\"><text text-anchor=\"end\" x=\"79\" y=\"4.199999999999999\" style=\"font-family: 'Open Sans', verdana, arial, sans-serif; font-size: 12px; fill: rgb(42, 63, 95); fill-opacity: 1; white-space: pre; opacity: 1;\" transform=\"translate(0,329.81)\">5</text></g><g class=\"ytick\"><text text-anchor=\"end\" x=\"79\" y=\"4.199999999999999\" style=\"font-family: 'Open Sans', verdana, arial, sans-serif; font-size: 12px; fill: rgb(42, 63, 95); fill-opacity: 1; white-space: pre; opacity: 1;\" transform=\"translate(0,259.37)\">10</text></g><g class=\"ytick\"><text text-anchor=\"end\" x=\"79\" y=\"4.199999999999999\" style=\"font-family: 'Open Sans', verdana, arial, sans-serif; font-size: 12px; fill: rgb(42, 63, 95); fill-opacity: 1; white-space: pre; opacity: 1;\" transform=\"translate(0,188.92000000000002)\">15</text></g><g class=\"ytick\"><text text-anchor=\"end\" x=\"79\" y=\"4.199999999999999\" style=\"font-family: 'Open Sans', verdana, arial, sans-serif; font-size: 12px; fill: rgb(42, 63, 95); fill-opacity: 1; white-space: pre; opacity: 1;\" transform=\"translate(0,118.48)\">20</text></g></g><g class=\"overaxes-above\"/></g></g><g class=\"polarlayer\"/><g class=\"smithlayer\"/><g class=\"ternarylayer\"/><g class=\"geolayer\"/><g class=\"funnelarealayer\"/><g class=\"pielayer\"/><g class=\"iciclelayer\"/><g class=\"treemaplayer\"/><g class=\"sunburstlayer\"/><g class=\"glimages\"/><defs id=\"topdefs-a03412\"><g class=\"clips\"/><clipPath id=\"legenda03412\"><rect width=\"153\" height=\"67\" x=\"0\" y=\"0\"/></clipPath></defs><g class=\"layer-above\"><g class=\"imagelayer\"/><g class=\"shapelayer\"/></g><g class=\"infolayer\"><g class=\"legend\" pointer-events=\"all\" transform=\"translate(534.9200000000001,100)\"><rect class=\"bg\" shape-rendering=\"crispEdges\" style=\"stroke: rgb(68, 68, 68); stroke-opacity: 1; fill: rgb(255, 255, 255); fill-opacity: 1; stroke-width: 0px;\" width=\"153\" height=\"67\" x=\"0\" y=\"0\"/><g class=\"scrollbox\" transform=\"\" clip-path=\"url(#legenda03412)\"><text class=\"legendtitletext\" text-anchor=\"start\" x=\"2\" y=\"18.2\" style=\"font-family: 'Open Sans', verdana, arial, sans-serif; font-size: 14px; fill: rgb(42, 63, 95); fill-opacity: 1; white-space: pre;\">variable</text><g class=\"groups\" transform=\"\"><g class=\"traces\" transform=\"translate(0,32.7)\" style=\"opacity: 1;\"><text class=\"legendtext\" text-anchor=\"start\" x=\"40\" y=\"4.680000000000001\" style=\"font-family: 'Open Sans', verdana, arial, sans-serif; font-size: 12px; fill: rgb(42, 63, 95); fill-opacity: 1; white-space: pre;\">Closed WPD-Loop</text><g class=\"layers\" style=\"opacity: 1;\"><g class=\"legendfill\"/><g class=\"legendlines\"><path class=\"js-line\" d=\"M5,0h30\" style=\"fill: none; stroke: rgb(99, 110, 250); stroke-opacity: 1; stroke-width: 2px;\"/></g><g class=\"legendsymbols\"><g class=\"legendpoints\"><path class=\"scatterpts\" transform=\"translate(20,0)\" d=\"M3,0A3,3 0 1,1 0,-3A3,3 0 0,1 3,0Z\" style=\"opacity: 1; stroke-width: 0px; fill: rgb(99, 110, 250); fill-opacity: 1;\"/></g></g></g><rect class=\"legendtoggle\" x=\"0\" y=\"-9.5\" width=\"147.09375\" height=\"19\" style=\"fill: rgb(0, 0, 0); fill-opacity: 0;\"/></g></g><g class=\"groups\" transform=\"\"><g class=\"traces\" transform=\"translate(0,51.7)\" style=\"opacity: 1;\"><text class=\"legendtext\" text-anchor=\"start\" x=\"40\" y=\"4.680000000000001\" style=\"font-family: 'Open Sans', verdana, arial, sans-serif; font-size: 12px; fill: rgb(42, 63, 95); fill-opacity: 1; white-space: pre;\">Open WPD-Loop</text><g class=\"layers\" style=\"opacity: 1;\"><g class=\"legendfill\"/><g class=\"legendlines\"><path class=\"js-line\" d=\"M5,0h30\" style=\"fill: none; stroke: rgb(239, 85, 59); stroke-opacity: 1; stroke-width: 2px;\"/></g><g class=\"legendsymbols\"><g class=\"legendpoints\"><path class=\"scatterpts\" transform=\"translate(20,0)\" d=\"M3,0A3,3 0 1,1 0,-3A3,3 0 0,1 3,0Z\" style=\"opacity: 1; stroke-width: 0px; fill: rgb(239, 85, 59); fill-opacity: 1;\"/></g></g></g><rect class=\"legendtoggle\" x=\"0\" y=\"-9.5\" width=\"147.09375\" height=\"19\" style=\"fill: rgb(0, 0, 0); fill-opacity: 0;\"/></g></g></g><rect class=\"scrollbar\" rx=\"20\" ry=\"3\" width=\"0\" height=\"0\" style=\"fill: rgb(128, 139, 164); fill-opacity: 1;\" x=\"0\" y=\"0\"/></g><g class=\"g-gtitle\"><text class=\"gtitle\" x=\"35\" y=\"50\" text-anchor=\"start\" dy=\"0em\" style=\"font-family: 'Open Sans', verdana, arial, sans-serif; font-size: 17px; fill: rgb(42, 63, 95); opacity: 1; font-weight: normal; white-space: pre;\">Comparison of the KDEs obtained for the Closed and Open WPD-loop</text></g><g class=\"g-xtitle\"><text class=\"xtitle\" x=\"303\" y=\"460.8\" text-anchor=\"middle\" style=\"font-family: 'Open Sans', verdana, arial, sans-serif; font-size: 14px; fill: rgb(42, 63, 95); opacity: 1; font-weight: normal; white-space: pre;\">Normalised Interaction Strength</text></g><g class=\"g-ytitle\"><text class=\"ytitle\" transform=\"rotate(-90,38.934375,260)\" x=\"38.934375\" y=\"260\" text-anchor=\"middle\" style=\"font-family: 'Open Sans', verdana, arial, sans-serif; font-size: 14px; fill: rgb(42, 63, 95); opacity: 1; font-weight: normal; white-space: pre;\">Density</text></g></g></svg>"
      ]
     },
     "metadata": {},
     "output_type": "display_data"
    }
   ],
   "source": [
    "fig = px.line(interaction_df, x=\"Normalised Interaction Strength\", y=[\"Closed WPD-Loop\", \"Open WPD-Loop\"], \n",
    "    markers=True, title=\"Comparison of the KDEs obtained for the Closed and Open WPD-loop\"\n",
    ")\n",
    "fig.update_layout(yaxis_title=\"Density\")\n",
    "fig.show(\"svg\") # to make this plot interactive, remove \"svg\" and run the cell block. "
   ]
  },
  {
   "attachments": {},
   "cell_type": "markdown",
   "metadata": {},
   "source": [
    "Looking at the above graph it is clear that interaction above is only present in the closed WPD-loop conformation "
   ]
  },
  {
   "attachments": {},
   "cell_type": "markdown",
   "metadata": {},
   "source": [
    "**Optional:** Now we will user a helper function within the utils.py module to determine the heavy atom distance of each residue to the site of interest (in this case the WPD-loop). You can use any form of mdtraj selection command (both single and multi-atom) to define the site of interest to you. In this case, we will use the heavy atoms of residue 180 (D181 in the PDB - a catalytic residue on the WPD-loop) as the site of interest. "
   ]
  },
  {
   "cell_type": "code",
   "execution_count": 25,
   "metadata": {},
   "outputs": [
    {
     "name": "stderr",
     "output_type": "stream",
     "text": [
      "c:\\anaconda3\\envs\\ML_conf_features_3.8\\lib\\site-packages\\MDAnalysis\\topology\\PDBParser.py:328: UserWarning:\n",
      "\n",
      "Element information is missing, elements attribute will not be populated. If needed these can be guessed using MDAnalysis.topology.guessers.\n",
      "\n"
     ]
    },
    {
     "name": "stdout",
     "output_type": "stream",
     "text": [
      "tutorial_datasets//PTP1B_stat_analysisDistance_toCalpha_D181_Closed.txt written to disk.\n"
     ]
    }
   ],
   "source": [
    "from key_interactions_finder import utils \n",
    "\n",
    "out_file = stats_out_dir + \"Distance_toCalpha_D181_Closed.txt\"\n",
    "distances_to_site = utils.per_residue_distance_to_site(\n",
    "    pdb_file=pdb_file,\n",
    "    site_defintion=\"not name H* and resid 180\",\n",
    "    first_residue=1,\n",
    "    last_residue=298,\n",
    "    side_chain_only=False, # only consider side chain atoms of each residue (uses CA for glycine)\n",
    "    out_file=out_file,\n",
    ")"
   ]
  },
  {
   "attachments": {},
   "cell_type": "markdown",
   "metadata": {},
   "source": [
    "With this, we can plot the relative per residue scores against the distance from the binding site. \n",
    "\n",
    "One such way to do this is with a \"Bubble plot\", with the size of the bubble used to represent the per residue score."
   ]
  },
  {
   "cell_type": "code",
   "execution_count": 26,
   "metadata": {},
   "outputs": [
    {
     "data": {
      "text/html": [
       "<div>\n",
       "<style scoped>\n",
       "    .dataframe tbody tr th:only-of-type {\n",
       "        vertical-align: middle;\n",
       "    }\n",
       "\n",
       "    .dataframe tbody tr th {\n",
       "        vertical-align: top;\n",
       "    }\n",
       "\n",
       "    .dataframe thead th {\n",
       "        text-align: right;\n",
       "    }\n",
       "</style>\n",
       "<table border=\"1\" class=\"dataframe\">\n",
       "  <thead>\n",
       "    <tr style=\"text-align: right;\">\n",
       "      <th></th>\n",
       "      <th>Per Residue Score</th>\n",
       "      <th>Distance to D181 (Å)</th>\n",
       "    </tr>\n",
       "  </thead>\n",
       "  <tbody>\n",
       "    <tr>\n",
       "      <th>220</th>\n",
       "      <td>1.00000</td>\n",
       "      <td>3.38</td>\n",
       "    </tr>\n",
       "    <tr>\n",
       "      <th>180</th>\n",
       "      <td>0.93200</td>\n",
       "      <td>0.00</td>\n",
       "    </tr>\n",
       "    <tr>\n",
       "      <th>179</th>\n",
       "      <td>0.62949</td>\n",
       "      <td>1.32</td>\n",
       "    </tr>\n",
       "    <tr>\n",
       "      <th>265</th>\n",
       "      <td>0.58984</td>\n",
       "      <td>5.35</td>\n",
       "    </tr>\n",
       "    <tr>\n",
       "      <th>178</th>\n",
       "      <td>0.58728</td>\n",
       "      <td>3.68</td>\n",
       "    </tr>\n",
       "  </tbody>\n",
       "</table>\n",
       "</div>"
      ],
      "text/plain": [
       "     Per Residue Score  Distance to D181 (Å)\n",
       "220            1.00000                  3.38\n",
       "180            0.93200                  0.00\n",
       "179            0.62949                  1.32\n",
       "265            0.58984                  5.35\n",
       "178            0.58728                  3.68"
      ]
     },
     "execution_count": 26,
     "metadata": {},
     "output_type": "execute_result"
    }
   ],
   "source": [
    "# Convert the dataset to be easy to use with plotly. \n",
    "df_scores = pd.DataFrame.from_dict([js_per_res_scores]).T\n",
    "df_dists = pd.DataFrame.from_dict([distances_to_site]).T\n",
    "\n",
    "df_score_dist = pd.merge(df_scores, df_dists, left_index=True, right_index=True)\n",
    "df_score_dist.columns = [\"Per Residue Score\", \"Distance to D181 (Å)\"]\n",
    "df_score_dist.head(5)"
   ]
  },
  {
   "cell_type": "code",
   "execution_count": 27,
   "metadata": {},
   "outputs": [
    {
     "data": {
      "image/svg+xml": [
       "<svg class=\"main-svg\" xmlns=\"http://www.w3.org/2000/svg\" xmlns:xlink=\"http://www.w3.org/1999/xlink\" width=\"700\" height=\"500\" style=\"\" viewBox=\"0 0 700 500\"><rect x=\"0\" y=\"0\" width=\"700\" height=\"500\" style=\"fill: rgb(255, 255, 255); fill-opacity: 1;\"/><defs id=\"defs-7aee40\"><g class=\"clips\"><clipPath id=\"clip7aee40xyplot\" class=\"plotclip\"><rect width=\"540\" height=\"320\"/></clipPath><clipPath class=\"axesclip\" id=\"clip7aee40x\"><rect x=\"80\" y=\"0\" width=\"540\" height=\"500\"/></clipPath><clipPath class=\"axesclip\" id=\"clip7aee40y\"><rect x=\"0\" y=\"100\" width=\"700\" height=\"320\"/></clipPath><clipPath class=\"axesclip\" id=\"clip7aee40xy\"><rect x=\"80\" y=\"100\" width=\"540\" height=\"320\"/></clipPath></g><g class=\"gradients\"/><g class=\"patterns\"/></defs><g class=\"bglayer\"><rect class=\"bg\" x=\"80\" y=\"100\" width=\"540\" height=\"320\" style=\"fill: rgb(229, 236, 246); fill-opacity: 1; stroke-width: 0;\"/></g><g class=\"layer-below\"><g class=\"imagelayer\"/><g class=\"shapelayer\"/></g><g class=\"cartesianlayer\"><g class=\"subplot xy\"><g class=\"layer-subplot\"><g class=\"shapelayer\"/><g class=\"imagelayer\"/></g><g class=\"gridlayer\"><g class=\"x\"><path class=\"xgrid crisp\" transform=\"translate(187.1,0)\" d=\"M0,100v320\" style=\"stroke: rgb(255, 255, 255); stroke-opacity: 1; stroke-width: 1px;\"/><path class=\"xgrid crisp\" transform=\"translate(267.41999999999996,0)\" d=\"M0,100v320\" style=\"stroke: rgb(255, 255, 255); stroke-opacity: 1; stroke-width: 1px;\"/><path class=\"xgrid crisp\" transform=\"translate(347.73,0)\" d=\"M0,100v320\" style=\"stroke: rgb(255, 255, 255); stroke-opacity: 1; stroke-width: 1px;\"/><path class=\"xgrid crisp\" transform=\"translate(428.05,0)\" d=\"M0,100v320\" style=\"stroke: rgb(255, 255, 255); stroke-opacity: 1; stroke-width: 1px;\"/><path class=\"xgrid crisp\" transform=\"translate(508.36,0)\" d=\"M0,100v320\" style=\"stroke: rgb(255, 255, 255); stroke-opacity: 1; stroke-width: 1px;\"/><path class=\"xgrid crisp\" transform=\"translate(588.6800000000001,0)\" d=\"M0,100v320\" style=\"stroke: rgb(255, 255, 255); stroke-opacity: 1; stroke-width: 1px;\"/></g><g class=\"y\"><path class=\"ygrid crisp\" transform=\"translate(0,351.7)\" d=\"M80,0h540\" style=\"stroke: rgb(255, 255, 255); stroke-opacity: 1; stroke-width: 1px;\"/><path class=\"ygrid crisp\" transform=\"translate(0,314.66999999999996)\" d=\"M80,0h540\" style=\"stroke: rgb(255, 255, 255); stroke-opacity: 1; stroke-width: 1px;\"/><path class=\"ygrid crisp\" transform=\"translate(0,277.64)\" d=\"M80,0h540\" style=\"stroke: rgb(255, 255, 255); stroke-opacity: 1; stroke-width: 1px;\"/><path class=\"ygrid crisp\" transform=\"translate(0,240.61)\" d=\"M80,0h540\" style=\"stroke: rgb(255, 255, 255); stroke-opacity: 1; stroke-width: 1px;\"/><path class=\"ygrid crisp\" transform=\"translate(0,203.57999999999998)\" d=\"M80,0h540\" style=\"stroke: rgb(255, 255, 255); stroke-opacity: 1; stroke-width: 1px;\"/><path class=\"ygrid crisp\" transform=\"translate(0,166.55)\" d=\"M80,0h540\" style=\"stroke: rgb(255, 255, 255); stroke-opacity: 1; stroke-width: 1px;\"/><path class=\"ygrid crisp\" transform=\"translate(0,129.52)\" d=\"M80,0h540\" style=\"stroke: rgb(255, 255, 255); stroke-opacity: 1; stroke-width: 1px;\"/></g></g><g class=\"zerolinelayer\"><path class=\"xzl zl crisp\" transform=\"translate(106.78999999999999,0)\" d=\"M0,100v320\" style=\"stroke: rgb(255, 255, 255); stroke-opacity: 1; stroke-width: 2px;\"/><path class=\"yzl zl crisp\" transform=\"translate(0,388.74)\" d=\"M80,0h540\" style=\"stroke: rgb(255, 255, 255); stroke-opacity: 1; stroke-width: 2px;\"/></g><path class=\"xlines-below\"/><path class=\"ylines-below\"/><g class=\"overlines-below\"/><g class=\"xaxislayer-below\"/><g class=\"yaxislayer-below\"/><g class=\"overaxes-below\"/><g class=\"plot\" transform=\"translate(80,100)\" clip-path=\"url(#clip7aee40xyplot)\"><g class=\"scatterlayer mlayer\"><g class=\"trace scatter trace0addb1\" style=\"stroke-miterlimit: 2; opacity: 1;\"><g class=\"fills\"/><g class=\"errorbars\"/><g class=\"lines\"/><g class=\"points\"><path class=\"point\" transform=\"translate(380.17,263.7)\" d=\"M14.14,0A14.14,14.14 0 1,1 0,-14.14A14.14,14.14 0 0,1 14.14,0Z\" style=\"opacity: 0.7; stroke-width: 1px; fill: rgb(99, 110, 250); fill-opacity: 1; stroke: rgb(255, 255, 255); stroke-opacity: 1;\"/><path class=\"point\" transform=\"translate(315.92,288.74)\" d=\"M13.65,0A13.65,13.65 0 1,1 0,-13.65A13.65,13.65 0 0,1 13.65,0Z\" style=\"opacity: 0.7; stroke-width: 1px; fill: rgb(99, 110, 250); fill-opacity: 1; stroke: rgb(255, 255, 255); stroke-opacity: 1;\"/><path class=\"point\" transform=\"translate(314.31,278.96)\" d=\"M11.22,0A11.22,11.22 0 1,1 0,-11.22A11.22,11.22 0 0,1 11.22,0Z\" style=\"opacity: 0.7; stroke-width: 1px; fill: rgb(99, 110, 250); fill-opacity: 1; stroke: rgb(255, 255, 255); stroke-opacity: 1;\"/><path class=\"point\" transform=\"translate(452.46,249.11)\" d=\"M10.86,0A10.86,10.86 0 1,1 0,-10.86A10.86,10.86 0 0,1 10.86,0Z\" style=\"opacity: 0.7; stroke-width: 1px; fill: rgb(99, 110, 250); fill-opacity: 1; stroke: rgb(255, 255, 255); stroke-opacity: 1;\"/><path class=\"point\" transform=\"translate(312.71,261.48)\" d=\"M10.84,0A10.84,10.84 0 1,1 0,-10.84A10.84,10.84 0 0,1 10.84,0Z\" style=\"opacity: 0.7; stroke-width: 1px; fill: rgb(99, 110, 250); fill-opacity: 1; stroke: rgb(255, 255, 255); stroke-opacity: 1;\"/><path class=\"point\" transform=\"translate(331.98,193.49)\" d=\"M10.62,0A10.62,10.62 0 1,1 0,-10.62A10.62,10.62 0 0,1 10.62,0Z\" style=\"opacity: 0.7; stroke-width: 1px; fill: rgb(99, 110, 250); fill-opacity: 1; stroke: rgb(255, 255, 255); stroke-opacity: 1;\"/><path class=\"point\" transform=\"translate(205.09,239.78)\" d=\"M10.34,0A10.34,10.34 0 1,1 0,-10.34A10.34,10.34 0 0,1 10.34,0Z\" style=\"opacity: 0.7; stroke-width: 1px; fill: rgb(99, 110, 250); fill-opacity: 1; stroke: rgb(255, 255, 255); stroke-opacity: 1;\"/><path class=\"point\" transform=\"translate(209.9,263.26)\" d=\"M10.07,0A10.07,10.07 0 1,1 0,-10.07A10.07,10.07 0 0,1 10.07,0Z\" style=\"opacity: 0.7; stroke-width: 1px; fill: rgb(99, 110, 250); fill-opacity: 1; stroke: rgb(255, 255, 255); stroke-opacity: 1;\"/><path class=\"point\" transform=\"translate(217.94,261.04)\" d=\"M9.91,0A9.91,9.91 0 1,1 0,-9.91A9.91,9.91 0 0,1 9.91,0Z\" style=\"opacity: 0.7; stroke-width: 1px; fill: rgb(99, 110, 250); fill-opacity: 1; stroke: rgb(255, 255, 255); stroke-opacity: 1;\"/><path class=\"point\" transform=\"translate(317.53,278.89)\" d=\"M9.8,0A9.8,9.8 0 1,1 0,-9.8A9.8,9.8 0 0,1 9.8,0Z\" style=\"opacity: 0.7; stroke-width: 1px; fill: rgb(99, 110, 250); fill-opacity: 1; stroke: rgb(255, 255, 255); stroke-opacity: 1;\"/><path class=\"point\" transform=\"translate(319.13,266.52)\" d=\"M9.69,0A9.69,9.69 0 1,1 0,-9.69A9.69,9.69 0 0,1 9.69,0Z\" style=\"opacity: 0.7; stroke-width: 1px; fill: rgb(99, 110, 250); fill-opacity: 1; stroke: rgb(255, 255, 255); stroke-opacity: 1;\"/><path class=\"point\" transform=\"translate(502.25,144.31)\" d=\"M9.61,0A9.61,9.61 0 1,1 0,-9.61A9.61,9.61 0 0,1 9.61,0Z\" style=\"opacity: 0.7; stroke-width: 1px; fill: rgb(99, 110, 250); fill-opacity: 1; stroke: rgb(255, 255, 255); stroke-opacity: 1;\"/><path class=\"point\" transform=\"translate(330.38,187.34)\" d=\"M9.61,0A9.61,9.61 0 1,1 0,-9.61A9.61,9.61 0 0,1 9.61,0Z\" style=\"opacity: 0.7; stroke-width: 1px; fill: rgb(99, 110, 250); fill-opacity: 1; stroke: rgb(255, 255, 255); stroke-opacity: 1;\"/><path class=\"point\" transform=\"translate(463.7,166.98)\" d=\"M9.47,0A9.47,9.47 0 1,1 0,-9.47A9.47,9.47 0 0,1 9.47,0Z\" style=\"opacity: 0.7; stroke-width: 1px; fill: rgb(99, 110, 250); fill-opacity: 1; stroke: rgb(255, 255, 255); stroke-opacity: 1;\"/><path class=\"point\" transform=\"translate(372.14,251.48)\" d=\"M9.35,0A9.35,9.35 0 1,1 0,-9.35A9.35,9.35 0 0,1 9.35,0Z\" style=\"opacity: 0.7; stroke-width: 1px; fill: rgb(99, 110, 250); fill-opacity: 1; stroke: rgb(255, 255, 255); stroke-opacity: 1;\"/><path class=\"point\" transform=\"translate(335.2,153.65)\" d=\"M9.34,0A9.34,9.34 0 1,1 0,-9.34A9.34,9.34 0 0,1 9.34,0Z\" style=\"opacity: 0.7; stroke-width: 1px; fill: rgb(99, 110, 250); fill-opacity: 1; stroke: rgb(255, 255, 255); stroke-opacity: 1;\"/><path class=\"point\" transform=\"translate(457.27,200.53)\" d=\"M8.18,0A8.18,8.18 0 1,1 0,-8.18A8.18,8.18 0 0,1 8.18,0Z\" style=\"opacity: 0.7; stroke-width: 1px; fill: rgb(99, 110, 250); fill-opacity: 1; stroke: rgb(255, 255, 255); stroke-opacity: 1;\"/><path class=\"point\" transform=\"translate(487.79,108.02)\" d=\"M7.97,0A7.97,7.97 0 1,1 0,-7.97A7.97,7.97 0 0,1 7.97,0Z\" style=\"opacity: 0.7; stroke-width: 1px; fill: rgb(99, 110, 250); fill-opacity: 1; stroke: rgb(255, 255, 255); stroke-opacity: 1;\"/><path class=\"point\" transform=\"translate(327.16,172.98)\" d=\"M7.93,0A7.93,7.93 0 1,1 0,-7.93A7.93,7.93 0 0,1 7.93,0Z\" style=\"opacity: 0.7; stroke-width: 1px; fill: rgb(99, 110, 250); fill-opacity: 1; stroke: rgb(255, 255, 255); stroke-opacity: 1;\"/><path class=\"point\" transform=\"translate(322.35,224.82)\" d=\"M7.9,0A7.9,7.9 0 1,1 0,-7.9A7.9,7.9 0 0,1 7.9,0Z\" style=\"opacity: 0.7; stroke-width: 1px; fill: rgb(99, 110, 250); fill-opacity: 1; stroke: rgb(255, 255, 255); stroke-opacity: 1;\"/><path class=\"point\" transform=\"translate(386.6,195.34)\" d=\"M7.79,0A7.79,7.79 0 1,1 0,-7.79A7.79,7.79 0 0,1 7.79,0Z\" style=\"opacity: 0.7; stroke-width: 1px; fill: rgb(99, 110, 250); fill-opacity: 1; stroke: rgb(255, 255, 255); stroke-opacity: 1;\"/><path class=\"point\" transform=\"translate(494.22,126.46)\" d=\"M7.74,0A7.74,7.74 0 1,1 0,-7.74A7.74,7.74 0 0,1 7.74,0Z\" style=\"opacity: 0.7; stroke-width: 1px; fill: rgb(99, 110, 250); fill-opacity: 1; stroke: rgb(255, 255, 255); stroke-opacity: 1;\"/><path class=\"point\" transform=\"translate(269.34,198.23)\" d=\"M7.59,0A7.59,7.59 0 1,1 0,-7.59A7.59,7.59 0 0,1 7.59,0Z\" style=\"opacity: 0.7; stroke-width: 1px; fill: rgb(99, 110, 250); fill-opacity: 1; stroke: rgb(255, 255, 255); stroke-opacity: 1;\"/><path class=\"point\" transform=\"translate(341.62,140.17)\" d=\"M7.41,0A7.41,7.41 0 1,1 0,-7.41A7.41,7.41 0 0,1 7.41,0Z\" style=\"opacity: 0.7; stroke-width: 1px; fill: rgb(99, 110, 250); fill-opacity: 1; stroke: rgb(255, 255, 255); stroke-opacity: 1;\"/><path class=\"point\" transform=\"translate(203.48,239.48)\" d=\"M7.38,0A7.38,7.38 0 1,1 0,-7.38A7.38,7.38 0 0,1 7.38,0Z\" style=\"opacity: 0.7; stroke-width: 1px; fill: rgb(99, 110, 250); fill-opacity: 1; stroke: rgb(255, 255, 255); stroke-opacity: 1;\"/><path class=\"point\" transform=\"translate(391.42,164.46)\" d=\"M7.15,0A7.15,7.15 0 1,1 0,-7.15A7.15,7.15 0 0,1 7.15,0Z\" style=\"opacity: 0.7; stroke-width: 1px; fill: rgb(99, 110, 250); fill-opacity: 1; stroke: rgb(255, 255, 255); stroke-opacity: 1;\"/><path class=\"point\" transform=\"translate(447.64,237.19)\" d=\"M6.94,0A6.94,6.94 0 1,1 0,-6.94A6.94,6.94 0 0,1 6.94,0Z\" style=\"opacity: 0.7; stroke-width: 1px; fill: rgb(99, 110, 250); fill-opacity: 1; stroke: rgb(255, 255, 255); stroke-opacity: 1;\"/><path class=\"point\" transform=\"translate(333.59,167.2)\" d=\"M6.83,0A6.83,6.83 0 1,1 0,-6.83A6.83,6.83 0 0,1 6.83,0Z\" style=\"opacity: 0.7; stroke-width: 1px; fill: rgb(99, 110, 250); fill-opacity: 1; stroke: rgb(255, 255, 255); stroke-opacity: 1;\"/><path class=\"point\" transform=\"translate(433.18,188.08)\" d=\"M6.7,0A6.7,6.7 0 1,1 0,-6.7A6.7,6.7 0 0,1 6.7,0Z\" style=\"opacity: 0.7; stroke-width: 1px; fill: rgb(99, 110, 250); fill-opacity: 1; stroke: rgb(255, 255, 255); stroke-opacity: 1;\"/><path class=\"point\" transform=\"translate(499.04,158.31)\" d=\"M6.7,0A6.7,6.7 0 1,1 0,-6.7A6.7,6.7 0 0,1 6.7,0Z\" style=\"opacity: 0.7; stroke-width: 1px; fill: rgb(99, 110, 250); fill-opacity: 1; stroke: rgb(255, 255, 255); stroke-opacity: 1;\"/><path class=\"point\" transform=\"translate(325.56,190.6)\" d=\"M6.63,0A6.63,6.63 0 1,1 0,-6.63A6.63,6.63 0 0,1 6.63,0Z\" style=\"opacity: 0.7; stroke-width: 1px; fill: rgb(99, 110, 250); fill-opacity: 1; stroke: rgb(255, 255, 255); stroke-opacity: 1;\"/><path class=\"point\" transform=\"translate(320.74,241.78)\" d=\"M6.45,0A6.45,6.45 0 1,1 0,-6.45A6.45,6.45 0 0,1 6.45,0Z\" style=\"opacity: 0.7; stroke-width: 1px; fill: rgb(99, 110, 250); fill-opacity: 1; stroke: rgb(255, 255, 255); stroke-opacity: 1;\"/><path class=\"point\" transform=\"translate(438,197.56)\" d=\"M6.38,0A6.38,6.38 0 1,1 0,-6.38A6.38,6.38 0 0,1 6.38,0Z\" style=\"opacity: 0.7; stroke-width: 1px; fill: rgb(99, 110, 250); fill-opacity: 1; stroke: rgb(255, 255, 255); stroke-opacity: 1;\"/><path class=\"point\" transform=\"translate(267.73,178.01)\" d=\"M6.04,0A6.04,6.04 0 1,1 0,-6.04A6.04,6.04 0 0,1 6.04,0Z\" style=\"opacity: 0.7; stroke-width: 1px; fill: rgb(99, 110, 250); fill-opacity: 1; stroke: rgb(255, 255, 255); stroke-opacity: 1;\"/><path class=\"point\" transform=\"translate(338.41,162.9)\" d=\"M6,0A6,6 0 1,1 0,-6A6,6 0 0,1 6,0Z\" style=\"opacity: 0.7; stroke-width: 1px; fill: rgb(99, 110, 250); fill-opacity: 1; stroke: rgb(255, 255, 255); stroke-opacity: 1;\"/><path class=\"point\" transform=\"translate(270.94,182.23)\" d=\"M5.95,0A5.95,5.95 0 1,1 0,-5.95A5.95,5.95 0 0,1 5.95,0Z\" style=\"opacity: 0.7; stroke-width: 1px; fill: rgb(99, 110, 250); fill-opacity: 1; stroke: rgb(255, 255, 255); stroke-opacity: 1;\"/><path class=\"point\" transform=\"translate(94.25,165.94)\" d=\"M5.93,0A5.93,5.93 0 1,1 0,-5.93A5.93,5.93 0 0,1 5.93,0Z\" style=\"opacity: 0.7; stroke-width: 1px; fill: rgb(99, 110, 250); fill-opacity: 1; stroke: rgb(255, 255, 255); stroke-opacity: 1;\"/><path class=\"point\" transform=\"translate(343.23,157.5)\" d=\"M5.91,0A5.91,5.91 0 1,1 0,-5.91A5.91,5.91 0 0,1 5.91,0Z\" style=\"opacity: 0.7; stroke-width: 1px; fill: rgb(99, 110, 250); fill-opacity: 1; stroke: rgb(255, 255, 255); stroke-opacity: 1;\"/><path class=\"point\" transform=\"translate(201.87,240.74)\" d=\"M5.64,0A5.64,5.64 0 1,1 0,-5.64A5.64,5.64 0 0,1 5.64,0Z\" style=\"opacity: 0.7; stroke-width: 1px; fill: rgb(99, 110, 250); fill-opacity: 1; stroke: rgb(255, 255, 255); stroke-opacity: 1;\"/><path class=\"point\" transform=\"translate(444.42,211.19)\" d=\"M5.58,0A5.58,5.58 0 1,1 0,-5.58A5.58,5.58 0 0,1 5.58,0Z\" style=\"opacity: 0.7; stroke-width: 1px; fill: rgb(99, 110, 250); fill-opacity: 1; stroke: rgb(255, 255, 255); stroke-opacity: 1;\"/><path class=\"point\" transform=\"translate(505.46,138.69)\" d=\"M5.52,0A5.52,5.52 0 1,1 0,-5.52A5.52,5.52 0 0,1 5.52,0Z\" style=\"opacity: 0.7; stroke-width: 1px; fill: rgb(99, 110, 250); fill-opacity: 1; stroke: rgb(255, 255, 255); stroke-opacity: 1;\"/><path class=\"point\" transform=\"translate(211.51,264.96)\" d=\"M5.47,0A5.47,5.47 0 1,1 0,-5.47A5.47,5.47 0 0,1 5.47,0Z\" style=\"opacity: 0.7; stroke-width: 1px; fill: rgb(99, 110, 250); fill-opacity: 1; stroke: rgb(255, 255, 255); stroke-opacity: 1;\"/><path class=\"point\" transform=\"translate(266.13,161.79)\" d=\"M5.45,0A5.45,5.45 0 1,1 0,-5.45A5.45,5.45 0 0,1 5.45,0Z\" style=\"opacity: 0.7; stroke-width: 1px; fill: rgb(99, 110, 250); fill-opacity: 1; stroke: rgb(255, 255, 255); stroke-opacity: 1;\"/><path class=\"point\" transform=\"translate(340.01,142.39)\" d=\"M5.41,0A5.41,5.41 0 1,1 0,-5.41A5.41,5.41 0 0,1 5.41,0Z\" style=\"opacity: 0.7; stroke-width: 1px; fill: rgb(99, 110, 250); fill-opacity: 1; stroke: rgb(255, 255, 255); stroke-opacity: 1;\"/><path class=\"point\" transform=\"translate(336.8,186.31)\" d=\"M5.36,0A5.36,5.36 0 1,1 0,-5.36A5.36,5.36 0 0,1 5.36,0Z\" style=\"opacity: 0.7; stroke-width: 1px; fill: rgb(99, 110, 250); fill-opacity: 1; stroke: rgb(255, 255, 255); stroke-opacity: 1;\"/><path class=\"point\" transform=\"translate(309.5,225.19)\" d=\"M5.33,0A5.33,5.33 0 1,1 0,-5.33A5.33,5.33 0 0,1 5.33,0Z\" style=\"opacity: 0.7; stroke-width: 1px; fill: rgb(99, 110, 250); fill-opacity: 1; stroke: rgb(255, 255, 255); stroke-opacity: 1;\"/><path class=\"point\" transform=\"translate(97.46,219.49)\" d=\"M5.32,0A5.32,5.32 0 1,1 0,-5.32A5.32,5.32 0 0,1 5.32,0Z\" style=\"opacity: 0.7; stroke-width: 1px; fill: rgb(99, 110, 250); fill-opacity: 1; stroke: rgb(255, 255, 255); stroke-opacity: 1;\"/><path class=\"point\" transform=\"translate(462.09,168.38)\" d=\"M5.22,0A5.22,5.22 0 1,1 0,-5.22A5.22,5.22 0 0,1 5.22,0Z\" style=\"opacity: 0.7; stroke-width: 1px; fill: rgb(99, 110, 250); fill-opacity: 1; stroke: rgb(255, 255, 255); stroke-opacity: 1;\"/><path class=\"point\" transform=\"translate(323.95,210.23)\" d=\"M5.07,0A5.07,5.07 0 1,1 0,-5.07A5.07,5.07 0 0,1 5.07,0Z\" style=\"opacity: 0.7; stroke-width: 1px; fill: rgb(99, 110, 250); fill-opacity: 1; stroke: rgb(255, 255, 255); stroke-opacity: 1;\"/><path class=\"point\" transform=\"translate(123.17,88.32)\" d=\"M5.03,0A5.03,5.03 0 1,1 0,-5.03A5.03,5.03 0 0,1 5.03,0Z\" style=\"opacity: 0.7; stroke-width: 1px; fill: rgb(99, 110, 250); fill-opacity: 1; stroke: rgb(255, 255, 255); stroke-opacity: 1;\"/><path class=\"point\" transform=\"translate(384.99,214.67)\" d=\"M5.03,0A5.03,5.03 0 1,1 0,-5.03A5.03,5.03 0 0,1 5.03,0Z\" style=\"opacity: 0.7; stroke-width: 1px; fill: rgb(99, 110, 250); fill-opacity: 1; stroke: rgb(255, 255, 255); stroke-opacity: 1;\"/><path class=\"point\" transform=\"translate(474.94,94.1)\" d=\"M4.9,0A4.9,4.9 0 1,1 0,-4.9A4.9,4.9 0 0,1 4.9,0Z\" style=\"opacity: 0.7; stroke-width: 1px; fill: rgb(99, 110, 250); fill-opacity: 1; stroke: rgb(255, 255, 255); stroke-opacity: 1;\"/><path class=\"point\" transform=\"translate(446.03,250.96)\" d=\"M4.85,0A4.85,4.85 0 1,1 0,-4.85A4.85,4.85 0 0,1 4.85,0Z\" style=\"opacity: 0.7; stroke-width: 1px; fill: rgb(99, 110, 250); fill-opacity: 1; stroke: rgb(255, 255, 255); stroke-opacity: 1;\"/><path class=\"point\" transform=\"translate(198.66,190.9)\" d=\"M4.85,0A4.85,4.85 0 1,1 0,-4.85A4.85,4.85 0 0,1 4.85,0Z\" style=\"opacity: 0.7; stroke-width: 1px; fill: rgb(99, 110, 250); fill-opacity: 1; stroke: rgb(255, 255, 255); stroke-opacity: 1;\"/><path class=\"point\" transform=\"translate(134.41,183.42)\" d=\"M4.84,0A4.84,4.84 0 1,1 0,-4.84A4.84,4.84 0 0,1 4.84,0Z\" style=\"opacity: 0.7; stroke-width: 1px; fill: rgb(99, 110, 250); fill-opacity: 1; stroke: rgb(255, 255, 255); stroke-opacity: 1;\"/><path class=\"point\" transform=\"translate(458.88,188.83)\" d=\"M4.83,0A4.83,4.83 0 1,1 0,-4.83A4.83,4.83 0 0,1 4.83,0Z\" style=\"opacity: 0.7; stroke-width: 1px; fill: rgb(99, 110, 250); fill-opacity: 1; stroke: rgb(255, 255, 255); stroke-opacity: 1;\"/><path class=\"point\" transform=\"translate(304.68,182.46)\" d=\"M4.74,0A4.74,4.74 0 1,1 0,-4.74A4.74,4.74 0 0,1 4.74,0Z\" style=\"opacity: 0.7; stroke-width: 1px; fill: rgb(99, 110, 250); fill-opacity: 1; stroke: rgb(255, 255, 255); stroke-opacity: 1;\"/><path class=\"point\" transform=\"translate(127.98,98.99)\" d=\"M4.72,0A4.72,4.72 0 1,1 0,-4.72A4.72,4.72 0 0,1 4.72,0Z\" style=\"opacity: 0.7; stroke-width: 1px; fill: rgb(99, 110, 250); fill-opacity: 1; stroke: rgb(255, 255, 255); stroke-opacity: 1;\"/><path class=\"point\" transform=\"translate(426.75,170.16)\" d=\"M4.71,0A4.71,4.71 0 1,1 0,-4.71A4.71,4.71 0 0,1 4.71,0Z\" style=\"opacity: 0.7; stroke-width: 1px; fill: rgb(99, 110, 250); fill-opacity: 1; stroke: rgb(255, 255, 255); stroke-opacity: 1;\"/><path class=\"point\" transform=\"translate(89.43,140.46)\" d=\"M4.71,0A4.71,4.71 0 1,1 0,-4.71A4.71,4.71 0 0,1 4.71,0Z\" style=\"opacity: 0.7; stroke-width: 1px; fill: rgb(99, 110, 250); fill-opacity: 1; stroke: rgb(255, 255, 255); stroke-opacity: 1;\"/><path class=\"point\" transform=\"translate(99.07,246.08)\" d=\"M4.68,0A4.68,4.68 0 1,1 0,-4.68A4.68,4.68 0 0,1 4.68,0Z\" style=\"opacity: 0.7; stroke-width: 1px; fill: rgb(99, 110, 250); fill-opacity: 1; stroke: rgb(255, 255, 255); stroke-opacity: 1;\"/><path class=\"point\" transform=\"translate(103.89,214.3)\" d=\"M4.67,0A4.67,4.67 0 1,1 0,-4.67A4.67,4.67 0 0,1 4.67,0Z\" style=\"opacity: 0.7; stroke-width: 1px; fill: rgb(99, 110, 250); fill-opacity: 1; stroke: rgb(255, 255, 255); stroke-opacity: 1;\"/><path class=\"point\" transform=\"translate(468.52,131.5)\" d=\"M4.67,0A4.67,4.67 0 1,1 0,-4.67A4.67,4.67 0 0,1 4.67,0Z\" style=\"opacity: 0.7; stroke-width: 1px; fill: rgb(99, 110, 250); fill-opacity: 1; stroke: rgb(255, 255, 255); stroke-opacity: 1;\"/><path class=\"point\" transform=\"translate(442.82,198.75)\" d=\"M4.66,0A4.66,4.66 0 1,1 0,-4.66A4.66,4.66 0 0,1 4.66,0Z\" style=\"opacity: 0.7; stroke-width: 1px; fill: rgb(99, 110, 250); fill-opacity: 1; stroke: rgb(255, 255, 255); stroke-opacity: 1;\"/><path class=\"point\" transform=\"translate(367.32,192.82)\" d=\"M4.64,0A4.64,4.64 0 1,1 0,-4.64A4.64,4.64 0 0,1 4.64,0Z\" style=\"opacity: 0.7; stroke-width: 1px; fill: rgb(99, 110, 250); fill-opacity: 1; stroke: rgb(255, 255, 255); stroke-opacity: 1;\"/><path class=\"point\" transform=\"translate(503.86,129.58)\" d=\"M4.57,0A4.57,4.57 0 1,1 0,-4.57A4.57,4.57 0 0,1 4.57,0Z\" style=\"opacity: 0.7; stroke-width: 1px; fill: rgb(99, 110, 250); fill-opacity: 1; stroke: rgb(255, 255, 255); stroke-opacity: 1;\"/><path class=\"point\" transform=\"translate(389.81,169.12)\" d=\"M4.5,0A4.5,4.5 0 1,1 0,-4.5A4.5,4.5 0 0,1 4.5,0Z\" style=\"opacity: 0.7; stroke-width: 1px; fill: rgb(99, 110, 250); fill-opacity: 1; stroke: rgb(255, 255, 255); stroke-opacity: 1;\"/><path class=\"point\" transform=\"translate(95.86,181.64)\" d=\"M4.48,0A4.48,4.48 0 1,1 0,-4.48A4.48,4.48 0 0,1 4.48,0Z\" style=\"opacity: 0.7; stroke-width: 1px; fill: rgb(99, 110, 250); fill-opacity: 1; stroke: rgb(255, 255, 255); stroke-opacity: 1;\"/><path class=\"point\" transform=\"translate(180.99,112.17)\" d=\"M4.46,0A4.46,4.46 0 1,1 0,-4.46A4.46,4.46 0 0,1 4.46,0Z\" style=\"opacity: 0.7; stroke-width: 1px; fill: rgb(99, 110, 250); fill-opacity: 1; stroke: rgb(255, 255, 255); stroke-opacity: 1;\"/><path class=\"point\" transform=\"translate(500.64,146.83)\" d=\"M4.38,0A4.38,4.38 0 1,1 0,-4.38A4.38,4.38 0 0,1 4.38,0Z\" style=\"opacity: 0.7; stroke-width: 1px; fill: rgb(99, 110, 250); fill-opacity: 1; stroke: rgb(255, 255, 255); stroke-opacity: 1;\"/><path class=\"point\" transform=\"translate(492.61,135.35)\" d=\"M4.3,0A4.3,4.3 0 1,1 0,-4.3A4.3,4.3 0 0,1 4.3,0Z\" style=\"opacity: 0.7; stroke-width: 1px; fill: rgb(99, 110, 250); fill-opacity: 1; stroke: rgb(255, 255, 255); stroke-opacity: 1;\"/><path class=\"point\" transform=\"translate(465.31,147.35)\" d=\"M4.26,0A4.26,4.26 0 1,1 0,-4.26A4.26,4.26 0 0,1 4.26,0Z\" style=\"opacity: 0.7; stroke-width: 1px; fill: rgb(99, 110, 250); fill-opacity: 1; stroke: rgb(255, 255, 255); stroke-opacity: 1;\"/><path class=\"point\" transform=\"translate(397.84,132.46)\" d=\"M4.26,0A4.26,4.26 0 1,1 0,-4.26A4.26,4.26 0 0,1 4.26,0Z\" style=\"opacity: 0.7; stroke-width: 1px; fill: rgb(99, 110, 250); fill-opacity: 1; stroke: rgb(255, 255, 255); stroke-opacity: 1;\"/><path class=\"point\" transform=\"translate(87.83,108.32)\" d=\"M4.2,0A4.2,4.2 0 1,1 0,-4.2A4.2,4.2 0 0,1 4.2,0Z\" style=\"opacity: 0.7; stroke-width: 1px; fill: rgb(99, 110, 250); fill-opacity: 1; stroke: rgb(255, 255, 255); stroke-opacity: 1;\"/><path class=\"point\" transform=\"translate(455.67,186.09)\" d=\"M4.19,0A4.19,4.19 0 1,1 0,-4.19A4.19,4.19 0 0,1 4.19,0Z\" style=\"opacity: 0.7; stroke-width: 1px; fill: rgb(99, 110, 250); fill-opacity: 1; stroke: rgb(255, 255, 255); stroke-opacity: 1;\"/><path class=\"point\" transform=\"translate(482.97,72.77)\" d=\"M4.16,0A4.16,4.16 0 1,1 0,-4.16A4.16,4.16 0 0,1 4.16,0Z\" style=\"opacity: 0.7; stroke-width: 1px; fill: rgb(99, 110, 250); fill-opacity: 1; stroke: rgb(255, 255, 255); stroke-opacity: 1;\"/><path class=\"point\" transform=\"translate(454.06,200.97)\" d=\"M4.15,0A4.15,4.15 0 1,1 0,-4.15A4.15,4.15 0 0,1 4.15,0Z\" style=\"opacity: 0.7; stroke-width: 1px; fill: rgb(99, 110, 250); fill-opacity: 1; stroke: rgb(255, 255, 255); stroke-opacity: 1;\"/><path class=\"point\" transform=\"translate(275.76,166.75)\" d=\"M4.1,0A4.1,4.1 0 1,1 0,-4.1A4.1,4.1 0 0,1 4.1,0Z\" style=\"opacity: 0.7; stroke-width: 1px; fill: rgb(99, 110, 250); fill-opacity: 1; stroke: rgb(255, 255, 255); stroke-opacity: 1;\"/><path class=\"point\" transform=\"translate(137.62,162.9)\" d=\"M4.06,0A4.06,4.06 0 1,1 0,-4.06A4.06,4.06 0 0,1 4.06,0Z\" style=\"opacity: 0.7; stroke-width: 1px; fill: rgb(99, 110, 250); fill-opacity: 1; stroke: rgb(255, 255, 255); stroke-opacity: 1;\"/><path class=\"point\" transform=\"translate(57.31,201.79)\" d=\"M4.05,0A4.05,4.05 0 1,1 0,-4.05A4.05,4.05 0 0,1 4.05,0Z\" style=\"opacity: 0.7; stroke-width: 1px; fill: rgb(99, 110, 250); fill-opacity: 1; stroke: rgb(255, 255, 255); stroke-opacity: 1;\"/><path class=\"point\" transform=\"translate(113.53,132.09)\" d=\"M4.05,0A4.05,4.05 0 1,1 0,-4.05A4.05,4.05 0 0,1 4.05,0Z\" style=\"opacity: 0.7; stroke-width: 1px; fill: rgb(99, 110, 250); fill-opacity: 1; stroke: rgb(255, 255, 255); stroke-opacity: 1;\"/><path class=\"point\" transform=\"translate(328.77,159.79)\" d=\"M3.88,0A3.88,3.88 0 1,1 0,-3.88A3.88,3.88 0 0,1 3.88,0Z\" style=\"opacity: 0.7; stroke-width: 1px; fill: rgb(99, 110, 250); fill-opacity: 1; stroke: rgb(255, 255, 255); stroke-opacity: 1;\"/><path class=\"point\" transform=\"translate(436.39,149.57)\" d=\"M3.86,0A3.86,3.86 0 1,1 0,-3.86A3.86,3.86 0 0,1 3.86,0Z\" style=\"opacity: 0.7; stroke-width: 1px; fill: rgb(99, 110, 250); fill-opacity: 1; stroke: rgb(255, 255, 255); stroke-opacity: 1;\"/><path class=\"point\" transform=\"translate(216.33,223.71)\" d=\"M3.81,0A3.81,3.81 0 1,1 0,-3.81A3.81,3.81 0 0,1 3.81,0Z\" style=\"opacity: 0.7; stroke-width: 1px; fill: rgb(99, 110, 250); fill-opacity: 1; stroke: rgb(255, 255, 255); stroke-opacity: 1;\"/><path class=\"point\" transform=\"translate(187.42,89.14)\" d=\"M3.77,0A3.77,3.77 0 1,1 0,-3.77A3.77,3.77 0 0,1 3.77,0Z\" style=\"opacity: 0.7; stroke-width: 1px; fill: rgb(99, 110, 250); fill-opacity: 1; stroke: rgb(255, 255, 255); stroke-opacity: 1;\"/><path class=\"point\" transform=\"translate(370.53,259.63)\" d=\"M3.77,0A3.77,3.77 0 1,1 0,-3.77A3.77,3.77 0 0,1 3.77,0Z\" style=\"opacity: 0.7; stroke-width: 1px; fill: rgb(99, 110, 250); fill-opacity: 1; stroke: rgb(255, 255, 255); stroke-opacity: 1;\"/><path class=\"point\" transform=\"translate(36.43,148.83)\" d=\"M3.77,0A3.77,3.77 0 1,1 0,-3.77A3.77,3.77 0 0,1 3.77,0Z\" style=\"opacity: 0.7; stroke-width: 1px; fill: rgb(99, 110, 250); fill-opacity: 1; stroke: rgb(255, 255, 255); stroke-opacity: 1;\"/><path class=\"point\" transform=\"translate(158.5,190.16)\" d=\"M3.74,0A3.74,3.74 0 1,1 0,-3.74A3.74,3.74 0 0,1 3.74,0Z\" style=\"opacity: 0.7; stroke-width: 1px; fill: rgb(99, 110, 250); fill-opacity: 1; stroke: rgb(255, 255, 255); stroke-opacity: 1;\"/><path class=\"point\" transform=\"translate(307.89,221.93)\" d=\"M3.69,0A3.69,3.69 0 1,1 0,-3.69A3.69,3.69 0 0,1 3.69,0Z\" style=\"opacity: 0.7; stroke-width: 1px; fill: rgb(99, 110, 250); fill-opacity: 1; stroke: rgb(255, 255, 255); stroke-opacity: 1;\"/><path class=\"point\" transform=\"translate(121.56,80.25)\" d=\"M3.68,0A3.68,3.68 0 1,1 0,-3.68A3.68,3.68 0 0,1 3.68,0Z\" style=\"opacity: 0.7; stroke-width: 1px; fill: rgb(99, 110, 250); fill-opacity: 1; stroke: rgb(255, 255, 255); stroke-opacity: 1;\"/><path class=\"point\" transform=\"translate(92.65,150.02)\" d=\"M3.68,0A3.68,3.68 0 1,1 0,-3.68A3.68,3.68 0 0,1 3.68,0Z\" style=\"opacity: 0.7; stroke-width: 1px; fill: rgb(99, 110, 250); fill-opacity: 1; stroke: rgb(255, 255, 255); stroke-opacity: 1;\"/><path class=\"point\" transform=\"translate(62.13,156.53)\" d=\"M3.66,0A3.66,3.66 0 1,1 0,-3.66A3.66,3.66 0 0,1 3.66,0Z\" style=\"opacity: 0.7; stroke-width: 1px; fill: rgb(99, 110, 250); fill-opacity: 1; stroke: rgb(255, 255, 255); stroke-opacity: 1;\"/><path class=\"point\" transform=\"translate(420.33,146.68)\" d=\"M3.65,0A3.65,3.65 0 1,1 0,-3.65A3.65,3.65 0 0,1 3.65,0Z\" style=\"opacity: 0.7; stroke-width: 1px; fill: rgb(99, 110, 250); fill-opacity: 1; stroke: rgb(255, 255, 255); stroke-opacity: 1;\"/><path class=\"point\" transform=\"translate(473.34,97.65)\" d=\"M3.62,0A3.62,3.62 0 1,1 0,-3.62A3.62,3.62 0 0,1 3.62,0Z\" style=\"opacity: 0.7; stroke-width: 1px; fill: rgb(99, 110, 250); fill-opacity: 1; stroke: rgb(255, 255, 255); stroke-opacity: 1;\"/><path class=\"point\" transform=\"translate(471.73,107.5)\" d=\"M3.57,0A3.57,3.57 0 1,1 0,-3.57A3.57,3.57 0 0,1 3.57,0Z\" style=\"opacity: 0.7; stroke-width: 1px; fill: rgb(99, 110, 250); fill-opacity: 1; stroke: rgb(255, 255, 255); stroke-opacity: 1;\"/><path class=\"point\" transform=\"translate(41.24,136.98)\" d=\"M3.55,0A3.55,3.55 0 1,1 0,-3.55A3.55,3.55 0 0,1 3.55,0Z\" style=\"opacity: 0.7; stroke-width: 1px; fill: rgb(99, 110, 250); fill-opacity: 1; stroke: rgb(255, 255, 255); stroke-opacity: 1;\"/><path class=\"point\" transform=\"translate(376.96,226.38)\" d=\"M3.53,0A3.53,3.53 0 1,1 0,-3.53A3.53,3.53 0 0,1 3.53,0Z\" style=\"opacity: 0.7; stroke-width: 1px; fill: rgb(99, 110, 250); fill-opacity: 1; stroke: rgb(255, 255, 255); stroke-opacity: 1;\"/><path class=\"point\" transform=\"translate(42.85,146.83)\" d=\"M3.52,0A3.52,3.52 0 1,1 0,-3.52A3.52,3.52 0 0,1 3.52,0Z\" style=\"opacity: 0.7; stroke-width: 1px; fill: rgb(99, 110, 250); fill-opacity: 1; stroke: rgb(255, 255, 255); stroke-opacity: 1;\"/><path class=\"point\" transform=\"translate(156.9,168.61)\" d=\"M3.52,0A3.52,3.52 0 1,1 0,-3.52A3.52,3.52 0 0,1 3.52,0Z\" style=\"opacity: 0.7; stroke-width: 1px; fill: rgb(99, 110, 250); fill-opacity: 1; stroke: rgb(255, 255, 255); stroke-opacity: 1;\"/><path class=\"point\" transform=\"translate(434.79,137.2)\" d=\"M3.51,0A3.51,3.51 0 1,1 0,-3.51A3.51,3.51 0 0,1 3.51,0Z\" style=\"opacity: 0.7; stroke-width: 1px; fill: rgb(99, 110, 250); fill-opacity: 1; stroke: rgb(255, 255, 255); stroke-opacity: 1;\"/><path class=\"point\" transform=\"translate(91.04,152.76)\" d=\"M3.5,0A3.5,3.5 0 1,1 0,-3.5A3.5,3.5 0 0,1 3.5,0Z\" style=\"opacity: 0.7; stroke-width: 1px; fill: rgb(99, 110, 250); fill-opacity: 1; stroke: rgb(255, 255, 255); stroke-opacity: 1;\"/><path class=\"point\" transform=\"translate(246.85,94.77)\" d=\"M3.5,0A3.5,3.5 0 1,1 0,-3.5A3.5,3.5 0 0,1 3.5,0Z\" style=\"opacity: 0.7; stroke-width: 1px; fill: rgb(99, 110, 250); fill-opacity: 1; stroke: rgb(255, 255, 255); stroke-opacity: 1;\"/><path class=\"point\" transform=\"translate(272.55,172.38)\" d=\"M3.47,0A3.47,3.47 0 1,1 0,-3.47A3.47,3.47 0 0,1 3.47,0Z\" style=\"opacity: 0.7; stroke-width: 1px; fill: rgb(99, 110, 250); fill-opacity: 1; stroke: rgb(255, 255, 255); stroke-opacity: 1;\"/><path class=\"point\" transform=\"translate(81.4,144.17)\" d=\"M3.47,0A3.47,3.47 0 1,1 0,-3.47A3.47,3.47 0 0,1 3.47,0Z\" style=\"opacity: 0.7; stroke-width: 1px; fill: rgb(99, 110, 250); fill-opacity: 1; stroke: rgb(255, 255, 255); stroke-opacity: 1;\"/><path class=\"point\" transform=\"translate(131.2,155.35)\" d=\"M3.45,0A3.45,3.45 0 1,1 0,-3.45A3.45,3.45 0 0,1 3.45,0Z\" style=\"opacity: 0.7; stroke-width: 1px; fill: rgb(99, 110, 250); fill-opacity: 1; stroke: rgb(255, 255, 255); stroke-opacity: 1;\"/><path class=\"point\" transform=\"translate(296.64,75.73)\" d=\"M3.45,0A3.45,3.45 0 1,1 0,-3.45A3.45,3.45 0 0,1 3.45,0Z\" style=\"opacity: 0.7; stroke-width: 1px; fill: rgb(99, 110, 250); fill-opacity: 1; stroke: rgb(255, 255, 255); stroke-opacity: 1;\"/><path class=\"point\" transform=\"translate(197.05,166.75)\" d=\"M3.44,0A3.44,3.44 0 1,1 0,-3.44A3.44,3.44 0 0,1 3.44,0Z\" style=\"opacity: 0.7; stroke-width: 1px; fill: rgb(99, 110, 250); fill-opacity: 1; stroke: rgb(255, 255, 255); stroke-opacity: 1;\"/><path class=\"point\" transform=\"translate(373.75,242.15)\" d=\"M3.42,0A3.42,3.42 0 1,1 0,-3.42A3.42,3.42 0 0,1 3.42,0Z\" style=\"opacity: 0.7; stroke-width: 1px; fill: rgb(99, 110, 250); fill-opacity: 1; stroke: rgb(255, 255, 255); stroke-opacity: 1;\"/><path class=\"point\" transform=\"translate(70.16,138.39)\" d=\"M3.42,0A3.42,3.42 0 1,1 0,-3.42A3.42,3.42 0 0,1 3.42,0Z\" style=\"opacity: 0.7; stroke-width: 1px; fill: rgb(99, 110, 250); fill-opacity: 1; stroke: rgb(255, 255, 255); stroke-opacity: 1;\"/><path class=\"point\" transform=\"translate(346.44,109.28)\" d=\"M3.42,0A3.42,3.42 0 1,1 0,-3.42A3.42,3.42 0 0,1 3.42,0Z\" style=\"opacity: 0.7; stroke-width: 1px; fill: rgb(99, 110, 250); fill-opacity: 1; stroke: rgb(255, 255, 255); stroke-opacity: 1;\"/><path class=\"point\" transform=\"translate(375.35,228.82)\" d=\"M3.36,0A3.36,3.36 0 1,1 0,-3.36A3.36,3.36 0 0,1 3.36,0Z\" style=\"opacity: 0.7; stroke-width: 1px; fill: rgb(99, 110, 250); fill-opacity: 1; stroke: rgb(255, 255, 255); stroke-opacity: 1;\"/><path class=\"point\" transform=\"translate(177.78,169.5)\" d=\"M3.34,0A3.34,3.34 0 1,1 0,-3.34A3.34,3.34 0 0,1 3.34,0Z\" style=\"opacity: 0.7; stroke-width: 1px; fill: rgb(99, 110, 250); fill-opacity: 1; stroke: rgb(255, 255, 255); stroke-opacity: 1;\"/><path class=\"point\" transform=\"translate(108.71,147.57)\" d=\"M3.33,0A3.33,3.33 0 1,1 0,-3.33A3.33,3.33 0 0,1 3.33,0Z\" style=\"opacity: 0.7; stroke-width: 1px; fill: rgb(99, 110, 250); fill-opacity: 1; stroke: rgb(255, 255, 255); stroke-opacity: 1;\"/><path class=\"point\" transform=\"translate(311.1,236)\" d=\"M3.31,0A3.31,3.31 0 1,1 0,-3.31A3.31,3.31 0 0,1 3.31,0Z\" style=\"opacity: 0.7; stroke-width: 1px; fill: rgb(99, 110, 250); fill-opacity: 1; stroke: rgb(255, 255, 255); stroke-opacity: 1;\"/><path class=\"point\" transform=\"translate(484.58,77.66)\" d=\"M3.31,0A3.31,3.31 0 1,1 0,-3.31A3.31,3.31 0 0,1 3.31,0Z\" style=\"opacity: 0.7; stroke-width: 1px; fill: rgb(99, 110, 250); fill-opacity: 1; stroke: rgb(255, 255, 255); stroke-opacity: 1;\"/><path class=\"point\" transform=\"translate(306.28,206.67)\" d=\"M3.3,0A3.3,3.3 0 1,1 0,-3.3A3.3,3.3 0 0,1 3.3,0Z\" style=\"opacity: 0.7; stroke-width: 1px; fill: rgb(99, 110, 250); fill-opacity: 1; stroke: rgb(255, 255, 255); stroke-opacity: 1;\"/><path class=\"point\" transform=\"translate(497.43,145.65)\" d=\"M3.3,0A3.3,3.3 0 1,1 0,-3.3A3.3,3.3 0 0,1 3.3,0Z\" style=\"opacity: 0.7; stroke-width: 1px; fill: rgb(99, 110, 250); fill-opacity: 1; stroke: rgb(255, 255, 255); stroke-opacity: 1;\"/><path class=\"point\" transform=\"translate(348.05,116.54)\" d=\"M3.29,0A3.29,3.29 0 1,1 0,-3.29A3.29,3.29 0 0,1 3.29,0Z\" style=\"opacity: 0.7; stroke-width: 1px; fill: rgb(99, 110, 250); fill-opacity: 1; stroke: rgb(255, 255, 255); stroke-opacity: 1;\"/><path class=\"point\" transform=\"translate(466.91,130.02)\" d=\"M3.28,0A3.28,3.28 0 1,1 0,-3.28A3.28,3.28 0 0,1 3.28,0Z\" style=\"opacity: 0.7; stroke-width: 1px; fill: rgb(99, 110, 250); fill-opacity: 1; stroke: rgb(255, 255, 255); stroke-opacity: 1;\"/><path class=\"point\" transform=\"translate(245.24,101.95)\" d=\"M3.25,0A3.25,3.25 0 1,1 0,-3.25A3.25,3.25 0 0,1 3.25,0Z\" style=\"opacity: 0.7; stroke-width: 1px; fill: rgb(99, 110, 250); fill-opacity: 1; stroke: rgb(255, 255, 255); stroke-opacity: 1;\"/><path class=\"point\" transform=\"translate(351.26,121.58)\" d=\"M3.23,0A3.23,3.23 0 1,1 0,-3.23A3.23,3.23 0 0,1 3.23,0Z\" style=\"opacity: 0.7; stroke-width: 1px; fill: rgb(99, 110, 250); fill-opacity: 1; stroke: rgb(255, 255, 255); stroke-opacity: 1;\"/><path class=\"point\" transform=\"translate(139.23,140.09)\" d=\"M3.21,0A3.21,3.21 0 1,1 0,-3.21A3.21,3.21 0 0,1 3.21,0Z\" style=\"opacity: 0.7; stroke-width: 1px; fill: rgb(99, 110, 250); fill-opacity: 1; stroke: rgb(255, 255, 255); stroke-opacity: 1;\"/><path class=\"point\" transform=\"translate(285.4,54.62)\" d=\"M3.18,0A3.18,3.18 0 1,1 0,-3.18A3.18,3.18 0 0,1 3.18,0Z\" style=\"opacity: 0.7; stroke-width: 1px; fill: rgb(99, 110, 250); fill-opacity: 1; stroke: rgb(255, 255, 255); stroke-opacity: 1;\"/><path class=\"point\" transform=\"translate(401.05,100.17)\" d=\"M3.17,0A3.17,3.17 0 1,1 0,-3.17A3.17,3.17 0 0,1 3.17,0Z\" style=\"opacity: 0.7; stroke-width: 1px; fill: rgb(99, 110, 250); fill-opacity: 1; stroke: rgb(255, 255, 255); stroke-opacity: 1;\"/><path class=\"point\" transform=\"translate(381.78,223.04)\" d=\"M3.15,0A3.15,3.15 0 1,1 0,-3.15A3.15,3.15 0 0,1 3.15,0Z\" style=\"opacity: 0.7; stroke-width: 1px; fill: rgb(99, 110, 250); fill-opacity: 1; stroke: rgb(255, 255, 255); stroke-opacity: 1;\"/><path class=\"point\" transform=\"translate(394.63,135.13)\" d=\"M3.15,0A3.15,3.15 0 1,1 0,-3.15A3.15,3.15 0 0,1 3.15,0Z\" style=\"opacity: 0.7; stroke-width: 1px; fill: rgb(99, 110, 250); fill-opacity: 1; stroke: rgb(255, 255, 255); stroke-opacity: 1;\"/><path class=\"point\" transform=\"translate(224.36,182.01)\" d=\"M3.15,0A3.15,3.15 0 1,1 0,-3.15A3.15,3.15 0 0,1 3.15,0Z\" style=\"opacity: 0.7; stroke-width: 1px; fill: rgb(99, 110, 250); fill-opacity: 1; stroke: rgb(255, 255, 255); stroke-opacity: 1;\"/><path class=\"point\" transform=\"translate(393.02,150.68)\" d=\"M3.13,0A3.13,3.13 0 1,1 0,-3.13A3.13,3.13 0 0,1 3.13,0Z\" style=\"opacity: 0.7; stroke-width: 1px; fill: rgb(99, 110, 250); fill-opacity: 1; stroke: rgb(255, 255, 255); stroke-opacity: 1;\"/><path class=\"point\" transform=\"translate(299.86,121.8)\" d=\"M3.12,0A3.12,3.12 0 1,1 0,-3.12A3.12,3.12 0 0,1 3.12,0Z\" style=\"opacity: 0.7; stroke-width: 1px; fill: rgb(99, 110, 250); fill-opacity: 1; stroke: rgb(255, 255, 255); stroke-opacity: 1;\"/><path class=\"point\" transform=\"translate(450.85,216.01)\" d=\"M3.12,0A3.12,3.12 0 1,1 0,-3.12A3.12,3.12 0 0,1 3.12,0Z\" style=\"opacity: 0.7; stroke-width: 1px; fill: rgb(99, 110, 250); fill-opacity: 1; stroke: rgb(255, 255, 255); stroke-opacity: 1;\"/><path class=\"point\" transform=\"translate(280.58,87.43)\" d=\"M3.09,0A3.09,3.09 0 1,1 0,-3.09A3.09,3.09 0 0,1 3.09,0Z\" style=\"opacity: 0.7; stroke-width: 1px; fill: rgb(99, 110, 250); fill-opacity: 1; stroke: rgb(255, 255, 255); stroke-opacity: 1;\"/><path class=\"point\" transform=\"translate(221.15,191.49)\" d=\"M3.08,0A3.08,3.08 0 1,1 0,-3.08A3.08,3.08 0 0,1 3.08,0Z\" style=\"opacity: 0.7; stroke-width: 1px; fill: rgb(99, 110, 250); fill-opacity: 1; stroke: rgb(255, 255, 255); stroke-opacity: 1;\"/><path class=\"point\" transform=\"translate(282.19,99.36)\" d=\"M3.08,0A3.08,3.08 0 1,1 0,-3.08A3.08,3.08 0 0,1 3.08,0Z\" style=\"opacity: 0.7; stroke-width: 1px; fill: rgb(99, 110, 250); fill-opacity: 1; stroke: rgb(255, 255, 255); stroke-opacity: 1;\"/><path class=\"point\" transform=\"translate(368.93,217.04)\" d=\"M3.06,0A3.06,3.06 0 1,1 0,-3.06A3.06,3.06 0 0,1 3.06,0Z\" style=\"opacity: 0.7; stroke-width: 1px; fill: rgb(99, 110, 250); fill-opacity: 1; stroke: rgb(255, 255, 255); stroke-opacity: 1;\"/><path class=\"point\" transform=\"translate(491.01,114.32)\" d=\"M3.04,0A3.04,3.04 0 1,1 0,-3.04A3.04,3.04 0 0,1 3.04,0Z\" style=\"opacity: 0.7; stroke-width: 1px; fill: rgb(99, 110, 250); fill-opacity: 1; stroke: rgb(255, 255, 255); stroke-opacity: 1;\"/><path class=\"point\" transform=\"translate(365.72,168.31)\" d=\"M3.04,0A3.04,3.04 0 1,1 0,-3.04A3.04,3.04 0 0,1 3.04,0Z\" style=\"opacity: 0.7; stroke-width: 1px; fill: rgb(99, 110, 250); fill-opacity: 1; stroke: rgb(255, 255, 255); stroke-opacity: 1;\"/><path class=\"point\" transform=\"translate(83.01,154.02)\" d=\"M3.03,0A3.03,3.03 0 1,1 0,-3.03A3.03,3.03 0 0,1 3.03,0Z\" style=\"opacity: 0.7; stroke-width: 1px; fill: rgb(99, 110, 250); fill-opacity: 1; stroke: rgb(255, 255, 255); stroke-opacity: 1;\"/><path class=\"point\" transform=\"translate(405.87,60.7)\" d=\"M3.02,0A3.02,3.02 0 1,1 0,-3.02A3.02,3.02 0 0,1 3.02,0Z\" style=\"opacity: 0.7; stroke-width: 1px; fill: rgb(99, 110, 250); fill-opacity: 1; stroke: rgb(255, 255, 255); stroke-opacity: 1;\"/><path class=\"point\" transform=\"translate(169.75,149.72)\" d=\"M3.02,0A3.02,3.02 0 1,1 0,-3.02A3.02,3.02 0 0,1 3.02,0Z\" style=\"opacity: 0.7; stroke-width: 1px; fill: rgb(99, 110, 250); fill-opacity: 1; stroke: rgb(255, 255, 255); stroke-opacity: 1;\"/><path class=\"point\" transform=\"translate(359.29,85.29)\" d=\"M3.02,0A3.02,3.02 0 1,1 0,-3.02A3.02,3.02 0 0,1 3.02,0Z\" style=\"opacity: 0.7; stroke-width: 1px; fill: rgb(99, 110, 250); fill-opacity: 1; stroke: rgb(255, 255, 255); stroke-opacity: 1;\"/><path class=\"point\" transform=\"translate(489.4,99.51)\" d=\"M3.02,0A3.02,3.02 0 1,1 0,-3.02A3.02,3.02 0 0,1 3.02,0Z\" style=\"opacity: 0.7; stroke-width: 1px; fill: rgb(99, 110, 250); fill-opacity: 1; stroke: rgb(255, 255, 255); stroke-opacity: 1;\"/><path class=\"point\" transform=\"translate(407.48,68.84)\" d=\"M2.97,0A2.97,2.97 0 1,1 0,-2.97A2.97,2.97 0 0,1 2.97,0Z\" style=\"opacity: 0.7; stroke-width: 1px; fill: rgb(99, 110, 250); fill-opacity: 1; stroke: rgb(255, 255, 255); stroke-opacity: 1;\"/><path class=\"point\" transform=\"translate(140.83,165.72)\" d=\"M2.97,0A2.97,2.97 0 1,1 0,-2.97A2.97,2.97 0 0,1 2.97,0Z\" style=\"opacity: 0.7; stroke-width: 1px; fill: rgb(99, 110, 250); fill-opacity: 1; stroke: rgb(255, 255, 255); stroke-opacity: 1;\"/><path class=\"point\" transform=\"translate(58.91,170.83)\" d=\"M2.96,0A2.96,2.96 0 1,1 0,-2.96A2.96,2.96 0 0,1 2.96,0Z\" style=\"opacity: 0.7; stroke-width: 1px; fill: rgb(99, 110, 250); fill-opacity: 1; stroke: rgb(255, 255, 255); stroke-opacity: 1;\"/><path class=\"point\" transform=\"translate(39.64,104.17)\" d=\"M2.96,0A2.96,2.96 0 1,1 0,-2.96A2.96,2.96 0 0,1 2.96,0Z\" style=\"opacity: 0.7; stroke-width: 1px; fill: rgb(99, 110, 250); fill-opacity: 1; stroke: rgb(255, 255, 255); stroke-opacity: 1;\"/><path class=\"point\" transform=\"translate(421.94,132.61)\" d=\"M2.94,0A2.94,2.94 0 1,1 0,-2.94A2.94,2.94 0 0,1 2.94,0Z\" style=\"opacity: 0.7; stroke-width: 1px; fill: rgb(99, 110, 250); fill-opacity: 1; stroke: rgb(255, 255, 255); stroke-opacity: 1;\"/><path class=\"point\" transform=\"translate(176.17,130.46)\" d=\"M2.94,0A2.94,2.94 0 1,1 0,-2.94A2.94,2.94 0 0,1 2.94,0Z\" style=\"opacity: 0.7; stroke-width: 1px; fill: rgb(99, 110, 250); fill-opacity: 1; stroke: rgb(255, 255, 255); stroke-opacity: 1;\"/><path class=\"point\" transform=\"translate(148.87,97.51)\" d=\"M2.94,0A2.94,2.94 0 1,1 0,-2.94A2.94,2.94 0 0,1 2.94,0Z\" style=\"opacity: 0.7; stroke-width: 1px; fill: rgb(99, 110, 250); fill-opacity: 1; stroke: rgb(255, 255, 255); stroke-opacity: 1;\"/><path class=\"point\" transform=\"translate(34.82,112.17)\" d=\"M2.94,0A2.94,2.94 0 1,1 0,-2.94A2.94,2.94 0 0,1 2.94,0Z\" style=\"opacity: 0.7; stroke-width: 1px; fill: rgb(99, 110, 250); fill-opacity: 1; stroke: rgb(255, 255, 255); stroke-opacity: 1;\"/><path class=\"point\" transform=\"translate(164.93,192.9)\" d=\"M2.94,0A2.94,2.94 0 1,1 0,-2.94A2.94,2.94 0 0,1 2.94,0Z\" style=\"opacity: 0.7; stroke-width: 1px; fill: rgb(99, 110, 250); fill-opacity: 1; stroke: rgb(255, 255, 255); stroke-opacity: 1;\"/><path class=\"point\" transform=\"translate(352.86,134.39)\" d=\"M2.93,0A2.93,2.93 0 1,1 0,-2.93A2.93,2.93 0 0,1 2.93,0Z\" style=\"opacity: 0.7; stroke-width: 1px; fill: rgb(99, 110, 250); fill-opacity: 1; stroke: rgb(255, 255, 255); stroke-opacity: 1;\"/><path class=\"point\" transform=\"translate(55.7,149.13)\" d=\"M2.93,0A2.93,2.93 0 1,1 0,-2.93A2.93,2.93 0 0,1 2.93,0Z\" style=\"opacity: 0.7; stroke-width: 1px; fill: rgb(99, 110, 250); fill-opacity: 1; stroke: rgb(255, 255, 255); stroke-opacity: 1;\"/><path class=\"point\" transform=\"translate(413.9,65.14)\" d=\"M2.92,0A2.92,2.92 0 1,1 0,-2.92A2.92,2.92 0 0,1 2.92,0Z\" style=\"opacity: 0.7; stroke-width: 1px; fill: rgb(99, 110, 250); fill-opacity: 1; stroke: rgb(255, 255, 255); stroke-opacity: 1;\"/><path class=\"point\" transform=\"translate(460.49,165.05)\" d=\"M2.92,0A2.92,2.92 0 1,1 0,-2.92A2.92,2.92 0 0,1 2.92,0Z\" style=\"opacity: 0.7; stroke-width: 1px; fill: rgb(99, 110, 250); fill-opacity: 1; stroke: rgb(255, 255, 255); stroke-opacity: 1;\"/><path class=\"point\" transform=\"translate(303.07,171.94)\" d=\"M2.91,0A2.91,2.91 0 1,1 0,-2.91A2.91,2.91 0 0,1 2.91,0Z\" style=\"opacity: 0.7; stroke-width: 1px; fill: rgb(99, 110, 250); fill-opacity: 1; stroke: rgb(255, 255, 255); stroke-opacity: 1;\"/><path class=\"point\" transform=\"translate(264.52,149.28)\" d=\"M2.89,0A2.89,2.89 0 1,1 0,-2.89A2.89,2.89 0 0,1 2.89,0Z\" style=\"opacity: 0.7; stroke-width: 1px; fill: rgb(99, 110, 250); fill-opacity: 1; stroke: rgb(255, 255, 255); stroke-opacity: 1;\"/><path class=\"point\" transform=\"translate(248.46,68.62)\" d=\"M2.88,0A2.88,2.88 0 1,1 0,-2.88A2.88,2.88 0 0,1 2.88,0Z\" style=\"opacity: 0.7; stroke-width: 1px; fill: rgb(99, 110, 250); fill-opacity: 1; stroke: rgb(255, 255, 255); stroke-opacity: 1;\"/><path class=\"point\" transform=\"translate(250.06,93.43)\" d=\"M2.86,0A2.86,2.86 0 1,1 0,-2.86A2.86,2.86 0 0,1 2.86,0Z\" style=\"opacity: 0.7; stroke-width: 1px; fill: rgb(99, 110, 250); fill-opacity: 1; stroke: rgb(255, 255, 255); stroke-opacity: 1;\"/><path class=\"point\" transform=\"translate(184.2,134.69)\" d=\"M2.84,0A2.84,2.84 0 1,1 0,-2.84A2.84,2.84 0 0,1 2.84,0Z\" style=\"opacity: 0.7; stroke-width: 1px; fill: rgb(99, 110, 250); fill-opacity: 1; stroke: rgb(255, 255, 255); stroke-opacity: 1;\"/><path class=\"point\" transform=\"translate(278.98,128.54)\" d=\"M2.84,0A2.84,2.84 0 1,1 0,-2.84A2.84,2.84 0 0,1 2.84,0Z\" style=\"opacity: 0.7; stroke-width: 1px; fill: rgb(99, 110, 250); fill-opacity: 1; stroke: rgb(255, 255, 255); stroke-opacity: 1;\"/><path class=\"point\" transform=\"translate(33.21,90.17)\" d=\"M2.83,0A2.83,2.83 0 1,1 0,-2.83A2.83,2.83 0 0,1 2.83,0Z\" style=\"opacity: 0.7; stroke-width: 1px; fill: rgb(99, 110, 250); fill-opacity: 1; stroke: rgb(255, 255, 255); stroke-opacity: 1;\"/><path class=\"point\" transform=\"translate(185.81,102.54)\" d=\"M2.83,0A2.83,2.83 0 1,1 0,-2.83A2.83,2.83 0 0,1 2.83,0Z\" style=\"opacity: 0.7; stroke-width: 1px; fill: rgb(99, 110, 250); fill-opacity: 1; stroke: rgb(255, 255, 255); stroke-opacity: 1;\"/><path class=\"point\" transform=\"translate(155.29,152.31)\" d=\"M2.82,0A2.82,2.82 0 1,1 0,-2.82A2.82,2.82 0 0,1 2.82,0Z\" style=\"opacity: 0.7; stroke-width: 1px; fill: rgb(99, 110, 250); fill-opacity: 1; stroke: rgb(255, 255, 255); stroke-opacity: 1;\"/><path class=\"point\" transform=\"translate(63.73,204.6)\" d=\"M2.82,0A2.82,2.82 0 1,1 0,-2.82A2.82,2.82 0 0,1 2.82,0Z\" style=\"opacity: 0.7; stroke-width: 1px; fill: rgb(99, 110, 250); fill-opacity: 1; stroke: rgb(255, 255, 255); stroke-opacity: 1;\"/><path class=\"point\" transform=\"translate(253.27,121.43)\" d=\"M2.81,0A2.81,2.81 0 1,1 0,-2.81A2.81,2.81 0 0,1 2.81,0Z\" style=\"opacity: 0.7; stroke-width: 1px; fill: rgb(99, 110, 250); fill-opacity: 1; stroke: rgb(255, 255, 255); stroke-opacity: 1;\"/><path class=\"point\" transform=\"translate(425.15,134.98)\" d=\"M2.8,0A2.8,2.8 0 1,1 0,-2.8A2.8,2.8 0 0,1 2.8,0Z\" style=\"opacity: 0.7; stroke-width: 1px; fill: rgb(99, 110, 250); fill-opacity: 1; stroke: rgb(255, 255, 255); stroke-opacity: 1;\"/><path class=\"point\" transform=\"translate(152.08,117.21)\" d=\"M2.78,0A2.78,2.78 0 1,1 0,-2.78A2.78,2.78 0 0,1 2.78,0Z\" style=\"opacity: 0.7; stroke-width: 1px; fill: rgb(99, 110, 250); fill-opacity: 1; stroke: rgb(255, 255, 255); stroke-opacity: 1;\"/><path class=\"point\" transform=\"translate(116.74,132.46)\" d=\"M2.77,0A2.77,2.77 0 1,1 0,-2.77A2.77,2.77 0 0,1 2.77,0Z\" style=\"opacity: 0.7; stroke-width: 1px; fill: rgb(99, 110, 250); fill-opacity: 1; stroke: rgb(255, 255, 255); stroke-opacity: 1;\"/><path class=\"point\" transform=\"translate(486.19,103.43)\" d=\"M2.71,0A2.71,2.71 0 1,1 0,-2.71A2.71,2.71 0 0,1 2.71,0Z\" style=\"opacity: 0.7; stroke-width: 1px; fill: rgb(99, 110, 250); fill-opacity: 1; stroke: rgb(255, 255, 255); stroke-opacity: 1;\"/><path class=\"point\" transform=\"translate(295.04,50.03)\" d=\"M2.69,0A2.69,2.69 0 1,1 0,-2.69A2.69,2.69 0 0,1 2.69,0Z\" style=\"opacity: 0.7; stroke-width: 1px; fill: rgb(99, 110, 250); fill-opacity: 1; stroke: rgb(255, 255, 255); stroke-opacity: 1;\"/><path class=\"point\" transform=\"translate(364.11,148.09)\" d=\"M2.68,0A2.68,2.68 0 1,1 0,-2.68A2.68,2.68 0 0,1 2.68,0Z\" style=\"opacity: 0.7; stroke-width: 1px; fill: rgb(99, 110, 250); fill-opacity: 1; stroke: rgb(255, 255, 255); stroke-opacity: 1;\"/><path class=\"point\" transform=\"translate(441.21,208.38)\" d=\"M2.68,0A2.68,2.68 0 1,1 0,-2.68A2.68,2.68 0 0,1 2.68,0Z\" style=\"opacity: 0.7; stroke-width: 1px; fill: rgb(99, 110, 250); fill-opacity: 1; stroke: rgb(255, 255, 255); stroke-opacity: 1;\"/><path class=\"point\" transform=\"translate(349.65,96.91)\" d=\"M2.67,0A2.67,2.67 0 1,1 0,-2.67A2.67,2.67 0 0,1 2.67,0Z\" style=\"opacity: 0.7; stroke-width: 1px; fill: rgb(99, 110, 250); fill-opacity: 1; stroke: rgb(255, 255, 255); stroke-opacity: 1;\"/><path class=\"point\" transform=\"translate(78.19,111.65)\" d=\"M2.65,0A2.65,2.65 0 1,1 0,-2.65A2.65,2.65 0 0,1 2.65,0Z\" style=\"opacity: 0.7; stroke-width: 1px; fill: rgb(99, 110, 250); fill-opacity: 1; stroke: rgb(255, 255, 255); stroke-opacity: 1;\"/><path class=\"point\" transform=\"translate(166.53,186.31)\" d=\"M2.64,0A2.64,2.64 0 1,1 0,-2.64A2.64,2.64 0 0,1 2.64,0Z\" style=\"opacity: 0.7; stroke-width: 1px; fill: rgb(99, 110, 250); fill-opacity: 1; stroke: rgb(255, 255, 255); stroke-opacity: 1;\"/><path class=\"point\" transform=\"translate(136.02,163.72)\" d=\"M2.6,0A2.6,2.6 0 1,1 0,-2.6A2.6,2.6 0 0,1 2.6,0Z\" style=\"opacity: 0.7; stroke-width: 1px; fill: rgb(99, 110, 250); fill-opacity: 1; stroke: rgb(255, 255, 255); stroke-opacity: 1;\"/><path class=\"point\" transform=\"translate(111.92,114.39)\" d=\"M2.58,0A2.58,2.58 0 1,1 0,-2.58A2.58,2.58 0 0,1 2.58,0Z\" style=\"opacity: 0.7; stroke-width: 1px; fill: rgb(99, 110, 250); fill-opacity: 1; stroke: rgb(255, 255, 255); stroke-opacity: 1;\"/><path class=\"point\" transform=\"translate(206.69,217.41)\" d=\"M2.56,0A2.56,2.56 0 1,1 0,-2.56A2.56,2.56 0 0,1 2.56,0Z\" style=\"opacity: 0.7; stroke-width: 1px; fill: rgb(99, 110, 250); fill-opacity: 1; stroke: rgb(255, 255, 255); stroke-opacity: 1;\"/><path class=\"point\" transform=\"translate(261.31,133.28)\" d=\"M2.56,0A2.56,2.56 0 1,1 0,-2.56A2.56,2.56 0 0,1 2.56,0Z\" style=\"opacity: 0.7; stroke-width: 1px; fill: rgb(99, 110, 250); fill-opacity: 1; stroke: rgb(255, 255, 255); stroke-opacity: 1;\"/><path class=\"point\" transform=\"translate(242.03,121.21)\" d=\"M2.55,0A2.55,2.55 0 1,1 0,-2.55A2.55,2.55 0 0,1 2.55,0Z\" style=\"opacity: 0.7; stroke-width: 1px; fill: rgb(99, 110, 250); fill-opacity: 1; stroke: rgb(255, 255, 255); stroke-opacity: 1;\"/><path class=\"point\" transform=\"translate(110.31,120.1)\" d=\"M2.54,0A2.54,2.54 0 1,1 0,-2.54A2.54,2.54 0 0,1 2.54,0Z\" style=\"opacity: 0.7; stroke-width: 1px; fill: rgb(99, 110, 250); fill-opacity: 1; stroke: rgb(255, 255, 255); stroke-opacity: 1;\"/><path class=\"point\" transform=\"translate(214.72,229.93)\" d=\"M2.53,0A2.53,2.53 0 1,1 0,-2.53A2.53,2.53 0 0,1 2.53,0Z\" style=\"opacity: 0.7; stroke-width: 1px; fill: rgb(99, 110, 250); fill-opacity: 1; stroke: rgb(255, 255, 255); stroke-opacity: 1;\"/><path class=\"point\" transform=\"translate(277.37,114.69)\" d=\"M2.52,0A2.52,2.52 0 1,1 0,-2.52A2.52,2.52 0 0,1 2.52,0Z\" style=\"opacity: 0.7; stroke-width: 1px; fill: rgb(99, 110, 250); fill-opacity: 1; stroke: rgb(255, 255, 255); stroke-opacity: 1;\"/><path class=\"point\" transform=\"translate(118.35,107.95)\" d=\"M2.51,0A2.51,2.51 0 1,1 0,-2.51A2.51,2.51 0 0,1 2.51,0Z\" style=\"opacity: 0.7; stroke-width: 1px; fill: rgb(99, 110, 250); fill-opacity: 1; stroke: rgb(255, 255, 255); stroke-opacity: 1;\"/><path class=\"point\" transform=\"translate(495.83,122.47)\" d=\"M2.49,0A2.49,2.49 0 1,1 0,-2.49A2.49,2.49 0 0,1 2.49,0Z\" style=\"opacity: 0.7; stroke-width: 1px; fill: rgb(99, 110, 250); fill-opacity: 1; stroke: rgb(255, 255, 255); stroke-opacity: 1;\"/><path class=\"point\" transform=\"translate(415.51,71.81)\" d=\"M2.47,0A2.47,2.47 0 1,1 0,-2.47A2.47,2.47 0 0,1 2.47,0Z\" style=\"opacity: 0.7; stroke-width: 1px; fill: rgb(99, 110, 250); fill-opacity: 1; stroke: rgb(255, 255, 255); stroke-opacity: 1;\"/><path class=\"point\" transform=\"translate(132.8,151.2)\" d=\"M2.46,0A2.46,2.46 0 1,1 0,-2.46A2.46,2.46 0 0,1 2.46,0Z\" style=\"opacity: 0.7; stroke-width: 1px; fill: rgb(99, 110, 250); fill-opacity: 1; stroke: rgb(255, 255, 255); stroke-opacity: 1;\"/><path class=\"point\" transform=\"translate(86.22,107.73)\" d=\"M2.46,0A2.46,2.46 0 1,1 0,-2.46A2.46,2.46 0 0,1 2.46,0Z\" style=\"opacity: 0.7; stroke-width: 1px; fill: rgb(99, 110, 250); fill-opacity: 1; stroke: rgb(255, 255, 255); stroke-opacity: 1;\"/><path class=\"point\" transform=\"translate(378.57,234.97)\" d=\"M2.46,0A2.46,2.46 0 1,1 0,-2.46A2.46,2.46 0 0,1 2.46,0Z\" style=\"opacity: 0.7; stroke-width: 1px; fill: rgb(99, 110, 250); fill-opacity: 1; stroke: rgb(255, 255, 255); stroke-opacity: 1;\"/><path class=\"point\" transform=\"translate(68.55,147.87)\" d=\"M2.45,0A2.45,2.45 0 1,1 0,-2.45A2.45,2.45 0 0,1 2.45,0Z\" style=\"opacity: 0.7; stroke-width: 1px; fill: rgb(99, 110, 250); fill-opacity: 1; stroke: rgb(255, 255, 255); stroke-opacity: 1;\"/><path class=\"point\" transform=\"translate(283.79,69.81)\" d=\"M2.45,0A2.45,2.45 0 1,1 0,-2.45A2.45,2.45 0 0,1 2.45,0Z\" style=\"opacity: 0.7; stroke-width: 1px; fill: rgb(99, 110, 250); fill-opacity: 1; stroke: rgb(255, 255, 255); stroke-opacity: 1;\"/><path class=\"point\" transform=\"translate(291.83,19)\" d=\"M2.44,0A2.44,2.44 0 1,1 0,-2.44A2.44,2.44 0 0,1 2.44,0Z\" style=\"opacity: 0.7; stroke-width: 1px; fill: rgb(99, 110, 250); fill-opacity: 1; stroke: rgb(255, 255, 255); stroke-opacity: 1;\"/><path class=\"point\" transform=\"translate(52.49,165.79)\" d=\"M2.41,0A2.41,2.41 0 1,1 0,-2.41A2.41,2.41 0 0,1 2.41,0Z\" style=\"opacity: 0.7; stroke-width: 1px; fill: rgb(99, 110, 250); fill-opacity: 1; stroke: rgb(255, 255, 255); stroke-opacity: 1;\"/><path class=\"point\" transform=\"translate(287.01,47.51)\" d=\"M2.41,0A2.41,2.41 0 1,1 0,-2.41A2.41,2.41 0 0,1 2.41,0Z\" style=\"opacity: 0.7; stroke-width: 1px; fill: rgb(99, 110, 250); fill-opacity: 1; stroke: rgb(255, 255, 255); stroke-opacity: 1;\"/><path class=\"point\" transform=\"translate(193.84,113.21)\" d=\"M2.39,0A2.39,2.39 0 1,1 0,-2.39A2.39,2.39 0 0,1 2.39,0Z\" style=\"opacity: 0.7; stroke-width: 1px; fill: rgb(99, 110, 250); fill-opacity: 1; stroke: rgb(255, 255, 255); stroke-opacity: 1;\"/><path class=\"point\" transform=\"translate(354.47,95.43)\" d=\"M2.37,0A2.37,2.37 0 1,1 0,-2.37A2.37,2.37 0 0,1 2.37,0Z\" style=\"opacity: 0.7; stroke-width: 1px; fill: rgb(99, 110, 250); fill-opacity: 1; stroke: rgb(255, 255, 255); stroke-opacity: 1;\"/><path class=\"point\" transform=\"translate(476.55,93.51)\" d=\"M2.35,0A2.35,2.35 0 1,1 0,-2.35A2.35,2.35 0 0,1 2.35,0Z\" style=\"opacity: 0.7; stroke-width: 1px; fill: rgb(99, 110, 250); fill-opacity: 1; stroke: rgb(255, 255, 255); stroke-opacity: 1;\"/><path class=\"point\" transform=\"translate(79.8,117.58)\" d=\"M2.34,0A2.34,2.34 0 1,1 0,-2.34A2.34,2.34 0 0,1 2.34,0Z\" style=\"opacity: 0.7; stroke-width: 1px; fill: rgb(99, 110, 250); fill-opacity: 1; stroke: rgb(255, 255, 255); stroke-opacity: 1;\"/><path class=\"point\" transform=\"translate(478.16,66.77)\" d=\"M2.33,0A2.33,2.33 0 1,1 0,-2.33A2.33,2.33 0 0,1 2.33,0Z\" style=\"opacity: 0.7; stroke-width: 1px; fill: rgb(99, 110, 250); fill-opacity: 1; stroke: rgb(255, 255, 255); stroke-opacity: 1;\"/><path class=\"point\" transform=\"translate(153.68,127.06)\" d=\"M2.32,0A2.32,2.32 0 1,1 0,-2.32A2.32,2.32 0 0,1 2.32,0Z\" style=\"opacity: 0.7; stroke-width: 1px; fill: rgb(99, 110, 250); fill-opacity: 1; stroke: rgb(255, 255, 255); stroke-opacity: 1;\"/><path class=\"point\" transform=\"translate(417.12,105.8)\" d=\"M2.31,0A2.31,2.31 0 1,1 0,-2.31A2.31,2.31 0 0,1 2.31,0Z\" style=\"opacity: 0.7; stroke-width: 1px; fill: rgb(99, 110, 250); fill-opacity: 1; stroke: rgb(255, 255, 255); stroke-opacity: 1;\"/><path class=\"point\" transform=\"translate(298.25,87.36)\" d=\"M2.28,0A2.28,2.28 0 1,1 0,-2.28A2.28,2.28 0 0,1 2.28,0Z\" style=\"opacity: 0.7; stroke-width: 1px; fill: rgb(99, 110, 250); fill-opacity: 1; stroke: rgb(255, 255, 255); stroke-opacity: 1;\"/><path class=\"point\" transform=\"translate(428.36,138.39)\" d=\"M2.27,0A2.27,2.27 0 1,1 0,-2.27A2.27,2.27 0 0,1 2.27,0Z\" style=\"opacity: 0.7; stroke-width: 1px; fill: rgb(99, 110, 250); fill-opacity: 1; stroke: rgb(255, 255, 255); stroke-opacity: 1;\"/><path class=\"point\" transform=\"translate(251.67,80.32)\" d=\"M2.26,0A2.26,2.26 0 1,1 0,-2.26A2.26,2.26 0 0,1 2.26,0Z\" style=\"opacity: 0.7; stroke-width: 1px; fill: rgb(99, 110, 250); fill-opacity: 1; stroke: rgb(255, 255, 255); stroke-opacity: 1;\"/><path class=\"point\" transform=\"translate(161.72,208.08)\" d=\"M2.25,0A2.25,2.25 0 1,1 0,-2.25A2.25,2.25 0 0,1 2.25,0Z\" style=\"opacity: 0.7; stroke-width: 1px; fill: rgb(99, 110, 250); fill-opacity: 1; stroke: rgb(255, 255, 255); stroke-opacity: 1;\"/><path class=\"point\" transform=\"translate(147.26,75.88)\" d=\"M2.25,0A2.25,2.25 0 1,1 0,-2.25A2.25,2.25 0 0,1 2.25,0Z\" style=\"opacity: 0.7; stroke-width: 1px; fill: rgb(99, 110, 250); fill-opacity: 1; stroke: rgb(255, 255, 255); stroke-opacity: 1;\"/><path class=\"point\" transform=\"translate(240.42,87.8)\" d=\"M2.24,0A2.24,2.24 0 1,1 0,-2.24A2.24,2.24 0 0,1 2.24,0Z\" style=\"opacity: 0.7; stroke-width: 1px; fill: rgb(99, 110, 250); fill-opacity: 1; stroke: rgb(255, 255, 255); stroke-opacity: 1;\"/><path class=\"point\" transform=\"translate(150.47,85.73)\" d=\"M2.23,0A2.23,2.23 0 1,1 0,-2.23A2.23,2.23 0 0,1 2.23,0Z\" style=\"opacity: 0.7; stroke-width: 1px; fill: rgb(99, 110, 250); fill-opacity: 1; stroke: rgb(255, 255, 255); stroke-opacity: 1;\"/><path class=\"point\" transform=\"translate(409.09,47.59)\" d=\"M2.22,0A2.22,2.22 0 1,1 0,-2.22A2.22,2.22 0 0,1 2.22,0Z\" style=\"opacity: 0.7; stroke-width: 1px; fill: rgb(99, 110, 250); fill-opacity: 1; stroke: rgb(255, 255, 255); stroke-opacity: 1;\"/><path class=\"point\" transform=\"translate(190.63,92.69)\" d=\"M2.19,0A2.19,2.19 0 1,1 0,-2.19A2.19,2.19 0 0,1 2.19,0Z\" style=\"opacity: 0.7; stroke-width: 1px; fill: rgb(99, 110, 250); fill-opacity: 1; stroke: rgb(255, 255, 255); stroke-opacity: 1;\"/><path class=\"point\" transform=\"translate(84.61,112.99)\" d=\"M2.19,0A2.19,2.19 0 1,1 0,-2.19A2.19,2.19 0 0,1 2.19,0Z\" style=\"opacity: 0.7; stroke-width: 1px; fill: rgb(99, 110, 250); fill-opacity: 1; stroke: rgb(255, 255, 255); stroke-opacity: 1;\"/><path class=\"point\" transform=\"translate(160.11,205.64)\" d=\"M2.16,0A2.16,2.16 0 1,1 0,-2.16A2.16,2.16 0 0,1 2.16,0Z\" style=\"opacity: 0.7; stroke-width: 1px; fill: rgb(99, 110, 250); fill-opacity: 1; stroke: rgb(255, 255, 255); stroke-opacity: 1;\"/><path class=\"point\" transform=\"translate(256.49,116.54)\" d=\"M2.15,0A2.15,2.15 0 1,1 0,-2.15A2.15,2.15 0 0,1 2.15,0Z\" style=\"opacity: 0.7; stroke-width: 1px; fill: rgb(99, 110, 250); fill-opacity: 1; stroke: rgb(255, 255, 255); stroke-opacity: 1;\"/><path class=\"point\" transform=\"translate(115.13,128.83)\" d=\"M2.15,0A2.15,2.15 0 1,1 0,-2.15A2.15,2.15 0 0,1 2.15,0Z\" style=\"opacity: 0.7; stroke-width: 1px; fill: rgb(99, 110, 250); fill-opacity: 1; stroke: rgb(255, 255, 255); stroke-opacity: 1;\"/><path class=\"point\" transform=\"translate(50.88,166.75)\" d=\"M2.14,0A2.14,2.14 0 1,1 0,-2.14A2.14,2.14 0 0,1 2.14,0Z\" style=\"opacity: 0.7; stroke-width: 1px; fill: rgb(99, 110, 250); fill-opacity: 1; stroke: rgb(255, 255, 255); stroke-opacity: 1;\"/><path class=\"point\" transform=\"translate(31.61,99.06)\" d=\"M2.11,0A2.11,2.11 0 1,1 0,-2.11A2.11,2.11 0 0,1 2.11,0Z\" style=\"opacity: 0.7; stroke-width: 1px; fill: rgb(99, 110, 250); fill-opacity: 1; stroke: rgb(255, 255, 255); stroke-opacity: 1;\"/><path class=\"point\" transform=\"translate(227.57,126.69)\" d=\"M2.09,0A2.09,2.09 0 1,1 0,-2.09A2.09,2.09 0 0,1 2.09,0Z\" style=\"opacity: 0.7; stroke-width: 1px; fill: rgb(99, 110, 250); fill-opacity: 1; stroke: rgb(255, 255, 255); stroke-opacity: 1;\"/><path class=\"point\" transform=\"translate(254.88,91.66)\" d=\"M2.08,0A2.08,2.08 0 1,1 0,-2.08A2.08,2.08 0 0,1 2.08,0Z\" style=\"opacity: 0.7; stroke-width: 1px; fill: rgb(99, 110, 250); fill-opacity: 1; stroke: rgb(255, 255, 255); stroke-opacity: 1;\"/><path class=\"point\" transform=\"translate(76.58,144.02)\" d=\"M2.07,0A2.07,2.07 0 1,1 0,-2.07A2.07,2.07 0 0,1 2.07,0Z\" style=\"opacity: 0.7; stroke-width: 1px; fill: rgb(99, 110, 250); fill-opacity: 1; stroke: rgb(255, 255, 255); stroke-opacity: 1;\"/><path class=\"point\" transform=\"translate(44.46,112.47)\" d=\"M2.06,0A2.06,2.06 0 1,1 0,-2.06A2.06,2.06 0 0,1 2.06,0Z\" style=\"opacity: 0.7; stroke-width: 1px; fill: rgb(99, 110, 250); fill-opacity: 1; stroke: rgb(255, 255, 255); stroke-opacity: 1;\"/><path class=\"point\" transform=\"translate(65.34,139.13)\" d=\"M2.05,0A2.05,2.05 0 1,1 0,-2.05A2.05,2.05 0 0,1 2.05,0Z\" style=\"opacity: 0.7; stroke-width: 1px; fill: rgb(99, 110, 250); fill-opacity: 1; stroke: rgb(255, 255, 255); stroke-opacity: 1;\"/><path class=\"point\" transform=\"translate(481.37,70.7)\" d=\"M2.03,0A2.03,2.03 0 1,1 0,-2.03A2.03,2.03 0 0,1 2.03,0Z\" style=\"opacity: 0.7; stroke-width: 1px; fill: rgb(99, 110, 250); fill-opacity: 1; stroke: rgb(255, 255, 255); stroke-opacity: 1;\"/><path class=\"point\" transform=\"translate(344.83,127.65)\" d=\"M2.02,0A2.02,2.02 0 1,1 0,-2.02A2.02,2.02 0 0,1 2.02,0Z\" style=\"opacity: 0.7; stroke-width: 1px; fill: rgb(99, 110, 250); fill-opacity: 1; stroke: rgb(255, 255, 255); stroke-opacity: 1;\"/><path class=\"point\" transform=\"translate(105.5,181.79)\" d=\"M2,0A2,2 0 1,1 0,-2A2,2 0 0,1 2,0Z\" style=\"opacity: 0.7; stroke-width: 1px; fill: rgb(99, 110, 250); fill-opacity: 1; stroke: rgb(255, 255, 255); stroke-opacity: 1;\"/><path class=\"point\" transform=\"translate(449.24,206.23)\" d=\"M1.99,0A1.99,1.99 0 1,1 0,-1.99A1.99,1.99 0 0,1 1.99,0Z\" style=\"opacity: 0.7; stroke-width: 1px; fill: rgb(99, 110, 250); fill-opacity: 1; stroke: rgb(255, 255, 255); stroke-opacity: 1;\"/><path class=\"point\" transform=\"translate(237.21,83.43)\" d=\"M1.98,0A1.98,1.98 0 1,1 0,-1.98A1.98,1.98 0 0,1 1.98,0Z\" style=\"opacity: 0.7; stroke-width: 1px; fill: rgb(99, 110, 250); fill-opacity: 1; stroke: rgb(255, 255, 255); stroke-opacity: 1;\"/><path class=\"point\" transform=\"translate(174.57,126.98)\" d=\"M1.91,0A1.91,1.91 0 1,1 0,-1.91A1.91,1.91 0 0,1 1.91,0Z\" style=\"opacity: 0.7; stroke-width: 1px; fill: rgb(99, 110, 250); fill-opacity: 1; stroke: rgb(255, 255, 255); stroke-opacity: 1;\"/><path class=\"point\" transform=\"translate(38.03,109.06)\" d=\"M1.9,0A1.9,1.9 0 1,1 0,-1.9A1.9,1.9 0 0,1 1.9,0Z\" style=\"opacity: 0.7; stroke-width: 1px; fill: rgb(99, 110, 250); fill-opacity: 1; stroke: rgb(255, 255, 255); stroke-opacity: 1;\"/><path class=\"point\" transform=\"translate(429.97,130.09)\" d=\"M1.89,0A1.89,1.89 0 1,1 0,-1.89A1.89,1.89 0 0,1 1.89,0Z\" style=\"opacity: 0.7; stroke-width: 1px; fill: rgb(99, 110, 250); fill-opacity: 1; stroke: rgb(255, 255, 255); stroke-opacity: 1;\"/><path class=\"point\" transform=\"translate(46.06,114.1)\" d=\"M1.89,0A1.89,1.89 0 1,1 0,-1.89A1.89,1.89 0 0,1 1.89,0Z\" style=\"opacity: 0.7; stroke-width: 1px; fill: rgb(99, 110, 250); fill-opacity: 1; stroke: rgb(255, 255, 255); stroke-opacity: 1;\"/><path class=\"point\" transform=\"translate(388.2,178.38)\" d=\"M1.88,0A1.88,1.88 0 1,1 0,-1.88A1.88,1.88 0 0,1 1.88,0Z\" style=\"opacity: 0.7; stroke-width: 1px; fill: rgb(99, 110, 250); fill-opacity: 1; stroke: rgb(255, 255, 255); stroke-opacity: 1;\"/><path class=\"point\" transform=\"translate(423.54,118.1)\" d=\"M1.85,0A1.85,1.85 0 1,1 0,-1.85A1.85,1.85 0 0,1 1.85,0Z\" style=\"opacity: 0.7; stroke-width: 1px; fill: rgb(99, 110, 250); fill-opacity: 1; stroke: rgb(255, 255, 255); stroke-opacity: 1;\"/><path class=\"point\" transform=\"translate(171.35,162.9)\" d=\"M1.83,0A1.83,1.83 0 1,1 0,-1.83A1.83,1.83 0 0,1 1.83,0Z\" style=\"opacity: 0.7; stroke-width: 1px; fill: rgb(99, 110, 250); fill-opacity: 1; stroke: rgb(255, 255, 255); stroke-opacity: 1;\"/><path class=\"point\" transform=\"translate(168.14,169.35)\" d=\"M1.81,0A1.81,1.81 0 1,1 0,-1.81A1.81,1.81 0 0,1 1.81,0Z\" style=\"opacity: 0.7; stroke-width: 1px; fill: rgb(99, 110, 250); fill-opacity: 1; stroke: rgb(255, 255, 255); stroke-opacity: 1;\"/><path class=\"point\" transform=\"translate(412.3,80.18)\" d=\"M1.81,0A1.81,1.81 0 1,1 0,-1.81A1.81,1.81 0 0,1 1.81,0Z\" style=\"opacity: 0.7; stroke-width: 1px; fill: rgb(99, 110, 250); fill-opacity: 1; stroke: rgb(255, 255, 255); stroke-opacity: 1;\"/><path class=\"point\" transform=\"translate(129.59,106.99)\" d=\"M1.77,0A1.77,1.77 0 1,1 0,-1.77A1.77,1.77 0 0,1 1.77,0Z\" style=\"opacity: 0.7; stroke-width: 1px; fill: rgb(99, 110, 250); fill-opacity: 1; stroke: rgb(255, 255, 255); stroke-opacity: 1;\"/><path class=\"point\" transform=\"translate(163.32,213.49)\" d=\"M1.75,0A1.75,1.75 0 1,1 0,-1.75A1.75,1.75 0 0,1 1.75,0Z\" style=\"opacity: 0.7; stroke-width: 1px; fill: rgb(99, 110, 250); fill-opacity: 1; stroke: rgb(255, 255, 255); stroke-opacity: 1;\"/><path class=\"point\" transform=\"translate(362.5,126.32)\" d=\"M1.75,0A1.75,1.75 0 1,1 0,-1.75A1.75,1.75 0 0,1 1.75,0Z\" style=\"opacity: 0.7; stroke-width: 1px; fill: rgb(99, 110, 250); fill-opacity: 1; stroke: rgb(255, 255, 255); stroke-opacity: 1;\"/><path class=\"point\" transform=\"translate(301.46,136.46)\" d=\"M1.71,0A1.71,1.71 0 1,1 0,-1.71A1.71,1.71 0 0,1 1.71,0Z\" style=\"opacity: 0.7; stroke-width: 1px; fill: rgb(99, 110, 250); fill-opacity: 1; stroke: rgb(255, 255, 255); stroke-opacity: 1;\"/><path class=\"point\" transform=\"translate(222.76,170.9)\" d=\"M1.7,0A1.7,1.7 0 1,1 0,-1.7A1.7,1.7 0 0,1 1.7,0Z\" style=\"opacity: 0.7; stroke-width: 1px; fill: rgb(99, 110, 250); fill-opacity: 1; stroke: rgb(255, 255, 255); stroke-opacity: 1;\"/><path class=\"point\" transform=\"translate(229.18,154.24)\" d=\"M1.7,0A1.7,1.7 0 1,1 0,-1.7A1.7,1.7 0 0,1 1.7,0Z\" style=\"opacity: 0.7; stroke-width: 1px; fill: rgb(99, 110, 250); fill-opacity: 1; stroke: rgb(255, 255, 255); stroke-opacity: 1;\"/><path class=\"point\" transform=\"translate(74.98,118.02)\" d=\"M1.7,0A1.7,1.7 0 1,1 0,-1.7A1.7,1.7 0 0,1 1.7,0Z\" style=\"opacity: 0.7; stroke-width: 1px; fill: rgb(99, 110, 250); fill-opacity: 1; stroke: rgb(255, 255, 255); stroke-opacity: 1;\"/><path class=\"point\" transform=\"translate(73.37,125.28)\" d=\"M1.69,0A1.69,1.69 0 1,1 0,-1.69A1.69,1.69 0 0,1 1.69,0Z\" style=\"opacity: 0.7; stroke-width: 1px; fill: rgb(99, 110, 250); fill-opacity: 1; stroke: rgb(255, 255, 255); stroke-opacity: 1;\"/><path class=\"point\" transform=\"translate(399.45,105.43)\" d=\"M1.69,0A1.69,1.69 0 1,1 0,-1.69A1.69,1.69 0 0,1 1.69,0Z\" style=\"opacity: 0.7; stroke-width: 1px; fill: rgb(99, 110, 250); fill-opacity: 1; stroke: rgb(255, 255, 255); stroke-opacity: 1;\"/><path class=\"point\" transform=\"translate(410.69,62.77)\" d=\"M1.68,0A1.68,1.68 0 1,1 0,-1.68A1.68,1.68 0 0,1 1.68,0Z\" style=\"opacity: 0.7; stroke-width: 1px; fill: rgb(99, 110, 250); fill-opacity: 1; stroke: rgb(255, 255, 255); stroke-opacity: 1;\"/><path class=\"point\" transform=\"translate(262.91,139.43)\" d=\"M1.66,0A1.66,1.66 0 1,1 0,-1.66A1.66,1.66 0 0,1 1.66,0Z\" style=\"opacity: 0.7; stroke-width: 1px; fill: rgb(99, 110, 250); fill-opacity: 1; stroke: rgb(255, 255, 255); stroke-opacity: 1;\"/><path class=\"point\" transform=\"translate(142.44,121.5)\" d=\"M1.62,0A1.62,1.62 0 1,1 0,-1.62A1.62,1.62 0 0,1 1.62,0Z\" style=\"opacity: 0.7; stroke-width: 1px; fill: rgb(99, 110, 250); fill-opacity: 1; stroke: rgb(255, 255, 255); stroke-opacity: 1;\"/><path class=\"point\" transform=\"translate(293.43,42.26)\" d=\"M1.6,0A1.6,1.6 0 1,1 0,-1.6A1.6,1.6 0 0,1 1.6,0Z\" style=\"opacity: 0.7; stroke-width: 1px; fill: rgb(99, 110, 250); fill-opacity: 1; stroke: rgb(255, 255, 255); stroke-opacity: 1;\"/><path class=\"point\" transform=\"translate(288.61,30.26)\" d=\"M1.58,0A1.58,1.58 0 1,1 0,-1.58A1.58,1.58 0 0,1 1.58,0Z\" style=\"opacity: 0.7; stroke-width: 1px; fill: rgb(99, 110, 250); fill-opacity: 1; stroke: rgb(255, 255, 255); stroke-opacity: 1;\"/><path class=\"point\" transform=\"translate(107.1,164.38)\" d=\"M1.57,0A1.57,1.57 0 1,1 0,-1.57A1.57,1.57 0 0,1 1.57,0Z\" style=\"opacity: 0.7; stroke-width: 1px; fill: rgb(99, 110, 250); fill-opacity: 1; stroke: rgb(255, 255, 255); stroke-opacity: 1;\"/><path class=\"point\" transform=\"translate(126.38,71.29)\" d=\"M1.56,0A1.56,1.56 0 1,1 0,-1.56A1.56,1.56 0 0,1 1.56,0Z\" style=\"opacity: 0.7; stroke-width: 1px; fill: rgb(99, 110, 250); fill-opacity: 1; stroke: rgb(255, 255, 255); stroke-opacity: 1;\"/><path class=\"point\" transform=\"translate(274.16,150.39)\" d=\"M1.55,0A1.55,1.55 0 1,1 0,-1.55A1.55,1.55 0 0,1 1.55,0Z\" style=\"opacity: 0.7; stroke-width: 1px; fill: rgb(99, 110, 250); fill-opacity: 1; stroke: rgb(255, 255, 255); stroke-opacity: 1;\"/><path class=\"point\" transform=\"translate(60.52,139.72)\" d=\"M1.53,0A1.53,1.53 0 1,1 0,-1.53A1.53,1.53 0 0,1 1.53,0Z\" style=\"opacity: 0.7; stroke-width: 1px; fill: rgb(99, 110, 250); fill-opacity: 1; stroke: rgb(255, 255, 255); stroke-opacity: 1;\"/><path class=\"point\" transform=\"translate(182.6,151.87)\" d=\"M1.46,0A1.46,1.46 0 1,1 0,-1.46A1.46,1.46 0 0,1 1.46,0Z\" style=\"opacity: 0.7; stroke-width: 1px; fill: rgb(99, 110, 250); fill-opacity: 1; stroke: rgb(255, 255, 255); stroke-opacity: 1;\"/><path class=\"point\" transform=\"translate(189.02,109.73)\" d=\"M1.46,0A1.46,1.46 0 1,1 0,-1.46A1.46,1.46 0 0,1 1.46,0Z\" style=\"opacity: 0.7; stroke-width: 1px; fill: rgb(99, 110, 250); fill-opacity: 1; stroke: rgb(255, 255, 255); stroke-opacity: 1;\"/><path class=\"point\" transform=\"translate(258.09,90.47)\" d=\"M1.45,0A1.45,1.45 0 1,1 0,-1.45A1.45,1.45 0 0,1 1.45,0Z\" style=\"opacity: 0.7; stroke-width: 1px; fill: rgb(99, 110, 250); fill-opacity: 1; stroke: rgb(255, 255, 255); stroke-opacity: 1;\"/><path class=\"point\" transform=\"translate(119.95,115.5)\" d=\"M1.45,0A1.45,1.45 0 1,1 0,-1.45A1.45,1.45 0 0,1 1.45,0Z\" style=\"opacity: 0.7; stroke-width: 1px; fill: rgb(99, 110, 250); fill-opacity: 1; stroke: rgb(255, 255, 255); stroke-opacity: 1;\"/><path class=\"point\" transform=\"translate(404.27,75.29)\" d=\"M1.43,0A1.43,1.43 0 1,1 0,-1.43A1.43,1.43 0 0,1 1.43,0Z\" style=\"opacity: 0.7; stroke-width: 1px; fill: rgb(99, 110, 250); fill-opacity: 1; stroke: rgb(255, 255, 255); stroke-opacity: 1;\"/><path class=\"point\" transform=\"translate(243.64,78.32)\" d=\"M1.42,0A1.42,1.42 0 1,1 0,-1.42A1.42,1.42 0 0,1 1.42,0Z\" style=\"opacity: 0.7; stroke-width: 1px; fill: rgb(99, 110, 250); fill-opacity: 1; stroke: rgb(255, 255, 255); stroke-opacity: 1;\"/><path class=\"point\" transform=\"translate(259.7,110.47)\" d=\"M1.35,0A1.35,1.35 0 1,1 0,-1.35A1.35,1.35 0 0,1 1.35,0Z\" style=\"opacity: 0.7; stroke-width: 1px; fill: rgb(99, 110, 250); fill-opacity: 1; stroke: rgb(255, 255, 255); stroke-opacity: 1;\"/><path class=\"point\" transform=\"translate(179.39,139.8)\" d=\"M1.3,0A1.3,1.3 0 1,1 0,-1.3A1.3,1.3 0 0,1 1.3,0Z\" style=\"opacity: 0.7; stroke-width: 1px; fill: rgb(99, 110, 250); fill-opacity: 1; stroke: rgb(255, 255, 255); stroke-opacity: 1;\"/><path class=\"point\" transform=\"translate(290.22,23.22)\" d=\"M1.29,0A1.29,1.29 0 1,1 0,-1.29A1.29,1.29 0 0,1 1.29,0Z\" style=\"opacity: 0.7; stroke-width: 1px; fill: rgb(99, 110, 250); fill-opacity: 1; stroke: rgb(255, 255, 255); stroke-opacity: 1;\"/><path class=\"point\" transform=\"translate(145.65,89.43)\" d=\"M1.29,0A1.29,1.29 0 1,1 0,-1.29A1.29,1.29 0 0,1 1.29,0Z\" style=\"opacity: 0.7; stroke-width: 1px; fill: rgb(99, 110, 250); fill-opacity: 1; stroke: rgb(255, 255, 255); stroke-opacity: 1;\"/><path class=\"point\" transform=\"translate(418.72,112.91)\" d=\"M1.23,0A1.23,1.23 0 1,1 0,-1.23A1.23,1.23 0 0,1 1.23,0Z\" style=\"opacity: 0.7; stroke-width: 1px; fill: rgb(99, 110, 250); fill-opacity: 1; stroke: rgb(255, 255, 255); stroke-opacity: 1;\"/><path class=\"point\" transform=\"translate(54.09,148.54)\" d=\"M1.2,0A1.2,1.2 0 1,1 0,-1.2A1.2,1.2 0 0,1 1.2,0Z\" style=\"opacity: 0.7; stroke-width: 1px; fill: rgb(99, 110, 250); fill-opacity: 1; stroke: rgb(255, 255, 255); stroke-opacity: 1;\"/><path class=\"point\" transform=\"translate(49.28,142.61)\" d=\"M1.18,0A1.18,1.18 0 1,1 0,-1.18A1.18,1.18 0 0,1 1.18,0Z\" style=\"opacity: 0.7; stroke-width: 1px; fill: rgb(99, 110, 250); fill-opacity: 1; stroke: rgb(255, 255, 255); stroke-opacity: 1;\"/><path class=\"point\" transform=\"translate(192.24,121.13)\" d=\"M1.03,0A1.03,1.03 0 1,1 0,-1.03A1.03,1.03 0 0,1 1.03,0Z\" style=\"opacity: 0.7; stroke-width: 1px; fill: rgb(99, 110, 250); fill-opacity: 1; stroke: rgb(255, 255, 255); stroke-opacity: 1;\"/><path class=\"point\" transform=\"translate(30,110.62)\" d=\"M0,0A0,0 0 1,1 0,-0A0,0 0 0,1 0,0Z\" style=\"opacity: 0.7; stroke-width: 1px; fill: rgb(99, 110, 250); fill-opacity: 1; stroke: rgb(255, 255, 255); stroke-opacity: 1;\"/><path class=\"point\" transform=\"translate(47.67,136.69)\" d=\"M0,0A0,0 0 1,1 0,-0A0,0 0 0,1 0,0Z\" style=\"opacity: 0.7; stroke-width: 1px; fill: rgb(99, 110, 250); fill-opacity: 1; stroke: rgb(255, 255, 255); stroke-opacity: 1;\"/><path class=\"point\" transform=\"translate(66.94,123.95)\" d=\"M0,0A0,0 0 1,1 0,-0A0,0 0 0,1 0,0Z\" style=\"opacity: 0.7; stroke-width: 1px; fill: rgb(99, 110, 250); fill-opacity: 1; stroke: rgb(255, 255, 255); stroke-opacity: 1;\"/><path class=\"point\" transform=\"translate(71.76,129.43)\" d=\"M0,0A0,0 0 1,1 0,-0A0,0 0 0,1 0,0Z\" style=\"opacity: 0.7; stroke-width: 1px; fill: rgb(99, 110, 250); fill-opacity: 1; stroke: rgb(255, 255, 255); stroke-opacity: 1;\"/><path class=\"point\" transform=\"translate(100.68,191.79)\" d=\"M0,0A0,0 0 1,1 0,-0A0,0 0 0,1 0,0Z\" style=\"opacity: 0.7; stroke-width: 1px; fill: rgb(99, 110, 250); fill-opacity: 1; stroke: rgb(255, 255, 255); stroke-opacity: 1;\"/><path class=\"point\" transform=\"translate(102.28,208.3)\" d=\"M0,0A0,0 0 1,1 0,-0A0,0 0 0,1 0,0Z\" style=\"opacity: 0.7; stroke-width: 1px; fill: rgb(99, 110, 250); fill-opacity: 1; stroke: rgb(255, 255, 255); stroke-opacity: 1;\"/><path class=\"point\" transform=\"translate(124.77,51.22)\" d=\"M0,0A0,0 0 1,1 0,-0A0,0 0 0,1 0,0Z\" style=\"opacity: 0.7; stroke-width: 1px; fill: rgb(99, 110, 250); fill-opacity: 1; stroke: rgb(255, 255, 255); stroke-opacity: 1;\"/><path class=\"point\" transform=\"translate(144.05,126.02)\" d=\"M0,0A0,0 0 1,1 0,-0A0,0 0 0,1 0,0Z\" style=\"opacity: 0.7; stroke-width: 1px; fill: rgb(99, 110, 250); fill-opacity: 1; stroke: rgb(255, 255, 255); stroke-opacity: 1;\"/><path class=\"point\" transform=\"translate(172.96,153.87)\" d=\"M0,0A0,0 0 1,1 0,-0A0,0 0 0,1 0,0Z\" style=\"opacity: 0.7; stroke-width: 1px; fill: rgb(99, 110, 250); fill-opacity: 1; stroke: rgb(255, 255, 255); stroke-opacity: 1;\"/><path class=\"point\" transform=\"translate(195.45,140.46)\" d=\"M0,0A0,0 0 1,1 0,-0A0,0 0 0,1 0,0Z\" style=\"opacity: 0.7; stroke-width: 1px; fill: rgb(99, 110, 250); fill-opacity: 1; stroke: rgb(255, 255, 255); stroke-opacity: 1;\"/><path class=\"point\" transform=\"translate(200.27,208.3)\" d=\"M0,0A0,0 0 1,1 0,-0A0,0 0 0,1 0,0Z\" style=\"opacity: 0.7; stroke-width: 1px; fill: rgb(99, 110, 250); fill-opacity: 1; stroke: rgb(255, 255, 255); stroke-opacity: 1;\"/><path class=\"point\" transform=\"translate(208.3,229.41)\" d=\"M0,0A0,0 0 1,1 0,-0A0,0 0 0,1 0,0Z\" style=\"opacity: 0.7; stroke-width: 1px; fill: rgb(99, 110, 250); fill-opacity: 1; stroke: rgb(255, 255, 255); stroke-opacity: 1;\"/><path class=\"point\" transform=\"translate(213.12,223.34)\" d=\"M0,0A0,0 0 1,1 0,-0A0,0 0 0,1 0,0Z\" style=\"opacity: 0.7; stroke-width: 1px; fill: rgb(99, 110, 250); fill-opacity: 1; stroke: rgb(255, 255, 255); stroke-opacity: 1;\"/><path class=\"point\" transform=\"translate(219.54,216.15)\" d=\"M0,0A0,0 0 1,1 0,-0A0,0 0 0,1 0,0Z\" style=\"opacity: 0.7; stroke-width: 1px; fill: rgb(99, 110, 250); fill-opacity: 1; stroke: rgb(255, 255, 255); stroke-opacity: 1;\"/><path class=\"point\" transform=\"translate(225.97,179.49)\" d=\"M0,0A0,0 0 1,1 0,-0A0,0 0 0,1 0,0Z\" style=\"opacity: 0.7; stroke-width: 1px; fill: rgb(99, 110, 250); fill-opacity: 1; stroke: rgb(255, 255, 255); stroke-opacity: 1;\"/><path class=\"point\" transform=\"translate(230.79,109.8)\" d=\"M0,0A0,0 0 1,1 0,-0A0,0 0 0,1 0,0Z\" style=\"opacity: 0.7; stroke-width: 1px; fill: rgb(99, 110, 250); fill-opacity: 1; stroke: rgb(255, 255, 255); stroke-opacity: 1;\"/><path class=\"point\" transform=\"translate(232.39,88.17)\" d=\"M0,0A0,0 0 1,1 0,-0A0,0 0 0,1 0,0Z\" style=\"opacity: 0.7; stroke-width: 1px; fill: rgb(99, 110, 250); fill-opacity: 1; stroke: rgb(255, 255, 255); stroke-opacity: 1;\"/><path class=\"point\" transform=\"translate(234,70.25)\" d=\"M0,0A0,0 0 1,1 0,-0A0,0 0 0,1 0,0Z\" style=\"opacity: 0.7; stroke-width: 1px; fill: rgb(99, 110, 250); fill-opacity: 1; stroke: rgb(255, 255, 255); stroke-opacity: 1;\"/><path class=\"point\" transform=\"translate(235.61,91.8)\" d=\"M0,0A0,0 0 1,1 0,-0A0,0 0 0,1 0,0Z\" style=\"opacity: 0.7; stroke-width: 1px; fill: rgb(99, 110, 250); fill-opacity: 1; stroke: rgb(255, 255, 255); stroke-opacity: 1;\"/><path class=\"point\" transform=\"translate(238.82,126.54)\" d=\"M0,0A0,0 0 1,1 0,-0A0,0 0 0,1 0,0Z\" style=\"opacity: 0.7; stroke-width: 1px; fill: rgb(99, 110, 250); fill-opacity: 1; stroke: rgb(255, 255, 255); stroke-opacity: 1;\"/><path class=\"point\" transform=\"translate(356.08,74.47)\" d=\"M0,0A0,0 0 1,1 0,-0A0,0 0 0,1 0,0Z\" style=\"opacity: 0.7; stroke-width: 1px; fill: rgb(99, 110, 250); fill-opacity: 1; stroke: rgb(255, 255, 255); stroke-opacity: 1;\"/><path class=\"point\" transform=\"translate(357.68,62.33)\" d=\"M0,0A0,0 0 1,1 0,-0A0,0 0 0,1 0,0Z\" style=\"opacity: 0.7; stroke-width: 1px; fill: rgb(99, 110, 250); fill-opacity: 1; stroke: rgb(255, 255, 255); stroke-opacity: 1;\"/><path class=\"point\" transform=\"translate(360.9,105.43)\" d=\"M0,0A0,0 0 1,1 0,-0A0,0 0 0,1 0,0Z\" style=\"opacity: 0.7; stroke-width: 1px; fill: rgb(99, 110, 250); fill-opacity: 1; stroke: rgb(255, 255, 255); stroke-opacity: 1;\"/><path class=\"point\" transform=\"translate(383.38,208.45)\" d=\"M0,0A0,0 0 1,1 0,-0A0,0 0 0,1 0,0Z\" style=\"opacity: 0.7; stroke-width: 1px; fill: rgb(99, 110, 250); fill-opacity: 1; stroke: rgb(255, 255, 255); stroke-opacity: 1;\"/><path class=\"point\" transform=\"translate(396.23,133.57)\" d=\"M0,0A0,0 0 1,1 0,-0A0,0 0 0,1 0,0Z\" style=\"opacity: 0.7; stroke-width: 1px; fill: rgb(99, 110, 250); fill-opacity: 1; stroke: rgb(255, 255, 255); stroke-opacity: 1;\"/><path class=\"point\" transform=\"translate(402.66,98.77)\" d=\"M0,0A0,0 0 1,1 0,-0A0,0 0 0,1 0,0Z\" style=\"opacity: 0.7; stroke-width: 1px; fill: rgb(99, 110, 250); fill-opacity: 1; stroke: rgb(255, 255, 255); stroke-opacity: 1;\"/><path class=\"point\" transform=\"translate(431.57,156.09)\" d=\"M0,0A0,0 0 1,1 0,-0A0,0 0 0,1 0,0Z\" style=\"opacity: 0.7; stroke-width: 1px; fill: rgb(99, 110, 250); fill-opacity: 1; stroke: rgb(255, 255, 255); stroke-opacity: 1;\"/><path class=\"point\" transform=\"translate(439.6,192.53)\" d=\"M0,0A0,0 0 1,1 0,-0A0,0 0 0,1 0,0Z\" style=\"opacity: 0.7; stroke-width: 1px; fill: rgb(99, 110, 250); fill-opacity: 1; stroke: rgb(255, 255, 255); stroke-opacity: 1;\"/><path class=\"point\" transform=\"translate(470.12,124.91)\" d=\"M0,0A0,0 0 1,1 0,-0A0,0 0 0,1 0,0Z\" style=\"opacity: 0.7; stroke-width: 1px; fill: rgb(99, 110, 250); fill-opacity: 1; stroke: rgb(255, 255, 255); stroke-opacity: 1;\"/><path class=\"point\" transform=\"translate(479.76,52.92)\" d=\"M0,0A0,0 0 1,1 0,-0A0,0 0 0,1 0,0Z\" style=\"opacity: 0.7; stroke-width: 1px; fill: rgb(99, 110, 250); fill-opacity: 1; stroke: rgb(255, 255, 255); stroke-opacity: 1;\"/></g><g class=\"text\"/></g></g></g><g class=\"overplot\"/><path class=\"xlines-above crisp\" d=\"M0,0\" style=\"fill: none;\"/><path class=\"ylines-above crisp\" d=\"M0,0\" style=\"fill: none;\"/><g class=\"overlines-above\"/><g class=\"xaxislayer-above\"><g class=\"xtick\"><text text-anchor=\"middle\" x=\"0\" y=\"433\" transform=\"translate(106.78999999999999,0)\" style=\"font-family: 'Open Sans', verdana, arial, sans-serif; font-size: 12px; fill: rgb(42, 63, 95); fill-opacity: 1; white-space: pre; opacity: 1;\">0</text></g><g class=\"xtick\"><text text-anchor=\"middle\" x=\"0\" y=\"433\" style=\"font-family: 'Open Sans', verdana, arial, sans-serif; font-size: 12px; fill: rgb(42, 63, 95); fill-opacity: 1; white-space: pre; opacity: 1;\" transform=\"translate(187.1,0)\">50</text></g><g class=\"xtick\"><text text-anchor=\"middle\" x=\"0\" y=\"433\" style=\"font-family: 'Open Sans', verdana, arial, sans-serif; font-size: 12px; fill: rgb(42, 63, 95); fill-opacity: 1; white-space: pre; opacity: 1;\" transform=\"translate(267.41999999999996,0)\">100</text></g><g class=\"xtick\"><text text-anchor=\"middle\" x=\"0\" y=\"433\" style=\"font-family: 'Open Sans', verdana, arial, sans-serif; font-size: 12px; fill: rgb(42, 63, 95); fill-opacity: 1; white-space: pre; opacity: 1;\" transform=\"translate(347.73,0)\">150</text></g><g class=\"xtick\"><text text-anchor=\"middle\" x=\"0\" y=\"433\" style=\"font-family: 'Open Sans', verdana, arial, sans-serif; font-size: 12px; fill: rgb(42, 63, 95); fill-opacity: 1; white-space: pre; opacity: 1;\" transform=\"translate(428.05,0)\">200</text></g><g class=\"xtick\"><text text-anchor=\"middle\" x=\"0\" y=\"433\" style=\"font-family: 'Open Sans', verdana, arial, sans-serif; font-size: 12px; fill: rgb(42, 63, 95); fill-opacity: 1; white-space: pre; opacity: 1;\" transform=\"translate(508.36,0)\">250</text></g><g class=\"xtick\"><text text-anchor=\"middle\" x=\"0\" y=\"433\" style=\"font-family: 'Open Sans', verdana, arial, sans-serif; font-size: 12px; fill: rgb(42, 63, 95); fill-opacity: 1; white-space: pre; opacity: 1;\" transform=\"translate(588.6800000000001,0)\">300</text></g></g><g class=\"yaxislayer-above\"><g class=\"ytick\"><text text-anchor=\"end\" x=\"79\" y=\"4.199999999999999\" transform=\"translate(0,388.74)\" style=\"font-family: 'Open Sans', verdana, arial, sans-serif; font-size: 12px; fill: rgb(42, 63, 95); fill-opacity: 1; white-space: pre; opacity: 1;\">0</text></g><g class=\"ytick\"><text text-anchor=\"end\" x=\"79\" y=\"4.199999999999999\" style=\"font-family: 'Open Sans', verdana, arial, sans-serif; font-size: 12px; fill: rgb(42, 63, 95); fill-opacity: 1; white-space: pre; opacity: 1;\" transform=\"translate(0,351.7)\">5</text></g><g class=\"ytick\"><text text-anchor=\"end\" x=\"79\" y=\"4.199999999999999\" style=\"font-family: 'Open Sans', verdana, arial, sans-serif; font-size: 12px; fill: rgb(42, 63, 95); fill-opacity: 1; white-space: pre; opacity: 1;\" transform=\"translate(0,314.66999999999996)\">10</text></g><g class=\"ytick\"><text text-anchor=\"end\" x=\"79\" y=\"4.199999999999999\" style=\"font-family: 'Open Sans', verdana, arial, sans-serif; font-size: 12px; fill: rgb(42, 63, 95); fill-opacity: 1; white-space: pre; opacity: 1;\" transform=\"translate(0,277.64)\">15</text></g><g class=\"ytick\"><text text-anchor=\"end\" x=\"79\" y=\"4.199999999999999\" style=\"font-family: 'Open Sans', verdana, arial, sans-serif; font-size: 12px; fill: rgb(42, 63, 95); fill-opacity: 1; white-space: pre; opacity: 1;\" transform=\"translate(0,240.61)\">20</text></g><g class=\"ytick\"><text text-anchor=\"end\" x=\"79\" y=\"4.199999999999999\" style=\"font-family: 'Open Sans', verdana, arial, sans-serif; font-size: 12px; fill: rgb(42, 63, 95); fill-opacity: 1; white-space: pre; opacity: 1;\" transform=\"translate(0,203.57999999999998)\">25</text></g><g class=\"ytick\"><text text-anchor=\"end\" x=\"79\" y=\"4.199999999999999\" style=\"font-family: 'Open Sans', verdana, arial, sans-serif; font-size: 12px; fill: rgb(42, 63, 95); fill-opacity: 1; white-space: pre; opacity: 1;\" transform=\"translate(0,166.55)\">30</text></g><g class=\"ytick\"><text text-anchor=\"end\" x=\"79\" y=\"4.199999999999999\" style=\"font-family: 'Open Sans', verdana, arial, sans-serif; font-size: 12px; fill: rgb(42, 63, 95); fill-opacity: 1; white-space: pre; opacity: 1;\" transform=\"translate(0,129.52)\">35</text></g></g><g class=\"overaxes-above\"/></g></g><g class=\"polarlayer\"/><g class=\"smithlayer\"/><g class=\"ternarylayer\"/><g class=\"geolayer\"/><g class=\"funnelarealayer\"/><g class=\"pielayer\"/><g class=\"iciclelayer\"/><g class=\"treemaplayer\"/><g class=\"sunburstlayer\"/><g class=\"glimages\"/><defs id=\"topdefs-7aee40\"><g class=\"clips\"/></defs><g class=\"layer-above\"><g class=\"imagelayer\"/><g class=\"shapelayer\"/></g><g class=\"infolayer\"><g class=\"g-gtitle\"><text class=\"gtitle\" x=\"35\" y=\"50\" text-anchor=\"start\" dy=\"0em\" style=\"font-family: 'Open Sans', verdana, arial, sans-serif; font-size: 17px; fill: rgb(42, 63, 95); opacity: 1; font-weight: normal; white-space: pre;\">Bubble Chart of the Per Residue Score for each Residue</text></g><g class=\"g-xtitle\"><text class=\"xtitle\" x=\"350\" y=\"460.8\" text-anchor=\"middle\" style=\"font-family: 'Open Sans', verdana, arial, sans-serif; font-size: 14px; fill: rgb(42, 63, 95); opacity: 1; font-weight: normal; white-space: pre;\">Residue Number</text></g><g class=\"g-ytitle\"><text class=\"ytitle\" transform=\"rotate(-90,38.934375,260)\" x=\"38.934375\" y=\"260\" text-anchor=\"middle\" style=\"font-family: 'Open Sans', verdana, arial, sans-serif; font-size: 14px; fill: rgb(42, 63, 95); opacity: 1; font-weight: normal; white-space: pre;\">Distance to D181 (Å)</text></g></g></svg>"
      ]
     },
     "metadata": {},
     "output_type": "display_data"
    }
   ],
   "source": [
    "fig = px.scatter(df_score_dist, x=df_score_dist.index, y=\"Distance to D181 (Å)\",\n",
    "                size=\"Per Residue Score\", size_max=20,\n",
    "\t\t\t\ttitle=\"Bubble Chart of the Per Residue Score for each Residue\",\n",
    "\t\t\t\tlabels={\"index\": \"Residue Number\"}\n",
    ")\n",
    "\n",
    "fig.show(\"svg\") # to make this plot interactive, remove \"svg\" and run the cell block. "
   ]
  },
  {
   "attachments": {},
   "cell_type": "markdown",
   "metadata": {},
   "source": [
    "Unsurprisingly some of the most of the highest scoring residues have a low distance to D181, however we are still able to identify residues further away with reasonably high scores, such as those with residue numbers in the 280-290 region."
   ]
  },
  {
   "cell_type": "code",
   "execution_count": 28,
   "metadata": {},
   "outputs": [
    {
     "data": {
      "image/svg+xml": [
       "<svg class=\"main-svg\" xmlns=\"http://www.w3.org/2000/svg\" xmlns:xlink=\"http://www.w3.org/1999/xlink\" width=\"700\" height=\"500\" style=\"\" viewBox=\"0 0 700 500\"><rect x=\"0\" y=\"0\" width=\"700\" height=\"500\" style=\"fill: rgb(255, 255, 255); fill-opacity: 1;\"/><defs id=\"defs-ae564e\"><g class=\"clips\"><clipPath id=\"clipae564exyplot\" class=\"plotclip\"><rect width=\"623\" height=\"427\"/></clipPath><clipPath class=\"axesclip\" id=\"clipae564ex\"><rect x=\"57\" y=\"0\" width=\"623\" height=\"500\"/></clipPath><clipPath class=\"axesclip\" id=\"clipae564ey\"><rect x=\"0\" y=\"20\" width=\"700\" height=\"427\"/></clipPath><clipPath class=\"axesclip\" id=\"clipae564exy\"><rect x=\"57\" y=\"20\" width=\"623\" height=\"427\"/></clipPath></g><g class=\"gradients\"/><g class=\"patterns\"/></defs><g class=\"bglayer\"/><g class=\"layer-below\"><g class=\"imagelayer\"/><g class=\"shapelayer\"/></g><g class=\"cartesianlayer\"><g class=\"subplot xy\"><g class=\"layer-subplot\"><g class=\"shapelayer\"/><g class=\"imagelayer\"/></g><g class=\"gridlayer\"><g class=\"x\"><path class=\"xgrid crisp\" transform=\"translate(148.17000000000002,0)\" d=\"M0,20v427\" style=\"stroke: rgb(255, 255, 255); stroke-opacity: 1; stroke-width: 1px;\"/><path class=\"xgrid crisp\" transform=\"translate(224.15,0)\" d=\"M0,20v427\" style=\"stroke: rgb(255, 255, 255); stroke-opacity: 1; stroke-width: 1px;\"/><path class=\"xgrid crisp\" transform=\"translate(300.12,0)\" d=\"M0,20v427\" style=\"stroke: rgb(255, 255, 255); stroke-opacity: 1; stroke-width: 1px;\"/><path class=\"xgrid crisp\" transform=\"translate(376.1,0)\" d=\"M0,20v427\" style=\"stroke: rgb(255, 255, 255); stroke-opacity: 1; stroke-width: 1px;\"/><path class=\"xgrid crisp\" transform=\"translate(452.07,0)\" d=\"M0,20v427\" style=\"stroke: rgb(255, 255, 255); stroke-opacity: 1; stroke-width: 1px;\"/><path class=\"xgrid crisp\" transform=\"translate(528.05,0)\" d=\"M0,20v427\" style=\"stroke: rgb(255, 255, 255); stroke-opacity: 1; stroke-width: 1px;\"/><path class=\"xgrid crisp\" transform=\"translate(604.02,0)\" d=\"M0,20v427\" style=\"stroke: rgb(255, 255, 255); stroke-opacity: 1; stroke-width: 1px;\"/></g><g class=\"y\"><path class=\"ygrid crisp\" transform=\"translate(0,349.95)\" d=\"M57,0h623\" style=\"stroke: rgb(255, 255, 255); stroke-opacity: 1; stroke-width: 1px;\"/><path class=\"ygrid crisp\" transform=\"translate(0,272.32)\" d=\"M57,0h623\" style=\"stroke: rgb(255, 255, 255); stroke-opacity: 1; stroke-width: 1px;\"/><path class=\"ygrid crisp\" transform=\"translate(0,194.68)\" d=\"M57,0h623\" style=\"stroke: rgb(255, 255, 255); stroke-opacity: 1; stroke-width: 1px;\"/><path class=\"ygrid crisp\" transform=\"translate(0,117.05)\" d=\"M57,0h623\" style=\"stroke: rgb(255, 255, 255); stroke-opacity: 1; stroke-width: 1px;\"/><path class=\"ygrid crisp\" transform=\"translate(0,39.41)\" d=\"M57,0h623\" style=\"stroke: rgb(255, 255, 255); stroke-opacity: 1; stroke-width: 1px;\"/></g></g><g class=\"zerolinelayer\"><path class=\"xzl zl crisp\" transform=\"translate(72.2,0)\" d=\"M0,20v427\" style=\"stroke: rgb(255, 255, 255); stroke-opacity: 1; stroke-width: 2px;\"/><path class=\"yzl zl crisp\" transform=\"translate(0,427.59)\" d=\"M57,0h623\" style=\"stroke: rgb(255, 255, 255); stroke-opacity: 1; stroke-width: 2px;\"/></g><path class=\"xlines-below\"/><path class=\"ylines-below\"/><g class=\"overlines-below\"/><g class=\"xaxislayer-below\"/><g class=\"yaxislayer-below\"/><g class=\"overaxes-below\"/><g class=\"plot\" transform=\"translate(57,20)\" clip-path=\"url(#clipae564exyplot)\"><g class=\"scatterlayer mlayer\"><g class=\"trace scatter trace1be6cd\" style=\"stroke-miterlimit: 2; opacity: 1;\"><g class=\"fills\"/><g class=\"errorbars\"/><g class=\"lines\"/><g class=\"points\"><path class=\"point\" transform=\"translate(66.55,19.41)\" d=\"M3,0A3,3 0 1,1 0,-3A3,3 0 0,1 3,0Z\" style=\"opacity: 1; stroke-width: 0px; fill: rgb(99, 110, 250); fill-opacity: 1;\"/><path class=\"point\" transform=\"translate(15.2,45.81)\" d=\"M3,0A3,3 0 1,1 0,-3A3,3 0 0,1 3,0Z\" style=\"opacity: 1; stroke-width: 0px; fill: rgb(99, 110, 250); fill-opacity: 1;\"/><path class=\"point\" transform=\"translate(35.25,163.23)\" d=\"M3,0A3,3 0 1,1 0,-3A3,3 0 0,1 3,0Z\" style=\"opacity: 1; stroke-width: 0px; fill: rgb(99, 110, 250); fill-opacity: 1;\"/><path class=\"point\" transform=\"translate(96.49,178.63)\" d=\"M3,0A3,3 0 1,1 0,-3A3,3 0 0,1 3,0Z\" style=\"opacity: 1; stroke-width: 0px; fill: rgb(99, 110, 250); fill-opacity: 1;\"/><path class=\"point\" transform=\"translate(71.11,179.62)\" d=\"M3,0A3,3 0 1,1 0,-3A3,3 0 0,1 3,0Z\" style=\"opacity: 1; stroke-width: 0px; fill: rgb(99, 110, 250); fill-opacity: 1;\"/><path class=\"point\" transform=\"translate(210.6,188.64)\" d=\"M3,0A3,3 0 1,1 0,-3A3,3 0 0,1 3,0Z\" style=\"opacity: 1; stroke-width: 0px; fill: rgb(99, 110, 250); fill-opacity: 1;\"/><path class=\"point\" transform=\"translate(115.63,200.12)\" d=\"M3,0A3,3 0 1,1 0,-3A3,3 0 0,1 3,0Z\" style=\"opacity: 1; stroke-width: 0px; fill: rgb(99, 110, 250); fill-opacity: 1;\"/><path class=\"point\" transform=\"translate(67.47,210.69)\" d=\"M3,0A3,3 0 1,1 0,-3A3,3 0 0,1 3,0Z\" style=\"opacity: 1; stroke-width: 0px; fill: rgb(99, 110, 250); fill-opacity: 1;\"/><path class=\"point\" transform=\"translate(72.02,216.94)\" d=\"M3,0A3,3 0 1,1 0,-3A3,3 0 0,1 3,0Z\" style=\"opacity: 1; stroke-width: 0px; fill: rgb(99, 110, 250); fill-opacity: 1;\"/><path class=\"point\" transform=\"translate(35.4,221.25)\" d=\"M3,0A3,3 0 1,1 0,-3A3,3 0 0,1 3,0Z\" style=\"opacity: 1; stroke-width: 0px; fill: rgb(99, 110, 250); fill-opacity: 1;\"/><path class=\"point\" transform=\"translate(60.78,225.5)\" d=\"M3,0A3,3 0 1,1 0,-3A3,3 0 0,1 3,0Z\" style=\"opacity: 1; stroke-width: 0px; fill: rgb(99, 110, 250); fill-opacity: 1;\"/><path class=\"point\" transform=\"translate(311.5,228.16)\" d=\"M3,0A3,3 0 1,1 0,-3A3,3 0 0,1 3,0Z\" style=\"opacity: 1; stroke-width: 0px; fill: rgb(99, 110, 250); fill-opacity: 1;\"/><path class=\"point\" transform=\"translate(223.22,228.37)\" d=\"M3,0A3,3 0 1,1 0,-3A3,3 0 0,1 3,0Z\" style=\"opacity: 1; stroke-width: 0px; fill: rgb(99, 110, 250); fill-opacity: 1;\"/><path class=\"point\" transform=\"translate(265,233.43)\" d=\"M3,0A3,3 0 1,1 0,-3A3,3 0 0,1 3,0Z\" style=\"opacity: 1; stroke-width: 0px; fill: rgb(99, 110, 250); fill-opacity: 1;\"/><path class=\"point\" transform=\"translate(91.63,237.87)\" d=\"M3,0A3,3 0 1,1 0,-3A3,3 0 0,1 3,0Z\" style=\"opacity: 1; stroke-width: 0px; fill: rgb(99, 110, 250); fill-opacity: 1;\"/><path class=\"point\" transform=\"translate(292.35,238.14)\" d=\"M3,0A3,3 0 1,1 0,-3A3,3 0 0,1 3,0Z\" style=\"opacity: 1; stroke-width: 0px; fill: rgb(99, 110, 250); fill-opacity: 1;\"/><path class=\"point\" transform=\"translate(196.17,277.73)\" d=\"M3,0A3,3 0 1,1 0,-3A3,3 0 0,1 3,0Z\" style=\"opacity: 1; stroke-width: 0px; fill: rgb(99, 110, 250); fill-opacity: 1;\"/><path class=\"point\" transform=\"translate(385.96,284.43)\" d=\"M3,0A3,3 0 1,1 0,-3A3,3 0 0,1 3,0Z\" style=\"opacity: 1; stroke-width: 0px; fill: rgb(99, 110, 250); fill-opacity: 1;\"/><path class=\"point\" transform=\"translate(252.69,285.55)\" d=\"M3,0A3,3 0 1,1 0,-3A3,3 0 0,1 3,0Z\" style=\"opacity: 1; stroke-width: 0px; fill: rgb(99, 110, 250); fill-opacity: 1;\"/><path class=\"point\" transform=\"translate(146.33,286.61)\" d=\"M3,0A3,3 0 1,1 0,-3A3,3 0 0,1 3,0Z\" style=\"opacity: 1; stroke-width: 0px; fill: rgb(99, 110, 250); fill-opacity: 1;\"/><path class=\"point\" transform=\"translate(206.81,289.89)\" d=\"M3,0A3,3 0 1,1 0,-3A3,3 0 0,1 3,0Z\" style=\"opacity: 1; stroke-width: 0px; fill: rgb(99, 110, 250); fill-opacity: 1;\"/><path class=\"point\" transform=\"translate(348.12,291.31)\" d=\"M3,0A3,3 0 1,1 0,-3A3,3 0 0,1 3,0Z\" style=\"opacity: 1; stroke-width: 0px; fill: rgb(99, 110, 250); fill-opacity: 1;\"/><path class=\"point\" transform=\"translate(200.88,295.79)\" d=\"M3,0A3,3 0 1,1 0,-3A3,3 0 0,1 3,0Z\" style=\"opacity: 1; stroke-width: 0px; fill: rgb(99, 110, 250); fill-opacity: 1;\"/><path class=\"point\" transform=\"translate(320.01,301.09)\" d=\"M3,0A3,3 0 1,1 0,-3A3,3 0 0,1 3,0Z\" style=\"opacity: 1; stroke-width: 0px; fill: rgb(99, 110, 250); fill-opacity: 1;\"/><path class=\"point\" transform=\"translate(116.24,301.89)\" d=\"M3,0A3,3 0 1,1 0,-3A3,3 0 0,1 3,0Z\" style=\"opacity: 1; stroke-width: 0px; fill: rgb(99, 110, 250); fill-opacity: 1;\"/><path class=\"point\" transform=\"translate(270.17,308.43)\" d=\"M3,0A3,3 0 1,1 0,-3A3,3 0 0,1 3,0Z\" style=\"opacity: 1; stroke-width: 0px; fill: rgb(99, 110, 250); fill-opacity: 1;\"/><path class=\"point\" transform=\"translate(120.95,314.15)\" d=\"M3,0A3,3 0 1,1 0,-3A3,3 0 0,1 3,0Z\" style=\"opacity: 1; stroke-width: 0px; fill: rgb(99, 110, 250); fill-opacity: 1;\"/><path class=\"point\" transform=\"translate(264.55,316.97)\" d=\"M3,0A3,3 0 1,1 0,-3A3,3 0 0,1 3,0Z\" style=\"opacity: 1; stroke-width: 0px; fill: rgb(99, 110, 250); fill-opacity: 1;\"/><path class=\"point\" transform=\"translate(221.7,320.46)\" d=\"M3,0A3,3 0 1,1 0,-3A3,3 0 0,1 3,0Z\" style=\"opacity: 1; stroke-width: 0px; fill: rgb(99, 110, 250); fill-opacity: 1;\"/><path class=\"point\" transform=\"translate(282.78,320.59)\" d=\"M3,0A3,3 0 1,1 0,-3A3,3 0 0,1 3,0Z\" style=\"opacity: 1; stroke-width: 0px; fill: rgb(99, 110, 250); fill-opacity: 1;\"/><path class=\"point\" transform=\"translate(216.53,322.31)\" d=\"M3,0A3,3 0 1,1 0,-3A3,3 0 0,1 3,0Z\" style=\"opacity: 1; stroke-width: 0px; fill: rgb(99, 110, 250); fill-opacity: 1;\"/><path class=\"point\" transform=\"translate(111.53,326.89)\" d=\"M3,0A3,3 0 1,1 0,-3A3,3 0 0,1 3,0Z\" style=\"opacity: 1; stroke-width: 0px; fill: rgb(99, 110, 250); fill-opacity: 1;\"/><path class=\"point\" transform=\"translate(202.25,328.62)\" d=\"M3,0A3,3 0 1,1 0,-3A3,3 0 0,1 3,0Z\" style=\"opacity: 1; stroke-width: 0px; fill: rgb(99, 110, 250); fill-opacity: 1;\"/><path class=\"point\" transform=\"translate(242.36,336.72)\" d=\"M3,0A3,3 0 1,1 0,-3A3,3 0 0,1 3,0Z\" style=\"opacity: 1; stroke-width: 0px; fill: rgb(99, 110, 250); fill-opacity: 1;\"/><path class=\"point\" transform=\"translate(273.36,337.72)\" d=\"M3,0A3,3 0 1,1 0,-3A3,3 0 0,1 3,0Z\" style=\"opacity: 1; stroke-width: 0px; fill: rgb(99, 110, 250); fill-opacity: 1;\"/><path class=\"point\" transform=\"translate(233.7,338.94)\" d=\"M3,0A3,3 0 1,1 0,-3A3,3 0 0,1 3,0Z\" style=\"opacity: 1; stroke-width: 0px; fill: rgb(99, 110, 250); fill-opacity: 1;\"/><path class=\"point\" transform=\"translate(267.13,339.28)\" d=\"M3,0A3,3 0 1,1 0,-3A3,3 0 0,1 3,0Z\" style=\"opacity: 1; stroke-width: 0px; fill: rgb(99, 110, 250); fill-opacity: 1;\"/><path class=\"point\" transform=\"translate(284.45,339.76)\" d=\"M3,0A3,3 0 1,1 0,-3A3,3 0 0,1 3,0Z\" style=\"opacity: 1; stroke-width: 0px; fill: rgb(99, 110, 250); fill-opacity: 1;\"/><path class=\"point\" transform=\"translate(113.66,345.76)\" d=\"M3,0A3,3 0 1,1 0,-3A3,3 0 0,1 3,0Z\" style=\"opacity: 1; stroke-width: 0px; fill: rgb(99, 110, 250); fill-opacity: 1;\"/><path class=\"point\" transform=\"translate(174.29,347.17)\" d=\"M3,0A3,3 0 1,1 0,-3A3,3 0 0,1 3,0Z\" style=\"opacity: 1; stroke-width: 0px; fill: rgb(99, 110, 250); fill-opacity: 1;\"/><path class=\"point\" transform=\"translate(323.05,348.55)\" d=\"M3,0A3,3 0 1,1 0,-3A3,3 0 0,1 3,0Z\" style=\"opacity: 1; stroke-width: 0px; fill: rgb(99, 110, 250); fill-opacity: 1;\"/><path class=\"point\" transform=\"translate(63.97,349.45)\" d=\"M3,0A3,3 0 1,1 0,-3A3,3 0 0,1 3,0Z\" style=\"opacity: 1; stroke-width: 0px; fill: rgb(99, 110, 250); fill-opacity: 1;\"/><path class=\"point\" transform=\"translate(275.64,349.91)\" d=\"M3,0A3,3 0 1,1 0,-3A3,3 0 0,1 3,0Z\" style=\"opacity: 1; stroke-width: 0px; fill: rgb(99, 110, 250); fill-opacity: 1;\"/><path class=\"point\" transform=\"translate(315.45,350.73)\" d=\"M3,0A3,3 0 1,1 0,-3A3,3 0 0,1 3,0Z\" style=\"opacity: 1; stroke-width: 0px; fill: rgb(99, 110, 250); fill-opacity: 1;\"/><path class=\"point\" transform=\"translate(225.34,351.81)\" d=\"M3,0A3,3 0 1,1 0,-3A3,3 0 0,1 3,0Z\" style=\"opacity: 1; stroke-width: 0px; fill: rgb(99, 110, 250); fill-opacity: 1;\"/><path class=\"point\" transform=\"translate(145.57,352.41)\" d=\"M3,0A3,3 0 1,1 0,-3A3,3 0 0,1 3,0Z\" style=\"opacity: 1; stroke-width: 0px; fill: rgb(99, 110, 250); fill-opacity: 1;\"/><path class=\"point\" transform=\"translate(157.27,352.73)\" d=\"M3,0A3,3 0 1,1 0,-3A3,3 0 0,1 3,0Z\" style=\"opacity: 1; stroke-width: 0px; fill: rgb(99, 110, 250); fill-opacity: 1;\"/><path class=\"point\" transform=\"translate(262.12,354.7)\" d=\"M3,0A3,3 0 1,1 0,-3A3,3 0 0,1 3,0Z\" style=\"opacity: 1; stroke-width: 0px; fill: rgb(99, 110, 250); fill-opacity: 1;\"/><path class=\"point\" transform=\"translate(176.26,357.71)\" d=\"M3,0A3,3 0 1,1 0,-3A3,3 0 0,1 3,0Z\" style=\"opacity: 1; stroke-width: 0px; fill: rgb(99, 110, 250); fill-opacity: 1;\"/><path class=\"point\" transform=\"translate(426.38,358.47)\" d=\"M3,0A3,3 0 1,1 0,-3A3,3 0 0,1 3,0Z\" style=\"opacity: 1; stroke-width: 0px; fill: rgb(99, 110, 250); fill-opacity: 1;\"/><path class=\"point\" transform=\"translate(167.15,358.56)\" d=\"M3,0A3,3 0 1,1 0,-3A3,3 0 0,1 3,0Z\" style=\"opacity: 1; stroke-width: 0px; fill: rgb(99, 110, 250); fill-opacity: 1;\"/><path class=\"point\" transform=\"translate(414.52,360.94)\" d=\"M3,0A3,3 0 1,1 0,-3A3,3 0 0,1 3,0Z\" style=\"opacity: 1; stroke-width: 0px; fill: rgb(99, 110, 250); fill-opacity: 1;\"/><path class=\"point\" transform=\"translate(92.69,361.91)\" d=\"M3,0A3,3 0 1,1 0,-3A3,3 0 0,1 3,0Z\" style=\"opacity: 1; stroke-width: 0px; fill: rgb(99, 110, 250); fill-opacity: 1;\"/><path class=\"point\" transform=\"translate(215.92,361.92)\" d=\"M3,0A3,3 0 1,1 0,-3A3,3 0 0,1 3,0Z\" style=\"opacity: 1; stroke-width: 0px; fill: rgb(99, 110, 250); fill-opacity: 1;\"/><path class=\"point\" transform=\"translate(231.27,362.15)\" d=\"M3,0A3,3 0 1,1 0,-3A3,3 0 0,1 3,0Z\" style=\"opacity: 1; stroke-width: 0px; fill: rgb(99, 110, 250); fill-opacity: 1;\"/><path class=\"point\" transform=\"translate(220.18,362.33)\" d=\"M3,0A3,3 0 1,1 0,-3A3,3 0 0,1 3,0Z\" style=\"opacity: 1; stroke-width: 0px; fill: rgb(99, 110, 250); fill-opacity: 1;\"/><path class=\"point\" transform=\"translate(233.25,363.97)\" d=\"M3,0A3,3 0 1,1 0,-3A3,3 0 0,1 3,0Z\" style=\"opacity: 1; stroke-width: 0px; fill: rgb(99, 110, 250); fill-opacity: 1;\"/><path class=\"point\" transform=\"translate(404.49,364.29)\" d=\"M3,0A3,3 0 1,1 0,-3A3,3 0 0,1 3,0Z\" style=\"opacity: 1; stroke-width: 0px; fill: rgb(99, 110, 250); fill-opacity: 1;\"/><path class=\"point\" transform=\"translate(258.47,364.52)\" d=\"M3,0A3,3 0 1,1 0,-3A3,3 0 0,1 3,0Z\" style=\"opacity: 1; stroke-width: 0px; fill: rgb(99, 110, 250); fill-opacity: 1;\"/><path class=\"point\" transform=\"translate(319.4,364.58)\" d=\"M3,0A3,3 0 1,1 0,-3A3,3 0 0,1 3,0Z\" style=\"opacity: 1; stroke-width: 0px; fill: rgb(99, 110, 250); fill-opacity: 1;\"/><path class=\"point\" transform=\"translate(102.72,365.03)\" d=\"M3,0A3,3 0 1,1 0,-3A3,3 0 0,1 3,0Z\" style=\"opacity: 1; stroke-width: 0px; fill: rgb(99, 110, 250); fill-opacity: 1;\"/><path class=\"point\" transform=\"translate(167.91,365.18)\" d=\"M3,0A3,3 0 1,1 0,-3A3,3 0 0,1 3,0Z\" style=\"opacity: 1; stroke-width: 0px; fill: rgb(99, 110, 250); fill-opacity: 1;\"/><path class=\"point\" transform=\"translate(337.79,365.23)\" d=\"M3,0A3,3 0 1,1 0,-3A3,3 0 0,1 3,0Z\" style=\"opacity: 1; stroke-width: 0px; fill: rgb(99, 110, 250); fill-opacity: 1;\"/><path class=\"point\" transform=\"translate(199.82,365.45)\" d=\"M3,0A3,3 0 1,1 0,-3A3,3 0 0,1 3,0Z\" style=\"opacity: 1; stroke-width: 0px; fill: rgb(99, 110, 250); fill-opacity: 1;\"/><path class=\"point\" transform=\"translate(211.97,365.87)\" d=\"M3,0A3,3 0 1,1 0,-3A3,3 0 0,1 3,0Z\" style=\"opacity: 1; stroke-width: 0px; fill: rgb(99, 110, 250); fill-opacity: 1;\"/><path class=\"point\" transform=\"translate(341.74,367.01)\" d=\"M3,0A3,3 0 1,1 0,-3A3,3 0 0,1 3,0Z\" style=\"opacity: 1; stroke-width: 0px; fill: rgb(99, 110, 250); fill-opacity: 1;\"/><path class=\"point\" transform=\"translate(260.6,368.21)\" d=\"M3,0A3,3 0 1,1 0,-3A3,3 0 0,1 3,0Z\" style=\"opacity: 1; stroke-width: 0px; fill: rgb(99, 110, 250); fill-opacity: 1;\"/><path class=\"point\" transform=\"translate(234.92,368.64)\" d=\"M3,0A3,3 0 1,1 0,-3A3,3 0 0,1 3,0Z\" style=\"opacity: 1; stroke-width: 0px; fill: rgb(99, 110, 250); fill-opacity: 1;\"/><path class=\"point\" transform=\"translate(377.45,368.96)\" d=\"M3,0A3,3 0 1,1 0,-3A3,3 0 0,1 3,0Z\" style=\"opacity: 1; stroke-width: 0px; fill: rgb(99, 110, 250); fill-opacity: 1;\"/><path class=\"point\" transform=\"translate(306.33,370.41)\" d=\"M3,0A3,3 0 1,1 0,-3A3,3 0 0,1 3,0Z\" style=\"opacity: 1; stroke-width: 0px; fill: rgb(99, 110, 250); fill-opacity: 1;\"/><path class=\"point\" transform=\"translate(329.89,371.69)\" d=\"M3,0A3,3 0 1,1 0,-3A3,3 0 0,1 3,0Z\" style=\"opacity: 1; stroke-width: 0px; fill: rgb(99, 110, 250); fill-opacity: 1;\"/><path class=\"point\" transform=\"translate(305.27,372.35)\" d=\"M3,0A3,3 0 1,1 0,-3A3,3 0 0,1 3,0Z\" style=\"opacity: 1; stroke-width: 0px; fill: rgb(99, 110, 250); fill-opacity: 1;\"/><path class=\"point\" transform=\"translate(335.81,372.37)\" d=\"M3,0A3,3 0 1,1 0,-3A3,3 0 0,1 3,0Z\" style=\"opacity: 1; stroke-width: 0px; fill: rgb(99, 110, 250); fill-opacity: 1;\"/><path class=\"point\" transform=\"translate(385.35,373.35)\" d=\"M3,0A3,3 0 1,1 0,-3A3,3 0 0,1 3,0Z\" style=\"opacity: 1; stroke-width: 0px; fill: rgb(99, 110, 250); fill-opacity: 1;\"/><path class=\"point\" transform=\"translate(225.8,373.5)\" d=\"M3,0A3,3 0 1,1 0,-3A3,3 0 0,1 3,0Z\" style=\"opacity: 1; stroke-width: 0px; fill: rgb(99, 110, 250); fill-opacity: 1;\"/><path class=\"point\" transform=\"translate(458.28,373.98)\" d=\"M3,0A3,3 0 1,1 0,-3A3,3 0 0,1 3,0Z\" style=\"opacity: 1; stroke-width: 0px; fill: rgb(99, 110, 250); fill-opacity: 1;\"/><path class=\"point\" transform=\"translate(195.26,374.12)\" d=\"M3,0A3,3 0 1,1 0,-3A3,3 0 0,1 3,0Z\" style=\"opacity: 1; stroke-width: 0px; fill: rgb(99, 110, 250); fill-opacity: 1;\"/><path class=\"point\" transform=\"translate(265.46,375.01)\" d=\"M3,0A3,3 0 1,1 0,-3A3,3 0 0,1 3,0Z\" style=\"opacity: 1; stroke-width: 0px; fill: rgb(99, 110, 250); fill-opacity: 1;\"/><path class=\"point\" transform=\"translate(273.36,375.61)\" d=\"M3,0A3,3 0 1,1 0,-3A3,3 0 0,1 3,0Z\" style=\"opacity: 1; stroke-width: 0px; fill: rgb(99, 110, 250); fill-opacity: 1;\"/><path class=\"point\" transform=\"translate(193.59,375.77)\" d=\"M3,0A3,3 0 1,1 0,-3A3,3 0 0,1 3,0Z\" style=\"opacity: 1; stroke-width: 0px; fill: rgb(99, 110, 250); fill-opacity: 1;\"/><path class=\"point\" transform=\"translate(336.57,375.78)\" d=\"M3,0A3,3 0 1,1 0,-3A3,3 0 0,1 3,0Z\" style=\"opacity: 1; stroke-width: 0px; fill: rgb(99, 110, 250); fill-opacity: 1;\"/><path class=\"point\" transform=\"translate(279.74,378.42)\" d=\"M3,0A3,3 0 1,1 0,-3A3,3 0 0,1 3,0Z\" style=\"opacity: 1; stroke-width: 0px; fill: rgb(99, 110, 250); fill-opacity: 1;\"/><path class=\"point\" transform=\"translate(300.71,378.67)\" d=\"M3,0A3,3 0 1,1 0,-3A3,3 0 0,1 3,0Z\" style=\"opacity: 1; stroke-width: 0px; fill: rgb(99, 110, 250); fill-opacity: 1;\"/><path class=\"point\" transform=\"translate(148.61,379.35)\" d=\"M3,0A3,3 0 1,1 0,-3A3,3 0 0,1 3,0Z\" style=\"opacity: 1; stroke-width: 0px; fill: rgb(99, 110, 250); fill-opacity: 1;\"/><path class=\"point\" transform=\"translate(424.7,379.93)\" d=\"M3,0A3,3 0 1,1 0,-3A3,3 0 0,1 3,0Z\" style=\"opacity: 1; stroke-width: 0px; fill: rgb(99, 110, 250); fill-opacity: 1;\"/><path class=\"point\" transform=\"translate(74.91,379.95)\" d=\"M3,0A3,3 0 1,1 0,-3A3,3 0 0,1 3,0Z\" style=\"opacity: 1; stroke-width: 0px; fill: rgb(99, 110, 250); fill-opacity: 1;\"/><path class=\"point\" transform=\"translate(302.23,380)\" d=\"M3,0A3,3 0 1,1 0,-3A3,3 0 0,1 3,0Z\" style=\"opacity: 1; stroke-width: 0px; fill: rgb(99, 110, 250); fill-opacity: 1;\"/><path class=\"point\" transform=\"translate(217.44,380.48)\" d=\"M3,0A3,3 0 1,1 0,-3A3,3 0 0,1 3,0Z\" style=\"opacity: 1; stroke-width: 0px; fill: rgb(99, 110, 250); fill-opacity: 1;\"/><path class=\"point\" transform=\"translate(152.26,381.23)\" d=\"M3,0A3,3 0 1,1 0,-3A3,3 0 0,1 3,0Z\" style=\"opacity: 1; stroke-width: 0px; fill: rgb(99, 110, 250); fill-opacity: 1;\"/><path class=\"point\" transform=\"translate(442.94,381.36)\" d=\"M3,0A3,3 0 1,1 0,-3A3,3 0 0,1 3,0Z\" style=\"opacity: 1; stroke-width: 0px; fill: rgb(99, 110, 250); fill-opacity: 1;\"/><path class=\"point\" transform=\"translate(299.8,381.38)\" d=\"M3,0A3,3 0 1,1 0,-3A3,3 0 0,1 3,0Z\" style=\"opacity: 1; stroke-width: 0px; fill: rgb(99, 110, 250); fill-opacity: 1;\"/><path class=\"point\" transform=\"translate(286.43,381.54)\" d=\"M3,0A3,3 0 1,1 0,-3A3,3 0 0,1 3,0Z\" style=\"opacity: 1; stroke-width: 0px; fill: rgb(99, 110, 250); fill-opacity: 1;\"/><path class=\"point\" transform=\"translate(306.64,381.72)\" d=\"M3,0A3,3 0 1,1 0,-3A3,3 0 0,1 3,0Z\" style=\"opacity: 1; stroke-width: 0px; fill: rgb(99, 110, 250); fill-opacity: 1;\"/><path class=\"point\" transform=\"translate(407.23,382.13)\" d=\"M3,0A3,3 0 1,1 0,-3A3,3 0 0,1 3,0Z\" style=\"opacity: 1; stroke-width: 0px; fill: rgb(99, 110, 250); fill-opacity: 1;\"/><path class=\"point\" transform=\"translate(387.02,382.82)\" d=\"M3,0A3,3 0 1,1 0,-3A3,3 0 0,1 3,0Z\" style=\"opacity: 1; stroke-width: 0px; fill: rgb(99, 110, 250); fill-opacity: 1;\"/><path class=\"point\" transform=\"translate(326.54,383.17)\" d=\"M3,0A3,3 0 1,1 0,-3A3,3 0 0,1 3,0Z\" style=\"opacity: 1; stroke-width: 0px; fill: rgb(99, 110, 250); fill-opacity: 1;\"/><path class=\"point\" transform=\"translate(143.14,383.43)\" d=\"M3,0A3,3 0 1,1 0,-3A3,3 0 0,1 3,0Z\" style=\"opacity: 1; stroke-width: 0px; fill: rgb(99, 110, 250); fill-opacity: 1;\"/><path class=\"point\" transform=\"translate(306.33,383.49)\" d=\"M3,0A3,3 0 1,1 0,-3A3,3 0 0,1 3,0Z\" style=\"opacity: 1; stroke-width: 0px; fill: rgb(99, 110, 250); fill-opacity: 1;\"/><path class=\"point\" transform=\"translate(261.66,383.57)\" d=\"M3,0A3,3 0 1,1 0,-3A3,3 0 0,1 3,0Z\" style=\"opacity: 1; stroke-width: 0px; fill: rgb(99, 110, 250); fill-opacity: 1;\"/><path class=\"point\" transform=\"translate(326.09,383.68)\" d=\"M3,0A3,3 0 1,1 0,-3A3,3 0 0,1 3,0Z\" style=\"opacity: 1; stroke-width: 0px; fill: rgb(99, 110, 250); fill-opacity: 1;\"/><path class=\"point\" transform=\"translate(294.18,383.75)\" d=\"M3,0A3,3 0 1,1 0,-3A3,3 0 0,1 3,0Z\" style=\"opacity: 1; stroke-width: 0px; fill: rgb(99, 110, 250); fill-opacity: 1;\"/><path class=\"point\" transform=\"translate(413.16,383.84)\" d=\"M3,0A3,3 0 1,1 0,-3A3,3 0 0,1 3,0Z\" style=\"opacity: 1; stroke-width: 0px; fill: rgb(99, 110, 250); fill-opacity: 1;\"/><path class=\"point\" transform=\"translate(253.91,384.2)\" d=\"M3,0A3,3 0 1,1 0,-3A3,3 0 0,1 3,0Z\" style=\"opacity: 1; stroke-width: 0px; fill: rgb(99, 110, 250); fill-opacity: 1;\"/><path class=\"point\" transform=\"translate(311.8,384.21)\" d=\"M3,0A3,3 0 1,1 0,-3A3,3 0 0,1 3,0Z\" style=\"opacity: 1; stroke-width: 0px; fill: rgb(99, 110, 250); fill-opacity: 1;\"/><path class=\"point\" transform=\"translate(288.86,384.43)\" d=\"M3,0A3,3 0 1,1 0,-3A3,3 0 0,1 3,0Z\" style=\"opacity: 1; stroke-width: 0px; fill: rgb(99, 110, 250); fill-opacity: 1;\"/><path class=\"point\" transform=\"translate(452.21,384.44)\" d=\"M3,0A3,3 0 1,1 0,-3A3,3 0 0,1 3,0Z\" style=\"opacity: 1; stroke-width: 0px; fill: rgb(99, 110, 250); fill-opacity: 1;\"/><path class=\"point\" transform=\"translate(265.46,384.68)\" d=\"M3,0A3,3 0 1,1 0,-3A3,3 0 0,1 3,0Z\" style=\"opacity: 1; stroke-width: 0px; fill: rgb(99, 110, 250); fill-opacity: 1;\"/><path class=\"point\" transform=\"translate(110.77,384.82)\" d=\"M3,0A3,3 0 1,1 0,-3A3,3 0 0,1 3,0Z\" style=\"opacity: 1; stroke-width: 0px; fill: rgb(99, 110, 250); fill-opacity: 1;\"/><path class=\"point\" transform=\"translate(323.66,384.86)\" d=\"M3,0A3,3 0 1,1 0,-3A3,3 0 0,1 3,0Z\" style=\"opacity: 1; stroke-width: 0px; fill: rgb(99, 110, 250); fill-opacity: 1;\"/><path class=\"point\" transform=\"translate(383.37,384.92)\" d=\"M3,0A3,3 0 1,1 0,-3A3,3 0 0,1 3,0Z\" style=\"opacity: 1; stroke-width: 0px; fill: rgb(99, 110, 250); fill-opacity: 1;\"/><path class=\"point\" transform=\"translate(138.12,385.69)\" d=\"M3,0A3,3 0 1,1 0,-3A3,3 0 0,1 3,0Z\" style=\"opacity: 1; stroke-width: 0px; fill: rgb(99, 110, 250); fill-opacity: 1;\"/><path class=\"point\" transform=\"translate(259.84,385.88)\" d=\"M3,0A3,3 0 1,1 0,-3A3,3 0 0,1 3,0Z\" style=\"opacity: 1; stroke-width: 0px; fill: rgb(99, 110, 250); fill-opacity: 1;\"/><path class=\"point\" transform=\"translate(304.81,386.09)\" d=\"M3,0A3,3 0 1,1 0,-3A3,3 0 0,1 3,0Z\" style=\"opacity: 1; stroke-width: 0px; fill: rgb(99, 110, 250); fill-opacity: 1;\"/><path class=\"point\" transform=\"translate(123.38,386.29)\" d=\"M3,0A3,3 0 1,1 0,-3A3,3 0 0,1 3,0Z\" style=\"opacity: 1; stroke-width: 0px; fill: rgb(99, 110, 250); fill-opacity: 1;\"/><path class=\"point\" transform=\"translate(448.26,386.35)\" d=\"M3,0A3,3 0 1,1 0,-3A3,3 0 0,1 3,0Z\" style=\"opacity: 1; stroke-width: 0px; fill: rgb(99, 110, 250); fill-opacity: 1;\"/><path class=\"point\" transform=\"translate(183.56,386.47)\" d=\"M3,0A3,3 0 1,1 0,-3A3,3 0 0,1 3,0Z\" style=\"opacity: 1; stroke-width: 0px; fill: rgb(99, 110, 250); fill-opacity: 1;\"/><path class=\"point\" transform=\"translate(308.76,386.48)\" d=\"M3,0A3,3 0 1,1 0,-3A3,3 0 0,1 3,0Z\" style=\"opacity: 1; stroke-width: 0px; fill: rgb(99, 110, 250); fill-opacity: 1;\"/><path class=\"point\" transform=\"translate(368.48,386.63)\" d=\"M3,0A3,3 0 1,1 0,-3A3,3 0 0,1 3,0Z\" style=\"opacity: 1; stroke-width: 0px; fill: rgb(99, 110, 250); fill-opacity: 1;\"/><path class=\"point\" transform=\"translate(340.83,386.67)\" d=\"M3,0A3,3 0 1,1 0,-3A3,3 0 0,1 3,0Z\" style=\"opacity: 1; stroke-width: 0px; fill: rgb(99, 110, 250); fill-opacity: 1;\"/><path class=\"point\" transform=\"translate(398.42,387.06)\" d=\"M3,0A3,3 0 1,1 0,-3A3,3 0 0,1 3,0Z\" style=\"opacity: 1; stroke-width: 0px; fill: rgb(99, 110, 250); fill-opacity: 1;\"/><path class=\"point\" transform=\"translate(358.15,387.35)\" d=\"M3,0A3,3 0 1,1 0,-3A3,3 0 0,1 3,0Z\" style=\"opacity: 1; stroke-width: 0px; fill: rgb(99, 110, 250); fill-opacity: 1;\"/><path class=\"point\" transform=\"translate(320.16,387.62)\" d=\"M3,0A3,3 0 1,1 0,-3A3,3 0 0,1 3,0Z\" style=\"opacity: 1; stroke-width: 0px; fill: rgb(99, 110, 250); fill-opacity: 1;\"/><path class=\"point\" transform=\"translate(495.51,387.91)\" d=\"M3,0A3,3 0 1,1 0,-3A3,3 0 0,1 3,0Z\" style=\"opacity: 1; stroke-width: 0px; fill: rgb(99, 110, 250); fill-opacity: 1;\"/><path class=\"point\" transform=\"translate(402.06,388.09)\" d=\"M3,0A3,3 0 1,1 0,-3A3,3 0 0,1 3,0Z\" style=\"opacity: 1; stroke-width: 0px; fill: rgb(99, 110, 250); fill-opacity: 1;\"/><path class=\"point\" transform=\"translate(149.98,388.37)\" d=\"M3,0A3,3 0 1,1 0,-3A3,3 0 0,1 3,0Z\" style=\"opacity: 1; stroke-width: 0px; fill: rgb(99, 110, 250); fill-opacity: 1;\"/><path class=\"point\" transform=\"translate(330.34,388.38)\" d=\"M3,0A3,3 0 1,1 0,-3A3,3 0 0,1 3,0Z\" style=\"opacity: 1; stroke-width: 0px; fill: rgb(99, 110, 250); fill-opacity: 1;\"/><path class=\"point\" transform=\"translate(234.16,388.39)\" d=\"M3,0A3,3 0 1,1 0,-3A3,3 0 0,1 3,0Z\" style=\"opacity: 1; stroke-width: 0px; fill: rgb(99, 110, 250); fill-opacity: 1;\"/><path class=\"point\" transform=\"translate(298.43,388.6)\" d=\"M3,0A3,3 0 1,1 0,-3A3,3 0 0,1 3,0Z\" style=\"opacity: 1; stroke-width: 0px; fill: rgb(99, 110, 250); fill-opacity: 1;\"/><path class=\"point\" transform=\"translate(357.69,388.66)\" d=\"M3,0A3,3 0 1,1 0,-3A3,3 0 0,1 3,0Z\" style=\"opacity: 1; stroke-width: 0px; fill: rgb(99, 110, 250); fill-opacity: 1;\"/><path class=\"point\" transform=\"translate(164.41,388.72)\" d=\"M3,0A3,3 0 1,1 0,-3A3,3 0 0,1 3,0Z\" style=\"opacity: 1; stroke-width: 0px; fill: rgb(99, 110, 250); fill-opacity: 1;\"/><path class=\"point\" transform=\"translate(428.2,389.02)\" d=\"M3,0A3,3 0 1,1 0,-3A3,3 0 0,1 3,0Z\" style=\"opacity: 1; stroke-width: 0px; fill: rgb(99, 110, 250); fill-opacity: 1;\"/><path class=\"point\" transform=\"translate(214.71,389.15)\" d=\"M3,0A3,3 0 1,1 0,-3A3,3 0 0,1 3,0Z\" style=\"opacity: 1; stroke-width: 0px; fill: rgb(99, 110, 250); fill-opacity: 1;\"/><path class=\"point\" transform=\"translate(403.73,389.19)\" d=\"M3,0A3,3 0 1,1 0,-3A3,3 0 0,1 3,0Z\" style=\"opacity: 1; stroke-width: 0px; fill: rgb(99, 110, 250); fill-opacity: 1;\"/><path class=\"point\" transform=\"translate(162.28,389.46)\" d=\"M3,0A3,3 0 1,1 0,-3A3,3 0 0,1 3,0Z\" style=\"opacity: 1; stroke-width: 0px; fill: rgb(99, 110, 250); fill-opacity: 1;\"/><path class=\"point\" transform=\"translate(373.04,389.6)\" d=\"M3,0A3,3 0 1,1 0,-3A3,3 0 0,1 3,0Z\" style=\"opacity: 1; stroke-width: 0px; fill: rgb(99, 110, 250); fill-opacity: 1;\"/><path class=\"point\" transform=\"translate(262.27,389.61)\" d=\"M3,0A3,3 0 1,1 0,-3A3,3 0 0,1 3,0Z\" style=\"opacity: 1; stroke-width: 0px; fill: rgb(99, 110, 250); fill-opacity: 1;\"/><path class=\"point\" transform=\"translate(291.59,389.76)\" d=\"M3,0A3,3 0 1,1 0,-3A3,3 0 0,1 3,0Z\" style=\"opacity: 1; stroke-width: 0px; fill: rgb(99, 110, 250); fill-opacity: 1;\"/><path class=\"point\" transform=\"translate(483.05,389.84)\" d=\"M3,0A3,3 0 1,1 0,-3A3,3 0 0,1 3,0Z\" style=\"opacity: 1; stroke-width: 0px; fill: rgb(99, 110, 250); fill-opacity: 1;\"/><path class=\"point\" transform=\"translate(300.41,389.86)\" d=\"M3,0A3,3 0 1,1 0,-3A3,3 0 0,1 3,0Z\" style=\"opacity: 1; stroke-width: 0px; fill: rgb(99, 110, 250); fill-opacity: 1;\"/><path class=\"point\" transform=\"translate(432.61,389.87)\" d=\"M3,0A3,3 0 1,1 0,-3A3,3 0 0,1 3,0Z\" style=\"opacity: 1; stroke-width: 0px; fill: rgb(99, 110, 250); fill-opacity: 1;\"/><path class=\"point\" transform=\"translate(403.43,389.87)\" d=\"M3,0A3,3 0 1,1 0,-3A3,3 0 0,1 3,0Z\" style=\"opacity: 1; stroke-width: 0px; fill: rgb(99, 110, 250); fill-opacity: 1;\"/><path class=\"point\" transform=\"translate(466.34,390.41)\" d=\"M3,0A3,3 0 1,1 0,-3A3,3 0 0,1 3,0Z\" style=\"opacity: 1; stroke-width: 0px; fill: rgb(99, 110, 250); fill-opacity: 1;\"/><path class=\"point\" transform=\"translate(267.59,390.51)\" d=\"M3,0A3,3 0 1,1 0,-3A3,3 0 0,1 3,0Z\" style=\"opacity: 1; stroke-width: 0px; fill: rgb(99, 110, 250); fill-opacity: 1;\"/><path class=\"point\" transform=\"translate(257.1,390.53)\" d=\"M3,0A3,3 0 1,1 0,-3A3,3 0 0,1 3,0Z\" style=\"opacity: 1; stroke-width: 0px; fill: rgb(99, 110, 250); fill-opacity: 1;\"/><path class=\"point\" transform=\"translate(393.86,390.62)\" d=\"M3,0A3,3 0 1,1 0,-3A3,3 0 0,1 3,0Z\" style=\"opacity: 1; stroke-width: 0px; fill: rgb(99, 110, 250); fill-opacity: 1;\"/><path class=\"point\" transform=\"translate(335.51,390.76)\" d=\"M3,0A3,3 0 1,1 0,-3A3,3 0 0,1 3,0Z\" style=\"opacity: 1; stroke-width: 0px; fill: rgb(99, 110, 250); fill-opacity: 1;\"/><path class=\"point\" transform=\"translate(339.91,390.77)\" d=\"M3,0A3,3 0 1,1 0,-3A3,3 0 0,1 3,0Z\" style=\"opacity: 1; stroke-width: 0px; fill: rgb(99, 110, 250); fill-opacity: 1;\"/><path class=\"point\" transform=\"translate(407.53,390.81)\" d=\"M3,0A3,3 0 1,1 0,-3A3,3 0 0,1 3,0Z\" style=\"opacity: 1; stroke-width: 0px; fill: rgb(99, 110, 250); fill-opacity: 1;\"/><path class=\"point\" transform=\"translate(377.45,390.83)\" d=\"M3,0A3,3 0 1,1 0,-3A3,3 0 0,1 3,0Z\" style=\"opacity: 1; stroke-width: 0px; fill: rgb(99, 110, 250); fill-opacity: 1;\"/><path class=\"point\" transform=\"translate(211.82,390.84)\" d=\"M3,0A3,3 0 1,1 0,-3A3,3 0 0,1 3,0Z\" style=\"opacity: 1; stroke-width: 0px; fill: rgb(99, 110, 250); fill-opacity: 1;\"/><path class=\"point\" transform=\"translate(331.86,390.92)\" d=\"M3,0A3,3 0 1,1 0,-3A3,3 0 0,1 3,0Z\" style=\"opacity: 1; stroke-width: 0px; fill: rgb(99, 110, 250); fill-opacity: 1;\"/><path class=\"point\" transform=\"translate(301.62,390.94)\" d=\"M3,0A3,3 0 1,1 0,-3A3,3 0 0,1 3,0Z\" style=\"opacity: 1; stroke-width: 0px; fill: rgb(99, 110, 250); fill-opacity: 1;\"/><path class=\"point\" transform=\"translate(473.94,391.04)\" d=\"M3,0A3,3 0 1,1 0,-3A3,3 0 0,1 3,0Z\" style=\"opacity: 1; stroke-width: 0px; fill: rgb(99, 110, 250); fill-opacity: 1;\"/><path class=\"point\" transform=\"translate(268.95,391.09)\" d=\"M3,0A3,3 0 1,1 0,-3A3,3 0 0,1 3,0Z\" style=\"opacity: 1; stroke-width: 0px; fill: rgb(99, 110, 250); fill-opacity: 1;\"/><path class=\"point\" transform=\"translate(254.82,391.1)\" d=\"M3,0A3,3 0 1,1 0,-3A3,3 0 0,1 3,0Z\" style=\"opacity: 1; stroke-width: 0px; fill: rgb(99, 110, 250); fill-opacity: 1;\"/><path class=\"point\" transform=\"translate(301.32,391.37)\" d=\"M3,0A3,3 0 1,1 0,-3A3,3 0 0,1 3,0Z\" style=\"opacity: 1; stroke-width: 0px; fill: rgb(99, 110, 250); fill-opacity: 1;\"/><path class=\"point\" transform=\"translate(466.79,391.49)\" d=\"M3,0A3,3 0 1,1 0,-3A3,3 0 0,1 3,0Z\" style=\"opacity: 1; stroke-width: 0px; fill: rgb(99, 110, 250); fill-opacity: 1;\"/><path class=\"point\" transform=\"translate(415.89,391.76)\" d=\"M3,0A3,3 0 1,1 0,-3A3,3 0 0,1 3,0Z\" style=\"opacity: 1; stroke-width: 0px; fill: rgb(99, 110, 250); fill-opacity: 1;\"/><path class=\"point\" transform=\"translate(331.25,391.92)\" d=\"M3,0A3,3 0 1,1 0,-3A3,3 0 0,1 3,0Z\" style=\"opacity: 1; stroke-width: 0px; fill: rgb(99, 110, 250); fill-opacity: 1;\"/><path class=\"point\" transform=\"translate(343.87,391.99)\" d=\"M3,0A3,3 0 1,1 0,-3A3,3 0 0,1 3,0Z\" style=\"opacity: 1; stroke-width: 0px; fill: rgb(99, 110, 250); fill-opacity: 1;\"/><path class=\"point\" transform=\"translate(422.58,392.05)\" d=\"M3,0A3,3 0 1,1 0,-3A3,3 0 0,1 3,0Z\" style=\"opacity: 1; stroke-width: 0px; fill: rgb(99, 110, 250); fill-opacity: 1;\"/><path class=\"point\" transform=\"translate(397.2,392.09)\" d=\"M3,0A3,3 0 1,1 0,-3A3,3 0 0,1 3,0Z\" style=\"opacity: 1; stroke-width: 0px; fill: rgb(99, 110, 250); fill-opacity: 1;\"/><path class=\"point\" transform=\"translate(295.09,392.11)\" d=\"M3,0A3,3 0 1,1 0,-3A3,3 0 0,1 3,0Z\" style=\"opacity: 1; stroke-width: 0px; fill: rgb(99, 110, 250); fill-opacity: 1;\"/><path class=\"point\" transform=\"translate(187.81,392.12)\" d=\"M3,0A3,3 0 1,1 0,-3A3,3 0 0,1 3,0Z\" style=\"opacity: 1; stroke-width: 0px; fill: rgb(99, 110, 250); fill-opacity: 1;\"/><path class=\"point\" transform=\"translate(358.45,392.24)\" d=\"M3,0A3,3 0 1,1 0,-3A3,3 0 0,1 3,0Z\" style=\"opacity: 1; stroke-width: 0px; fill: rgb(99, 110, 250); fill-opacity: 1;\"/><path class=\"point\" transform=\"translate(330.65,392.35)\" d=\"M3,0A3,3 0 1,1 0,-3A3,3 0 0,1 3,0Z\" style=\"opacity: 1; stroke-width: 0px; fill: rgb(99, 110, 250); fill-opacity: 1;\"/><path class=\"point\" transform=\"translate(367.11,392.57)\" d=\"M3,0A3,3 0 1,1 0,-3A3,3 0 0,1 3,0Z\" style=\"opacity: 1; stroke-width: 0px; fill: rgb(99, 110, 250); fill-opacity: 1;\"/><path class=\"point\" transform=\"translate(335.81,392.68)\" d=\"M3,0A3,3 0 1,1 0,-3A3,3 0 0,1 3,0Z\" style=\"opacity: 1; stroke-width: 0px; fill: rgb(99, 110, 250); fill-opacity: 1;\"/><path class=\"point\" transform=\"translate(395.38,393.32)\" d=\"M3,0A3,3 0 1,1 0,-3A3,3 0 0,1 3,0Z\" style=\"opacity: 1; stroke-width: 0px; fill: rgb(99, 110, 250); fill-opacity: 1;\"/><path class=\"point\" transform=\"translate(504.93,393.5)\" d=\"M3,0A3,3 0 1,1 0,-3A3,3 0 0,1 3,0Z\" style=\"opacity: 1; stroke-width: 0px; fill: rgb(99, 110, 250); fill-opacity: 1;\"/><path class=\"point\" transform=\"translate(303.75,393.66)\" d=\"M3,0A3,3 0 1,1 0,-3A3,3 0 0,1 3,0Z\" style=\"opacity: 1; stroke-width: 0px; fill: rgb(99, 110, 250); fill-opacity: 1;\"/><path class=\"point\" transform=\"translate(180.06,393.7)\" d=\"M3,0A3,3 0 1,1 0,-3A3,3 0 0,1 3,0Z\" style=\"opacity: 1; stroke-width: 0px; fill: rgb(99, 110, 250); fill-opacity: 1;\"/><path class=\"point\" transform=\"translate(408.75,393.75)\" d=\"M3,0A3,3 0 1,1 0,-3A3,3 0 0,1 3,0Z\" style=\"opacity: 1; stroke-width: 0px; fill: rgb(99, 110, 250); fill-opacity: 1;\"/><path class=\"point\" transform=\"translate(378.51,393.92)\" d=\"M3,0A3,3 0 1,1 0,-3A3,3 0 0,1 3,0Z\" style=\"opacity: 1; stroke-width: 0px; fill: rgb(99, 110, 250); fill-opacity: 1;\"/><path class=\"point\" transform=\"translate(225.34,394.04)\" d=\"M3,0A3,3 0 1,1 0,-3A3,3 0 0,1 3,0Z\" style=\"opacity: 1; stroke-width: 0px; fill: rgb(99, 110, 250); fill-opacity: 1;\"/><path class=\"point\" transform=\"translate(271.69,394.45)\" d=\"M3,0A3,3 0 1,1 0,-3A3,3 0 0,1 3,0Z\" style=\"opacity: 1; stroke-width: 0px; fill: rgb(99, 110, 250); fill-opacity: 1;\"/><path class=\"point\" transform=\"translate(372.89,394.64)\" d=\"M3,0A3,3 0 1,1 0,-3A3,3 0 0,1 3,0Z\" style=\"opacity: 1; stroke-width: 0px; fill: rgb(99, 110, 250); fill-opacity: 1;\"/><path class=\"point\" transform=\"translate(161.52,394.83)\" d=\"M3,0A3,3 0 1,1 0,-3A3,3 0 0,1 3,0Z\" style=\"opacity: 1; stroke-width: 0px; fill: rgb(99, 110, 250); fill-opacity: 1;\"/><path class=\"point\" transform=\"translate(334.14,394.86)\" d=\"M3,0A3,3 0 1,1 0,-3A3,3 0 0,1 3,0Z\" style=\"opacity: 1; stroke-width: 0px; fill: rgb(99, 110, 250); fill-opacity: 1;\"/><path class=\"point\" transform=\"translate(358.91,395.01)\" d=\"M3,0A3,3 0 1,1 0,-3A3,3 0 0,1 3,0Z\" style=\"opacity: 1; stroke-width: 0px; fill: rgb(99, 110, 250); fill-opacity: 1;\"/><path class=\"point\" transform=\"translate(361.19,395.09)\" d=\"M3,0A3,3 0 1,1 0,-3A3,3 0 0,1 3,0Z\" style=\"opacity: 1; stroke-width: 0px; fill: rgb(99, 110, 250); fill-opacity: 1;\"/><path class=\"point\" transform=\"translate(135.84,395.14)\" d=\"M3,0A3,3 0 1,1 0,-3A3,3 0 0,1 3,0Z\" style=\"opacity: 1; stroke-width: 0px; fill: rgb(99, 110, 250); fill-opacity: 1;\"/><path class=\"point\" transform=\"translate(372.28,395.3)\" d=\"M3,0A3,3 0 1,1 0,-3A3,3 0 0,1 3,0Z\" style=\"opacity: 1; stroke-width: 0px; fill: rgb(99, 110, 250); fill-opacity: 1;\"/><path class=\"point\" transform=\"translate(386.11,395.35)\" d=\"M3,0A3,3 0 1,1 0,-3A3,3 0 0,1 3,0Z\" style=\"opacity: 1; stroke-width: 0px; fill: rgb(99, 110, 250); fill-opacity: 1;\"/><path class=\"point\" transform=\"translate(356.33,395.51)\" d=\"M3,0A3,3 0 1,1 0,-3A3,3 0 0,1 3,0Z\" style=\"opacity: 1; stroke-width: 0px; fill: rgb(99, 110, 250); fill-opacity: 1;\"/><path class=\"point\" transform=\"translate(460.26,395.79)\" d=\"M3,0A3,3 0 1,1 0,-3A3,3 0 0,1 3,0Z\" style=\"opacity: 1; stroke-width: 0px; fill: rgb(99, 110, 250); fill-opacity: 1;\"/><path class=\"point\" transform=\"translate(297.37,395.82)\" d=\"M3,0A3,3 0 1,1 0,-3A3,3 0 0,1 3,0Z\" style=\"opacity: 1; stroke-width: 0px; fill: rgb(99, 110, 250); fill-opacity: 1;\"/><path class=\"point\" transform=\"translate(386.56,395.83)\" d=\"M3,0A3,3 0 1,1 0,-3A3,3 0 0,1 3,0Z\" style=\"opacity: 1; stroke-width: 0px; fill: rgb(99, 110, 250); fill-opacity: 1;\"/><path class=\"point\" transform=\"translate(125.51,395.88)\" d=\"M3,0A3,3 0 1,1 0,-3A3,3 0 0,1 3,0Z\" style=\"opacity: 1; stroke-width: 0px; fill: rgb(99, 110, 250); fill-opacity: 1;\"/><path class=\"point\" transform=\"translate(304.21,395.94)\" d=\"M3,0A3,3 0 1,1 0,-3A3,3 0 0,1 3,0Z\" style=\"opacity: 1; stroke-width: 0px; fill: rgb(99, 110, 250); fill-opacity: 1;\"/><path class=\"point\" transform=\"translate(464.36,395.98)\" d=\"M3,0A3,3 0 1,1 0,-3A3,3 0 0,1 3,0Z\" style=\"opacity: 1; stroke-width: 0px; fill: rgb(99, 110, 250); fill-opacity: 1;\"/><path class=\"point\" transform=\"translate(568.6,396.01)\" d=\"M3,0A3,3 0 1,1 0,-3A3,3 0 0,1 3,0Z\" style=\"opacity: 1; stroke-width: 0px; fill: rgb(99, 110, 250); fill-opacity: 1;\"/><path class=\"point\" transform=\"translate(267.43,396.33)\" d=\"M3,0A3,3 0 1,1 0,-3A3,3 0 0,1 3,0Z\" style=\"opacity: 1; stroke-width: 0px; fill: rgb(99, 110, 250); fill-opacity: 1;\"/><path class=\"point\" transform=\"translate(510.1,396.34)\" d=\"M3,0A3,3 0 1,1 0,-3A3,3 0 0,1 3,0Z\" style=\"opacity: 1; stroke-width: 0px; fill: rgb(99, 110, 250); fill-opacity: 1;\"/><path class=\"point\" transform=\"translate(375.32,396.5)\" d=\"M3,0A3,3 0 1,1 0,-3A3,3 0 0,1 3,0Z\" style=\"opacity: 1; stroke-width: 0px; fill: rgb(99, 110, 250); fill-opacity: 1;\"/><path class=\"point\" transform=\"translate(411.79,396.69)\" d=\"M3,0A3,3 0 1,1 0,-3A3,3 0 0,1 3,0Z\" style=\"opacity: 1; stroke-width: 0px; fill: rgb(99, 110, 250); fill-opacity: 1;\"/><path class=\"point\" transform=\"translate(415.74,396.86)\" d=\"M3,0A3,3 0 1,1 0,-3A3,3 0 0,1 3,0Z\" style=\"opacity: 1; stroke-width: 0px; fill: rgb(99, 110, 250); fill-opacity: 1;\"/><path class=\"point\" transform=\"translate(366.35,396.95)\" d=\"M3,0A3,3 0 1,1 0,-3A3,3 0 0,1 3,0Z\" style=\"opacity: 1; stroke-width: 0px; fill: rgb(99, 110, 250); fill-opacity: 1;\"/><path class=\"point\" transform=\"translate(470.59,397.04)\" d=\"M3,0A3,3 0 1,1 0,-3A3,3 0 0,1 3,0Z\" style=\"opacity: 1; stroke-width: 0px; fill: rgb(99, 110, 250); fill-opacity: 1;\"/><path class=\"point\" transform=\"translate(346.9,397.13)\" d=\"M3,0A3,3 0 1,1 0,-3A3,3 0 0,1 3,0Z\" style=\"opacity: 1; stroke-width: 0px; fill: rgb(99, 110, 250); fill-opacity: 1;\"/><path class=\"point\" transform=\"translate(390.51,397.27)\" d=\"M3,0A3,3 0 1,1 0,-3A3,3 0 0,1 3,0Z\" style=\"opacity: 1; stroke-width: 0px; fill: rgb(99, 110, 250); fill-opacity: 1;\"/><path class=\"point\" transform=\"translate(428.35,397.51)\" d=\"M3,0A3,3 0 1,1 0,-3A3,3 0 0,1 3,0Z\" style=\"opacity: 1; stroke-width: 0px; fill: rgb(99, 110, 250); fill-opacity: 1;\"/><path class=\"point\" transform=\"translate(323.66,397.59)\" d=\"M3,0A3,3 0 1,1 0,-3A3,3 0 0,1 3,0Z\" style=\"opacity: 1; stroke-width: 0px; fill: rgb(99, 110, 250); fill-opacity: 1;\"/><path class=\"point\" transform=\"translate(442.79,397.68)\" d=\"M3,0A3,3 0 1,1 0,-3A3,3 0 0,1 3,0Z\" style=\"opacity: 1; stroke-width: 0px; fill: rgb(99, 110, 250); fill-opacity: 1;\"/><path class=\"point\" transform=\"translate(180.67,397.72)\" d=\"M3,0A3,3 0 1,1 0,-3A3,3 0 0,1 3,0Z\" style=\"opacity: 1; stroke-width: 0px; fill: rgb(99, 110, 250); fill-opacity: 1;\"/><path class=\"point\" transform=\"translate(451.9,397.73)\" d=\"M3,0A3,3 0 1,1 0,-3A3,3 0 0,1 3,0Z\" style=\"opacity: 1; stroke-width: 0px; fill: rgb(99, 110, 250); fill-opacity: 1;\"/><path class=\"point\" transform=\"translate(427.44,397.81)\" d=\"M3,0A3,3 0 1,1 0,-3A3,3 0 0,1 3,0Z\" style=\"opacity: 1; stroke-width: 0px; fill: rgb(99, 110, 250); fill-opacity: 1;\"/><path class=\"point\" transform=\"translate(431.69,397.94)\" d=\"M3,0A3,3 0 1,1 0,-3A3,3 0 0,1 3,0Z\" style=\"opacity: 1; stroke-width: 0px; fill: rgb(99, 110, 250); fill-opacity: 1;\"/><path class=\"point\" transform=\"translate(509.95,398.05)\" d=\"M3,0A3,3 0 1,1 0,-3A3,3 0 0,1 3,0Z\" style=\"opacity: 1; stroke-width: 0px; fill: rgb(99, 110, 250); fill-opacity: 1;\"/><path class=\"point\" transform=\"translate(417.41,398.25)\" d=\"M3,0A3,3 0 1,1 0,-3A3,3 0 0,1 3,0Z\" style=\"opacity: 1; stroke-width: 0px; fill: rgb(99, 110, 250); fill-opacity: 1;\"/><path class=\"point\" transform=\"translate(375.78,398.25)\" d=\"M3,0A3,3 0 1,1 0,-3A3,3 0 0,1 3,0Z\" style=\"opacity: 1; stroke-width: 0px; fill: rgb(99, 110, 250); fill-opacity: 1;\"/><path class=\"point\" transform=\"translate(185.68,398.5)\" d=\"M3,0A3,3 0 1,1 0,-3A3,3 0 0,1 3,0Z\" style=\"opacity: 1; stroke-width: 0px; fill: rgb(99, 110, 250); fill-opacity: 1;\"/><path class=\"point\" transform=\"translate(368.48,398.6)\" d=\"M3,0A3,3 0 1,1 0,-3A3,3 0 0,1 3,0Z\" style=\"opacity: 1; stroke-width: 0px; fill: rgb(99, 110, 250); fill-opacity: 1;\"/><path class=\"point\" transform=\"translate(343.26,398.64)\" d=\"M3,0A3,3 0 1,1 0,-3A3,3 0 0,1 3,0Z\" style=\"opacity: 1; stroke-width: 0px; fill: rgb(99, 110, 250); fill-opacity: 1;\"/><path class=\"point\" transform=\"translate(265.46,398.7)\" d=\"M3,0A3,3 0 1,1 0,-3A3,3 0 0,1 3,0Z\" style=\"opacity: 1; stroke-width: 0px; fill: rgb(99, 110, 250); fill-opacity: 1;\"/><path class=\"point\" transform=\"translate(404.34,398.99)\" d=\"M3,0A3,3 0 1,1 0,-3A3,3 0 0,1 3,0Z\" style=\"opacity: 1; stroke-width: 0px; fill: rgb(99, 110, 250); fill-opacity: 1;\"/><path class=\"point\" transform=\"translate(347.66,399.15)\" d=\"M3,0A3,3 0 1,1 0,-3A3,3 0 0,1 3,0Z\" style=\"opacity: 1; stroke-width: 0px; fill: rgb(99, 110, 250); fill-opacity: 1;\"/><path class=\"point\" transform=\"translate(419.54,399.21)\" d=\"M3,0A3,3 0 1,1 0,-3A3,3 0 0,1 3,0Z\" style=\"opacity: 1; stroke-width: 0px; fill: rgb(99, 110, 250); fill-opacity: 1;\"/><path class=\"point\" transform=\"translate(312.11,399.27)\" d=\"M3,0A3,3 0 1,1 0,-3A3,3 0 0,1 3,0Z\" style=\"opacity: 1; stroke-width: 0px; fill: rgb(99, 110, 250); fill-opacity: 1;\"/><path class=\"point\" transform=\"translate(376.84,399.34)\" d=\"M3,0A3,3 0 1,1 0,-3A3,3 0 0,1 3,0Z\" style=\"opacity: 1; stroke-width: 0px; fill: rgb(99, 110, 250); fill-opacity: 1;\"/><path class=\"point\" transform=\"translate(322.14,399.47)\" d=\"M3,0A3,3 0 1,1 0,-3A3,3 0 0,1 3,0Z\" style=\"opacity: 1; stroke-width: 0px; fill: rgb(99, 110, 250); fill-opacity: 1;\"/><path class=\"point\" transform=\"translate(462.54,399.62)\" d=\"M3,0A3,3 0 1,1 0,-3A3,3 0 0,1 3,0Z\" style=\"opacity: 1; stroke-width: 0px; fill: rgb(99, 110, 250); fill-opacity: 1;\"/><path class=\"point\" transform=\"translate(345.69,399.68)\" d=\"M3,0A3,3 0 1,1 0,-3A3,3 0 0,1 3,0Z\" style=\"opacity: 1; stroke-width: 0px; fill: rgb(99, 110, 250); fill-opacity: 1;\"/><path class=\"point\" transform=\"translate(234.61,399.8)\" d=\"M3,0A3,3 0 1,1 0,-3A3,3 0 0,1 3,0Z\" style=\"opacity: 1; stroke-width: 0px; fill: rgb(99, 110, 250); fill-opacity: 1;\"/><path class=\"point\" transform=\"translate(184.47,399.92)\" d=\"M3,0A3,3 0 1,1 0,-3A3,3 0 0,1 3,0Z\" style=\"opacity: 1; stroke-width: 0px; fill: rgb(99, 110, 250); fill-opacity: 1;\"/><path class=\"point\" transform=\"translate(436.4,400)\" d=\"M3,0A3,3 0 1,1 0,-3A3,3 0 0,1 3,0Z\" style=\"opacity: 1; stroke-width: 0px; fill: rgb(99, 110, 250); fill-opacity: 1;\"/><path class=\"point\" transform=\"translate(347.06,400.53)\" d=\"M3,0A3,3 0 1,1 0,-3A3,3 0 0,1 3,0Z\" style=\"opacity: 1; stroke-width: 0px; fill: rgb(99, 110, 250); fill-opacity: 1;\"/><path class=\"point\" transform=\"translate(383.83,400.6)\" d=\"M3,0A3,3 0 1,1 0,-3A3,3 0 0,1 3,0Z\" style=\"opacity: 1; stroke-width: 0px; fill: rgb(99, 110, 250); fill-opacity: 1;\"/><path class=\"point\" transform=\"translate(340.67,400.63)\" d=\"M3,0A3,3 0 1,1 0,-3A3,3 0 0,1 3,0Z\" style=\"opacity: 1; stroke-width: 0px; fill: rgb(99, 110, 250); fill-opacity: 1;\"/><path class=\"point\" transform=\"translate(373.5,400.63)\" d=\"M3,0A3,3 0 1,1 0,-3A3,3 0 0,1 3,0Z\" style=\"opacity: 1; stroke-width: 0px; fill: rgb(99, 110, 250); fill-opacity: 1;\"/><path class=\"point\" transform=\"translate(241.6,400.72)\" d=\"M3,0A3,3 0 1,1 0,-3A3,3 0 0,1 3,0Z\" style=\"opacity: 1; stroke-width: 0px; fill: rgb(99, 110, 250); fill-opacity: 1;\"/><path class=\"point\" transform=\"translate(365.29,400.97)\" d=\"M3,0A3,3 0 1,1 0,-3A3,3 0 0,1 3,0Z\" style=\"opacity: 1; stroke-width: 0px; fill: rgb(99, 110, 250); fill-opacity: 1;\"/><path class=\"point\" transform=\"translate(273.36,401.06)\" d=\"M3,0A3,3 0 1,1 0,-3A3,3 0 0,1 3,0Z\" style=\"opacity: 1; stroke-width: 0px; fill: rgb(99, 110, 250); fill-opacity: 1;\"/><path class=\"point\" transform=\"translate(260.14,401.21)\" d=\"M3,0A3,3 0 1,1 0,-3A3,3 0 0,1 3,0Z\" style=\"opacity: 1; stroke-width: 0px; fill: rgb(99, 110, 250); fill-opacity: 1;\"/><path class=\"point\" transform=\"translate(443.09,401.24)\" d=\"M3,0A3,3 0 1,1 0,-3A3,3 0 0,1 3,0Z\" style=\"opacity: 1; stroke-width: 0px; fill: rgb(99, 110, 250); fill-opacity: 1;\"/><path class=\"point\" transform=\"translate(388.08,401.5)\" d=\"M3,0A3,3 0 1,1 0,-3A3,3 0 0,1 3,0Z\" style=\"opacity: 1; stroke-width: 0px; fill: rgb(99, 110, 250); fill-opacity: 1;\"/><path class=\"point\" transform=\"translate(169.58,401.62)\" d=\"M3,0A3,3 0 1,1 0,-3A3,3 0 0,1 3,0Z\" style=\"opacity: 1; stroke-width: 0px; fill: rgb(99, 110, 250); fill-opacity: 1;\"/><path class=\"point\" transform=\"translate(348.42,401.68)\" d=\"M3,0A3,3 0 1,1 0,-3A3,3 0 0,1 3,0Z\" style=\"opacity: 1; stroke-width: 0px; fill: rgb(99, 110, 250); fill-opacity: 1;\"/><path class=\"point\" transform=\"translate(327.61,401.91)\" d=\"M3,0A3,3 0 1,1 0,-3A3,3 0 0,1 3,0Z\" style=\"opacity: 1; stroke-width: 0px; fill: rgb(99, 110, 250); fill-opacity: 1;\"/><path class=\"point\" transform=\"translate(256.95,401.98)\" d=\"M3,0A3,3 0 1,1 0,-3A3,3 0 0,1 3,0Z\" style=\"opacity: 1; stroke-width: 0px; fill: rgb(99, 110, 250); fill-opacity: 1;\"/><path class=\"point\" transform=\"translate(291.14,401.98)\" d=\"M3,0A3,3 0 1,1 0,-3A3,3 0 0,1 3,0Z\" style=\"opacity: 1; stroke-width: 0px; fill: rgb(99, 110, 250); fill-opacity: 1;\"/><path class=\"point\" transform=\"translate(365.44,401.99)\" d=\"M3,0A3,3 0 1,1 0,-3A3,3 0 0,1 3,0Z\" style=\"opacity: 1; stroke-width: 0px; fill: rgb(99, 110, 250); fill-opacity: 1;\"/><path class=\"point\" transform=\"translate(350.55,402.02)\" d=\"M3,0A3,3 0 1,1 0,-3A3,3 0 0,1 3,0Z\" style=\"opacity: 1; stroke-width: 0px; fill: rgb(99, 110, 250); fill-opacity: 1;\"/><path class=\"point\" transform=\"translate(391.27,402.06)\" d=\"M3,0A3,3 0 1,1 0,-3A3,3 0 0,1 3,0Z\" style=\"opacity: 1; stroke-width: 0px; fill: rgb(99, 110, 250); fill-opacity: 1;\"/><path class=\"point\" transform=\"translate(478.8,402.12)\" d=\"M3,0A3,3 0 1,1 0,-3A3,3 0 0,1 3,0Z\" style=\"opacity: 1; stroke-width: 0px; fill: rgb(99, 110, 250); fill-opacity: 1;\"/><path class=\"point\" transform=\"translate(321.53,402.25)\" d=\"M3,0A3,3 0 1,1 0,-3A3,3 0 0,1 3,0Z\" style=\"opacity: 1; stroke-width: 0px; fill: rgb(99, 110, 250); fill-opacity: 1;\"/><path class=\"point\" transform=\"translate(358.3,402.52)\" d=\"M3,0A3,3 0 1,1 0,-3A3,3 0 0,1 3,0Z\" style=\"opacity: 1; stroke-width: 0px; fill: rgb(99, 110, 250); fill-opacity: 1;\"/><path class=\"point\" transform=\"translate(520.89,402.6)\" d=\"M3,0A3,3 0 1,1 0,-3A3,3 0 0,1 3,0Z\" style=\"opacity: 1; stroke-width: 0px; fill: rgb(99, 110, 250); fill-opacity: 1;\"/><path class=\"point\" transform=\"translate(545.5,402.72)\" d=\"M3,0A3,3 0 1,1 0,-3A3,3 0 0,1 3,0Z\" style=\"opacity: 1; stroke-width: 0px; fill: rgb(99, 110, 250); fill-opacity: 1;\"/><path class=\"point\" transform=\"translate(270.32,402.83)\" d=\"M3,0A3,3 0 1,1 0,-3A3,3 0 0,1 3,0Z\" style=\"opacity: 1; stroke-width: 0px; fill: rgb(99, 110, 250); fill-opacity: 1;\"/><path class=\"point\" transform=\"translate(461.32,402.87)\" d=\"M3,0A3,3 0 1,1 0,-3A3,3 0 0,1 3,0Z\" style=\"opacity: 1; stroke-width: 0px; fill: rgb(99, 110, 250); fill-opacity: 1;\"/><path class=\"point\" transform=\"translate(299.04,402.91)\" d=\"M3,0A3,3 0 1,1 0,-3A3,3 0 0,1 3,0Z\" style=\"opacity: 1; stroke-width: 0px; fill: rgb(99, 110, 250); fill-opacity: 1;\"/><path class=\"point\" transform=\"translate(320.92,403.07)\" d=\"M3,0A3,3 0 1,1 0,-3A3,3 0 0,1 3,0Z\" style=\"opacity: 1; stroke-width: 0px; fill: rgb(99, 110, 250); fill-opacity: 1;\"/><path class=\"point\" transform=\"translate(296,403.44)\" d=\"M3,0A3,3 0 1,1 0,-3A3,3 0 0,1 3,0Z\" style=\"opacity: 1; stroke-width: 0px; fill: rgb(99, 110, 250); fill-opacity: 1;\"/><path class=\"point\" transform=\"translate(382.46,403.44)\" d=\"M3,0A3,3 0 1,1 0,-3A3,3 0 0,1 3,0Z\" style=\"opacity: 1; stroke-width: 0px; fill: rgb(99, 110, 250); fill-opacity: 1;\"/><path class=\"point\" transform=\"translate(421.97,403.5)\" d=\"M3,0A3,3 0 1,1 0,-3A3,3 0 0,1 3,0Z\" style=\"opacity: 1; stroke-width: 0px; fill: rgb(99, 110, 250); fill-opacity: 1;\"/><path class=\"point\" transform=\"translate(370.61,403.5)\" d=\"M3,0A3,3 0 1,1 0,-3A3,3 0 0,1 3,0Z\" style=\"opacity: 1; stroke-width: 0px; fill: rgb(99, 110, 250); fill-opacity: 1;\"/><path class=\"point\" transform=\"translate(453.12,403.6)\" d=\"M3,0A3,3 0 1,1 0,-3A3,3 0 0,1 3,0Z\" style=\"opacity: 1; stroke-width: 0px; fill: rgb(99, 110, 250); fill-opacity: 1;\"/><path class=\"point\" transform=\"translate(446.89,403.66)\" d=\"M3,0A3,3 0 1,1 0,-3A3,3 0 0,1 3,0Z\" style=\"opacity: 1; stroke-width: 0px; fill: rgb(99, 110, 250); fill-opacity: 1;\"/><path class=\"point\" transform=\"translate(380.94,404.04)\" d=\"M3,0A3,3 0 1,1 0,-3A3,3 0 0,1 3,0Z\" style=\"opacity: 1; stroke-width: 0px; fill: rgb(99, 110, 250); fill-opacity: 1;\"/><path class=\"point\" transform=\"translate(320.77,404.31)\" d=\"M3,0A3,3 0 1,1 0,-3A3,3 0 0,1 3,0Z\" style=\"opacity: 1; stroke-width: 0px; fill: rgb(99, 110, 250); fill-opacity: 1;\"/><path class=\"point\" transform=\"translate(559.94,404.34)\" d=\"M3,0A3,3 0 1,1 0,-3A3,3 0 0,1 3,0Z\" style=\"opacity: 1; stroke-width: 0px; fill: rgb(99, 110, 250); fill-opacity: 1;\"/><path class=\"point\" transform=\"translate(424.1,404.37)\" d=\"M3,0A3,3 0 1,1 0,-3A3,3 0 0,1 3,0Z\" style=\"opacity: 1; stroke-width: 0px; fill: rgb(99, 110, 250); fill-opacity: 1;\"/><path class=\"point\" transform=\"translate(375.93,404.66)\" d=\"M3,0A3,3 0 1,1 0,-3A3,3 0 0,1 3,0Z\" style=\"opacity: 1; stroke-width: 0px; fill: rgb(99, 110, 250); fill-opacity: 1;\"/><path class=\"point\" transform=\"translate(302.84,404.78)\" d=\"M3,0A3,3 0 1,1 0,-3A3,3 0 0,1 3,0Z\" style=\"opacity: 1; stroke-width: 0px; fill: rgb(99, 110, 250); fill-opacity: 1;\"/><path class=\"point\" transform=\"translate(314.99,404.87)\" d=\"M3,0A3,3 0 1,1 0,-3A3,3 0 0,1 3,0Z\" style=\"opacity: 1; stroke-width: 0px; fill: rgb(99, 110, 250); fill-opacity: 1;\"/><path class=\"point\" transform=\"translate(359.06,405.54)\" d=\"M3,0A3,3 0 1,1 0,-3A3,3 0 0,1 3,0Z\" style=\"opacity: 1; stroke-width: 0px; fill: rgb(99, 110, 250); fill-opacity: 1;\"/><path class=\"point\" transform=\"translate(380.64,407.59)\" d=\"M3,0A3,3 0 1,1 0,-3A3,3 0 0,1 3,0Z\" style=\"opacity: 1; stroke-width: 0px; fill: rgb(99, 110, 250); fill-opacity: 1;\"/><path class=\"point\" transform=\"translate(327.15,407.59)\" d=\"M3,0A3,3 0 1,1 0,-3A3,3 0 0,1 3,0Z\" style=\"opacity: 1; stroke-width: 0px; fill: rgb(99, 110, 250); fill-opacity: 1;\"/><path class=\"point\" transform=\"translate(353.29,407.59)\" d=\"M3,0A3,3 0 1,1 0,-3A3,3 0 0,1 3,0Z\" style=\"opacity: 1; stroke-width: 0px; fill: rgb(99, 110, 250); fill-opacity: 1;\"/><path class=\"point\" transform=\"translate(342.04,407.59)\" d=\"M3,0A3,3 0 1,1 0,-3A3,3 0 0,1 3,0Z\" style=\"opacity: 1; stroke-width: 0px; fill: rgb(99, 110, 250); fill-opacity: 1;\"/><path class=\"point\" transform=\"translate(214.1,407.59)\" d=\"M3,0A3,3 0 1,1 0,-3A3,3 0 0,1 3,0Z\" style=\"opacity: 1; stroke-width: 0px; fill: rgb(99, 110, 250); fill-opacity: 1;\"/><path class=\"point\" transform=\"translate(180.21,407.59)\" d=\"M3,0A3,3 0 1,1 0,-3A3,3 0 0,1 3,0Z\" style=\"opacity: 1; stroke-width: 0px; fill: rgb(99, 110, 250); fill-opacity: 1;\"/><path class=\"point\" transform=\"translate(502.5,407.59)\" d=\"M3,0A3,3 0 1,1 0,-3A3,3 0 0,1 3,0Z\" style=\"opacity: 1; stroke-width: 0px; fill: rgb(99, 110, 250); fill-opacity: 1;\"/><path class=\"point\" transform=\"translate(349.03,407.59)\" d=\"M3,0A3,3 0 1,1 0,-3A3,3 0 0,1 3,0Z\" style=\"opacity: 1; stroke-width: 0px; fill: rgb(99, 110, 250); fill-opacity: 1;\"/><path class=\"point\" transform=\"translate(291.9,407.59)\" d=\"M3,0A3,3 0 1,1 0,-3A3,3 0 0,1 3,0Z\" style=\"opacity: 1; stroke-width: 0px; fill: rgb(99, 110, 250); fill-opacity: 1;\"/><path class=\"point\" transform=\"translate(319.4,407.59)\" d=\"M3,0A3,3 0 1,1 0,-3A3,3 0 0,1 3,0Z\" style=\"opacity: 1; stroke-width: 0px; fill: rgb(99, 110, 250); fill-opacity: 1;\"/><path class=\"point\" transform=\"translate(180.21,407.59)\" d=\"M3,0A3,3 0 1,1 0,-3A3,3 0 0,1 3,0Z\" style=\"opacity: 1; stroke-width: 0px; fill: rgb(99, 110, 250); fill-opacity: 1;\"/><path class=\"point\" transform=\"translate(136.91,407.59)\" d=\"M3,0A3,3 0 1,1 0,-3A3,3 0 0,1 3,0Z\" style=\"opacity: 1; stroke-width: 0px; fill: rgb(99, 110, 250); fill-opacity: 1;\"/><path class=\"point\" transform=\"translate(149.37,407.59)\" d=\"M3,0A3,3 0 1,1 0,-3A3,3 0 0,1 3,0Z\" style=\"opacity: 1; stroke-width: 0px; fill: rgb(99, 110, 250); fill-opacity: 1;\"/><path class=\"point\" transform=\"translate(164.11,407.59)\" d=\"M3,0A3,3 0 1,1 0,-3A3,3 0 0,1 3,0Z\" style=\"opacity: 1; stroke-width: 0px; fill: rgb(99, 110, 250); fill-opacity: 1;\"/><path class=\"point\" transform=\"translate(239.32,407.59)\" d=\"M3,0A3,3 0 1,1 0,-3A3,3 0 0,1 3,0Z\" style=\"opacity: 1; stroke-width: 0px; fill: rgb(99, 110, 250); fill-opacity: 1;\"/><path class=\"point\" transform=\"translate(382.31,407.59)\" d=\"M3,0A3,3 0 1,1 0,-3A3,3 0 0,1 3,0Z\" style=\"opacity: 1; stroke-width: 0px; fill: rgb(99, 110, 250); fill-opacity: 1;\"/><path class=\"point\" transform=\"translate(426.68,407.59)\" d=\"M3,0A3,3 0 1,1 0,-3A3,3 0 0,1 3,0Z\" style=\"opacity: 1; stroke-width: 0px; fill: rgb(99, 110, 250); fill-opacity: 1;\"/><path class=\"point\" transform=\"translate(463.45,407.59)\" d=\"M3,0A3,3 0 1,1 0,-3A3,3 0 0,1 3,0Z\" style=\"opacity: 1; stroke-width: 0px; fill: rgb(99, 110, 250); fill-opacity: 1;\"/><path class=\"point\" transform=\"translate(419.23,407.59)\" d=\"M3,0A3,3 0 1,1 0,-3A3,3 0 0,1 3,0Z\" style=\"opacity: 1; stroke-width: 0px; fill: rgb(99, 110, 250); fill-opacity: 1;\"/><path class=\"point\" transform=\"translate(347.97,407.59)\" d=\"M3,0A3,3 0 1,1 0,-3A3,3 0 0,1 3,0Z\" style=\"opacity: 1; stroke-width: 0px; fill: rgb(99, 110, 250); fill-opacity: 1;\"/><path class=\"point\" transform=\"translate(454.79,407.59)\" d=\"M3,0A3,3 0 1,1 0,-3A3,3 0 0,1 3,0Z\" style=\"opacity: 1; stroke-width: 0px; fill: rgb(99, 110, 250); fill-opacity: 1;\"/><path class=\"point\" transform=\"translate(479.71,407.59)\" d=\"M3,0A3,3 0 1,1 0,-3A3,3 0 0,1 3,0Z\" style=\"opacity: 1; stroke-width: 0px; fill: rgb(99, 110, 250); fill-opacity: 1;\"/><path class=\"point\" transform=\"translate(391.27,407.59)\" d=\"M3,0A3,3 0 1,1 0,-3A3,3 0 0,1 3,0Z\" style=\"opacity: 1; stroke-width: 0px; fill: rgb(99, 110, 250); fill-opacity: 1;\"/><path class=\"point\" transform=\"translate(179.91,407.59)\" d=\"M3,0A3,3 0 1,1 0,-3A3,3 0 0,1 3,0Z\" style=\"opacity: 1; stroke-width: 0px; fill: rgb(99, 110, 250); fill-opacity: 1;\"/><path class=\"point\" transform=\"translate(333.53,407.59)\" d=\"M3,0A3,3 0 1,1 0,-3A3,3 0 0,1 3,0Z\" style=\"opacity: 1; stroke-width: 0px; fill: rgb(99, 110, 250); fill-opacity: 1;\"/><path class=\"point\" transform=\"translate(404.95,407.59)\" d=\"M3,0A3,3 0 1,1 0,-3A3,3 0 0,1 3,0Z\" style=\"opacity: 1; stroke-width: 0px; fill: rgb(99, 110, 250); fill-opacity: 1;\"/><path class=\"point\" transform=\"translate(287.34,407.59)\" d=\"M3,0A3,3 0 1,1 0,-3A3,3 0 0,1 3,0Z\" style=\"opacity: 1; stroke-width: 0px; fill: rgb(99, 110, 250); fill-opacity: 1;\"/><path class=\"point\" transform=\"translate(212.58,407.59)\" d=\"M3,0A3,3 0 1,1 0,-3A3,3 0 0,1 3,0Z\" style=\"opacity: 1; stroke-width: 0px; fill: rgb(99, 110, 250); fill-opacity: 1;\"/><path class=\"point\" transform=\"translate(351.31,407.59)\" d=\"M3,0A3,3 0 1,1 0,-3A3,3 0 0,1 3,0Z\" style=\"opacity: 1; stroke-width: 0px; fill: rgb(99, 110, 250); fill-opacity: 1;\"/><path class=\"point\" transform=\"translate(499.01,407.59)\" d=\"M3,0A3,3 0 1,1 0,-3A3,3 0 0,1 3,0Z\" style=\"opacity: 1; stroke-width: 0px; fill: rgb(99, 110, 250); fill-opacity: 1;\"/></g><g class=\"text\"><g class=\"textpoint\" transform=\"translate(0,-7.75)\"><text x=\"66.55\" y=\"19.41\" text-anchor=\"middle\" style=\"font-family: 'Open Sans', verdana, arial, sans-serif; font-size: 12px; fill: rgb(42, 63, 95); fill-opacity: 1; white-space: pre;\">220</text></g><g class=\"textpoint\" transform=\"translate(0,-7.75)\"><text x=\"15.2\" y=\"45.81\" text-anchor=\"middle\" style=\"font-family: 'Open Sans', verdana, arial, sans-serif; font-size: 12px; fill: rgb(42, 63, 95); fill-opacity: 1; white-space: pre;\">180</text></g><g class=\"textpoint\" transform=\"translate(0,-7.75)\"><text x=\"35.25\" y=\"163.23\" text-anchor=\"middle\" style=\"font-family: 'Open Sans', verdana, arial, sans-serif; font-size: 12px; fill: rgb(42, 63, 95); fill-opacity: 1; white-space: pre;\">179</text></g><g class=\"textpoint\" transform=\"translate(0,-7.75)\"><text x=\"96.49\" y=\"178.63\" text-anchor=\"middle\" style=\"font-family: 'Open Sans', verdana, arial, sans-serif; font-size: 12px; fill: rgb(42, 63, 95); fill-opacity: 1; white-space: pre;\">265</text></g><g class=\"textpoint\" transform=\"translate(0,-7.75)\"><text x=\"71.11\" y=\"179.62\" text-anchor=\"middle\" style=\"font-family: 'Open Sans', verdana, arial, sans-serif; font-size: 12px; fill: rgb(42, 63, 95); fill-opacity: 1; white-space: pre;\">178</text></g><g class=\"textpoint\" transform=\"translate(0,-7.75)\"><text x=\"210.6\" y=\"188.64\" text-anchor=\"middle\" style=\"font-family: 'Open Sans', verdana, arial, sans-serif; font-size: 12px; fill: rgb(42, 63, 95); fill-opacity: 1; white-space: pre;\">190</text></g><g class=\"textpoint\" transform=\"translate(0,-7.75)\"><text x=\"115.63\" y=\"200.12\" text-anchor=\"middle\" style=\"font-family: 'Open Sans', verdana, arial, sans-serif; font-size: 12px; fill: rgb(42, 63, 95); fill-opacity: 1; white-space: pre;\">111</text></g><g class=\"textpoint\" transform=\"translate(0,-7.75)\"><text x=\"67.47\" y=\"210.69\" text-anchor=\"middle\" style=\"font-family: 'Open Sans', verdana, arial, sans-serif; font-size: 12px; fill: rgb(42, 63, 95); fill-opacity: 1; white-space: pre;\">114</text></g><g class=\"textpoint\" transform=\"translate(0,-7.75)\"><text x=\"72.02\" y=\"216.94\" text-anchor=\"middle\" style=\"font-family: 'Open Sans', verdana, arial, sans-serif; font-size: 12px; fill: rgb(42, 63, 95); fill-opacity: 1; white-space: pre;\">119</text></g><g class=\"textpoint\" transform=\"translate(0,-7.75)\"><text x=\"35.4\" y=\"221.25\" text-anchor=\"middle\" style=\"font-family: 'Open Sans', verdana, arial, sans-serif; font-size: 12px; fill: rgb(42, 63, 95); fill-opacity: 1; white-space: pre;\">181</text></g><g class=\"textpoint\" transform=\"translate(0,-7.75)\"><text x=\"60.78\" y=\"225.5\" text-anchor=\"middle\" style=\"font-family: 'Open Sans', verdana, arial, sans-serif; font-size: 12px; fill: rgb(42, 63, 95); fill-opacity: 1; white-space: pre;\">182</text></g><g class=\"textpoint\" transform=\"translate(0,-7.75)\"><text x=\"311.5\" y=\"228.16\" text-anchor=\"middle\" style=\"font-family: 'Open Sans', verdana, arial, sans-serif; font-size: 12px; fill: rgb(42, 63, 95); fill-opacity: 1; white-space: pre;\">296</text></g><g class=\"textpoint\" transform=\"translate(0,-7.75)\"><text x=\"223.22\" y=\"228.37\" text-anchor=\"middle\" style=\"font-family: 'Open Sans', verdana, arial, sans-serif; font-size: 12px; fill: rgb(42, 63, 95); fill-opacity: 1; white-space: pre;\">189</text></g><g class=\"textpoint\" transform=\"translate(0,-7.75)\"><text x=\"265\" y=\"233.43\" text-anchor=\"middle\" style=\"font-family: 'Open Sans', verdana, arial, sans-serif; font-size: 12px; fill: rgb(42, 63, 95); fill-opacity: 1; white-space: pre;\">272</text></g><g class=\"textpoint\" transform=\"translate(0,-7.75)\"><text x=\"91.63\" y=\"237.87\" text-anchor=\"middle\" style=\"font-family: 'Open Sans', verdana, arial, sans-serif; font-size: 12px; fill: rgb(42, 63, 95); fill-opacity: 1; white-space: pre;\">215</text></g><g class=\"textpoint\" transform=\"translate(0,-7.75)\"><text x=\"292.35\" y=\"238.14\" text-anchor=\"middle\" style=\"font-family: 'Open Sans', verdana, arial, sans-serif; font-size: 12px; fill: rgb(42, 63, 95); fill-opacity: 1; white-space: pre;\">192</text></g><g class=\"textpoint\" transform=\"translate(0,-7.75)\"><text x=\"196.17\" y=\"277.73\" text-anchor=\"middle\" style=\"font-family: 'Open Sans', verdana, arial, sans-serif; font-size: 12px; fill: rgb(42, 63, 95); fill-opacity: 1; white-space: pre;\">268</text></g><g class=\"textpoint\" transform=\"translate(0,-7.75)\"><text x=\"385.96\" y=\"284.43\" text-anchor=\"middle\" style=\"font-family: 'Open Sans', verdana, arial, sans-serif; font-size: 12px; fill: rgb(42, 63, 95); fill-opacity: 1; white-space: pre;\">287</text></g><g class=\"textpoint\" transform=\"translate(0,-7.75)\"><text x=\"252.69\" y=\"285.55\" text-anchor=\"middle\" style=\"font-family: 'Open Sans', verdana, arial, sans-serif; font-size: 12px; fill: rgb(42, 63, 95); fill-opacity: 1; white-space: pre;\">187</text></g><g class=\"textpoint\" transform=\"translate(0,-7.75)\"><text x=\"146.33\" y=\"286.61\" text-anchor=\"middle\" style=\"font-family: 'Open Sans', verdana, arial, sans-serif; font-size: 12px; fill: rgb(42, 63, 95); fill-opacity: 1; white-space: pre;\">184</text></g><g class=\"textpoint\" transform=\"translate(0,-7.75)\"><text x=\"206.81\" y=\"289.89\" text-anchor=\"middle\" style=\"font-family: 'Open Sans', verdana, arial, sans-serif; font-size: 12px; fill: rgb(42, 63, 95); fill-opacity: 1; white-space: pre;\">224</text></g><g class=\"textpoint\" transform=\"translate(0,-7.75)\"><text x=\"348.12\" y=\"291.31\" text-anchor=\"middle\" style=\"font-family: 'Open Sans', verdana, arial, sans-serif; font-size: 12px; fill: rgb(42, 63, 95); fill-opacity: 1; white-space: pre;\">291</text></g><g class=\"textpoint\" transform=\"translate(0,-7.75)\"><text x=\"200.88\" y=\"295.79\" text-anchor=\"middle\" style=\"font-family: 'Open Sans', verdana, arial, sans-serif; font-size: 12px; fill: rgb(42, 63, 95); fill-opacity: 1; white-space: pre;\">151</text></g><g class=\"textpoint\" transform=\"translate(0,-7.75)\"><text x=\"320.01\" y=\"301.09\" text-anchor=\"middle\" style=\"font-family: 'Open Sans', verdana, arial, sans-serif; font-size: 12px; fill: rgb(42, 63, 95); fill-opacity: 1; white-space: pre;\">196</text></g><g class=\"textpoint\" transform=\"translate(0,-7.75)\"><text x=\"116.24\" y=\"301.89\" text-anchor=\"middle\" style=\"font-family: 'Open Sans', verdana, arial, sans-serif; font-size: 12px; fill: rgb(42, 63, 95); fill-opacity: 1; white-space: pre;\">110</text></g><g class=\"textpoint\" transform=\"translate(0,-7.75)\"><text x=\"270.17\" y=\"308.43\" text-anchor=\"middle\" style=\"font-family: 'Open Sans', verdana, arial, sans-serif; font-size: 12px; fill: rgb(42, 63, 95); fill-opacity: 1; white-space: pre;\">227</text></g><g class=\"textpoint\" transform=\"translate(0,-7.75)\"><text x=\"120.95\" y=\"314.15\" text-anchor=\"middle\" style=\"font-family: 'Open Sans', verdana, arial, sans-serif; font-size: 12px; fill: rgb(42, 63, 95); fill-opacity: 1; white-space: pre;\">262</text></g><g class=\"textpoint\" transform=\"translate(0,-7.75)\"><text x=\"264.55\" y=\"316.97\" text-anchor=\"middle\" style=\"font-family: 'Open Sans', verdana, arial, sans-serif; font-size: 12px; fill: rgb(42, 63, 95); fill-opacity: 1; white-space: pre;\">191</text></g><g class=\"textpoint\" transform=\"translate(0,-7.75)\"><text x=\"221.7\" y=\"320.46\" text-anchor=\"middle\" style=\"font-family: 'Open Sans', verdana, arial, sans-serif; font-size: 12px; fill: rgb(42, 63, 95); fill-opacity: 1; white-space: pre;\">253</text></g><g class=\"textpoint\" transform=\"translate(0,-7.75)\"><text x=\"282.78\" y=\"320.59\" text-anchor=\"middle\" style=\"font-family: 'Open Sans', verdana, arial, sans-serif; font-size: 12px; fill: rgb(42, 63, 95); fill-opacity: 1; white-space: pre;\">294</text></g><g class=\"textpoint\" transform=\"translate(0,-7.75)\"><text x=\"216.53\" y=\"322.31\" text-anchor=\"middle\" style=\"font-family: 'Open Sans', verdana, arial, sans-serif; font-size: 12px; fill: rgb(42, 63, 95); fill-opacity: 1; white-space: pre;\">186</text></g><g class=\"textpoint\" transform=\"translate(0,-7.75)\"><text x=\"111.53\" y=\"326.89\" text-anchor=\"middle\" style=\"font-family: 'Open Sans', verdana, arial, sans-serif; font-size: 12px; fill: rgb(42, 63, 95); fill-opacity: 1; white-space: pre;\">183</text></g><g class=\"textpoint\" transform=\"translate(0,-7.75)\"><text x=\"202.25\" y=\"328.62\" text-anchor=\"middle\" style=\"font-family: 'Open Sans', verdana, arial, sans-serif; font-size: 12px; fill: rgb(42, 63, 95); fill-opacity: 1; white-space: pre;\">256</text></g><g class=\"textpoint\" transform=\"translate(0,-7.75)\"><text x=\"242.36\" y=\"336.72\" text-anchor=\"middle\" style=\"font-family: 'Open Sans', verdana, arial, sans-serif; font-size: 12px; fill: rgb(42, 63, 95); fill-opacity: 1; white-space: pre;\">150</text></g><g class=\"textpoint\" transform=\"translate(0,-7.75)\"><text x=\"273.36\" y=\"337.72\" text-anchor=\"middle\" style=\"font-family: 'Open Sans', verdana, arial, sans-serif; font-size: 12px; fill: rgb(42, 63, 95); fill-opacity: 1; white-space: pre;\">194</text></g><g class=\"textpoint\" transform=\"translate(0,-7.75)\"><text x=\"233.7\" y=\"338.94\" text-anchor=\"middle\" style=\"font-family: 'Open Sans', verdana, arial, sans-serif; font-size: 12px; fill: rgb(42, 63, 95); fill-opacity: 1; white-space: pre;\">152</text></g><g class=\"textpoint\" transform=\"translate(0,-7.75)\"><text x=\"267.13\" y=\"339.28\" text-anchor=\"middle\" style=\"font-family: 'Open Sans', verdana, arial, sans-serif; font-size: 12px; fill: rgb(42, 63, 95); fill-opacity: 1; white-space: pre;\">42</text></g><g class=\"textpoint\" transform=\"translate(0,-7.75)\"><text x=\"284.45\" y=\"339.76\" text-anchor=\"middle\" style=\"font-family: 'Open Sans', verdana, arial, sans-serif; font-size: 12px; fill: rgb(42, 63, 95); fill-opacity: 1; white-space: pre;\">197</text></g><g class=\"textpoint\" transform=\"translate(0,-7.75)\"><text x=\"113.66\" y=\"345.76\" text-anchor=\"middle\" style=\"font-family: 'Open Sans', verdana, arial, sans-serif; font-size: 12px; fill: rgb(42, 63, 95); fill-opacity: 1; white-space: pre;\">109</text></g><g class=\"textpoint\" transform=\"translate(0,-7.75)\"><text x=\"174.29\" y=\"347.17\" text-anchor=\"middle\" style=\"font-family: 'Open Sans', verdana, arial, sans-serif; font-size: 12px; fill: rgb(42, 63, 95); fill-opacity: 1; white-space: pre;\">260</text></g><g class=\"textpoint\" transform=\"translate(0,-7.75)\"><text x=\"323.05\" y=\"348.55\" text-anchor=\"middle\" style=\"font-family: 'Open Sans', verdana, arial, sans-serif; font-size: 12px; fill: rgb(42, 63, 95); fill-opacity: 1; white-space: pre;\">298</text></g><g class=\"textpoint\" transform=\"translate(0,-7.75)\"><text x=\"63.97\" y=\"349.45\" text-anchor=\"middle\" style=\"font-family: 'Open Sans', verdana, arial, sans-serif; font-size: 12px; fill: rgb(42, 63, 95); fill-opacity: 1; white-space: pre;\">115</text></g><g class=\"textpoint\" transform=\"translate(0,-7.75)\"><text x=\"275.64\" y=\"349.91\" text-anchor=\"middle\" style=\"font-family: 'Open Sans', verdana, arial, sans-serif; font-size: 12px; fill: rgb(42, 63, 95); fill-opacity: 1; white-space: pre;\">149</text></g><g class=\"textpoint\" transform=\"translate(0,-7.75)\"><text x=\"315.45\" y=\"350.73\" text-anchor=\"middle\" style=\"font-family: 'Open Sans', verdana, arial, sans-serif; font-size: 12px; fill: rgb(42, 63, 95); fill-opacity: 1; white-space: pre;\">195</text></g><g class=\"textpoint\" transform=\"translate(0,-7.75)\"><text x=\"225.34\" y=\"351.81\" text-anchor=\"middle\" style=\"font-family: 'Open Sans', verdana, arial, sans-serif; font-size: 12px; fill: rgb(42, 63, 95); fill-opacity: 1; white-space: pre;\">193</text></g><g class=\"textpoint\" transform=\"translate(0,-7.75)\"><text x=\"145.57\" y=\"352.41\" text-anchor=\"middle\" style=\"font-family: 'Open Sans', verdana, arial, sans-serif; font-size: 12px; fill: rgb(42, 63, 95); fill-opacity: 1; white-space: pre;\">176</text></g><g class=\"textpoint\" transform=\"translate(0,-7.75)\"><text x=\"157.27\" y=\"352.73\" text-anchor=\"middle\" style=\"font-family: 'Open Sans', verdana, arial, sans-serif; font-size: 12px; fill: rgb(42, 63, 95); fill-opacity: 1; white-space: pre;\">44</text></g><g class=\"textpoint\" transform=\"translate(0,-7.75)\"><text x=\"262.12\" y=\"354.7\" text-anchor=\"middle\" style=\"font-family: 'Open Sans', verdana, arial, sans-serif; font-size: 12px; fill: rgb(42, 63, 95); fill-opacity: 1; white-space: pre;\">271</text></g><g class=\"textpoint\" transform=\"translate(0,-7.75)\"><text x=\"176.26\" y=\"357.71\" text-anchor=\"middle\" style=\"font-family: 'Open Sans', verdana, arial, sans-serif; font-size: 12px; fill: rgb(42, 63, 95); fill-opacity: 1; white-space: pre;\">185</text></g><g class=\"textpoint\" transform=\"translate(0,-7.75)\"><text x=\"426.38\" y=\"358.47\" text-anchor=\"middle\" style=\"font-family: 'Open Sans', verdana, arial, sans-serif; font-size: 12px; fill: rgb(42, 63, 95); fill-opacity: 1; white-space: pre;\">60</text></g><g class=\"textpoint\" transform=\"translate(0,-7.75)\"><text x=\"167.15\" y=\"358.56\" text-anchor=\"middle\" style=\"font-family: 'Open Sans', verdana, arial, sans-serif; font-size: 12px; fill: rgb(42, 63, 95); fill-opacity: 1; white-space: pre;\">223</text></g><g class=\"textpoint\" transform=\"translate(0,-7.75)\"><text x=\"414.52\" y=\"360.94\" text-anchor=\"middle\" style=\"font-family: 'Open Sans', verdana, arial, sans-serif; font-size: 12px; fill: rgb(42, 63, 95); fill-opacity: 1; white-space: pre;\">279</text></g><g class=\"textpoint\" transform=\"translate(0,-7.75)\"><text x=\"92.69\" y=\"361.91\" text-anchor=\"middle\" style=\"font-family: 'Open Sans', verdana, arial, sans-serif; font-size: 12px; fill: rgb(42, 63, 95); fill-opacity: 1; white-space: pre;\">261</text></g><g class=\"textpoint\" transform=\"translate(0,-7.75)\"><text x=\"215.92\" y=\"361.92\" text-anchor=\"middle\" style=\"font-family: 'Open Sans', verdana, arial, sans-serif; font-size: 12px; fill: rgb(42, 63, 95); fill-opacity: 1; white-space: pre;\">107</text></g><g class=\"textpoint\" transform=\"translate(0,-7.75)\"><text x=\"231.27\" y=\"362.15\" text-anchor=\"middle\" style=\"font-family: 'Open Sans', verdana, arial, sans-serif; font-size: 12px; fill: rgb(42, 63, 95); fill-opacity: 1; white-space: pre;\">67</text></g><g class=\"textpoint\" transform=\"translate(0,-7.75)\"><text x=\"220.18\" y=\"362.33\" text-anchor=\"middle\" style=\"font-family: 'Open Sans', verdana, arial, sans-serif; font-size: 12px; fill: rgb(42, 63, 95); fill-opacity: 1; white-space: pre;\">269</text></g><g class=\"textpoint\" transform=\"translate(0,-7.75)\"><text x=\"233.25\" y=\"363.97\" text-anchor=\"middle\" style=\"font-family: 'Open Sans', verdana, arial, sans-serif; font-size: 12px; fill: rgb(42, 63, 95); fill-opacity: 1; white-space: pre;\">173</text></g><g class=\"textpoint\" transform=\"translate(0,-7.75)\"><text x=\"404.49\" y=\"364.29\" text-anchor=\"middle\" style=\"font-family: 'Open Sans', verdana, arial, sans-serif; font-size: 12px; fill: rgb(42, 63, 95); fill-opacity: 1; white-space: pre;\">63</text></g><g class=\"textpoint\" transform=\"translate(0,-7.75)\"><text x=\"258.47\" y=\"364.52\" text-anchor=\"middle\" style=\"font-family: 'Open Sans', verdana, arial, sans-serif; font-size: 12px; fill: rgb(42, 63, 95); fill-opacity: 1; white-space: pre;\">249</text></g><g class=\"textpoint\" transform=\"translate(0,-7.75)\"><text x=\"319.4\" y=\"364.58\" text-anchor=\"middle\" style=\"font-family: 'Open Sans', verdana, arial, sans-serif; font-size: 12px; fill: rgb(42, 63, 95); fill-opacity: 1; white-space: pre;\">39</text></g><g class=\"textpoint\" transform=\"translate(0,-7.75)\"><text x=\"102.72\" y=\"365.03\" text-anchor=\"middle\" style=\"font-family: 'Open Sans', verdana, arial, sans-serif; font-size: 12px; fill: rgb(42, 63, 95); fill-opacity: 1; white-space: pre;\">45</text></g><g class=\"textpoint\" transform=\"translate(0,-7.75)\"><text x=\"167.91\" y=\"365.18\" text-anchor=\"middle\" style=\"font-family: 'Open Sans', verdana, arial, sans-serif; font-size: 12px; fill: rgb(42, 63, 95); fill-opacity: 1; white-space: pre;\">48</text></g><g class=\"textpoint\" transform=\"translate(0,-7.75)\"><text x=\"337.79\" y=\"365.23\" text-anchor=\"middle\" style=\"font-family: 'Open Sans', verdana, arial, sans-serif; font-size: 12px; fill: rgb(42, 63, 95); fill-opacity: 1; white-space: pre;\">275</text></g><g class=\"textpoint\" transform=\"translate(0,-7.75)\"><text x=\"199.82\" y=\"365.45\" text-anchor=\"middle\" style=\"font-family: 'Open Sans', verdana, arial, sans-serif; font-size: 12px; fill: rgb(42, 63, 95); fill-opacity: 1; white-space: pre;\">259</text></g><g class=\"textpoint\" transform=\"translate(0,-7.75)\"><text x=\"211.97\" y=\"365.87\" text-anchor=\"middle\" style=\"font-family: 'Open Sans', verdana, arial, sans-serif; font-size: 12px; fill: rgb(42, 63, 95); fill-opacity: 1; white-space: pre;\">212</text></g><g class=\"textpoint\" transform=\"translate(0,-7.75)\"><text x=\"341.74\" y=\"367.01\" text-anchor=\"middle\" style=\"font-family: 'Open Sans', verdana, arial, sans-serif; font-size: 12px; fill: rgb(42, 63, 95); fill-opacity: 1; white-space: pre;\">297</text></g><g class=\"textpoint\" transform=\"translate(0,-7.75)\"><text x=\"260.6\" y=\"368.21\" text-anchor=\"middle\" style=\"font-family: 'Open Sans', verdana, arial, sans-serif; font-size: 12px; fill: rgb(42, 63, 95); fill-opacity: 1; white-space: pre;\">226</text></g><g class=\"textpoint\" transform=\"translate(0,-7.75)\"><text x=\"234.92\" y=\"368.64\" text-anchor=\"middle\" style=\"font-family: 'Open Sans', verdana, arial, sans-serif; font-size: 12px; fill: rgb(42, 63, 95); fill-opacity: 1; white-space: pre;\">43</text></g><g class=\"textpoint\" transform=\"translate(0,-7.75)\"><text x=\"377.45\" y=\"368.96\" text-anchor=\"middle\" style=\"font-family: 'Open Sans', verdana, arial, sans-serif; font-size: 12px; fill: rgb(42, 63, 95); fill-opacity: 1; white-space: pre;\">96</text></g><g class=\"textpoint\" transform=\"translate(0,-7.75)\"><text x=\"306.33\" y=\"370.41\" text-anchor=\"middle\" style=\"font-family: 'Open Sans', verdana, arial, sans-serif; font-size: 12px; fill: rgb(42, 63, 95); fill-opacity: 1; white-space: pre;\">295</text></g><g class=\"textpoint\" transform=\"translate(0,-7.75)\"><text x=\"329.89\" y=\"371.69\" text-anchor=\"middle\" style=\"font-family: 'Open Sans', verdana, arial, sans-serif; font-size: 12px; fill: rgb(42, 63, 95); fill-opacity: 1; white-space: pre;\">290</text></g><g class=\"textpoint\" transform=\"translate(0,-7.75)\"><text x=\"305.27\" y=\"372.35\" text-anchor=\"middle\" style=\"font-family: 'Open Sans', verdana, arial, sans-serif; font-size: 12px; fill: rgb(42, 63, 95); fill-opacity: 1; white-space: pre;\">273</text></g><g class=\"textpoint\" transform=\"translate(0,-7.75)\"><text x=\"335.81\" y=\"372.37\" text-anchor=\"middle\" style=\"font-family: 'Open Sans', verdana, arial, sans-serif; font-size: 12px; fill: rgb(42, 63, 95); fill-opacity: 1; white-space: pre;\">231</text></g><g class=\"textpoint\" transform=\"translate(0,-7.75)\"><text x=\"385.35\" y=\"373.35\" text-anchor=\"middle\" style=\"font-family: 'Open Sans', verdana, arial, sans-serif; font-size: 12px; fill: rgb(42, 63, 95); fill-opacity: 1; white-space: pre;\">38</text></g><g class=\"textpoint\" transform=\"translate(0,-7.75)\"><text x=\"225.8\" y=\"373.5\" text-anchor=\"middle\" style=\"font-family: 'Open Sans', verdana, arial, sans-serif; font-size: 12px; fill: rgb(42, 63, 95); fill-opacity: 1; white-space: pre;\">267</text></g><g class=\"textpoint\" transform=\"translate(0,-7.75)\"><text x=\"458.28\" y=\"373.98\" text-anchor=\"middle\" style=\"font-family: 'Open Sans', verdana, arial, sans-serif; font-size: 12px; fill: rgb(42, 63, 95); fill-opacity: 1; white-space: pre;\">284</text></g><g class=\"textpoint\" transform=\"translate(0,-7.75)\"><text x=\"195.26\" y=\"374.12\" text-anchor=\"middle\" style=\"font-family: 'Open Sans', verdana, arial, sans-serif; font-size: 12px; fill: rgb(42, 63, 95); fill-opacity: 1; white-space: pre;\">266</text></g><g class=\"textpoint\" transform=\"translate(0,-7.75)\"><text x=\"265.46\" y=\"375.01\" text-anchor=\"middle\" style=\"font-family: 'Open Sans', verdana, arial, sans-serif; font-size: 12px; fill: rgb(42, 63, 95); fill-opacity: 1; white-space: pre;\">155</text></g><g class=\"textpoint\" transform=\"translate(0,-7.75)\"><text x=\"273.36\" y=\"375.61\" text-anchor=\"middle\" style=\"font-family: 'Open Sans', verdana, arial, sans-serif; font-size: 12px; fill: rgb(42, 63, 95); fill-opacity: 1; white-space: pre;\">69</text></g><g class=\"textpoint\" transform=\"translate(0,-7.75)\"><text x=\"193.59\" y=\"375.77\" text-anchor=\"middle\" style=\"font-family: 'Open Sans', verdana, arial, sans-serif; font-size: 12px; fill: rgb(42, 63, 95); fill-opacity: 1; white-space: pre;\">19</text></g><g class=\"textpoint\" transform=\"translate(0,-7.75)\"><text x=\"336.57\" y=\"375.78\" text-anchor=\"middle\" style=\"font-family: 'Open Sans', verdana, arial, sans-serif; font-size: 12px; fill: rgb(42, 63, 95); fill-opacity: 1; white-space: pre;\">54</text></g><g class=\"textpoint\" transform=\"translate(0,-7.75)\"><text x=\"279.74\" y=\"378.42\" text-anchor=\"middle\" style=\"font-family: 'Open Sans', verdana, arial, sans-serif; font-size: 12px; fill: rgb(42, 63, 95); fill-opacity: 1; white-space: pre;\">188</text></g><g class=\"textpoint\" transform=\"translate(0,-7.75)\"><text x=\"300.71\" y=\"378.67\" text-anchor=\"middle\" style=\"font-family: 'Open Sans', verdana, arial, sans-serif; font-size: 12px; fill: rgb(42, 63, 95); fill-opacity: 1; white-space: pre;\">255</text></g><g class=\"textpoint\" transform=\"translate(0,-7.75)\"><text x=\"148.61\" y=\"379.35\" text-anchor=\"middle\" style=\"font-family: 'Open Sans', verdana, arial, sans-serif; font-size: 12px; fill: rgb(42, 63, 95); fill-opacity: 1; white-space: pre;\">118</text></g><g class=\"textpoint\" transform=\"translate(0,-7.75)\"><text x=\"424.7\" y=\"379.93\" text-anchor=\"middle\" style=\"font-family: 'Open Sans', verdana, arial, sans-serif; font-size: 12px; fill: rgb(42, 63, 95); fill-opacity: 1; white-space: pre;\">100</text></g><g class=\"textpoint\" transform=\"translate(0,-7.75)\"><text x=\"74.91\" y=\"379.95\" text-anchor=\"middle\" style=\"font-family: 'Open Sans', verdana, arial, sans-serif; font-size: 12px; fill: rgb(42, 63, 95); fill-opacity: 1; white-space: pre;\">214</text></g><g class=\"textpoint\" transform=\"translate(0,-7.75)\"><text x=\"302.23\" y=\"380\" text-anchor=\"middle\" style=\"font-family: 'Open Sans', verdana, arial, sans-serif; font-size: 12px; fill: rgb(42, 63, 95); fill-opacity: 1; white-space: pre;\">6</text></g><g class=\"textpoint\" transform=\"translate(0,-7.75)\"><text x=\"217.44\" y=\"380.48\" text-anchor=\"middle\" style=\"font-family: 'Open Sans', verdana, arial, sans-serif; font-size: 12px; fill: rgb(42, 63, 95); fill-opacity: 1; white-space: pre;\">82</text></g><g class=\"textpoint\" transform=\"translate(0,-7.75)\"><text x=\"152.26\" y=\"381.23\" text-anchor=\"middle\" style=\"font-family: 'Open Sans', verdana, arial, sans-serif; font-size: 12px; fill: rgb(42, 63, 95); fill-opacity: 1; white-space: pre;\">175</text></g><g class=\"textpoint\" transform=\"translate(0,-7.75)\"><text x=\"442.94\" y=\"381.36\" text-anchor=\"middle\" style=\"font-family: 'Open Sans', verdana, arial, sans-serif; font-size: 12px; fill: rgb(42, 63, 95); fill-opacity: 1; white-space: pre;\">59</text></g><g class=\"textpoint\" transform=\"translate(0,-7.75)\"><text x=\"299.8\" y=\"381.38\" text-anchor=\"middle\" style=\"font-family: 'Open Sans', verdana, arial, sans-serif; font-size: 12px; fill: rgb(42, 63, 95); fill-opacity: 1; white-space: pre;\">41</text></g><g class=\"textpoint\" transform=\"translate(0,-7.75)\"><text x=\"286.43\" y=\"381.54\" text-anchor=\"middle\" style=\"font-family: 'Open Sans', verdana, arial, sans-serif; font-size: 12px; fill: rgb(42, 63, 95); fill-opacity: 1; white-space: pre;\">22</text></g><g class=\"textpoint\" transform=\"translate(0,-7.75)\"><text x=\"306.64\" y=\"381.72\" text-anchor=\"middle\" style=\"font-family: 'Open Sans', verdana, arial, sans-serif; font-size: 12px; fill: rgb(42, 63, 95); fill-opacity: 1; white-space: pre;\">245</text></g><g class=\"textpoint\" transform=\"translate(0,-7.75)\"><text x=\"407.23\" y=\"382.13\" text-anchor=\"middle\" style=\"font-family: 'Open Sans', verdana, arial, sans-serif; font-size: 12px; fill: rgb(42, 63, 95); fill-opacity: 1; white-space: pre;\">278</text></g><g class=\"textpoint\" transform=\"translate(0,-7.75)\"><text x=\"387.02\" y=\"382.82\" text-anchor=\"middle\" style=\"font-family: 'Open Sans', verdana, arial, sans-serif; font-size: 12px; fill: rgb(42, 63, 95); fill-opacity: 1; white-space: pre;\">277</text></g><g class=\"textpoint\" transform=\"translate(0,-7.75)\"><text x=\"326.54\" y=\"383.17\" text-anchor=\"middle\" style=\"font-family: 'Open Sans', verdana, arial, sans-serif; font-size: 12px; fill: rgb(42, 63, 95); fill-opacity: 1; white-space: pre;\">9</text></g><g class=\"textpoint\" transform=\"translate(0,-7.75)\"><text x=\"143.14\" y=\"383.43\" text-anchor=\"middle\" style=\"font-family: 'Open Sans', verdana, arial, sans-serif; font-size: 12px; fill: rgb(42, 63, 95); fill-opacity: 1; white-space: pre;\">218</text></g><g class=\"textpoint\" transform=\"translate(0,-7.75)\"><text x=\"306.33\" y=\"383.49\" text-anchor=\"middle\" style=\"font-family: 'Open Sans', verdana, arial, sans-serif; font-size: 12px; fill: rgb(42, 63, 95); fill-opacity: 1; white-space: pre;\">10</text></g><g class=\"textpoint\" transform=\"translate(0,-7.75)\"><text x=\"261.66\" y=\"383.57\" text-anchor=\"middle\" style=\"font-family: 'Open Sans', verdana, arial, sans-serif; font-size: 12px; fill: rgb(42, 63, 95); fill-opacity: 1; white-space: pre;\">81</text></g><g class=\"textpoint\" transform=\"translate(0,-7.75)\"><text x=\"326.09\" y=\"383.68\" text-anchor=\"middle\" style=\"font-family: 'Open Sans', verdana, arial, sans-serif; font-size: 12px; fill: rgb(42, 63, 95); fill-opacity: 1; white-space: pre;\">254</text></g><g class=\"textpoint\" transform=\"translate(0,-7.75)\"><text x=\"294.18\" y=\"383.75\" text-anchor=\"middle\" style=\"font-family: 'Open Sans', verdana, arial, sans-serif; font-size: 12px; fill: rgb(42, 63, 95); fill-opacity: 1; white-space: pre;\">40</text></g><g class=\"textpoint\" transform=\"translate(0,-7.75)\"><text x=\"413.16\" y=\"383.84\" text-anchor=\"middle\" style=\"font-family: 'Open Sans', verdana, arial, sans-serif; font-size: 12px; fill: rgb(42, 63, 95); fill-opacity: 1; white-space: pre;\">137</text></g><g class=\"textpoint\" transform=\"translate(0,-7.75)\"><text x=\"253.91\" y=\"384.2\" text-anchor=\"middle\" style=\"font-family: 'Open Sans', verdana, arial, sans-serif; font-size: 12px; fill: rgb(42, 63, 95); fill-opacity: 1; white-space: pre;\">153</text></g><g class=\"textpoint\" transform=\"translate(0,-7.75)\"><text x=\"311.8\" y=\"384.21\" text-anchor=\"middle\" style=\"font-family: 'Open Sans', verdana, arial, sans-serif; font-size: 12px; fill: rgb(42, 63, 95); fill-opacity: 1; white-space: pre;\">34</text></g><g class=\"textpoint\" transform=\"translate(0,-7.75)\"><text x=\"288.86\" y=\"384.43\" text-anchor=\"middle\" style=\"font-family: 'Open Sans', verdana, arial, sans-serif; font-size: 12px; fill: rgb(42, 63, 95); fill-opacity: 1; white-space: pre;\">65</text></g><g class=\"textpoint\" transform=\"translate(0,-7.75)\"><text x=\"452.21\" y=\"384.44\" text-anchor=\"middle\" style=\"font-family: 'Open Sans', verdana, arial, sans-serif; font-size: 12px; fill: rgb(42, 63, 95); fill-opacity: 1; white-space: pre;\">168</text></g><g class=\"textpoint\" transform=\"translate(0,-7.75)\"><text x=\"265.46\" y=\"384.68\" text-anchor=\"middle\" style=\"font-family: 'Open Sans', verdana, arial, sans-serif; font-size: 12px; fill: rgb(42, 63, 95); fill-opacity: 1; white-space: pre;\">106</text></g><g class=\"textpoint\" transform=\"translate(0,-7.75)\"><text x=\"110.77\" y=\"384.82\" text-anchor=\"middle\" style=\"font-family: 'Open Sans', verdana, arial, sans-serif; font-size: 12px; fill: rgb(42, 63, 95); fill-opacity: 1; white-space: pre;\">216</text></g><g class=\"textpoint\" transform=\"translate(0,-7.75)\"><text x=\"323.66\" y=\"384.86\" text-anchor=\"middle\" style=\"font-family: 'Open Sans', verdana, arial, sans-serif; font-size: 12px; fill: rgb(42, 63, 95); fill-opacity: 1; white-space: pre;\">27</text></g><g class=\"textpoint\" transform=\"translate(0,-7.75)\"><text x=\"383.37\" y=\"384.92\" text-anchor=\"middle\" style=\"font-family: 'Open Sans', verdana, arial, sans-serif; font-size: 12px; fill: rgb(42, 63, 95); fill-opacity: 1; white-space: pre;\">199</text></g><g class=\"textpoint\" transform=\"translate(0,-7.75)\"><text x=\"138.12\" y=\"385.69\" text-anchor=\"middle\" style=\"font-family: 'Open Sans', verdana, arial, sans-serif; font-size: 12px; fill: rgb(42, 63, 95); fill-opacity: 1; white-space: pre;\">217</text></g><g class=\"textpoint\" transform=\"translate(0,-7.75)\"><text x=\"259.84\" y=\"385.88\" text-anchor=\"middle\" style=\"font-family: 'Open Sans', verdana, arial, sans-serif; font-size: 12px; fill: rgb(42, 63, 95); fill-opacity: 1; white-space: pre;\">94</text></g><g class=\"textpoint\" transform=\"translate(0,-7.75)\"><text x=\"304.81\" y=\"386.09\" text-anchor=\"middle\" style=\"font-family: 'Open Sans', verdana, arial, sans-serif; font-size: 12px; fill: rgb(42, 63, 95); fill-opacity: 1; white-space: pre;\">51</text></g><g class=\"textpoint\" transform=\"translate(0,-7.75)\"><text x=\"123.38\" y=\"386.29\" text-anchor=\"middle\" style=\"font-family: 'Open Sans', verdana, arial, sans-serif; font-size: 12px; fill: rgb(42, 63, 95); fill-opacity: 1; white-space: pre;\">177</text></g><g class=\"textpoint\" transform=\"translate(0,-7.75)\"><text x=\"448.26\" y=\"386.35\" text-anchor=\"middle\" style=\"font-family: 'Open Sans', verdana, arial, sans-serif; font-size: 12px; fill: rgb(42, 63, 95); fill-opacity: 1; white-space: pre;\">285</text></g><g class=\"textpoint\" transform=\"translate(0,-7.75)\"><text x=\"183.56\" y=\"386.47\" text-anchor=\"middle\" style=\"font-family: 'Open Sans', verdana, arial, sans-serif; font-size: 12px; fill: rgb(42, 63, 95); fill-opacity: 1; white-space: pre;\">174</text></g><g class=\"textpoint\" transform=\"translate(0,-7.75)\"><text x=\"308.76\" y=\"386.48\" text-anchor=\"middle\" style=\"font-family: 'Open Sans', verdana, arial, sans-serif; font-size: 12px; fill: rgb(42, 63, 95); fill-opacity: 1; white-space: pre;\">293</text></g><g class=\"textpoint\" transform=\"translate(0,-7.75)\"><text x=\"368.48\" y=\"386.63\" text-anchor=\"middle\" style=\"font-family: 'Open Sans', verdana, arial, sans-serif; font-size: 12px; fill: rgb(42, 63, 95); fill-opacity: 1; white-space: pre;\">200</text></g><g class=\"textpoint\" transform=\"translate(0,-7.75)\"><text x=\"340.83\" y=\"386.67\" text-anchor=\"middle\" style=\"font-family: 'Open Sans', verdana, arial, sans-serif; font-size: 12px; fill: rgb(42, 63, 95); fill-opacity: 1; white-space: pre;\">274</text></g><g class=\"textpoint\" transform=\"translate(0,-7.75)\"><text x=\"398.42\" y=\"387.06\" text-anchor=\"middle\" style=\"font-family: 'Open Sans', verdana, arial, sans-serif; font-size: 12px; fill: rgb(42, 63, 95); fill-opacity: 1; white-space: pre;\">136</text></g><g class=\"textpoint\" transform=\"translate(0,-7.75)\"><text x=\"358.15\" y=\"387.35\" text-anchor=\"middle\" style=\"font-family: 'Open Sans', verdana, arial, sans-serif; font-size: 12px; fill: rgb(42, 63, 95); fill-opacity: 1; white-space: pre;\">202</text></g><g class=\"textpoint\" transform=\"translate(0,-7.75)\"><text x=\"320.16\" y=\"387.62\" text-anchor=\"middle\" style=\"font-family: 'Open Sans', verdana, arial, sans-serif; font-size: 12px; fill: rgb(42, 63, 95); fill-opacity: 1; white-space: pre;\">70</text></g><g class=\"textpoint\" transform=\"translate(0,-7.75)\"><text x=\"495.51\" y=\"387.91\" text-anchor=\"middle\" style=\"font-family: 'Open Sans', verdana, arial, sans-serif; font-size: 12px; fill: rgb(42, 63, 95); fill-opacity: 1; white-space: pre;\">161</text></g><g class=\"textpoint\" transform=\"translate(0,-7.75)\"><text x=\"402.06\" y=\"388.09\" text-anchor=\"middle\" style=\"font-family: 'Open Sans', verdana, arial, sans-serif; font-size: 12px; fill: rgb(42, 63, 95); fill-opacity: 1; white-space: pre;\">233</text></g><g class=\"textpoint\" transform=\"translate(0,-7.75)\"><text x=\"149.98\" y=\"388.37\" text-anchor=\"middle\" style=\"font-family: 'Open Sans', verdana, arial, sans-serif; font-size: 12px; fill: rgb(42, 63, 95); fill-opacity: 1; white-space: pre;\">221</text></g><g class=\"textpoint\" transform=\"translate(0,-7.75)\"><text x=\"330.34\" y=\"388.38\" text-anchor=\"middle\" style=\"font-family: 'Open Sans', verdana, arial, sans-serif; font-size: 12px; fill: rgb(42, 63, 95); fill-opacity: 1; white-space: pre;\">229</text></g><g class=\"textpoint\" transform=\"translate(0,-7.75)\"><text x=\"234.16\" y=\"388.39\" text-anchor=\"middle\" style=\"font-family: 'Open Sans', verdana, arial, sans-serif; font-size: 12px; fill: rgb(42, 63, 95); fill-opacity: 1; white-space: pre;\">123</text></g><g class=\"textpoint\" transform=\"translate(0,-7.75)\"><text x=\"298.43\" y=\"388.6\" text-anchor=\"middle\" style=\"font-family: 'Open Sans', verdana, arial, sans-serif; font-size: 12px; fill: rgb(42, 63, 95); fill-opacity: 1; white-space: pre;\">228</text></g><g class=\"textpoint\" transform=\"translate(0,-7.75)\"><text x=\"357.69\" y=\"388.66\" text-anchor=\"middle\" style=\"font-family: 'Open Sans', verdana, arial, sans-serif; font-size: 12px; fill: rgb(42, 63, 95); fill-opacity: 1; white-space: pre;\">170</text></g><g class=\"textpoint\" transform=\"translate(0,-7.75)\"><text x=\"164.41\" y=\"388.72\" text-anchor=\"middle\" style=\"font-family: 'Open Sans', verdana, arial, sans-serif; font-size: 12px; fill: rgb(42, 63, 95); fill-opacity: 1; white-space: pre;\">264</text></g><g class=\"textpoint\" transform=\"translate(0,-7.75)\"><text x=\"428.2\" y=\"389.02\" text-anchor=\"middle\" style=\"font-family: 'Open Sans', verdana, arial, sans-serif; font-size: 12px; fill: rgb(42, 63, 95); fill-opacity: 1; white-space: pre;\">158</text></g><g class=\"textpoint\" transform=\"translate(0,-7.75)\"><text x=\"214.71\" y=\"389.15\" text-anchor=\"middle\" style=\"font-family: 'Open Sans', verdana, arial, sans-serif; font-size: 12px; fill: rgb(42, 63, 95); fill-opacity: 1; white-space: pre;\">121</text></g><g class=\"textpoint\" transform=\"translate(0,-7.75)\"><text x=\"403.73\" y=\"389.19\" text-anchor=\"middle\" style=\"font-family: 'Open Sans', verdana, arial, sans-serif; font-size: 12px; fill: rgb(42, 63, 95); fill-opacity: 1; white-space: pre;\">159</text></g><g class=\"textpoint\" transform=\"translate(0,-7.75)\"><text x=\"162.28\" y=\"389.46\" text-anchor=\"middle\" style=\"font-family: 'Open Sans', verdana, arial, sans-serif; font-size: 12px; fill: rgb(42, 63, 95); fill-opacity: 1; white-space: pre;\">213</text></g><g class=\"textpoint\" transform=\"translate(0,-7.75)\"><text x=\"373.04\" y=\"389.6\" text-anchor=\"middle\" style=\"font-family: 'Open Sans', verdana, arial, sans-serif; font-size: 12px; fill: rgb(42, 63, 95); fill-opacity: 1; white-space: pre;\">289</text></g><g class=\"textpoint\" transform=\"translate(0,-7.75)\"><text x=\"262.27\" y=\"389.61\" text-anchor=\"middle\" style=\"font-family: 'Open Sans', verdana, arial, sans-serif; font-size: 12px; fill: rgb(42, 63, 95); fill-opacity: 1; white-space: pre;\">211</text></g><g class=\"textpoint\" transform=\"translate(0,-7.75)\"><text x=\"291.59\" y=\"389.76\" text-anchor=\"middle\" style=\"font-family: 'Open Sans', verdana, arial, sans-serif; font-size: 12px; fill: rgb(42, 63, 95); fill-opacity: 1; white-space: pre;\">35</text></g><g class=\"textpoint\" transform=\"translate(0,-7.75)\"><text x=\"483.05\" y=\"389.84\" text-anchor=\"middle\" style=\"font-family: 'Open Sans', verdana, arial, sans-serif; font-size: 12px; fill: rgb(42, 63, 95); fill-opacity: 1; white-space: pre;\">236</text></g><g class=\"textpoint\" transform=\"translate(0,-7.75)\"><text x=\"300.41\" y=\"389.86\" text-anchor=\"middle\" style=\"font-family: 'Open Sans', verdana, arial, sans-serif; font-size: 12px; fill: rgb(42, 63, 95); fill-opacity: 1; white-space: pre;\">89</text></g><g class=\"textpoint\" transform=\"translate(0,-7.75)\"><text x=\"432.61\" y=\"389.87\" text-anchor=\"middle\" style=\"font-family: 'Open Sans', verdana, arial, sans-serif; font-size: 12px; fill: rgb(42, 63, 95); fill-opacity: 1; white-space: pre;\">207</text></g><g class=\"textpoint\" transform=\"translate(0,-7.75)\"><text x=\"403.43\" y=\"389.87\" text-anchor=\"middle\" style=\"font-family: 'Open Sans', verdana, arial, sans-serif; font-size: 12px; fill: rgb(42, 63, 95); fill-opacity: 1; white-space: pre;\">288</text></g><g class=\"textpoint\" transform=\"translate(0,-7.75)\"><text x=\"466.34\" y=\"390.41\" text-anchor=\"middle\" style=\"font-family: 'Open Sans', verdana, arial, sans-serif; font-size: 12px; fill: rgb(42, 63, 95); fill-opacity: 1; white-space: pre;\">237</text></g><g class=\"textpoint\" transform=\"translate(0,-7.75)\"><text x=\"267.59\" y=\"390.51\" text-anchor=\"middle\" style=\"font-family: 'Open Sans', verdana, arial, sans-serif; font-size: 12px; fill: rgb(42, 63, 95); fill-opacity: 1; white-space: pre;\">71</text></g><g class=\"textpoint\" transform=\"translate(0,-7.75)\"><text x=\"257.1\" y=\"390.53\" text-anchor=\"middle\" style=\"font-family: 'Open Sans', verdana, arial, sans-serif; font-size: 12px; fill: rgb(42, 63, 95); fill-opacity: 1; white-space: pre;\">20</text></g><g class=\"textpoint\" transform=\"translate(0,-7.75)\"><text x=\"393.86\" y=\"390.62\" text-anchor=\"middle\" style=\"font-family: 'Open Sans', verdana, arial, sans-serif; font-size: 12px; fill: rgb(42, 63, 95); fill-opacity: 1; white-space: pre;\">8</text></g><g class=\"textpoint\" transform=\"translate(0,-7.75)\"><text x=\"335.51\" y=\"390.76\" text-anchor=\"middle\" style=\"font-family: 'Open Sans', verdana, arial, sans-serif; font-size: 12px; fill: rgb(42, 63, 95); fill-opacity: 1; white-space: pre;\">246</text></g><g class=\"textpoint\" transform=\"translate(0,-7.75)\"><text x=\"339.91\" y=\"390.77\" text-anchor=\"middle\" style=\"font-family: 'Open Sans', verdana, arial, sans-serif; font-size: 12px; fill: rgb(42, 63, 95); fill-opacity: 1; white-space: pre;\">93</text></g><g class=\"textpoint\" transform=\"translate(0,-7.75)\"><text x=\"407.53\" y=\"390.81\" text-anchor=\"middle\" style=\"font-family: 'Open Sans', verdana, arial, sans-serif; font-size: 12px; fill: rgb(42, 63, 95); fill-opacity: 1; white-space: pre;\">76</text></g><g class=\"textpoint\" transform=\"translate(0,-7.75)\"><text x=\"377.45\" y=\"390.83\" text-anchor=\"middle\" style=\"font-family: 'Open Sans', verdana, arial, sans-serif; font-size: 12px; fill: rgb(42, 63, 95); fill-opacity: 1; white-space: pre;\">5</text></g><g class=\"textpoint\" transform=\"translate(0,-7.75)\"><text x=\"211.82\" y=\"390.84\" text-anchor=\"middle\" style=\"font-family: 'Open Sans', verdana, arial, sans-serif; font-size: 12px; fill: rgb(42, 63, 95); fill-opacity: 1; white-space: pre;\">86</text></g><g class=\"textpoint\" transform=\"translate(0,-7.75)\"><text x=\"331.86\" y=\"390.92\" text-anchor=\"middle\" style=\"font-family: 'Open Sans', verdana, arial, sans-serif; font-size: 12px; fill: rgb(42, 63, 95); fill-opacity: 1; white-space: pre;\">203</text></g><g class=\"textpoint\" transform=\"translate(0,-7.75)\"><text x=\"301.62\" y=\"390.94\" text-anchor=\"middle\" style=\"font-family: 'Open Sans', verdana, arial, sans-serif; font-size: 12px; fill: rgb(42, 63, 95); fill-opacity: 1; white-space: pre;\">18</text></g><g class=\"textpoint\" transform=\"translate(0,-7.75)\"><text x=\"473.94\" y=\"391.04\" text-anchor=\"middle\" style=\"font-family: 'Open Sans', verdana, arial, sans-serif; font-size: 12px; fill: rgb(42, 63, 95); fill-opacity: 1; white-space: pre;\">241</text></g><g class=\"textpoint\" transform=\"translate(0,-7.75)\"><text x=\"268.95\" y=\"391.09\" text-anchor=\"middle\" style=\"font-family: 'Open Sans', verdana, arial, sans-serif; font-size: 12px; fill: rgb(42, 63, 95); fill-opacity: 1; white-space: pre;\">270</text></g><g class=\"textpoint\" transform=\"translate(0,-7.75)\"><text x=\"254.82\" y=\"391.1\" text-anchor=\"middle\" style=\"font-family: 'Open Sans', verdana, arial, sans-serif; font-size: 12px; fill: rgb(42, 63, 95); fill-opacity: 1; white-space: pre;\">172</text></g><g class=\"textpoint\" transform=\"translate(0,-7.75)\"><text x=\"301.32\" y=\"391.37\" text-anchor=\"middle\" style=\"font-family: 'Open Sans', verdana, arial, sans-serif; font-size: 12px; fill: rgb(42, 63, 95); fill-opacity: 1; white-space: pre;\">148</text></g><g class=\"textpoint\" transform=\"translate(0,-7.75)\"><text x=\"466.79\" y=\"391.49\" text-anchor=\"middle\" style=\"font-family: 'Open Sans', verdana, arial, sans-serif; font-size: 12px; fill: rgb(42, 63, 95); fill-opacity: 1; white-space: pre;\">138</text></g><g class=\"textpoint\" transform=\"translate(0,-7.75)\"><text x=\"415.89\" y=\"391.76\" text-anchor=\"middle\" style=\"font-family: 'Open Sans', verdana, arial, sans-serif; font-size: 12px; fill: rgb(42, 63, 95); fill-opacity: 1; white-space: pre;\">139</text></g><g class=\"textpoint\" transform=\"translate(0,-7.75)\"><text x=\"331.25\" y=\"391.92\" text-anchor=\"middle\" style=\"font-family: 'Open Sans', verdana, arial, sans-serif; font-size: 12px; fill: rgb(42, 63, 95); fill-opacity: 1; white-space: pre;\">98</text></g><g class=\"textpoint\" transform=\"translate(0,-7.75)\"><text x=\"343.87\" y=\"391.99\" text-anchor=\"middle\" style=\"font-family: 'Open Sans', verdana, arial, sans-serif; font-size: 12px; fill: rgb(42, 63, 95); fill-opacity: 1; white-space: pre;\">157</text></g><g class=\"textpoint\" transform=\"translate(0,-7.75)\"><text x=\"422.58\" y=\"392.05\" text-anchor=\"middle\" style=\"font-family: 'Open Sans', verdana, arial, sans-serif; font-size: 12px; fill: rgb(42, 63, 95); fill-opacity: 1; white-space: pre;\">4</text></g><g class=\"textpoint\" transform=\"translate(0,-7.75)\"><text x=\"397.2\" y=\"392.09\" text-anchor=\"middle\" style=\"font-family: 'Open Sans', verdana, arial, sans-serif; font-size: 12px; fill: rgb(42, 63, 95); fill-opacity: 1; white-space: pre;\">99</text></g><g class=\"textpoint\" transform=\"translate(0,-7.75)\"><text x=\"295.09\" y=\"392.11\" text-anchor=\"middle\" style=\"font-family: 'Open Sans', verdana, arial, sans-serif; font-size: 12px; fill: rgb(42, 63, 95); fill-opacity: 1; white-space: pre;\">80</text></g><g class=\"textpoint\" transform=\"translate(0,-7.75)\"><text x=\"187.81\" y=\"392.12\" text-anchor=\"middle\" style=\"font-family: 'Open Sans', verdana, arial, sans-serif; font-size: 12px; fill: rgb(42, 63, 95); fill-opacity: 1; white-space: pre;\">23</text></g><g class=\"textpoint\" transform=\"translate(0,-7.75)\"><text x=\"358.45\" y=\"392.24\" text-anchor=\"middle\" style=\"font-family: 'Open Sans', verdana, arial, sans-serif; font-size: 12px; fill: rgb(42, 63, 95); fill-opacity: 1; white-space: pre;\">141</text></g><g class=\"textpoint\" transform=\"translate(0,-7.75)\"><text x=\"330.65\" y=\"392.35\" text-anchor=\"middle\" style=\"font-family: 'Open Sans', verdana, arial, sans-serif; font-size: 12px; fill: rgb(42, 63, 95); fill-opacity: 1; white-space: pre;\">248</text></g><g class=\"textpoint\" transform=\"translate(0,-7.75)\"><text x=\"367.11\" y=\"392.57\" text-anchor=\"middle\" style=\"font-family: 'Open Sans', verdana, arial, sans-serif; font-size: 12px; fill: rgb(42, 63, 95); fill-opacity: 1; white-space: pre;\">78</text></g><g class=\"textpoint\" transform=\"translate(0,-7.75)\"><text x=\"335.81\" y=\"392.68\" text-anchor=\"middle\" style=\"font-family: 'Open Sans', verdana, arial, sans-serif; font-size: 12px; fill: rgb(42, 63, 95); fill-opacity: 1; white-space: pre;\">56</text></g><g class=\"textpoint\" transform=\"translate(0,-7.75)\"><text x=\"395.38\" y=\"393.32\" text-anchor=\"middle\" style=\"font-family: 'Open Sans', verdana, arial, sans-serif; font-size: 12px; fill: rgb(42, 63, 95); fill-opacity: 1; white-space: pre;\">286</text></g><g class=\"textpoint\" transform=\"translate(0,-7.75)\"><text x=\"504.93\" y=\"393.5\" text-anchor=\"middle\" style=\"font-family: 'Open Sans', verdana, arial, sans-serif; font-size: 12px; fill: rgb(42, 63, 95); fill-opacity: 1; white-space: pre;\">167</text></g><g class=\"textpoint\" transform=\"translate(0,-7.75)\"><text x=\"303.75\" y=\"393.66\" text-anchor=\"middle\" style=\"font-family: 'Open Sans', verdana, arial, sans-serif; font-size: 12px; fill: rgb(42, 63, 95); fill-opacity: 1; white-space: pre;\">210</text></g><g class=\"textpoint\" transform=\"translate(0,-7.75)\"><text x=\"180.06\" y=\"393.7\" text-anchor=\"middle\" style=\"font-family: 'Open Sans', verdana, arial, sans-serif; font-size: 12px; fill: rgb(42, 63, 95); fill-opacity: 1; white-space: pre;\">258</text></g><g class=\"textpoint\" transform=\"translate(0,-7.75)\"><text x=\"408.75\" y=\"393.75\" text-anchor=\"middle\" style=\"font-family: 'Open Sans', verdana, arial, sans-serif; font-size: 12px; fill: rgb(42, 63, 95); fill-opacity: 1; white-space: pre;\">201</text></g><g class=\"textpoint\" transform=\"translate(0,-7.75)\"><text x=\"378.51\" y=\"393.92\" text-anchor=\"middle\" style=\"font-family: 'Open Sans', verdana, arial, sans-serif; font-size: 12px; fill: rgb(42, 63, 95); fill-opacity: 1; white-space: pre;\">32</text></g><g class=\"textpoint\" transform=\"translate(0,-7.75)\"><text x=\"225.34\" y=\"394.04\" text-anchor=\"middle\" style=\"font-family: 'Open Sans', verdana, arial, sans-serif; font-size: 12px; fill: rgb(42, 63, 95); fill-opacity: 1; white-space: pre;\">87</text></g><g class=\"textpoint\" transform=\"translate(0,-7.75)\"><text x=\"271.69\" y=\"394.45\" text-anchor=\"middle\" style=\"font-family: 'Open Sans', verdana, arial, sans-serif; font-size: 12px; fill: rgb(42, 63, 95); fill-opacity: 1; white-space: pre;\">68</text></g><g class=\"textpoint\" transform=\"translate(0,-7.75)\"><text x=\"372.89\" y=\"394.64\" text-anchor=\"middle\" style=\"font-family: 'Open Sans', verdana, arial, sans-serif; font-size: 12px; fill: rgb(42, 63, 95); fill-opacity: 1; white-space: pre;\">53</text></g><g class=\"textpoint\" transform=\"translate(0,-7.75)\"><text x=\"161.52\" y=\"394.83\" text-anchor=\"middle\" style=\"font-family: 'Open Sans', verdana, arial, sans-serif; font-size: 12px; fill: rgb(42, 63, 95); fill-opacity: 1; white-space: pre;\">112</text></g><g class=\"textpoint\" transform=\"translate(0,-7.75)\"><text x=\"334.14\" y=\"394.86\" text-anchor=\"middle\" style=\"font-family: 'Open Sans', verdana, arial, sans-serif; font-size: 12px; fill: rgb(42, 63, 95); fill-opacity: 1; white-space: pre;\">146</text></g><g class=\"textpoint\" transform=\"translate(0,-7.75)\"><text x=\"358.91\" y=\"395.01\" text-anchor=\"middle\" style=\"font-family: 'Open Sans', verdana, arial, sans-serif; font-size: 12px; fill: rgb(42, 63, 95); fill-opacity: 1; white-space: pre;\">134</text></g><g class=\"textpoint\" transform=\"translate(0,-7.75)\"><text x=\"361.19\" y=\"395.09\" text-anchor=\"middle\" style=\"font-family: 'Open Sans', verdana, arial, sans-serif; font-size: 12px; fill: rgb(42, 63, 95); fill-opacity: 1; white-space: pre;\">52</text></g><g class=\"textpoint\" transform=\"translate(0,-7.75)\"><text x=\"135.84\" y=\"395.14\" text-anchor=\"middle\" style=\"font-family: 'Open Sans', verdana, arial, sans-serif; font-size: 12px; fill: rgb(42, 63, 95); fill-opacity: 1; white-space: pre;\">117</text></g><g class=\"textpoint\" transform=\"translate(0,-7.75)\"><text x=\"372.28\" y=\"395.3\" text-anchor=\"middle\" style=\"font-family: 'Open Sans', verdana, arial, sans-serif; font-size: 12px; fill: rgb(42, 63, 95); fill-opacity: 1; white-space: pre;\">156</text></g><g class=\"textpoint\" transform=\"translate(0,-7.75)\"><text x=\"386.11\" y=\"395.35\" text-anchor=\"middle\" style=\"font-family: 'Open Sans', verdana, arial, sans-serif; font-size: 12px; fill: rgb(42, 63, 95); fill-opacity: 1; white-space: pre;\">57</text></g><g class=\"textpoint\" transform=\"translate(0,-7.75)\"><text x=\"356.33\" y=\"395.51\" text-anchor=\"middle\" style=\"font-family: 'Open Sans', verdana, arial, sans-serif; font-size: 12px; fill: rgb(42, 63, 95); fill-opacity: 1; white-space: pre;\">292</text></g><g class=\"textpoint\" transform=\"translate(0,-7.75)\"><text x=\"460.26\" y=\"395.79\" text-anchor=\"middle\" style=\"font-family: 'Open Sans', verdana, arial, sans-serif; font-size: 12px; fill: rgb(42, 63, 95); fill-opacity: 1; white-space: pre;\">242</text></g><g class=\"textpoint\" transform=\"translate(0,-7.75)\"><text x=\"297.37\" y=\"395.82\" text-anchor=\"middle\" style=\"font-family: 'Open Sans', verdana, arial, sans-serif; font-size: 12px; fill: rgb(42, 63, 95); fill-opacity: 1; white-space: pre;\">66</text></g><g class=\"textpoint\" transform=\"translate(0,-7.75)\"><text x=\"386.56\" y=\"395.83\" text-anchor=\"middle\" style=\"font-family: 'Open Sans', verdana, arial, sans-serif; font-size: 12px; fill: rgb(42, 63, 95); fill-opacity: 1; white-space: pre;\">37</text></g><g class=\"textpoint\" transform=\"translate(0,-7.75)\"><text x=\"125.51\" y=\"395.88\" text-anchor=\"middle\" style=\"font-family: 'Open Sans', verdana, arial, sans-serif; font-size: 12px; fill: rgb(42, 63, 95); fill-opacity: 1; white-space: pre;\">219</text></g><g class=\"textpoint\" transform=\"translate(0,-7.75)\"><text x=\"304.21\" y=\"395.94\" text-anchor=\"middle\" style=\"font-family: 'Open Sans', verdana, arial, sans-serif; font-size: 12px; fill: rgb(42, 63, 95); fill-opacity: 1; white-space: pre;\">26</text></g><g class=\"textpoint\" transform=\"translate(0,-7.75)\"><text x=\"464.36\" y=\"395.98\" text-anchor=\"middle\" style=\"font-family: 'Open Sans', verdana, arial, sans-serif; font-size: 12px; fill: rgb(42, 63, 95); fill-opacity: 1; white-space: pre;\">160</text></g><g class=\"textpoint\" transform=\"translate(0,-7.75)\"><text x=\"568.6\" y=\"396.01\" text-anchor=\"middle\" style=\"font-family: 'Open Sans', verdana, arial, sans-serif; font-size: 12px; fill: rgb(42, 63, 95); fill-opacity: 1; white-space: pre;\">165</text></g><g class=\"textpoint\" transform=\"translate(0,-7.75)\"><text x=\"267.43\" y=\"396.33\" text-anchor=\"middle\" style=\"font-family: 'Open Sans', verdana, arial, sans-serif; font-size: 12px; fill: rgb(42, 63, 95); fill-opacity: 1; white-space: pre;\">16</text></g><g class=\"textpoint\" transform=\"translate(0,-7.75)\"><text x=\"510.1\" y=\"396.34\" text-anchor=\"middle\" style=\"font-family: 'Open Sans', verdana, arial, sans-serif; font-size: 12px; fill: rgb(42, 63, 95); fill-opacity: 1; white-space: pre;\">162</text></g><g class=\"textpoint\" transform=\"translate(0,-7.75)\"><text x=\"375.32\" y=\"396.5\" text-anchor=\"middle\" style=\"font-family: 'Open Sans', verdana, arial, sans-serif; font-size: 12px; fill: rgb(42, 63, 95); fill-opacity: 1; white-space: pre;\">104</text></g><g class=\"textpoint\" transform=\"translate(0,-7.75)\"><text x=\"411.79\" y=\"396.69\" text-anchor=\"middle\" style=\"font-family: 'Open Sans', verdana, arial, sans-serif; font-size: 12px; fill: rgb(42, 63, 95); fill-opacity: 1; white-space: pre;\">204</text></g><g class=\"textpoint\" transform=\"translate(0,-7.75)\"><text x=\"415.74\" y=\"396.86\" text-anchor=\"middle\" style=\"font-family: 'Open Sans', verdana, arial, sans-serif; font-size: 12px; fill: rgb(42, 63, 95); fill-opacity: 1; white-space: pre;\">280</text></g><g class=\"textpoint\" transform=\"translate(0,-7.75)\"><text x=\"366.35\" y=\"396.95\" text-anchor=\"middle\" style=\"font-family: 'Open Sans', verdana, arial, sans-serif; font-size: 12px; fill: rgb(42, 63, 95); fill-opacity: 1; white-space: pre;\">33</text></g><g class=\"textpoint\" transform=\"translate(0,-7.75)\"><text x=\"470.59\" y=\"397.04\" text-anchor=\"middle\" style=\"font-family: 'Open Sans', verdana, arial, sans-serif; font-size: 12px; fill: rgb(42, 63, 95); fill-opacity: 1; white-space: pre;\">281</text></g><g class=\"textpoint\" transform=\"translate(0,-7.75)\"><text x=\"346.9\" y=\"397.13\" text-anchor=\"middle\" style=\"font-family: 'Open Sans', verdana, arial, sans-serif; font-size: 12px; fill: rgb(42, 63, 95); fill-opacity: 1; white-space: pre;\">79</text></g><g class=\"textpoint\" transform=\"translate(0,-7.75)\"><text x=\"390.51\" y=\"397.27\" text-anchor=\"middle\" style=\"font-family: 'Open Sans', verdana, arial, sans-serif; font-size: 12px; fill: rgb(42, 63, 95); fill-opacity: 1; white-space: pre;\">243</text></g><g class=\"textpoint\" transform=\"translate(0,-7.75)\"><text x=\"428.35\" y=\"397.51\" text-anchor=\"middle\" style=\"font-family: 'Open Sans', verdana, arial, sans-serif; font-size: 12px; fill: rgb(42, 63, 95); fill-opacity: 1; white-space: pre;\">169</text></g><g class=\"textpoint\" transform=\"translate(0,-7.75)\"><text x=\"323.66\" y=\"397.59\" text-anchor=\"middle\" style=\"font-family: 'Open Sans', verdana, arial, sans-serif; font-size: 12px; fill: rgb(42, 63, 95); fill-opacity: 1; white-space: pre;\">250</text></g><g class=\"textpoint\" transform=\"translate(0,-7.75)\"><text x=\"442.79\" y=\"397.68\" text-anchor=\"middle\" style=\"font-family: 'Open Sans', verdana, arial, sans-serif; font-size: 12px; fill: rgb(42, 63, 95); fill-opacity: 1; white-space: pre;\">140</text></g><g class=\"textpoint\" transform=\"translate(0,-7.75)\"><text x=\"180.67\" y=\"397.72\" text-anchor=\"middle\" style=\"font-family: 'Open Sans', verdana, arial, sans-serif; font-size: 12px; fill: rgb(42, 63, 95); fill-opacity: 1; white-space: pre;\">84</text></g><g class=\"textpoint\" transform=\"translate(0,-7.75)\"><text x=\"451.9\" y=\"397.73\" text-anchor=\"middle\" style=\"font-family: 'Open Sans', verdana, arial, sans-serif; font-size: 12px; fill: rgb(42, 63, 95); fill-opacity: 1; white-space: pre;\">75</text></g><g class=\"textpoint\" transform=\"translate(0,-7.75)\"><text x=\"427.44\" y=\"397.81\" text-anchor=\"middle\" style=\"font-family: 'Open Sans', verdana, arial, sans-serif; font-size: 12px; fill: rgb(42, 63, 95); fill-opacity: 1; white-space: pre;\">133</text></g><g class=\"textpoint\" transform=\"translate(0,-7.75)\"><text x=\"431.69\" y=\"397.94\" text-anchor=\"middle\" style=\"font-family: 'Open Sans', verdana, arial, sans-serif; font-size: 12px; fill: rgb(42, 63, 95); fill-opacity: 1; white-space: pre;\">77</text></g><g class=\"textpoint\" transform=\"translate(0,-7.75)\"><text x=\"509.95\" y=\"398.05\" text-anchor=\"middle\" style=\"font-family: 'Open Sans', verdana, arial, sans-serif; font-size: 12px; fill: rgb(42, 63, 95); fill-opacity: 1; white-space: pre;\">238</text></g><g class=\"textpoint\" transform=\"translate(0,-7.75)\"><text x=\"417.41\" y=\"398.25\" text-anchor=\"middle\" style=\"font-family: 'Open Sans', verdana, arial, sans-serif; font-size: 12px; fill: rgb(42, 63, 95); fill-opacity: 1; white-space: pre;\">102</text></g><g class=\"textpoint\" transform=\"translate(0,-7.75)\"><text x=\"375.78\" y=\"398.25\" text-anchor=\"middle\" style=\"font-family: 'Open Sans', verdana, arial, sans-serif; font-size: 12px; fill: rgb(42, 63, 95); fill-opacity: 1; white-space: pre;\">36</text></g><g class=\"textpoint\" transform=\"translate(0,-7.75)\"><text x=\"185.68\" y=\"398.5\" text-anchor=\"middle\" style=\"font-family: 'Open Sans', verdana, arial, sans-serif; font-size: 12px; fill: rgb(42, 63, 95); fill-opacity: 1; white-space: pre;\">83</text></g><g class=\"textpoint\" transform=\"translate(0,-7.75)\"><text x=\"368.48\" y=\"398.6\" text-anchor=\"middle\" style=\"font-family: 'Open Sans', verdana, arial, sans-serif; font-size: 12px; fill: rgb(42, 63, 95); fill-opacity: 1; white-space: pre;\">143</text></g><g class=\"textpoint\" transform=\"translate(0,-7.75)\"><text x=\"343.26\" y=\"398.64\" text-anchor=\"middle\" style=\"font-family: 'Open Sans', verdana, arial, sans-serif; font-size: 12px; fill: rgb(42, 63, 95); fill-opacity: 1; white-space: pre;\">55</text></g><g class=\"textpoint\" transform=\"translate(0,-7.75)\"><text x=\"265.46\" y=\"398.7\" text-anchor=\"middle\" style=\"font-family: 'Open Sans', verdana, arial, sans-serif; font-size: 12px; fill: rgb(42, 63, 95); fill-opacity: 1; white-space: pre;\">15</text></g><g class=\"textpoint\" transform=\"translate(0,-7.75)\"><text x=\"404.34\" y=\"398.99\" text-anchor=\"middle\" style=\"font-family: 'Open Sans', verdana, arial, sans-serif; font-size: 12px; fill: rgb(42, 63, 95); fill-opacity: 1; white-space: pre;\">3</text></g><g class=\"textpoint\" transform=\"translate(0,-7.75)\"><text x=\"347.66\" y=\"399.15\" text-anchor=\"middle\" style=\"font-family: 'Open Sans', verdana, arial, sans-serif; font-size: 12px; fill: rgb(42, 63, 95); fill-opacity: 1; white-space: pre;\">125</text></g><g class=\"textpoint\" transform=\"translate(0,-7.75)\"><text x=\"419.54\" y=\"399.21\" text-anchor=\"middle\" style=\"font-family: 'Open Sans', verdana, arial, sans-serif; font-size: 12px; fill: rgb(42, 63, 95); fill-opacity: 1; white-space: pre;\">142</text></g><g class=\"textpoint\" transform=\"translate(0,-7.75)\"><text x=\"312.11\" y=\"399.27\" text-anchor=\"middle\" style=\"font-family: 'Open Sans', verdana, arial, sans-serif; font-size: 12px; fill: rgb(42, 63, 95); fill-opacity: 1; white-space: pre;\">31</text></g><g class=\"textpoint\" transform=\"translate(0,-7.75)\"><text x=\"376.84\" y=\"399.34\" text-anchor=\"middle\" style=\"font-family: 'Open Sans', verdana, arial, sans-serif; font-size: 12px; fill: rgb(42, 63, 95); fill-opacity: 1; white-space: pre;\">11</text></g><g class=\"textpoint\" transform=\"translate(0,-7.75)\"><text x=\"322.14\" y=\"399.47\" text-anchor=\"middle\" style=\"font-family: 'Open Sans', verdana, arial, sans-serif; font-size: 12px; fill: rgb(42, 63, 95); fill-opacity: 1; white-space: pre;\">24</text></g><g class=\"textpoint\" transform=\"translate(0,-7.75)\"><text x=\"462.54\" y=\"399.62\" text-anchor=\"middle\" style=\"font-family: 'Open Sans', verdana, arial, sans-serif; font-size: 12px; fill: rgb(42, 63, 95); fill-opacity: 1; white-space: pre;\">283</text></g><g class=\"textpoint\" transform=\"translate(0,-7.75)\"><text x=\"345.69\" y=\"399.68\" text-anchor=\"middle\" style=\"font-family: 'Open Sans', verdana, arial, sans-serif; font-size: 12px; fill: rgb(42, 63, 95); fill-opacity: 1; white-space: pre;\">198</text></g><g class=\"textpoint\" transform=\"translate(0,-7.75)\"><text x=\"234.61\" y=\"399.8\" text-anchor=\"middle\" style=\"font-family: 'Open Sans', verdana, arial, sans-serif; font-size: 12px; fill: rgb(42, 63, 95); fill-opacity: 1; white-space: pre;\">49</text></g><g class=\"textpoint\" transform=\"translate(0,-7.75)\"><text x=\"184.47\" y=\"399.92\" text-anchor=\"middle\" style=\"font-family: 'Open Sans', verdana, arial, sans-serif; font-size: 12px; fill: rgb(42, 63, 95); fill-opacity: 1; white-space: pre;\">263</text></g><g class=\"textpoint\" transform=\"translate(0,-7.75)\"><text x=\"436.4\" y=\"400\" text-anchor=\"middle\" style=\"font-family: 'Open Sans', verdana, arial, sans-serif; font-size: 12px; fill: rgb(42, 63, 95); fill-opacity: 1; white-space: pre;\">131</text></g><g class=\"textpoint\" transform=\"translate(0,-7.75)\"><text x=\"347.06\" y=\"400.53\" text-anchor=\"middle\" style=\"font-family: 'Open Sans', verdana, arial, sans-serif; font-size: 12px; fill: rgb(42, 63, 95); fill-opacity: 1; white-space: pre;\">92</text></g><g class=\"textpoint\" transform=\"translate(0,-7.75)\"><text x=\"383.83\" y=\"400.6\" text-anchor=\"middle\" style=\"font-family: 'Open Sans', verdana, arial, sans-serif; font-size: 12px; fill: rgb(42, 63, 95); fill-opacity: 1; white-space: pre;\">7</text></g><g class=\"textpoint\" transform=\"translate(0,-7.75)\"><text x=\"340.67\" y=\"400.63\" text-anchor=\"middle\" style=\"font-family: 'Open Sans', verdana, arial, sans-serif; font-size: 12px; fill: rgb(42, 63, 95); fill-opacity: 1; white-space: pre;\">251</text></g><g class=\"textpoint\" transform=\"translate(0,-7.75)\"><text x=\"373.5\" y=\"400.63\" text-anchor=\"middle\" style=\"font-family: 'Open Sans', verdana, arial, sans-serif; font-size: 12px; fill: rgb(42, 63, 95); fill-opacity: 1; white-space: pre;\">12</text></g><g class=\"textpoint\" transform=\"translate(0,-7.75)\"><text x=\"241.6\" y=\"400.72\" text-anchor=\"middle\" style=\"font-family: 'Open Sans', verdana, arial, sans-serif; font-size: 12px; fill: rgb(42, 63, 95); fill-opacity: 1; white-space: pre;\">225</text></g><g class=\"textpoint\" transform=\"translate(0,-7.75)\"><text x=\"365.29\" y=\"400.97\" text-anchor=\"middle\" style=\"font-family: 'Open Sans', verdana, arial, sans-serif; font-size: 12px; fill: rgb(42, 63, 95); fill-opacity: 1; white-space: pre;\">247</text></g><g class=\"textpoint\" transform=\"translate(0,-7.75)\"><text x=\"273.36\" y=\"401.06\" text-anchor=\"middle\" style=\"font-family: 'Open Sans', verdana, arial, sans-serif; font-size: 12px; fill: rgb(42, 63, 95); fill-opacity: 1; white-space: pre;\">90</text></g><g class=\"textpoint\" transform=\"translate(0,-7.75)\"><text x=\"260.14\" y=\"401.21\" text-anchor=\"middle\" style=\"font-family: 'Open Sans', verdana, arial, sans-serif; font-size: 12px; fill: rgb(42, 63, 95); fill-opacity: 1; white-space: pre;\">88</text></g><g class=\"textpoint\" transform=\"translate(0,-7.75)\"><text x=\"443.09\" y=\"401.24\" text-anchor=\"middle\" style=\"font-family: 'Open Sans', verdana, arial, sans-serif; font-size: 12px; fill: rgb(42, 63, 95); fill-opacity: 1; white-space: pre;\">240</text></g><g class=\"textpoint\" transform=\"translate(0,-7.75)\"><text x=\"388.08\" y=\"401.5\" text-anchor=\"middle\" style=\"font-family: 'Open Sans', verdana, arial, sans-serif; font-size: 12px; fill: rgb(42, 63, 95); fill-opacity: 1; white-space: pre;\">64</text></g><g class=\"textpoint\" transform=\"translate(0,-7.75)\"><text x=\"169.58\" y=\"401.62\" text-anchor=\"middle\" style=\"font-family: 'Open Sans', verdana, arial, sans-serif; font-size: 12px; fill: rgb(42, 63, 95); fill-opacity: 1; white-space: pre;\">85</text></g><g class=\"textpoint\" transform=\"translate(0,-7.75)\"><text x=\"348.42\" y=\"401.68\" text-anchor=\"middle\" style=\"font-family: 'Open Sans', verdana, arial, sans-serif; font-size: 12px; fill: rgb(42, 63, 95); fill-opacity: 1; white-space: pre;\">209</text></g><g class=\"textpoint\" transform=\"translate(0,-7.75)\"><text x=\"327.61\" y=\"401.91\" text-anchor=\"middle\" style=\"font-family: 'Open Sans', verdana, arial, sans-serif; font-size: 12px; fill: rgb(42, 63, 95); fill-opacity: 1; white-space: pre;\">171</text></g><g class=\"textpoint\" transform=\"translate(0,-7.75)\"><text x=\"256.95\" y=\"401.98\" text-anchor=\"middle\" style=\"font-family: 'Open Sans', verdana, arial, sans-serif; font-size: 12px; fill: rgb(42, 63, 95); fill-opacity: 1; white-space: pre;\">122</text></g><g class=\"textpoint\" transform=\"translate(0,-7.75)\"><text x=\"291.14\" y=\"401.98\" text-anchor=\"middle\" style=\"font-family: 'Open Sans', verdana, arial, sans-serif; font-size: 12px; fill: rgb(42, 63, 95); fill-opacity: 1; white-space: pre;\">126</text></g><g class=\"textpoint\" transform=\"translate(0,-7.75)\"><text x=\"365.44\" y=\"401.99\" text-anchor=\"middle\" style=\"font-family: 'Open Sans', verdana, arial, sans-serif; font-size: 12px; fill: rgb(42, 63, 95); fill-opacity: 1; white-space: pre;\">30</text></g><g class=\"textpoint\" transform=\"translate(0,-7.75)\"><text x=\"350.55\" y=\"402.02\" text-anchor=\"middle\" style=\"font-family: 'Open Sans', verdana, arial, sans-serif; font-size: 12px; fill: rgb(42, 63, 95); fill-opacity: 1; white-space: pre;\">29</text></g><g class=\"textpoint\" transform=\"translate(0,-7.75)\"><text x=\"391.27\" y=\"402.06\" text-anchor=\"middle\" style=\"font-family: 'Open Sans', verdana, arial, sans-serif; font-size: 12px; fill: rgb(42, 63, 95); fill-opacity: 1; white-space: pre;\">232</text></g><g class=\"textpoint\" transform=\"translate(0,-7.75)\"><text x=\"478.8\" y=\"402.12\" text-anchor=\"middle\" style=\"font-family: 'Open Sans', verdana, arial, sans-serif; font-size: 12px; fill: rgb(42, 63, 95); fill-opacity: 1; white-space: pre;\">239</text></g><g class=\"textpoint\" transform=\"translate(0,-7.75)\"><text x=\"321.53\" y=\"402.25\" text-anchor=\"middle\" style=\"font-family: 'Open Sans', verdana, arial, sans-serif; font-size: 12px; fill: rgb(42, 63, 95); fill-opacity: 1; white-space: pre;\">147</text></g><g class=\"textpoint\" transform=\"translate(0,-7.75)\"><text x=\"358.3\" y=\"402.52\" text-anchor=\"middle\" style=\"font-family: 'Open Sans', verdana, arial, sans-serif; font-size: 12px; fill: rgb(42, 63, 95); fill-opacity: 1; white-space: pre;\">72</text></g><g class=\"textpoint\" transform=\"translate(0,-7.75)\"><text x=\"520.89\" y=\"402.6\" text-anchor=\"middle\" style=\"font-family: 'Open Sans', verdana, arial, sans-serif; font-size: 12px; fill: rgb(42, 63, 95); fill-opacity: 1; white-space: pre;\">166</text></g><g class=\"textpoint\" transform=\"translate(0,-7.75)\"><text x=\"545.5\" y=\"402.72\" text-anchor=\"middle\" style=\"font-family: 'Open Sans', verdana, arial, sans-serif; font-size: 12px; fill: rgb(42, 63, 95); fill-opacity: 1; white-space: pre;\">163</text></g><g class=\"textpoint\" transform=\"translate(0,-7.75)\"><text x=\"270.32\" y=\"402.83\" text-anchor=\"middle\" style=\"font-family: 'Open Sans', verdana, arial, sans-serif; font-size: 12px; fill: rgb(42, 63, 95); fill-opacity: 1; white-space: pre;\">50</text></g><g class=\"textpoint\" transform=\"translate(0,-7.75)\"><text x=\"461.32\" y=\"402.87\" text-anchor=\"middle\" style=\"font-family: 'Open Sans', verdana, arial, sans-serif; font-size: 12px; fill: rgb(42, 63, 95); fill-opacity: 1; white-space: pre;\">62</text></g><g class=\"textpoint\" transform=\"translate(0,-7.75)\"><text x=\"299.04\" y=\"402.91\" text-anchor=\"middle\" style=\"font-family: 'Open Sans', verdana, arial, sans-serif; font-size: 12px; fill: rgb(42, 63, 95); fill-opacity: 1; white-space: pre;\">154</text></g><g class=\"textpoint\" transform=\"translate(0,-7.75)\"><text x=\"320.92\" y=\"403.07\" text-anchor=\"middle\" style=\"font-family: 'Open Sans', verdana, arial, sans-serif; font-size: 12px; fill: rgb(42, 63, 95); fill-opacity: 1; white-space: pre;\">21</text></g><g class=\"textpoint\" transform=\"translate(0,-7.75)\"><text x=\"296\" y=\"403.44\" text-anchor=\"middle\" style=\"font-family: 'Open Sans', verdana, arial, sans-serif; font-size: 12px; fill: rgb(42, 63, 95); fill-opacity: 1; white-space: pre;\">97</text></g><g class=\"textpoint\" transform=\"translate(0,-7.75)\"><text x=\"382.46\" y=\"403.44\" text-anchor=\"middle\" style=\"font-family: 'Open Sans', verdana, arial, sans-serif; font-size: 12px; fill: rgb(42, 63, 95); fill-opacity: 1; white-space: pre;\">101</text></g><g class=\"textpoint\" transform=\"translate(0,-7.75)\"><text x=\"421.97\" y=\"403.5\" text-anchor=\"middle\" style=\"font-family: 'Open Sans', verdana, arial, sans-serif; font-size: 12px; fill: rgb(42, 63, 95); fill-opacity: 1; white-space: pre;\">144</text></g><g class=\"textpoint\" transform=\"translate(0,-7.75)\"><text x=\"370.61\" y=\"403.5\" text-anchor=\"middle\" style=\"font-family: 'Open Sans', verdana, arial, sans-serif; font-size: 12px; fill: rgb(42, 63, 95); fill-opacity: 1; white-space: pre;\">58</text></g><g class=\"textpoint\" transform=\"translate(0,-7.75)\"><text x=\"453.12\" y=\"403.6\" text-anchor=\"middle\" style=\"font-family: 'Open Sans', verdana, arial, sans-serif; font-size: 12px; fill: rgb(42, 63, 95); fill-opacity: 1; white-space: pre;\">235</text></g><g class=\"textpoint\" transform=\"translate(0,-7.75)\"><text x=\"446.89\" y=\"403.66\" text-anchor=\"middle\" style=\"font-family: 'Open Sans', verdana, arial, sans-serif; font-size: 12px; fill: rgb(42, 63, 95); fill-opacity: 1; white-space: pre;\">135</text></g><g class=\"textpoint\" transform=\"translate(0,-7.75)\"><text x=\"380.94\" y=\"404.04\" text-anchor=\"middle\" style=\"font-family: 'Open Sans', verdana, arial, sans-serif; font-size: 12px; fill: rgb(42, 63, 95); fill-opacity: 1; white-space: pre;\">145</text></g><g class=\"textpoint\" transform=\"translate(0,-7.75)\"><text x=\"320.77\" y=\"404.31\" text-anchor=\"middle\" style=\"font-family: 'Open Sans', verdana, arial, sans-serif; font-size: 12px; fill: rgb(42, 63, 95); fill-opacity: 1; white-space: pre;\">95</text></g><g class=\"textpoint\" transform=\"translate(0,-7.75)\"><text x=\"559.94\" y=\"404.34\" text-anchor=\"middle\" style=\"font-family: 'Open Sans', verdana, arial, sans-serif; font-size: 12px; fill: rgb(42, 63, 95); fill-opacity: 1; white-space: pre;\">164</text></g><g class=\"textpoint\" transform=\"translate(0,-7.75)\"><text x=\"424.1\" y=\"404.37\" text-anchor=\"middle\" style=\"font-family: 'Open Sans', verdana, arial, sans-serif; font-size: 12px; fill: rgb(42, 63, 95); fill-opacity: 1; white-space: pre;\">74</text></g><g class=\"textpoint\" transform=\"translate(0,-7.75)\"><text x=\"375.93\" y=\"404.66\" text-anchor=\"middle\" style=\"font-family: 'Open Sans', verdana, arial, sans-serif; font-size: 12px; fill: rgb(42, 63, 95); fill-opacity: 1; white-space: pre;\">244</text></g><g class=\"textpoint\" transform=\"translate(0,-7.75)\"><text x=\"302.84\" y=\"404.78\" text-anchor=\"middle\" style=\"font-family: 'Open Sans', verdana, arial, sans-serif; font-size: 12px; fill: rgb(42, 63, 95); fill-opacity: 1; white-space: pre;\">17</text></g><g class=\"textpoint\" transform=\"translate(0,-7.75)\"><text x=\"314.99\" y=\"404.87\" text-anchor=\"middle\" style=\"font-family: 'Open Sans', verdana, arial, sans-serif; font-size: 12px; fill: rgb(42, 63, 95); fill-opacity: 1; white-space: pre;\">14</text></g><g class=\"textpoint\" transform=\"translate(0,-7.75)\"><text x=\"359.06\" y=\"405.54\" text-anchor=\"middle\" style=\"font-family: 'Open Sans', verdana, arial, sans-serif; font-size: 12px; fill: rgb(42, 63, 95); fill-opacity: 1; white-space: pre;\">103</text></g><g class=\"textpoint\" transform=\"translate(0,-7.75)\"><text x=\"380.64\" y=\"407.59\" text-anchor=\"middle\" style=\"font-family: 'Open Sans', verdana, arial, sans-serif; font-size: 12px; fill: rgb(42, 63, 95); fill-opacity: 1; white-space: pre;\">2</text></g><g class=\"textpoint\" transform=\"translate(0,-7.75)\"><text x=\"327.15\" y=\"407.59\" text-anchor=\"middle\" style=\"font-family: 'Open Sans', verdana, arial, sans-serif; font-size: 12px; fill: rgb(42, 63, 95); fill-opacity: 1; white-space: pre;\">13</text></g><g class=\"textpoint\" transform=\"translate(0,-7.75)\"><text x=\"353.29\" y=\"407.59\" text-anchor=\"middle\" style=\"font-family: 'Open Sans', verdana, arial, sans-serif; font-size: 12px; fill: rgb(42, 63, 95); fill-opacity: 1; white-space: pre;\">25</text></g><g class=\"textpoint\" transform=\"translate(0,-7.75)\"><text x=\"342.04\" y=\"407.59\" text-anchor=\"middle\" style=\"font-family: 'Open Sans', verdana, arial, sans-serif; font-size: 12px; fill: rgb(42, 63, 95); fill-opacity: 1; white-space: pre;\">28</text></g><g class=\"textpoint\" transform=\"translate(0,-7.75)\"><text x=\"214.1\" y=\"407.59\" text-anchor=\"middle\" style=\"font-family: 'Open Sans', verdana, arial, sans-serif; font-size: 12px; fill: rgb(42, 63, 95); fill-opacity: 1; white-space: pre;\">46</text></g><g class=\"textpoint\" transform=\"translate(0,-7.75)\"><text x=\"180.21\" y=\"407.59\" text-anchor=\"middle\" style=\"font-family: 'Open Sans', verdana, arial, sans-serif; font-size: 12px; fill: rgb(42, 63, 95); fill-opacity: 1; white-space: pre;\">47</text></g><g class=\"textpoint\" transform=\"translate(0,-7.75)\"><text x=\"502.5\" y=\"407.59\" text-anchor=\"middle\" style=\"font-family: 'Open Sans', verdana, arial, sans-serif; font-size: 12px; fill: rgb(42, 63, 95); fill-opacity: 1; white-space: pre;\">61</text></g><g class=\"textpoint\" transform=\"translate(0,-7.75)\"><text x=\"349.03\" y=\"407.59\" text-anchor=\"middle\" style=\"font-family: 'Open Sans', verdana, arial, sans-serif; font-size: 12px; fill: rgb(42, 63, 95); fill-opacity: 1; white-space: pre;\">73</text></g><g class=\"textpoint\" transform=\"translate(0,-7.75)\"><text x=\"291.9\" y=\"407.59\" text-anchor=\"middle\" style=\"font-family: 'Open Sans', verdana, arial, sans-serif; font-size: 12px; fill: rgb(42, 63, 95); fill-opacity: 1; white-space: pre;\">91</text></g><g class=\"textpoint\" transform=\"translate(0,-7.75)\"><text x=\"319.4\" y=\"407.59\" text-anchor=\"middle\" style=\"font-family: 'Open Sans', verdana, arial, sans-serif; font-size: 12px; fill: rgb(42, 63, 95); fill-opacity: 1; white-space: pre;\">105</text></g><g class=\"textpoint\" transform=\"translate(0,-7.75)\"><text x=\"180.21\" y=\"407.59\" text-anchor=\"middle\" style=\"font-family: 'Open Sans', verdana, arial, sans-serif; font-size: 12px; fill: rgb(42, 63, 95); fill-opacity: 1; white-space: pre;\">108</text></g><g class=\"textpoint\" transform=\"translate(0,-7.75)\"><text x=\"136.91\" y=\"407.59\" text-anchor=\"middle\" style=\"font-family: 'Open Sans', verdana, arial, sans-serif; font-size: 12px; fill: rgb(42, 63, 95); fill-opacity: 1; white-space: pre;\">113</text></g><g class=\"textpoint\" transform=\"translate(0,-7.75)\"><text x=\"149.37\" y=\"407.59\" text-anchor=\"middle\" style=\"font-family: 'Open Sans', verdana, arial, sans-serif; font-size: 12px; fill: rgb(42, 63, 95); fill-opacity: 1; white-space: pre;\">116</text></g><g class=\"textpoint\" transform=\"translate(0,-7.75)\"><text x=\"164.11\" y=\"407.59\" text-anchor=\"middle\" style=\"font-family: 'Open Sans', verdana, arial, sans-serif; font-size: 12px; fill: rgb(42, 63, 95); fill-opacity: 1; white-space: pre;\">120</text></g><g class=\"textpoint\" transform=\"translate(0,-7.75)\"><text x=\"239.32\" y=\"407.59\" text-anchor=\"middle\" style=\"font-family: 'Open Sans', verdana, arial, sans-serif; font-size: 12px; fill: rgb(42, 63, 95); fill-opacity: 1; white-space: pre;\">124</text></g><g class=\"textpoint\" transform=\"translate(0,-7.75)\"><text x=\"382.31\" y=\"407.59\" text-anchor=\"middle\" style=\"font-family: 'Open Sans', verdana, arial, sans-serif; font-size: 12px; fill: rgb(42, 63, 95); fill-opacity: 1; white-space: pre;\">127</text></g><g class=\"textpoint\" transform=\"translate(0,-7.75)\"><text x=\"426.68\" y=\"407.59\" text-anchor=\"middle\" style=\"font-family: 'Open Sans', verdana, arial, sans-serif; font-size: 12px; fill: rgb(42, 63, 95); fill-opacity: 1; white-space: pre;\">128</text></g><g class=\"textpoint\" transform=\"translate(0,-7.75)\"><text x=\"463.45\" y=\"407.59\" text-anchor=\"middle\" style=\"font-family: 'Open Sans', verdana, arial, sans-serif; font-size: 12px; fill: rgb(42, 63, 95); fill-opacity: 1; white-space: pre;\">129</text></g><g class=\"textpoint\" transform=\"translate(0,-7.75)\"><text x=\"419.23\" y=\"407.59\" text-anchor=\"middle\" style=\"font-family: 'Open Sans', verdana, arial, sans-serif; font-size: 12px; fill: rgb(42, 63, 95); fill-opacity: 1; white-space: pre;\">130</text></g><g class=\"textpoint\" transform=\"translate(0,-7.75)\"><text x=\"347.97\" y=\"407.59\" text-anchor=\"middle\" style=\"font-family: 'Open Sans', verdana, arial, sans-serif; font-size: 12px; fill: rgb(42, 63, 95); fill-opacity: 1; white-space: pre;\">132</text></g><g class=\"textpoint\" transform=\"translate(0,-7.75)\"><text x=\"454.79\" y=\"407.59\" text-anchor=\"middle\" style=\"font-family: 'Open Sans', verdana, arial, sans-serif; font-size: 12px; fill: rgb(42, 63, 95); fill-opacity: 1; white-space: pre;\">205</text></g><g class=\"textpoint\" transform=\"translate(0,-7.75)\"><text x=\"479.71\" y=\"407.59\" text-anchor=\"middle\" style=\"font-family: 'Open Sans', verdana, arial, sans-serif; font-size: 12px; fill: rgb(42, 63, 95); fill-opacity: 1; white-space: pre;\">206</text></g><g class=\"textpoint\" transform=\"translate(0,-7.75)\"><text x=\"391.27\" y=\"407.59\" text-anchor=\"middle\" style=\"font-family: 'Open Sans', verdana, arial, sans-serif; font-size: 12px; fill: rgb(42, 63, 95); fill-opacity: 1; white-space: pre;\">208</text></g><g class=\"textpoint\" transform=\"translate(0,-7.75)\"><text x=\"179.91\" y=\"407.59\" text-anchor=\"middle\" style=\"font-family: 'Open Sans', verdana, arial, sans-serif; font-size: 12px; fill: rgb(42, 63, 95); fill-opacity: 1; white-space: pre;\">222</text></g><g class=\"textpoint\" transform=\"translate(0,-7.75)\"><text x=\"333.53\" y=\"407.59\" text-anchor=\"middle\" style=\"font-family: 'Open Sans', verdana, arial, sans-serif; font-size: 12px; fill: rgb(42, 63, 95); fill-opacity: 1; white-space: pre;\">230</text></g><g class=\"textpoint\" transform=\"translate(0,-7.75)\"><text x=\"404.95\" y=\"407.59\" text-anchor=\"middle\" style=\"font-family: 'Open Sans', verdana, arial, sans-serif; font-size: 12px; fill: rgb(42, 63, 95); fill-opacity: 1; white-space: pre;\">234</text></g><g class=\"textpoint\" transform=\"translate(0,-7.75)\"><text x=\"287.34\" y=\"407.59\" text-anchor=\"middle\" style=\"font-family: 'Open Sans', verdana, arial, sans-serif; font-size: 12px; fill: rgb(42, 63, 95); fill-opacity: 1; white-space: pre;\">252</text></g><g class=\"textpoint\" transform=\"translate(0,-7.75)\"><text x=\"212.58\" y=\"407.59\" text-anchor=\"middle\" style=\"font-family: 'Open Sans', verdana, arial, sans-serif; font-size: 12px; fill: rgb(42, 63, 95); fill-opacity: 1; white-space: pre;\">257</text></g><g class=\"textpoint\" transform=\"translate(0,-7.75)\"><text x=\"351.31\" y=\"407.59\" text-anchor=\"middle\" style=\"font-family: 'Open Sans', verdana, arial, sans-serif; font-size: 12px; fill: rgb(42, 63, 95); fill-opacity: 1; white-space: pre;\">276</text></g><g class=\"textpoint\" transform=\"translate(0,-7.75)\"><text x=\"499.01\" y=\"407.59\" text-anchor=\"middle\" style=\"font-family: 'Open Sans', verdana, arial, sans-serif; font-size: 12px; fill: rgb(42, 63, 95); fill-opacity: 1; white-space: pre;\">282</text></g></g></g></g></g><g class=\"overplot\"/><path class=\"xlines-above crisp\" d=\"M0,0\" style=\"fill: none;\"/><path class=\"ylines-above crisp\" d=\"M0,0\" style=\"fill: none;\"/><g class=\"overlines-above\"/><g class=\"xaxislayer-above\"><g class=\"xtick\"><text text-anchor=\"middle\" x=\"0\" y=\"460\" transform=\"translate(72.2,0)\" style=\"font-family: 'Open Sans', verdana, arial, sans-serif; font-size: 12px; fill: rgb(42, 63, 95); fill-opacity: 1; white-space: pre; opacity: 1;\">0</text></g><g class=\"xtick\"><text text-anchor=\"middle\" x=\"0\" y=\"460\" style=\"font-family: 'Open Sans', verdana, arial, sans-serif; font-size: 12px; fill: rgb(42, 63, 95); fill-opacity: 1; white-space: pre; opacity: 1;\" transform=\"translate(148.17000000000002,0)\">5</text></g><g class=\"xtick\"><text text-anchor=\"middle\" x=\"0\" y=\"460\" style=\"font-family: 'Open Sans', verdana, arial, sans-serif; font-size: 12px; fill: rgb(42, 63, 95); fill-opacity: 1; white-space: pre; opacity: 1;\" transform=\"translate(224.15,0)\">10</text></g><g class=\"xtick\"><text text-anchor=\"middle\" x=\"0\" y=\"460\" style=\"font-family: 'Open Sans', verdana, arial, sans-serif; font-size: 12px; fill: rgb(42, 63, 95); fill-opacity: 1; white-space: pre; opacity: 1;\" transform=\"translate(300.12,0)\">15</text></g><g class=\"xtick\"><text text-anchor=\"middle\" x=\"0\" y=\"460\" style=\"font-family: 'Open Sans', verdana, arial, sans-serif; font-size: 12px; fill: rgb(42, 63, 95); fill-opacity: 1; white-space: pre; opacity: 1;\" transform=\"translate(376.1,0)\">20</text></g><g class=\"xtick\"><text text-anchor=\"middle\" x=\"0\" y=\"460\" style=\"font-family: 'Open Sans', verdana, arial, sans-serif; font-size: 12px; fill: rgb(42, 63, 95); fill-opacity: 1; white-space: pre; opacity: 1;\" transform=\"translate(452.07,0)\">25</text></g><g class=\"xtick\"><text text-anchor=\"middle\" x=\"0\" y=\"460\" style=\"font-family: 'Open Sans', verdana, arial, sans-serif; font-size: 12px; fill: rgb(42, 63, 95); fill-opacity: 1; white-space: pre; opacity: 1;\" transform=\"translate(528.05,0)\">30</text></g><g class=\"xtick\"><text text-anchor=\"middle\" x=\"0\" y=\"460\" style=\"font-family: 'Open Sans', verdana, arial, sans-serif; font-size: 12px; fill: rgb(42, 63, 95); fill-opacity: 1; white-space: pre; opacity: 1;\" transform=\"translate(604.02,0)\">35</text></g><g class=\"xtick\"><text text-anchor=\"middle\" x=\"0\" y=\"460\" style=\"font-family: 'Open Sans', verdana, arial, sans-serif; font-size: 12px; fill: rgb(42, 63, 95); fill-opacity: 1; white-space: pre; opacity: 1;\" transform=\"translate(680,0)\">40</text></g></g><g class=\"yaxislayer-above\"><g class=\"ytick\"><text text-anchor=\"end\" x=\"56\" y=\"4.199999999999999\" transform=\"translate(0,427.59)\" style=\"font-family: 'Open Sans', verdana, arial, sans-serif; font-size: 12px; fill: rgb(42, 63, 95); fill-opacity: 1; white-space: pre; opacity: 1;\">0</text></g><g class=\"ytick\"><text text-anchor=\"end\" x=\"56\" y=\"4.199999999999999\" style=\"font-family: 'Open Sans', verdana, arial, sans-serif; font-size: 12px; fill: rgb(42, 63, 95); fill-opacity: 1; white-space: pre; opacity: 1;\" transform=\"translate(0,349.95)\">0.2</text></g><g class=\"ytick\"><text text-anchor=\"end\" x=\"56\" y=\"4.199999999999999\" style=\"font-family: 'Open Sans', verdana, arial, sans-serif; font-size: 12px; fill: rgb(42, 63, 95); fill-opacity: 1; white-space: pre; opacity: 1;\" transform=\"translate(0,272.32)\">0.4</text></g><g class=\"ytick\"><text text-anchor=\"end\" x=\"56\" y=\"4.199999999999999\" style=\"font-family: 'Open Sans', verdana, arial, sans-serif; font-size: 12px; fill: rgb(42, 63, 95); fill-opacity: 1; white-space: pre; opacity: 1;\" transform=\"translate(0,194.68)\">0.6</text></g><g class=\"ytick\"><text text-anchor=\"end\" x=\"56\" y=\"4.199999999999999\" style=\"font-family: 'Open Sans', verdana, arial, sans-serif; font-size: 12px; fill: rgb(42, 63, 95); fill-opacity: 1; white-space: pre; opacity: 1;\" transform=\"translate(0,117.05)\">0.8</text></g><g class=\"ytick\"><text text-anchor=\"end\" x=\"56\" y=\"4.199999999999999\" style=\"font-family: 'Open Sans', verdana, arial, sans-serif; font-size: 12px; fill: rgb(42, 63, 95); fill-opacity: 1; white-space: pre; opacity: 1;\" transform=\"translate(0,39.41)\">1</text></g></g><g class=\"overaxes-above\"/></g></g><g class=\"polarlayer\"/><g class=\"smithlayer\"/><g class=\"ternarylayer\"/><g class=\"geolayer\"/><g class=\"funnelarealayer\"/><g class=\"pielayer\"/><g class=\"iciclelayer\"/><g class=\"treemaplayer\"/><g class=\"sunburstlayer\"/><g class=\"glimages\"/><defs id=\"topdefs-ae564e\"><g class=\"clips\"/></defs><g class=\"layer-above\"><g class=\"imagelayer\"/><g class=\"shapelayer\"/></g><g class=\"infolayer\"><g class=\"g-gtitle\"/><g class=\"g-xtitle\"><text class=\"xtitle\" x=\"368.5\" y=\"487.8\" text-anchor=\"middle\" style=\"font-family: 'Open Sans', verdana, arial, sans-serif; font-size: 14px; fill: rgb(42, 63, 95); opacity: 1; font-weight: normal; white-space: pre;\">Distance to D181 (Å)</text></g><g class=\"g-ytitle\" transform=\"translate(2.4248046875,0)\"><text class=\"ytitle\" transform=\"rotate(-90,11.575000000000003,233.5)\" x=\"11.575000000000003\" y=\"233.5\" text-anchor=\"middle\" style=\"font-family: 'Open Sans', verdana, arial, sans-serif; font-size: 14px; fill: rgb(42, 63, 95); opacity: 1; font-weight: normal; white-space: pre;\">Per Residue Score</text></g></g></svg>"
      ]
     },
     "metadata": {},
     "output_type": "display_data"
    }
   ],
   "source": [
    "layout = dict(plot_bgcolor=\"white\",\n",
    "              margin=dict(t=20, l=20, r=20, b=20),\n",
    "              xaxis=dict(title=\"Distance to D181 (Å)\", range=[-1, 40]),\n",
    "              yaxis=dict(title=\"Per Residue Score\", range=[-0.05, 1.05],))\n",
    "\n",
    "data = go.Scatter(x=df_score_dist[\"Distance to D181 (Å)\"],\n",
    "                  y=df_score_dist[\"Per Residue Score\"],\n",
    "                  text=df_score_dist.index,\n",
    "                  textposition=\"top center\", mode=\"markers+text\",\n",
    ")\n",
    "\n",
    "fig = go.Figure(data=data, layout=layout) \n",
    "\n",
    "fig.show(\"svg\") # to make this plot interactive, remove \"svg\" and run the cell block. "
   ]
  },
  {
   "attachments": {},
   "cell_type": "markdown",
   "metadata": {},
   "source": [
    "Another way to visualise the data, of course this would need to be made a lot prettier (for a start by not labelling all residues)."
   ]
  },
  {
   "attachments": {},
   "cell_type": "markdown",
   "metadata": {},
   "source": [
    "### Part 1.3. Project the Results onto Protein Structures with the pymol_projections.py module. \n",
    " \n",
    "Naturally, we may want to visualise some of the results we have generated above onto a protein structure. We can take advantage of\n",
    "the functions provided in the pymol_projections.py module to do this. \n",
    "\n",
    "As the name suggests this will output [PyMOL](https://pymol.org/) compatible python scripts which can be run to represent the results\n",
    "at the: \n",
    "\n",
    "1. Per feature level. (Cylinders are drawn between each feature, with the cylinder radii marking how strong the relative difference is. \n",
    "2. Per residue level. The Carbon alpha of each residue will be depicted as a sphere, with the sphere radii depicting how strong the the relative difference is. "
   ]
  },
  {
   "cell_type": "code",
   "execution_count": 29,
   "metadata": {},
   "outputs": [
    {
     "name": "stdout",
     "output_type": "stream",
     "text": [
      "The file: tutorial_datasets\\PTP1B_stat_analysis\\jensen_shannon_Pymol_Per_Feature_Scores.py was written to disk.\n",
      "The file: tutorial_datasets\\PTP1B_stat_analysis\\mutual_information_Pymol_Per_Feature_Scores.py was written to disk.\n"
     ]
    }
   ],
   "source": [
    "# Write PyMOL compatable scripts for the per feature results.\n",
    "# Simply swap between the two statistical methods as shown below. \n",
    "pymol_projections.project_pymol_top_features(\n",
    "    per_feature_scores=stat_model.js_distances,\n",
    "    model_name=\"jensen_shannon\",\n",
    "    numb_features=125, # can be any integer values or \"all\" if you would like all features returned.\n",
    "    out_dir=stats_out_dir\n",
    ")\n",
    "\n",
    "pymol_projections.project_pymol_top_features(\n",
    "    per_feature_scores=stat_model.mutual_infos,\n",
    "    model_name=\"mutual_information\",\n",
    "    numb_features=125, # can be any integer values or \"all\" if you would like all features returned.\n",
    "    out_dir=stats_out_dir\n",
    ")"
   ]
  },
  {
   "cell_type": "code",
   "execution_count": 30,
   "metadata": {},
   "outputs": [
    {
     "name": "stdout",
     "output_type": "stream",
     "text": [
      "The file: tutorial_datasets\\PTP1B_stat_analysis\\jensen_shannon_Pymol_Per_Res_Scores.py was written to disk.\n",
      "The file: tutorial_datasets\\PTP1B_stat_analysis\\mutual_information_Pymol_Per_Res_Scores.py was written to disk.\n"
     ]
    }
   ],
   "source": [
    "# Write PyMOL compatable scripts for the per residue results.\n",
    "# Simply swap between the two statistical methods as shown below. \n",
    "pymol_projections.project_pymol_per_res_scores(\n",
    "    per_res_scores=js_per_res_scores,\n",
    "    model_name=\"jensen_shannon\",\n",
    "    out_dir=stats_out_dir\n",
    ")\n",
    "\n",
    "pymol_projections.project_pymol_per_res_scores(\n",
    "    per_res_scores=mi_per_res_scores,\n",
    "    model_name=\"mutual_information\",\n",
    "    out_dir=stats_out_dir\n",
    ")"
   ]
  },
  {
   "attachments": {},
   "cell_type": "markdown",
   "metadata": {},
   "source": [
    "Heres an example of the figures you can make , see the manuscript for more examples and what the figures represent.\n",
    "\n",
    "<center><img src=\"https://raw.githubusercontent.com/kamerlinlab/KIF/main/tutorials/miscellaneous/ptp1b_example_outputs.png\" alt=\"Drawing\" style=\"width: 70%\" /></center>"
   ]
  },
  {
   "attachments": {},
   "cell_type": "markdown",
   "metadata": {},
   "source": [
    "### Part 2.1 Perform Machine Learning (ML) with the model_building.py module. \n",
    "\n",
    "Now we will use ML to generate models that can describe the difference between the WPD-loop closed and open states. \n",
    "\n",
    "With this module, we use the per feature scores from each ML model to to evaluate how different/similar each feature is when the protein is in the closed WPD-loop conformation or the open-WPD-loop conformation.\n",
    "\n",
    "**We will use three ensemble based classification models:**\n",
    "\n",
    "1. [Categorical Boosting](https://catboost.ai/) - (Refered to as: CatBoost)\n",
    "\n",
    "2. [Extreme Gradient Boosting](https://xgboost.readthedocs.io/en/stable/) - (Refered to as: XGBoost)\n",
    "\n",
    "3. [Random Forest](https://scikit-learn.org/stable/modules/generated/sklearn.ensemble.RandomForestClassifier.html)  (Refered to as: Random_Forest)\n",
    "\n",
    "In all cases, the higher the score, the more \"different\" the feature is when in the two different states."
   ]
  },
  {
   "cell_type": "code",
   "execution_count": 31,
   "metadata": {},
   "outputs": [
    {
     "data": {
      "text/html": [
       "<div>\n",
       "<style scoped>\n",
       "    .dataframe tbody tr th:only-of-type {\n",
       "        vertical-align: middle;\n",
       "    }\n",
       "\n",
       "    .dataframe tbody tr th {\n",
       "        vertical-align: top;\n",
       "    }\n",
       "\n",
       "    .dataframe thead th {\n",
       "        text-align: right;\n",
       "    }\n",
       "</style>\n",
       "<table border=\"1\" class=\"dataframe\">\n",
       "  <thead>\n",
       "    <tr style=\"text-align: right;\">\n",
       "      <th></th>\n",
       "      <th>Target</th>\n",
       "      <th>9Ile 18Ile Hydrophobic</th>\n",
       "      <th>9Ile 14Ser Hbond</th>\n",
       "      <th>9Ile 12Ser Hbond</th>\n",
       "      <th>99Trp 168Arg Hbond</th>\n",
       "      <th>99Trp 102Lys Hbond</th>\n",
       "      <th>98Val 211Val Hydrophobic</th>\n",
       "      <th>98Val 170Ile Hydrophobic</th>\n",
       "      <th>97Met 101Gln Hbond</th>\n",
       "      <th>96Glu 137Thr Hbond</th>\n",
       "      <th>...</th>\n",
       "      <th>107Val 197Val Hydrophobic</th>\n",
       "      <th>107Val 193Phe Hydrophobic</th>\n",
       "      <th>107Val 173Phe Hydrophobic</th>\n",
       "      <th>106Val 211Val Hydrophobic</th>\n",
       "      <th>106Val 173Phe Hydrophobic</th>\n",
       "      <th>106Val 171Leu Hydrophobic</th>\n",
       "      <th>104Arg 202Ser Hbond</th>\n",
       "      <th>104Arg 169Glu Saltbr</th>\n",
       "      <th>103Ser 209Pro Hbond</th>\n",
       "      <th>102Lys 168Arg Hbond</th>\n",
       "    </tr>\n",
       "  </thead>\n",
       "  <tbody>\n",
       "    <tr>\n",
       "      <th>0</th>\n",
       "      <td>Closed</td>\n",
       "      <td>2.7585</td>\n",
       "      <td>9.0890</td>\n",
       "      <td>7.3385</td>\n",
       "      <td>15.6769</td>\n",
       "      <td>3.9804</td>\n",
       "      <td>0.2366</td>\n",
       "      <td>1.1271</td>\n",
       "      <td>8.0373</td>\n",
       "      <td>0.7491</td>\n",
       "      <td>...</td>\n",
       "      <td>0.3336</td>\n",
       "      <td>0.8384</td>\n",
       "      <td>3.2904</td>\n",
       "      <td>2.2382</td>\n",
       "      <td>5.2449</td>\n",
       "      <td>4.3366</td>\n",
       "      <td>0.6591</td>\n",
       "      <td>6.6654</td>\n",
       "      <td>4.4982</td>\n",
       "      <td>1.0718</td>\n",
       "    </tr>\n",
       "    <tr>\n",
       "      <th>1</th>\n",
       "      <td>Closed</td>\n",
       "      <td>2.4949</td>\n",
       "      <td>7.5678</td>\n",
       "      <td>6.2104</td>\n",
       "      <td>27.2719</td>\n",
       "      <td>2.9515</td>\n",
       "      <td>0.3751</td>\n",
       "      <td>0.9563</td>\n",
       "      <td>7.2877</td>\n",
       "      <td>4.8500</td>\n",
       "      <td>...</td>\n",
       "      <td>0.8881</td>\n",
       "      <td>1.3729</td>\n",
       "      <td>3.9325</td>\n",
       "      <td>4.5944</td>\n",
       "      <td>2.8755</td>\n",
       "      <td>6.1146</td>\n",
       "      <td>2.1100</td>\n",
       "      <td>6.8515</td>\n",
       "      <td>3.2073</td>\n",
       "      <td>1.4664</td>\n",
       "    </tr>\n",
       "    <tr>\n",
       "      <th>2</th>\n",
       "      <td>Closed</td>\n",
       "      <td>1.9990</td>\n",
       "      <td>3.6903</td>\n",
       "      <td>6.2076</td>\n",
       "      <td>26.3375</td>\n",
       "      <td>3.5009</td>\n",
       "      <td>0.2366</td>\n",
       "      <td>0.6842</td>\n",
       "      <td>8.5660</td>\n",
       "      <td>5.9487</td>\n",
       "      <td>...</td>\n",
       "      <td>0.0946</td>\n",
       "      <td>1.6458</td>\n",
       "      <td>3.8379</td>\n",
       "      <td>3.5546</td>\n",
       "      <td>4.7757</td>\n",
       "      <td>4.3635</td>\n",
       "      <td>0.1084</td>\n",
       "      <td>10.9636</td>\n",
       "      <td>2.5329</td>\n",
       "      <td>5.5533</td>\n",
       "    </tr>\n",
       "  </tbody>\n",
       "</table>\n",
       "<p>3 rows × 360 columns</p>\n",
       "</div>"
      ],
      "text/plain": [
       "   Target  9Ile 18Ile Hydrophobic  9Ile 14Ser Hbond  9Ile 12Ser Hbond  \\\n",
       "0  Closed                  2.7585            9.0890            7.3385   \n",
       "1  Closed                  2.4949            7.5678            6.2104   \n",
       "2  Closed                  1.9990            3.6903            6.2076   \n",
       "\n",
       "   99Trp 168Arg Hbond  99Trp 102Lys Hbond  98Val 211Val Hydrophobic  \\\n",
       "0             15.6769              3.9804                    0.2366   \n",
       "1             27.2719              2.9515                    0.3751   \n",
       "2             26.3375              3.5009                    0.2366   \n",
       "\n",
       "   98Val 170Ile Hydrophobic  97Met 101Gln Hbond  96Glu 137Thr Hbond  ...  \\\n",
       "0                    1.1271              8.0373              0.7491  ...   \n",
       "1                    0.9563              7.2877              4.8500  ...   \n",
       "2                    0.6842              8.5660              5.9487  ...   \n",
       "\n",
       "   107Val 197Val Hydrophobic  107Val 193Phe Hydrophobic  \\\n",
       "0                     0.3336                     0.8384   \n",
       "1                     0.8881                     1.3729   \n",
       "2                     0.0946                     1.6458   \n",
       "\n",
       "   107Val 173Phe Hydrophobic  106Val 211Val Hydrophobic  \\\n",
       "0                     3.2904                     2.2382   \n",
       "1                     3.9325                     4.5944   \n",
       "2                     3.8379                     3.5546   \n",
       "\n",
       "   106Val 173Phe Hydrophobic  106Val 171Leu Hydrophobic  104Arg 202Ser Hbond  \\\n",
       "0                     5.2449                     4.3366               0.6591   \n",
       "1                     2.8755                     6.1146               2.1100   \n",
       "2                     4.7757                     4.3635               0.1084   \n",
       "\n",
       "   104Arg 169Glu Saltbr  103Ser 209Pro Hbond  102Lys 168Arg Hbond  \n",
       "0                6.6654               4.4982               1.0718  \n",
       "1                6.8515               3.2073               1.4664  \n",
       "2               10.9636               2.5329               5.5533  \n",
       "\n",
       "[3 rows x 360 columns]"
      ]
     },
     "execution_count": 31,
     "metadata": {},
     "output_type": "execute_result"
    }
   ],
   "source": [
    "# First we will remove all feature involving the WPD-loop, otherwise the model building will be too easy.\n",
    "# This was discussed in detail in the preprint, but the basic idea is that if the WPD-loop interactions are \n",
    "# included then only one of two of these interactions would be enough to predict the conformational state of \n",
    "# the WPD-loop which is non-ideal for our goals. \n",
    "\n",
    "df = supervised_dataset.df_filtered\n",
    "# filter to remove those residues on the WPD-loop (residues 176-189)\n",
    "df_no_WPD_loop = df.loc[:, df.columns.str.contains('176|177|178|179|180|181|182|183|184|185|186|187|188|189')==False]\n",
    "df_no_WPD_loop.head(3)\n",
    "\n",
    "# We will now use \"df_no_WPD_loop\" in the following cell as the dataset instead of \"supervised_dataset.df_filtered\""
   ]
  },
  {
   "cell_type": "code",
   "execution_count": 32,
   "metadata": {},
   "outputs": [
    {
     "name": "stdout",
     "output_type": "stream",
     "text": [
      "\n",
      "Below is a summary of the machine learning you have planned.\n",
      "You will use 5-fold cross validation and perform 3 repeats.\n",
      "You will use up to 360 features to build each model, with 85.0% of your data used for training the model, which is 8204 observations. \n",
      "15.0% of your data will be used for evaluating the best models produced by the 5-fold cross validation, which is 1448 observations.\n",
      "You have selected to build 3 machine learning model(s), with the following hyperparameters: \n",
      " \n",
      "A CatBoost model, with grid search parameters: \n",
      "{'iterations': [100]} \n",
      "\n",
      "A XGBoost model, with grid search parameters: \n",
      "{'n_estimators': [100]} \n",
      "\n",
      "A Random_Forest model, with grid search parameters: \n",
      "{'n_estimators': [100], 'max_depth': [100]} \n",
      "\n",
      "If you're happy with the above, lets get model building!\n"
     ]
    }
   ],
   "source": [
    "# Instantiate the ClassificationModel class. \n",
    "# Clearly there are many parameters here, using your IDE you can hover over ClassificationModel to see what each parameter does\n",
    "ml_model = model_building.ClassificationModel(\n",
    "    dataset=df_no_WPD_loop, # if want all residues included can replace this with: \"supervised_dataset.df_filtered\"\n",
    "    evaluation_split_ratio=0.15,\n",
    "    classes_to_use=[\"Closed\", \"Open\"], \n",
    "    models_to_use=[\"CatBoost\", \"XGBoost\", \"Random_Forest\"],\n",
    "    scaling_method=\"min_max\",\n",
    "    out_dir=ml_out_dir, \n",
    "    cross_validation_splits=5, \n",
    "    cross_validation_repeats=3,\n",
    "    search_approach=\"none\",\n",
    ")"
   ]
  },
  {
   "attachments": {},
   "cell_type": "markdown",
   "metadata": {},
   "source": [
    "Now we can go ahead and build the models.\n",
    "\n",
    "We have one optional parameter in the command below which is to save the models generated. This can be useful if you ever want to come back and do the post-processing later.\n",
    "\n",
    "If you set this to true all the files required will be saved to a folder called \"temporary_files\" in your current working directory. \n",
    "\n",
    "With the current setup this calculation will not take long (maybe 5-10 mins to run on a standard laptop). However, you could perform a very exhausitve calculation using grid search CV (possible by changing the \"search_approach\" parameter in model_building.ClassificationModel() ), in which case it might be useful"
   ]
  },
  {
   "cell_type": "code",
   "execution_count": 33,
   "metadata": {},
   "outputs": [
    {
     "name": "stdout",
     "output_type": "stream",
     "text": [
      "Model saved to disk at: temporary_files\\CatBoost_Model.pickle\n",
      "Model saved to disk at: temporary_files\\XGBoost_Model.pickle\n",
      "Model saved to disk at: temporary_files\\Random_Forest_Model.pickle\n",
      "Model building complete, returning final results with train/test datasets to you.\n"
     ]
    },
    {
     "data": {
      "text/html": [
       "<div>\n",
       "<style scoped>\n",
       "    .dataframe tbody tr th:only-of-type {\n",
       "        vertical-align: middle;\n",
       "    }\n",
       "\n",
       "    .dataframe tbody tr th {\n",
       "        vertical-align: top;\n",
       "    }\n",
       "\n",
       "    .dataframe thead th {\n",
       "        text-align: right;\n",
       "    }\n",
       "</style>\n",
       "<table border=\"1\" class=\"dataframe\">\n",
       "  <thead>\n",
       "    <tr style=\"text-align: right;\">\n",
       "      <th></th>\n",
       "      <th>model</th>\n",
       "      <th>best_params</th>\n",
       "      <th>best_score</th>\n",
       "      <th>best_standard_deviation</th>\n",
       "      <th>Time taken to build model (minutes)</th>\n",
       "    </tr>\n",
       "  </thead>\n",
       "  <tbody>\n",
       "    <tr>\n",
       "      <th>0</th>\n",
       "      <td>CatBoost</td>\n",
       "      <td>{'iterations': 100}</td>\n",
       "      <td>0.983748</td>\n",
       "      <td>0.002514</td>\n",
       "      <td>1.42</td>\n",
       "    </tr>\n",
       "    <tr>\n",
       "      <th>1</th>\n",
       "      <td>XGBoost</td>\n",
       "      <td>{'n_estimators': 100}</td>\n",
       "      <td>0.983179</td>\n",
       "      <td>0.003532</td>\n",
       "      <td>1.95</td>\n",
       "    </tr>\n",
       "    <tr>\n",
       "      <th>2</th>\n",
       "      <td>Random_Forest</td>\n",
       "      <td>{'max_depth': 100, 'n_estimators': 100}</td>\n",
       "      <td>0.971153</td>\n",
       "      <td>0.006106</td>\n",
       "      <td>2.13</td>\n",
       "    </tr>\n",
       "  </tbody>\n",
       "</table>\n",
       "</div>"
      ],
      "text/plain": [
       "           model                              best_params  best_score  \\\n",
       "0       CatBoost                      {'iterations': 100}    0.983748   \n",
       "1        XGBoost                    {'n_estimators': 100}    0.983179   \n",
       "2  Random_Forest  {'max_depth': 100, 'n_estimators': 100}    0.971153   \n",
       "\n",
       "   best_standard_deviation  Time taken to build model (minutes)  \n",
       "0                 0.002514                                 1.42  \n",
       "1                 0.003532                                 1.95  \n",
       "2                 0.006106                                 2.13  "
      ]
     },
     "execution_count": 33,
     "metadata": {},
     "output_type": "execute_result"
    }
   ],
   "source": [
    "ml_model.build_models(save_models=True)"
   ]
  },
  {
   "attachments": {},
   "cell_type": "markdown",
   "metadata": {},
   "source": [
    "With the models now built, we can see the models seem to be quite equally matched in terms of accuracy for the train and test sets. \n",
    "We can now evaluate the quality of the models on the validation dataset (also sometimes refered to as the hold-out set).\n",
    "\n",
    "For each ML model built, a pandas dataframe can be generated with metrics describing the accuracy of the model on the validation dataset. \n",
    "If you are unfamiliar with any of the terms presented below, [feel free to check out this guide from scikit-learn](https://scikit-learn.org/stable/modules/generated/sklearn.metrics.classification_report.html)"
   ]
  },
  {
   "cell_type": "code",
   "execution_count": 34,
   "metadata": {},
   "outputs": [
    {
     "name": "stdout",
     "output_type": "stream",
     "text": [
      "Returning classification reports for each model inside a single dictionary\n"
     ]
    }
   ],
   "source": [
    "reports = ml_model.evaluate_models()"
   ]
  },
  {
   "cell_type": "code",
   "execution_count": 35,
   "metadata": {},
   "outputs": [
    {
     "data": {
      "text/html": [
       "<div>\n",
       "<style scoped>\n",
       "    .dataframe tbody tr th:only-of-type {\n",
       "        vertical-align: middle;\n",
       "    }\n",
       "\n",
       "    .dataframe tbody tr th {\n",
       "        vertical-align: top;\n",
       "    }\n",
       "\n",
       "    .dataframe thead th {\n",
       "        text-align: right;\n",
       "    }\n",
       "</style>\n",
       "<table border=\"1\" class=\"dataframe\">\n",
       "  <thead>\n",
       "    <tr style=\"text-align: right;\">\n",
       "      <th></th>\n",
       "      <th>precision</th>\n",
       "      <th>recall</th>\n",
       "      <th>f1-score</th>\n",
       "      <th>support</th>\n",
       "    </tr>\n",
       "  </thead>\n",
       "  <tbody>\n",
       "    <tr>\n",
       "      <th>Closed</th>\n",
       "      <td>0.975124</td>\n",
       "      <td>0.989899</td>\n",
       "      <td>0.982456</td>\n",
       "      <td>792.0</td>\n",
       "    </tr>\n",
       "    <tr>\n",
       "      <th>Open</th>\n",
       "      <td>0.987578</td>\n",
       "      <td>0.969512</td>\n",
       "      <td>0.978462</td>\n",
       "      <td>656.0</td>\n",
       "    </tr>\n",
       "    <tr>\n",
       "      <th>accuracy</th>\n",
       "      <td>N/A</td>\n",
       "      <td>N/A</td>\n",
       "      <td>0.980663</td>\n",
       "      <td>1448</td>\n",
       "    </tr>\n",
       "    <tr>\n",
       "      <th>macro avg</th>\n",
       "      <td>0.981351</td>\n",
       "      <td>0.979706</td>\n",
       "      <td>0.980459</td>\n",
       "      <td>1448.0</td>\n",
       "    </tr>\n",
       "    <tr>\n",
       "      <th>weighted avg</th>\n",
       "      <td>0.980766</td>\n",
       "      <td>0.980663</td>\n",
       "      <td>0.980646</td>\n",
       "      <td>1448.0</td>\n",
       "    </tr>\n",
       "  </tbody>\n",
       "</table>\n",
       "</div>"
      ],
      "text/plain": [
       "             precision    recall  f1-score support\n",
       "Closed        0.975124  0.989899  0.982456   792.0\n",
       "Open          0.987578  0.969512  0.978462   656.0\n",
       "accuracy           N/A       N/A  0.980663    1448\n",
       "macro avg     0.981351  0.979706  0.980459  1448.0\n",
       "weighted avg  0.980766  0.980663  0.980646  1448.0"
      ]
     },
     "execution_count": 35,
     "metadata": {},
     "output_type": "execute_result"
    }
   ],
   "source": [
    "reports[\"XGBoost\"]"
   ]
  },
  {
   "cell_type": "code",
   "execution_count": 36,
   "metadata": {},
   "outputs": [
    {
     "data": {
      "text/html": [
       "<div>\n",
       "<style scoped>\n",
       "    .dataframe tbody tr th:only-of-type {\n",
       "        vertical-align: middle;\n",
       "    }\n",
       "\n",
       "    .dataframe tbody tr th {\n",
       "        vertical-align: top;\n",
       "    }\n",
       "\n",
       "    .dataframe thead th {\n",
       "        text-align: right;\n",
       "    }\n",
       "</style>\n",
       "<table border=\"1\" class=\"dataframe\">\n",
       "  <thead>\n",
       "    <tr style=\"text-align: right;\">\n",
       "      <th></th>\n",
       "      <th>precision</th>\n",
       "      <th>recall</th>\n",
       "      <th>f1-score</th>\n",
       "      <th>support</th>\n",
       "    </tr>\n",
       "  </thead>\n",
       "  <tbody>\n",
       "    <tr>\n",
       "      <th>Closed</th>\n",
       "      <td>0.979975</td>\n",
       "      <td>0.988636</td>\n",
       "      <td>0.984287</td>\n",
       "      <td>792.0</td>\n",
       "    </tr>\n",
       "    <tr>\n",
       "      <th>Open</th>\n",
       "      <td>0.986133</td>\n",
       "      <td>0.97561</td>\n",
       "      <td>0.980843</td>\n",
       "      <td>656.0</td>\n",
       "    </tr>\n",
       "    <tr>\n",
       "      <th>accuracy</th>\n",
       "      <td>N/A</td>\n",
       "      <td>N/A</td>\n",
       "      <td>0.982735</td>\n",
       "      <td>1448</td>\n",
       "    </tr>\n",
       "    <tr>\n",
       "      <th>macro avg</th>\n",
       "      <td>0.983054</td>\n",
       "      <td>0.982123</td>\n",
       "      <td>0.982565</td>\n",
       "      <td>1448.0</td>\n",
       "    </tr>\n",
       "    <tr>\n",
       "      <th>weighted avg</th>\n",
       "      <td>0.982765</td>\n",
       "      <td>0.982735</td>\n",
       "      <td>0.982726</td>\n",
       "      <td>1448.0</td>\n",
       "    </tr>\n",
       "  </tbody>\n",
       "</table>\n",
       "</div>"
      ],
      "text/plain": [
       "             precision    recall  f1-score support\n",
       "Closed        0.979975  0.988636  0.984287   792.0\n",
       "Open          0.986133   0.97561  0.980843   656.0\n",
       "accuracy           N/A       N/A  0.982735    1448\n",
       "macro avg     0.983054  0.982123  0.982565  1448.0\n",
       "weighted avg  0.982765  0.982735  0.982726  1448.0"
      ]
     },
     "execution_count": 36,
     "metadata": {},
     "output_type": "execute_result"
    }
   ],
   "source": [
    "reports[\"CatBoost\"]"
   ]
  },
  {
   "cell_type": "code",
   "execution_count": 37,
   "metadata": {},
   "outputs": [
    {
     "data": {
      "text/html": [
       "<div>\n",
       "<style scoped>\n",
       "    .dataframe tbody tr th:only-of-type {\n",
       "        vertical-align: middle;\n",
       "    }\n",
       "\n",
       "    .dataframe tbody tr th {\n",
       "        vertical-align: top;\n",
       "    }\n",
       "\n",
       "    .dataframe thead th {\n",
       "        text-align: right;\n",
       "    }\n",
       "</style>\n",
       "<table border=\"1\" class=\"dataframe\">\n",
       "  <thead>\n",
       "    <tr style=\"text-align: right;\">\n",
       "      <th></th>\n",
       "      <th>precision</th>\n",
       "      <th>recall</th>\n",
       "      <th>f1-score</th>\n",
       "      <th>support</th>\n",
       "    </tr>\n",
       "  </thead>\n",
       "  <tbody>\n",
       "    <tr>\n",
       "      <th>Closed</th>\n",
       "      <td>0.961586</td>\n",
       "      <td>0.979798</td>\n",
       "      <td>0.970607</td>\n",
       "      <td>792.0</td>\n",
       "    </tr>\n",
       "    <tr>\n",
       "      <th>Open</th>\n",
       "      <td>0.975039</td>\n",
       "      <td>0.952744</td>\n",
       "      <td>0.963763</td>\n",
       "      <td>656.0</td>\n",
       "    </tr>\n",
       "    <tr>\n",
       "      <th>accuracy</th>\n",
       "      <td>N/A</td>\n",
       "      <td>N/A</td>\n",
       "      <td>0.967541</td>\n",
       "      <td>1448</td>\n",
       "    </tr>\n",
       "    <tr>\n",
       "      <th>macro avg</th>\n",
       "      <td>0.968313</td>\n",
       "      <td>0.966271</td>\n",
       "      <td>0.967185</td>\n",
       "      <td>1448.0</td>\n",
       "    </tr>\n",
       "    <tr>\n",
       "      <th>weighted avg</th>\n",
       "      <td>0.967681</td>\n",
       "      <td>0.967541</td>\n",
       "      <td>0.967506</td>\n",
       "      <td>1448.0</td>\n",
       "    </tr>\n",
       "  </tbody>\n",
       "</table>\n",
       "</div>"
      ],
      "text/plain": [
       "             precision    recall  f1-score support\n",
       "Closed        0.961586  0.979798  0.970607   792.0\n",
       "Open          0.975039  0.952744  0.963763   656.0\n",
       "accuracy           N/A       N/A  0.967541    1448\n",
       "macro avg     0.968313  0.966271  0.967185  1448.0\n",
       "weighted avg  0.967681  0.967541  0.967506  1448.0"
      ]
     },
     "execution_count": 37,
     "metadata": {},
     "output_type": "execute_result"
    }
   ],
   "source": [
    "reports[\"Random_Forest\"]"
   ]
  },
  {
   "attachments": {},
   "cell_type": "markdown",
   "metadata": {},
   "source": [
    "Another popular way to evaluate model quality is to generate confusion matrices. \n",
    "\n",
    "Using the command below we can generate confusion matrices (stored as numpy arrays) for each model we generated. \n",
    "\n",
    "You can then easily plot these confusion matrices in whatever graphing program you like. In this case, I will use plotly as before, but you could easily use another graphing package."
   ]
  },
  {
   "cell_type": "code",
   "execution_count": 38,
   "metadata": {},
   "outputs": [],
   "source": [
    "confusion_matrices = ml_model.generate_confusion_matrix()"
   ]
  },
  {
   "cell_type": "code",
   "execution_count": 39,
   "metadata": {},
   "outputs": [
    {
     "data": {
      "text/plain": [
       "array([[784,   8],\n",
       "       [ 20, 636]], dtype=int64)"
      ]
     },
     "execution_count": 39,
     "metadata": {},
     "output_type": "execute_result"
    }
   ],
   "source": [
    "confusion_matrices[\"XGBoost\"]"
   ]
  },
  {
   "attachments": {},
   "cell_type": "markdown",
   "metadata": {},
   "source": [
    "Again, you'll need plotly installed (see above) if you want to make this figure."
   ]
  },
  {
   "cell_type": "code",
   "execution_count": 40,
   "metadata": {},
   "outputs": [
    {
     "data": {
      "image/svg+xml": [
       "<svg class=\"main-svg\" xmlns=\"http://www.w3.org/2000/svg\" xmlns:xlink=\"http://www.w3.org/1999/xlink\" width=\"700\" height=\"500\" style=\"\" viewBox=\"0 0 700 500\"><rect x=\"0\" y=\"0\" width=\"700\" height=\"500\" style=\"fill: rgb(255, 255, 255); fill-opacity: 1;\"/><defs id=\"defs-d85cd6\"><g class=\"clips\"><clipPath id=\"clipd85cd6xyplot\" class=\"plotclip\"><rect width=\"540\" height=\"320\"/></clipPath><clipPath class=\"axesclip\" id=\"clipd85cd6x\"><rect x=\"80\" y=\"0\" width=\"540\" height=\"500\"/></clipPath><clipPath class=\"axesclip\" id=\"clipd85cd6y\"><rect x=\"0\" y=\"100\" width=\"700\" height=\"320\"/></clipPath><clipPath class=\"axesclip\" id=\"clipd85cd6xy\"><rect x=\"80\" y=\"100\" width=\"540\" height=\"320\"/></clipPath></g><g class=\"gradients\"/><g class=\"patterns\"/></defs><g class=\"bglayer\"><rect class=\"bg\" x=\"80\" y=\"100\" width=\"540\" height=\"320\" style=\"fill: rgb(229, 236, 246); fill-opacity: 1; stroke-width: 0;\"/></g><g class=\"layer-below\"><g class=\"imagelayer\"/><g class=\"shapelayer\"/></g><g class=\"cartesianlayer\"><g class=\"subplot xy\"><g class=\"layer-subplot\"><g class=\"shapelayer\"/><g class=\"imagelayer\"/></g><g class=\"gridlayer\"><g class=\"x\"><path class=\"xgrid crisp\" transform=\"translate(215,0)\" d=\"M0,100v320\" style=\"stroke: rgb(0, 0, 0); stroke-opacity: 1; stroke-width: 1px;\"/><path class=\"xgrid crisp\" transform=\"translate(485,0)\" d=\"M0,100v320\" style=\"stroke: rgb(0, 0, 0); stroke-opacity: 1; stroke-width: 1px;\"/></g><g class=\"y\"><path class=\"ygrid crisp\" transform=\"translate(0,340)\" d=\"M80,0h540\" style=\"stroke: rgb(255, 255, 255); stroke-opacity: 1; stroke-width: 1px;\"/><path class=\"ygrid crisp\" transform=\"translate(0,180)\" d=\"M80,0h540\" style=\"stroke: rgb(255, 255, 255); stroke-opacity: 1; stroke-width: 1px;\"/></g></g><g class=\"zerolinelayer\"/><path class=\"xlines-below\"/><path class=\"ylines-below\"/><g class=\"overlines-below\"/><g class=\"xaxislayer-below\"/><g class=\"yaxislayer-below\"/><g class=\"overaxes-below\"/><g class=\"plot\" transform=\"translate(80,100)\" clip-path=\"url(#clipd85cd6xyplot)\"><g class=\"heatmaplayer mlayer\"><g class=\"hm\"><image xmlns=\"http://www.w3.org/2000/svg\" preserveAspectRatio=\"none\" height=\"320\" width=\"540\" x=\"0\" y=\"0\" xlink:href=\"data:image/png;base64,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\" style=\"opacity: 1;\"/></g></g></g><g class=\"overplot\"/><path class=\"xlines-above crisp\" d=\"M0,0\" style=\"fill: none;\"/><path class=\"ylines-above crisp\" d=\"M0,0\" style=\"fill: none;\"/><g class=\"overlines-above\"/><g class=\"xaxislayer-above\"><g class=\"xtick\"><text text-anchor=\"middle\" x=\"0\" y=\"96.6\" transform=\"translate(215,0)\" style=\"font-family: 'Open Sans', verdana, arial, sans-serif; font-size: 12px; fill: rgb(42, 63, 95); fill-opacity: 1; white-space: pre; opacity: 1;\">Closed</text></g><g class=\"xtick\"><text text-anchor=\"middle\" x=\"0\" y=\"96.6\" transform=\"translate(485,0)\" style=\"font-family: 'Open Sans', verdana, arial, sans-serif; font-size: 12px; fill: rgb(42, 63, 95); fill-opacity: 1; white-space: pre; opacity: 1;\">Open</text></g></g><g class=\"yaxislayer-above\"><g class=\"ytick\"><text text-anchor=\"end\" x=\"79\" y=\"4.199999999999999\" transform=\"translate(0,340)\" style=\"font-family: 'Open Sans', verdana, arial, sans-serif; font-size: 12px; fill: rgb(42, 63, 95); fill-opacity: 1; white-space: pre; opacity: 1;\">Open  </text></g><g class=\"ytick\"><text text-anchor=\"end\" x=\"79\" y=\"4.199999999999999\" transform=\"translate(0,180)\" style=\"font-family: 'Open Sans', verdana, arial, sans-serif; font-size: 12px; fill: rgb(42, 63, 95); fill-opacity: 1; white-space: pre; opacity: 1;\">Closed  </text></g></g><g class=\"overaxes-above\"/></g></g><g class=\"polarlayer\"/><g class=\"smithlayer\"/><g class=\"ternarylayer\"/><g class=\"geolayer\"/><g class=\"funnelarealayer\"/><g class=\"pielayer\"/><g class=\"iciclelayer\"/><g class=\"treemaplayer\"/><g class=\"sunburstlayer\"/><g class=\"glimages\"/><defs id=\"topdefs-d85cd6\"><g class=\"clips\"/></defs><g class=\"layer-above\"><g class=\"imagelayer\"/><g class=\"shapelayer\"/></g><g class=\"infolayer\"><g class=\"g-gtitle\"><text class=\"gtitle\" x=\"35\" y=\"50\" text-anchor=\"start\" dy=\"0em\" style=\"font-family: 'Open Sans', verdana, arial, sans-serif; font-size: 17px; fill: rgb(42, 63, 95); opacity: 1; font-weight: normal; white-space: pre;\">Confusion Matrix Obtained for XGBoost using the Validation/Holdout set</text></g><g class=\"g-xtitle\"/><g class=\"g-ytitle\"/><g class=\"annotation\" data-index=\"0\" style=\"opacity: 1;\"><g class=\"annotation-text-g\" transform=\"rotate(0,215,180)\"><g class=\"cursor-pointer\" transform=\"translate(202,171)\"><rect class=\"bg\" x=\"0.5\" y=\"0.5\" width=\"26\" height=\"18\" style=\"stroke-width: 1px; stroke: rgb(0, 0, 0); stroke-opacity: 0; fill: rgb(0, 0, 0); fill-opacity: 0;\"/><text class=\"annotation-text\" text-anchor=\"middle\" x=\"13.453125\" y=\"14\" style=\"font-family: 'Open Sans', verdana, arial, sans-serif; font-size: 12px; fill: rgb(255, 255, 255); fill-opacity: 1; white-space: pre;\">784</text></g></g></g><g class=\"annotation\" data-index=\"1\" style=\"opacity: 1;\"><g class=\"annotation-text-g\" transform=\"rotate(0,485,180)\"><g class=\"cursor-pointer\" transform=\"translate(479,171)\"><rect class=\"bg\" x=\"0.5\" y=\"0.5\" width=\"11\" height=\"18\" style=\"stroke-width: 1px; stroke: rgb(0, 0, 0); stroke-opacity: 0; fill: rgb(0, 0, 0); fill-opacity: 0;\"/><text class=\"annotation-text\" text-anchor=\"middle\" x=\"5.828125\" y=\"14\" style=\"font-family: 'Open Sans', verdana, arial, sans-serif; font-size: 12px; fill: rgb(0, 0, 0); fill-opacity: 1; white-space: pre;\">8</text></g></g></g><g class=\"annotation\" data-index=\"2\" style=\"opacity: 1;\"><g class=\"annotation-text-g\" transform=\"rotate(0,215,340)\"><g class=\"cursor-pointer\" transform=\"translate(205,331)\"><rect class=\"bg\" x=\"0.5\" y=\"0.5\" width=\"19\" height=\"18\" style=\"stroke-width: 1px; stroke: rgb(0, 0, 0); stroke-opacity: 0; fill: rgb(0, 0, 0); fill-opacity: 0;\"/><text class=\"annotation-text\" text-anchor=\"middle\" x=\"9.640625\" y=\"14\" style=\"font-family: 'Open Sans', verdana, arial, sans-serif; font-size: 12px; fill: rgb(0, 0, 0); fill-opacity: 1; white-space: pre;\">20</text></g></g></g><g class=\"annotation\" data-index=\"3\" style=\"opacity: 1;\"><g class=\"annotation-text-g\" transform=\"rotate(0,485,340)\"><g class=\"cursor-pointer\" transform=\"translate(472,331)\"><rect class=\"bg\" x=\"0.5\" y=\"0.5\" width=\"26\" height=\"18\" style=\"stroke-width: 1px; stroke: rgb(0, 0, 0); stroke-opacity: 0; fill: rgb(0, 0, 0); fill-opacity: 0;\"/><text class=\"annotation-text\" text-anchor=\"middle\" x=\"13.453125\" y=\"14\" style=\"font-family: 'Open Sans', verdana, arial, sans-serif; font-size: 12px; fill: rgb(255, 255, 255); fill-opacity: 1; white-space: pre;\">636</text></g></g></g></g></svg>"
      ]
     },
     "metadata": {},
     "output_type": "display_data"
    }
   ],
   "source": [
    "import plotly.figure_factory as ff\n",
    "\n",
    "labels = [\"Closed\", \"Open\"]\n",
    "fig = ff.create_annotated_heatmap(confusion_matrices[\"XGBoost\"], x = labels, y = labels, colorscale=\"reds\")\n",
    "fig.update_layout(yaxis = dict(categoryorder = \"category descending\"))\n",
    "fig.update_layout(title=\"Confusion Matrix Obtained for XGBoost using the Validation/Holdout set\")\n",
    "fig.show(\"svg\") # to make this plot interactive, remove \"svg\" and run the cell block. "
   ]
  },
  {
   "attachments": {},
   "cell_type": "markdown",
   "metadata": {},
   "source": [
    "## Part 2.2. Work up the ML results with the post_proccessing.py module. \n",
    "\n",
    "In order to perform the analysis we will need to provide the models generated in Part 2.1 Shown below are the two possible ways to do this. "
   ]
  },
  {
   "cell_type": "code",
   "execution_count": 41,
   "metadata": {},
   "outputs": [],
   "source": [
    "# First we will make an instance of the SupervisedPostProcessor class.\n",
    "ml_post_proc = post_proccessing.SupervisedPostProcessor(\n",
    "    out_dir=ml_out_dir,\n",
    ")\n",
    "\n",
    "# Option 1 - Load models from the instance of the SupervisedModel class. \n",
    "ml_post_proc.load_models_from_instance(supervised_model=ml_model)\n",
    "\n",
    "# Option 2 - Load models from disk. (If you've run the model building, shut down the kernel and now want to post-process).\n",
    "#post_proc.load_models_from_disk(models_to_use=[\"XGBoost\", \"CatBoost\", \"Random_Forest\"]) "
   ]
  },
  {
   "cell_type": "code",
   "execution_count": 42,
   "metadata": {},
   "outputs": [
    {
     "name": "stdout",
     "output_type": "stream",
     "text": [
      "tutorial_datasets\\PTP1B_ml_analysis\\CatBoost_Feature_Scores.csv written to disk.\n",
      "tutorial_datasets\\PTP1B_ml_analysis\\XGBoost_Feature_Scores.csv written to disk.\n",
      "tutorial_datasets\\PTP1B_ml_analysis\\Random_Forest_Feature_Scores.csv written to disk.\n",
      "All per feature scores have now been saved to disk.\n"
     ]
    }
   ],
   "source": [
    "# After preparing the class we can now determine the per feature scores for each model made.\n",
    "ml_post_proc.get_per_feature_scores()"
   ]
  },
  {
   "cell_type": "code",
   "execution_count": 43,
   "metadata": {},
   "outputs": [
    {
     "name": "stdout",
     "output_type": "stream",
     "text": [
      "tutorial_datasets\\PTP1B_ml_analysis\\CatBoost_Per_Residue_Scores.csv written to disk.\n",
      "tutorial_datasets\\PTP1B_ml_analysis\\XGBoost_Per_Residue_Scores.csv written to disk.\n",
      "tutorial_datasets\\PTP1B_ml_analysis\\Random_Forest_Per_Residue_Scores.csv written to disk.\n",
      "All per residue scores have now been saved to disk.\n"
     ]
    }
   ],
   "source": [
    "# We can also project these per feature scores onto the per-residue level. \n",
    "ml_post_proc.get_per_res_scores()"
   ]
  },
  {
   "cell_type": "code",
   "execution_count": 44,
   "metadata": {},
   "outputs": [
    {
     "name": "stdout",
     "output_type": "stream",
     "text": [
      "dict_keys(['out_dir', 'feat_names', 'best_models', 'all_per_feature_scores', 'all_per_residue_scores'])\n"
     ]
    }
   ],
   "source": [
    "print(ml_post_proc.__dict__.keys())"
   ]
  },
  {
   "attachments": {},
   "cell_type": "markdown",
   "metadata": {},
   "source": [
    "If we take a look at the class attributes we can see the per feature and per residue scores were not just saved to disk, but are also stored inside the class.\n",
    "\n",
    "This means you could easily analyse them within Python if you want. I will show one more way to generate a quick figure here. Bear in mind these results can also be analysed in very similar ways to those generated in the statistical analysis section."
   ]
  },
  {
   "cell_type": "code",
   "execution_count": 45,
   "metadata": {},
   "outputs": [],
   "source": [
    "all_per_res_scores = ml_post_proc.all_per_residue_scores\n",
    "all_per_feature_scores = ml_post_proc.all_per_feature_scores"
   ]
  },
  {
   "cell_type": "code",
   "execution_count": 46,
   "metadata": {},
   "outputs": [
    {
     "data": {
      "text/html": [
       "<div>\n",
       "<style scoped>\n",
       "    .dataframe tbody tr th:only-of-type {\n",
       "        vertical-align: middle;\n",
       "    }\n",
       "\n",
       "    .dataframe tbody tr th {\n",
       "        vertical-align: top;\n",
       "    }\n",
       "\n",
       "    .dataframe thead th {\n",
       "        text-align: right;\n",
       "    }\n",
       "</style>\n",
       "<table border=\"1\" class=\"dataframe\">\n",
       "  <thead>\n",
       "    <tr style=\"text-align: right;\">\n",
       "      <th></th>\n",
       "      <th>Residue Number</th>\n",
       "      <th>CatBoost</th>\n",
       "      <th>XGBoost</th>\n",
       "      <th>Random_Forest</th>\n",
       "    </tr>\n",
       "  </thead>\n",
       "  <tbody>\n",
       "    <tr>\n",
       "      <th>194</th>\n",
       "      <td>2</td>\n",
       "      <td>0.00000</td>\n",
       "      <td>0.00000</td>\n",
       "      <td>0.00000</td>\n",
       "    </tr>\n",
       "    <tr>\n",
       "      <th>18</th>\n",
       "      <td>3</td>\n",
       "      <td>0.07506</td>\n",
       "      <td>0.04290</td>\n",
       "      <td>0.00966</td>\n",
       "    </tr>\n",
       "    <tr>\n",
       "      <th>84</th>\n",
       "      <td>4</td>\n",
       "      <td>0.01093</td>\n",
       "      <td>0.04671</td>\n",
       "      <td>0.01033</td>\n",
       "    </tr>\n",
       "    <tr>\n",
       "      <th>166</th>\n",
       "      <td>5</td>\n",
       "      <td>0.00085</td>\n",
       "      <td>0.02903</td>\n",
       "      <td>0.00762</td>\n",
       "    </tr>\n",
       "    <tr>\n",
       "      <th>167</th>\n",
       "      <td>6</td>\n",
       "      <td>0.00085</td>\n",
       "      <td>0.00500</td>\n",
       "      <td>0.01097</td>\n",
       "    </tr>\n",
       "  </tbody>\n",
       "</table>\n",
       "</div>"
      ],
      "text/plain": [
       "     Residue Number  CatBoost  XGBoost  Random_Forest\n",
       "194               2   0.00000  0.00000        0.00000\n",
       "18                3   0.07506  0.04290        0.00966\n",
       "84                4   0.01093  0.04671        0.01033\n",
       "166               5   0.00085  0.02903        0.00762\n",
       "167               6   0.00085  0.00500        0.01097"
      ]
     },
     "execution_count": 46,
     "metadata": {},
     "output_type": "execute_result"
    }
   ],
   "source": [
    "import pandas as pd \n",
    "import plotly.express as px\n",
    "df_all_per_res_scores = pd.DataFrame(all_per_res_scores).reset_index()\n",
    "df_all_per_res_scores = df_all_per_res_scores.rename(columns={\"index\": \"Residue Number\"})\n",
    "df_all_per_res_scores = df_all_per_res_scores.sort_values([\"Residue Number\"], ascending=True)\n",
    "df_all_per_res_scores.head() "
   ]
  },
  {
   "cell_type": "code",
   "execution_count": 47,
   "metadata": {},
   "outputs": [
    {
     "data": {
      "image/svg+xml": [
       "<svg class=\"main-svg\" xmlns=\"http://www.w3.org/2000/svg\" xmlns:xlink=\"http://www.w3.org/1999/xlink\" width=\"700\" height=\"500\" style=\"\" viewBox=\"0 0 700 500\"><rect x=\"0\" y=\"0\" width=\"700\" height=\"500\" style=\"fill: rgb(255, 255, 255); fill-opacity: 1;\"/><defs id=\"defs-cbddd8\"><g class=\"clips\"><clipPath id=\"clipcbddd8xyplot\" class=\"plotclip\"><rect width=\"427\" height=\"360\"/></clipPath><clipPath class=\"axesclip\" id=\"clipcbddd8x\"><rect x=\"80\" y=\"0\" width=\"427\" height=\"500\"/></clipPath><clipPath class=\"axesclip\" id=\"clipcbddd8y\"><rect x=\"0\" y=\"60\" width=\"700\" height=\"360\"/></clipPath><clipPath class=\"axesclip\" id=\"clipcbddd8xy\"><rect x=\"80\" y=\"60\" width=\"427\" height=\"360\"/></clipPath></g><g class=\"gradients\"/><g class=\"patterns\"/></defs><g class=\"bglayer\"><rect class=\"bg\" x=\"80\" y=\"60\" width=\"427\" height=\"360\" style=\"fill: rgb(229, 236, 246); fill-opacity: 1; stroke-width: 0;\"/></g><g class=\"layer-below\"><g class=\"imagelayer\"/><g class=\"shapelayer\"/></g><g class=\"cartesianlayer\"><g class=\"subplot xy\"><g class=\"layer-subplot\"><g class=\"shapelayer\"/><g class=\"imagelayer\"/></g><g class=\"gridlayer\"><g class=\"x\"><path class=\"xgrid crisp\" transform=\"translate(149.24,0)\" d=\"M0,60v360\" style=\"stroke: rgb(255, 255, 255); stroke-opacity: 1; stroke-width: 1px;\"/><path class=\"xgrid crisp\" transform=\"translate(221.37,0)\" d=\"M0,60v360\" style=\"stroke: rgb(255, 255, 255); stroke-opacity: 1; stroke-width: 1px;\"/><path class=\"xgrid crisp\" transform=\"translate(293.5,0)\" d=\"M0,60v360\" style=\"stroke: rgb(255, 255, 255); stroke-opacity: 1; stroke-width: 1px;\"/><path class=\"xgrid crisp\" transform=\"translate(365.63,0)\" d=\"M0,60v360\" style=\"stroke: rgb(255, 255, 255); stroke-opacity: 1; stroke-width: 1px;\"/><path class=\"xgrid crisp\" transform=\"translate(437.76,0)\" d=\"M0,60v360\" style=\"stroke: rgb(255, 255, 255); stroke-opacity: 1; stroke-width: 1px;\"/></g><g class=\"y\"><path class=\"ygrid crisp\" transform=\"translate(0,337.2)\" d=\"M80,0h427\" style=\"stroke: rgb(255, 255, 255); stroke-opacity: 1; stroke-width: 1px;\"/><path class=\"ygrid crisp\" transform=\"translate(0,272.4)\" d=\"M80,0h427\" style=\"stroke: rgb(255, 255, 255); stroke-opacity: 1; stroke-width: 1px;\"/><path class=\"ygrid crisp\" transform=\"translate(0,207.6)\" d=\"M80,0h427\" style=\"stroke: rgb(255, 255, 255); stroke-opacity: 1; stroke-width: 1px;\"/><path class=\"ygrid crisp\" transform=\"translate(0,142.8)\" d=\"M80,0h427\" style=\"stroke: rgb(255, 255, 255); stroke-opacity: 1; stroke-width: 1px;\"/><path class=\"ygrid crisp\" transform=\"translate(0,78)\" d=\"M80,0h427\" style=\"stroke: rgb(255, 255, 255); stroke-opacity: 1; stroke-width: 1px;\"/></g></g><g class=\"zerolinelayer\"><path class=\"yzl zl crisp\" transform=\"translate(0,402)\" d=\"M80,0h427\" style=\"stroke: rgb(255, 255, 255); stroke-opacity: 1; stroke-width: 2px;\"/></g><path class=\"xlines-below\"/><path class=\"ylines-below\"/><g class=\"overlines-below\"/><g class=\"xaxislayer-below\"/><g class=\"yaxislayer-below\"/><g class=\"overaxes-below\"/><g class=\"plot\" transform=\"translate(80,60)\" clip-path=\"url(#clipcbddd8xyplot)\"><g class=\"scatterlayer mlayer\"><g class=\"trace scatter traceafea04\" style=\"stroke-miterlimit: 2; opacity: 1;\"><g class=\"fills\"/><g class=\"errorbars\"/><g class=\"lines\"><path class=\"js-line\" d=\"M0,342L1.44,317.68L2.89,338.46L4.33,341.72L5.77,341.72L8.66,341.82L10.1,341.64L11.54,334.26L12.98,342L18.75,342L20.2,334.08L21.64,342L23.08,341.67L24.52,333.16L25.97,332.74L27.41,342L28.85,340.27L30.29,338.48L31.74,340.66L33.18,342L34.62,339.49L36.06,336.85L37.51,342L38.95,341.19L40.39,342L41.83,327.09L43.28,340.13L44.72,340.51L46.16,335L47.6,327.09L49.05,341.94L50.49,337.94L51.93,337.72L54.82,338.32L56.26,327.1L57.7,323.22L59.15,332.27L60.59,340.28L62.03,339.52L63.47,342L64.92,342L66.36,335.98L67.8,342L69.24,341.88L70.69,340.89L72.13,340.13L73.57,338.23L75.01,337.99L76.46,342L80.78,342L82.23,326.93L83.67,319.81L85.11,342L86.55,342L88,337.34L89.44,342L90.88,342L95.21,341.69L96.65,338.86L98.09,341.79L99.54,342L103.86,341.58L105.31,333.99L108.19,340.62L109.64,334.33L111.08,342L112.52,341.64L118.29,341.91L119.73,342L121.18,340.64L122.62,342L124.06,341.92L125.5,330.34L126.95,342L128.39,342L129.83,342L131.27,338.17L132.72,341.57L134.16,342L135.6,318.64L137.04,342L138.49,341.42L139.93,322.17L141.37,336.02L142.81,342L145.7,342L147.14,342L148.58,342L150.03,340.69L151.47,340.63L152.91,342L154.35,326.21L155.8,263.19L158.68,342L160.13,342L161.57,18L163.01,342L165.9,342L167.34,341.11L168.78,331.59L170.22,342L173.11,340.21L174.55,342L175.99,342L177.44,340.61L178.88,340.21L180.32,342L191.86,342L193.3,340.34L196.19,337.74L197.63,341.97L199.07,342L200.52,341.07L201.96,342L203.4,339.1L204.84,342L206.29,341.96L209.17,341.89L210.61,339.85L212.06,326.53L213.5,328.24L216.39,313.43L217.83,341.89L219.27,342L220.71,334.22L222.16,339.47L223.6,339.34L225.04,342L226.48,340.17L227.93,341.09L229.37,337.7L230.81,341.22L232.25,341.98L233.7,342L235.14,340.25L236.58,342L238.02,341.86L239.47,321.81L240.91,340.87L242.35,338.73L243.79,342L245.24,342L246.68,339.72L248.12,333.85L249.56,342L269.76,342L271.2,68.13L272.65,334.12L274.09,244.28L275.53,339.64L276.97,339.23L279.86,321.87L281.3,340.31L282.74,342L284.19,341.06L285.63,340.74L287.07,341.88L288.51,342L289.96,340.54L291.4,341.88L292.84,342L298.61,342L300.05,341.22L302.94,341.2L304.38,342L305.82,340.84L307.27,188.81L308.71,341.92L310.15,341.32L311.59,333.61L313.04,341.32L314.48,210.6L315.92,342L317.36,342L318.81,318.95L320.25,324.05L321.69,341.45L323.14,330.64L324.58,131.06L326.02,335.44L327.46,341.45L328.91,342L330.35,340.63L331.79,342L333.23,321.58L334.68,342L336.12,341.8L339,314.08L340.45,341.8L343.33,341.03L344.77,317.68L346.22,334.58L347.66,341.03L349.1,341.43L350.54,339.39L351.99,341.03L353.43,341.43L354.87,341.18L356.31,333.51L357.76,341.64L359.2,341.39L360.64,342L362.08,295.95L363.53,337.62L364.97,341.44L366.41,341.02L367.85,342L369.3,316.95L370.74,335.24L372.18,304.36L373.62,311.83L375.07,342L376.51,342L377.95,338.77L379.4,337.45L380.84,341.68L382.28,331.03L383.72,296.17L385.17,329.4L386.61,340.76L388.05,342L389.49,234.56L390.94,338.74L392.38,342L393.82,337.34L395.26,342L396.71,341.32L398.15,340.08L399.59,336.21L401.03,342L402.48,342L403.92,342L405.36,340.08L406.8,341.11L408.25,340.81L409.69,341.98L411.13,307.71L412.57,342L414.02,340.67L416.9,335.33L418.34,341.89L419.79,342L421.23,300.85L422.67,331.51L424.11,323.44L425.56,332.2L427,319.13\" style=\"vector-effect: non-scaling-stroke; fill: none; stroke: rgb(99, 110, 250); stroke-opacity: 1; stroke-width: 2px; opacity: 1;\"/></g><g class=\"points\"/><g class=\"text\"/></g><g class=\"trace scatter trace1e320f\" style=\"stroke-miterlimit: 2; opacity: 1;\"><g class=\"fills\"/><g class=\"errorbars\"/><g class=\"lines\"><path class=\"js-line\" d=\"M0,342L1.44,328.1L2.89,326.87L5.77,340.38L7.21,328.87L8.66,339.66L10.1,340.63L11.54,335.96L12.98,341.83L14.43,340.94L15.87,342L18.75,342L20.2,338.6L21.64,342L23.08,342L24.52,310.51L25.97,329.92L27.41,338.87L28.85,335.23L30.29,337.94L31.74,331.25L33.18,342L34.62,335.27L36.06,329.05L37.51,342L38.95,335.58L40.39,338.22L41.83,329.32L43.28,333.1L44.72,340.41L46.16,328.5L47.6,329.24L49.05,341.91L51.93,335.75L53.38,334.07L54.82,331.96L56.26,323.81L57.7,327.03L59.15,325.13L60.59,338.55L62.03,341.08L63.47,342L64.92,342L66.36,334.93L67.8,340.21L69.24,342L70.69,331.57L72.13,330.92L73.57,341.41L75.01,333.12L76.46,339.82L77.9,342L79.34,340.92L80.78,342L82.23,335.41L83.67,325.24L85.11,342L86.55,342L88,332.24L89.44,342L90.88,335.47L92.32,342L93.77,337.14L95.21,342L96.65,333.97L98.09,339.62L99.54,333.52L100.98,342L102.42,342L103.86,342L105.31,333.16L106.75,333.04L108.19,333.99L109.64,336.85L111.08,336.04L112.52,340.85L113.96,339.75L115.41,335.65L116.85,341.88L118.29,342L119.73,340.73L122.62,340L124.06,341.22L125.5,327.6L126.95,340L128.39,342L129.83,340.25L131.27,337.49L132.72,340.12L134.16,341.66L135.6,330.54L137.04,331.62L138.49,338.56L139.93,326.1L141.37,333.51L142.81,331.62L144.26,337.92L145.7,342L147.14,332.57L148.58,342L150.03,340.51L151.47,328.06L152.91,342L155.8,302.73L157.24,328.16L158.68,340.52L160.13,342L161.57,212.84L163.01,342L165.9,342L167.34,339.59L168.78,326L170.22,342L174.55,340.2L175.99,342L177.44,338.72L178.88,340.79L180.32,342L181.76,342L184.65,342L186.09,336.94L187.53,342L188.98,341.34L190.42,338.41L191.86,341.06L193.3,341.48L194.75,334.41L196.19,326.57L197.63,339.26L199.07,340.97L200.52,340.62L201.96,337.69L203.4,338.72L204.84,342L206.29,341.09L207.73,334.47L209.17,339.36L210.61,320.92L212.06,327.96L213.5,321.81L214.94,323.64L216.39,322.35L217.83,332.01L219.27,339.74L220.71,340.48L222.16,337.31L223.6,341.01L226.48,314.59L227.93,341.64L229.37,338.17L230.81,339.74L232.25,327.5L233.7,342L235.14,340.2L236.58,339.79L238.02,308.14L239.47,325.4L243.79,342L245.24,341.59L246.68,338.36L248.12,337.8L249.56,342L251.01,342L269.76,342L271.2,18L272.65,326.09L274.09,275.4L275.53,320.23L276.97,332.75L278.42,329.11L279.86,331.89L282.74,340.76L284.19,337.59L285.63,338.58L287.07,337.51L288.51,342L289.96,336.99L292.84,342L294.28,342L295.73,335.35L297.17,342L298.61,342L300.05,336.13L301.5,338.77L302.94,337.55L305.82,331.77L307.27,285.15L308.71,341.38L310.15,335.19L311.59,339.58L313.04,335.83L314.48,255.41L315.92,331.03L317.36,342L318.81,323.27L320.25,326.86L321.69,342L323.14,335.22L324.58,49.9L326.02,336.35L327.46,340.85L328.91,342L330.35,339.69L331.79,342L333.23,335.75L334.68,342L336.12,341.89L337.56,318.53L339,334.19L340.45,340.1L341.89,339.95L343.33,341.39L344.77,326.47L347.66,341.39L349.1,342L350.54,338.56L351.99,339.96L353.43,342L354.87,336.29L356.31,336.09L357.76,341.41L360.64,342L362.08,278.14L363.53,340L364.97,334.29L366.41,333.55L367.85,342L369.3,336.17L370.74,335.43L372.18,319.59L373.62,334.29L375.07,342L376.51,339.35L377.95,340.69L379.4,339.27L380.84,339.35L382.28,334.65L383.72,316.1L385.17,333.08L386.61,332.78L388.05,340.68L389.49,291.33L390.94,336.66L392.38,339.08L393.82,330.76L395.26,342L396.71,335.84L398.15,340.94L399.59,324.1L401.03,340.32L402.48,340.22L403.92,342L405.36,341.16L406.8,329.6L408.25,341.62L409.69,338.85L411.13,303.3L412.57,335.57L414.02,339L415.46,328.24L416.9,324.29L418.34,339.11L419.79,342L421.23,325.05L422.67,323.21L424.11,322.14L425.56,336.57L427,296.16\" style=\"vector-effect: non-scaling-stroke; fill: none; stroke: rgb(239, 85, 59); stroke-opacity: 1; stroke-width: 2px; opacity: 1;\"/></g><g class=\"points\"/><g class=\"text\"/></g><g class=\"trace scatter traceddd3b6\" style=\"stroke-miterlimit: 2; opacity: 1;\"><g class=\"fills\"/><g class=\"errorbars\"/><g class=\"lines\"><path class=\"js-line\" d=\"M0,342L1.44,338.87L2.89,338.65L4.33,339.53L5.77,338.45L7.21,340.18L8.66,338.99L10.1,337.53L11.54,337.22L12.98,340.45L14.43,340.2L15.87,342L17.31,341.28L18.75,340.98L20.2,339.66L21.64,341.22L23.08,339.09L24.52,333.5L25.97,337.63L27.41,341.22L28.85,333.63L30.29,339L31.74,340.03L33.18,342L34.62,339.35L36.06,336.74L37.51,342L40.39,340.7L41.83,338.49L43.28,337.23L44.72,340.07L47.6,335.26L49.05,340.14L50.49,340.07L51.93,336.37L53.38,334.61L54.82,337.89L56.26,337.3L57.7,334.02L59.15,334.98L60.59,330.6L62.03,325.7L63.47,342L64.92,342L66.36,336.08L67.8,340.15L69.24,341.1L70.69,337.2L72.13,339.15L73.57,340.09L75.01,334.7L76.46,340.44L77.9,338.82L79.34,339.13L80.78,341L82.23,334.71L83.67,334.25L85.11,342L86.55,341.03L88,335.59L89.44,340.5L92.32,339.49L93.77,336.83L95.21,339.59L96.65,336.16L98.09,338.4L99.54,339.24L102.42,342L103.86,341.28L105.31,338.38L106.75,338.44L108.19,340.09L109.64,338.06L111.08,340.1L112.52,339.67L113.96,336.81L115.41,338.13L116.85,341.14L118.29,340.09L119.73,341.15L121.18,339.45L122.62,339.07L124.06,340.94L125.5,339.09L126.95,339.98L128.39,342L129.83,340.43L132.72,337.81L134.16,341.41L135.6,332.16L137.04,341.01L138.49,339.6L139.93,335.58L141.37,335.54L142.81,341.01L144.26,339.91L145.7,341.23L147.14,339.76L148.58,342L151.47,334.96L152.91,342L154.35,326.09L155.8,289.6L157.24,338.57L158.68,340.66L160.13,342L161.57,56.04L163.01,342L164.45,342L165.9,341.02L167.34,337.07L168.78,306.52L170.22,342L171.67,339.3L173.11,340.41L174.55,339.56L175.99,342L177.44,340.42L178.88,340.41L180.32,342L181.76,342L184.65,342L186.09,340.15L187.53,342L188.98,340.03L190.42,339.59L191.86,341.13L194.75,337.64L196.19,339.26L197.63,338.13L199.07,339.39L200.52,338.47L201.96,340.47L203.4,340.34L204.84,341.08L206.29,341.26L207.73,340.46L209.17,341.28L210.61,334.04L212.06,322.28L213.5,321.22L214.94,308.9L216.39,315.1L217.83,340.49L219.27,341.38L220.71,336.01L222.16,339.73L223.6,338.34L225.04,338.52L226.48,337.92L227.93,339.81L229.37,337.78L230.81,339.24L232.25,341.16L233.7,341.05L235.14,339.74L236.58,340.63L238.02,339.15L239.47,333.96L240.91,340.3L242.35,338.19L243.79,341.25L245.24,340.09L246.68,337.44L248.12,336.98L249.56,342L251.01,342L269.76,342L271.2,18L272.65,327.21L274.09,221.19L275.53,335.51L276.97,317.82L278.42,320.01L279.86,312.71L281.3,334.08L282.74,340.32L285.63,340.14L287.07,340.48L288.51,339.4L289.96,339.64L294.28,342L295.73,340.31L297.17,342L298.61,340.6L302.94,336.35L304.38,339.58L305.82,338.52L307.27,198.65L308.71,337.94L310.15,339.09L311.59,338.38L313.04,340.61L314.48,214.71L315.92,339.14L317.36,342L318.81,328.66L320.25,303.67L321.69,340.87L323.14,336.82L324.58,183.32L326.02,337.22L327.46,339.38L328.91,342L330.35,337.62L331.79,341.11L333.23,337.11L334.68,342L336.12,341.28L337.56,337.15L339,337.28L340.45,340.41L341.89,340.56L343.33,340.32L344.77,337.84L346.22,339.36L347.66,339.39L349.1,341.25L350.54,337.64L353.43,340.37L354.87,339.12L356.31,335.41L357.76,339.22L360.64,342L362.08,313.95L363.53,337.53L364.97,336.89L366.41,331.22L367.85,342L370.74,331.94L372.18,331.36L373.62,333.73L375.07,342L377.95,338.72L379.4,338.54L382.28,334.96L383.72,295.06L385.17,331.37L386.61,339.82L388.05,338.84L389.49,163.73L390.94,337.65L392.38,339.16L393.82,329.14L395.26,342L396.71,338.68L398.15,338.98L399.59,326.15L401.03,340.6L402.48,340.17L403.92,342L405.36,340.93L406.8,333.07L408.25,339.86L409.69,340.29L411.13,258.27L412.57,340.11L414.02,339.74L415.46,329.1L416.9,312.95L418.34,340.23L419.79,342L421.23,276.88L422.67,335.08L424.11,278.82L425.56,330.37L427,319.73\" style=\"vector-effect: non-scaling-stroke; fill: none; stroke: rgb(0, 204, 150); stroke-opacity: 1; stroke-width: 2px; opacity: 1;\"/></g><g class=\"points\"/><g class=\"text\"/></g></g></g><g class=\"overplot\"/><path class=\"xlines-above crisp\" d=\"M0,0\" style=\"fill: none;\"/><path class=\"ylines-above crisp\" d=\"M0,0\" style=\"fill: none;\"/><g class=\"overlines-above\"/><g class=\"xaxislayer-above\"><g class=\"xtick\"><text text-anchor=\"middle\" x=\"0\" y=\"437\" transform=\"translate(149.24,0)\" style=\"font-family: 'Open Sans', verdana, arial, sans-serif; font-size: 16px; fill: rgb(42, 63, 95); fill-opacity: 1; white-space: pre; opacity: 1;\">50</text></g><g class=\"xtick\"><text text-anchor=\"middle\" x=\"0\" y=\"437\" style=\"font-family: 'Open Sans', verdana, arial, sans-serif; font-size: 16px; fill: rgb(42, 63, 95); fill-opacity: 1; white-space: pre; opacity: 1;\" transform=\"translate(221.37,0)\">100</text></g><g class=\"xtick\"><text text-anchor=\"middle\" x=\"0\" y=\"437\" style=\"font-family: 'Open Sans', verdana, arial, sans-serif; font-size: 16px; fill: rgb(42, 63, 95); fill-opacity: 1; white-space: pre; opacity: 1;\" transform=\"translate(293.5,0)\">150</text></g><g class=\"xtick\"><text text-anchor=\"middle\" x=\"0\" y=\"437\" style=\"font-family: 'Open Sans', verdana, arial, sans-serif; font-size: 16px; fill: rgb(42, 63, 95); fill-opacity: 1; white-space: pre; opacity: 1;\" transform=\"translate(365.63,0)\">200</text></g><g class=\"xtick\"><text text-anchor=\"middle\" x=\"0\" y=\"437\" style=\"font-family: 'Open Sans', verdana, arial, sans-serif; font-size: 16px; fill: rgb(42, 63, 95); fill-opacity: 1; white-space: pre; opacity: 1;\" transform=\"translate(437.76,0)\">250</text></g></g><g class=\"yaxislayer-above\"><g class=\"ytick\"><text text-anchor=\"end\" x=\"79\" y=\"5.6\" transform=\"translate(0,402)\" style=\"font-family: 'Open Sans', verdana, arial, sans-serif; font-size: 16px; fill: rgb(42, 63, 95); fill-opacity: 1; white-space: pre; opacity: 1;\">0</text></g><g class=\"ytick\"><text text-anchor=\"end\" x=\"79\" y=\"5.6\" style=\"font-family: 'Open Sans', verdana, arial, sans-serif; font-size: 16px; fill: rgb(42, 63, 95); fill-opacity: 1; white-space: pre; opacity: 1;\" transform=\"translate(0,337.2)\">0.2</text></g><g class=\"ytick\"><text text-anchor=\"end\" x=\"79\" y=\"5.6\" style=\"font-family: 'Open Sans', verdana, arial, sans-serif; font-size: 16px; fill: rgb(42, 63, 95); fill-opacity: 1; white-space: pre; opacity: 1;\" transform=\"translate(0,272.4)\">0.4</text></g><g class=\"ytick\"><text text-anchor=\"end\" x=\"79\" y=\"5.6\" style=\"font-family: 'Open Sans', verdana, arial, sans-serif; font-size: 16px; fill: rgb(42, 63, 95); fill-opacity: 1; white-space: pre; opacity: 1;\" transform=\"translate(0,207.6)\">0.6</text></g><g class=\"ytick\"><text text-anchor=\"end\" x=\"79\" y=\"5.6\" style=\"font-family: 'Open Sans', verdana, arial, sans-serif; font-size: 16px; fill: rgb(42, 63, 95); fill-opacity: 1; white-space: pre; opacity: 1;\" transform=\"translate(0,142.8)\">0.8</text></g><g class=\"ytick\"><text text-anchor=\"end\" x=\"79\" y=\"5.6\" style=\"font-family: 'Open Sans', verdana, arial, sans-serif; font-size: 16px; fill: rgb(42, 63, 95); fill-opacity: 1; white-space: pre; opacity: 1;\" transform=\"translate(0,78)\">1</text></g></g><g class=\"overaxes-above\"/></g></g><g class=\"polarlayer\"/><g class=\"smithlayer\"/><g class=\"ternarylayer\"/><g class=\"geolayer\"/><g class=\"funnelarealayer\"/><g class=\"pielayer\"/><g class=\"iciclelayer\"/><g class=\"treemaplayer\"/><g class=\"sunburstlayer\"/><g class=\"glimages\"/><defs id=\"topdefs-cbddd8\"><g class=\"clips\"/><clipPath id=\"legendcbddd8\"><rect width=\"172\" height=\"107\" x=\"0\" y=\"0\"/></clipPath></defs><g class=\"layer-above\"><g class=\"imagelayer\"/><g class=\"shapelayer\"/></g><g class=\"infolayer\"><g class=\"legend\" pointer-events=\"all\" transform=\"translate(515.54,60)\"><rect class=\"bg\" shape-rendering=\"crispEdges\" style=\"stroke: rgb(68, 68, 68); stroke-opacity: 1; fill: rgb(255, 255, 255); fill-opacity: 1; stroke-width: 0px;\" width=\"172\" height=\"107\" x=\"0\" y=\"0\"/><g class=\"scrollbox\" transform=\"\" clip-path=\"url(#legendcbddd8)\"><text class=\"legendtitletext\" text-anchor=\"start\" x=\"2\" y=\"24.7\" style=\"font-family: 'Open Sans', verdana, arial, sans-serif; font-size: 19px; fill: rgb(42, 63, 95); fill-opacity: 1; white-space: pre;\">ML Models</text><g class=\"groups\" transform=\"\"><g class=\"traces\" transform=\"translate(0,41.6)\" style=\"opacity: 1;\"><text class=\"legendtext\" text-anchor=\"start\" x=\"40\" y=\"6.24\" style=\"font-family: 'Open Sans', verdana, arial, sans-serif; font-size: 16px; fill: rgb(42, 63, 95); fill-opacity: 1; white-space: pre;\">CatBoost</text><g class=\"layers\" style=\"opacity: 1;\"><g class=\"legendfill\"/><g class=\"legendlines\"><path class=\"js-line\" d=\"M5,0h30\" style=\"fill: none; stroke: rgb(99, 110, 250); stroke-opacity: 1; stroke-width: 2px;\"/></g><g class=\"legendsymbols\"><g class=\"legendpoints\"/></g></g><rect class=\"legendtoggle\" x=\"0\" y=\"-11.9\" width=\"166.171875\" height=\"23.8\" style=\"fill: rgb(0, 0, 0); fill-opacity: 0;\"/></g></g><g class=\"groups\" transform=\"\"><g class=\"traces\" transform=\"translate(0,65.4)\" style=\"opacity: 1;\"><text class=\"legendtext\" text-anchor=\"start\" x=\"40\" y=\"6.24\" style=\"font-family: 'Open Sans', verdana, arial, sans-serif; font-size: 16px; fill: rgb(42, 63, 95); fill-opacity: 1; white-space: pre;\">XGBoost</text><g class=\"layers\" style=\"opacity: 1;\"><g class=\"legendfill\"/><g class=\"legendlines\"><path class=\"js-line\" d=\"M5,0h30\" style=\"fill: none; stroke: rgb(239, 85, 59); stroke-opacity: 1; stroke-width: 2px;\"/></g><g class=\"legendsymbols\"><g class=\"legendpoints\"/></g></g><rect class=\"legendtoggle\" x=\"0\" y=\"-11.9\" width=\"166.171875\" height=\"23.8\" style=\"fill: rgb(0, 0, 0); fill-opacity: 0;\"/></g></g><g class=\"groups\" transform=\"\"><g class=\"traces\" transform=\"translate(0,89.2)\" style=\"opacity: 1;\"><text class=\"legendtext\" text-anchor=\"start\" x=\"40\" y=\"6.24\" style=\"font-family: 'Open Sans', verdana, arial, sans-serif; font-size: 16px; fill: rgb(42, 63, 95); fill-opacity: 1; white-space: pre;\">Random_Forest</text><g class=\"layers\" style=\"opacity: 1;\"><g class=\"legendfill\"/><g class=\"legendlines\"><path class=\"js-line\" d=\"M5,0h30\" style=\"fill: none; stroke: rgb(0, 204, 150); stroke-opacity: 1; stroke-width: 2px;\"/></g><g class=\"legendsymbols\"><g class=\"legendpoints\"/></g></g><rect class=\"legendtoggle\" x=\"0\" y=\"-11.9\" width=\"166.171875\" height=\"23.8\" style=\"fill: rgb(0, 0, 0); fill-opacity: 0;\"/></g></g></g><rect class=\"scrollbar\" rx=\"20\" ry=\"3\" width=\"0\" height=\"0\" style=\"fill: rgb(128, 139, 164); fill-opacity: 1;\" x=\"0\" y=\"0\"/></g><g class=\"g-gtitle\"><text class=\"gtitle\" x=\"35\" y=\"30\" text-anchor=\"start\" dy=\"0em\" style=\"font-family: 'Open Sans', verdana, arial, sans-serif; font-size: 22px; fill: rgb(42, 63, 95); opacity: 1; font-weight: normal; white-space: pre;\">Per Residue Scores for All 3 Machine Learning Models</text></g><g class=\"g-xtitle\"><text class=\"xtitle\" x=\"293.5\" y=\"468.3\" text-anchor=\"middle\" style=\"font-family: 'Open Sans', verdana, arial, sans-serif; font-size: 19px; fill: rgb(42, 63, 95); opacity: 1; font-weight: normal; white-space: pre;\">Residue Number</text></g><g class=\"g-ytitle\"><text class=\"ytitle\" transform=\"rotate(-90,24.528125000000003,240)\" x=\"24.528125000000003\" y=\"240\" text-anchor=\"middle\" style=\"font-family: 'Open Sans', verdana, arial, sans-serif; font-size: 19px; fill: rgb(42, 63, 95); opacity: 1; font-weight: normal; white-space: pre;\">Per Residue Score</text></g></g></svg>"
      ]
     },
     "metadata": {},
     "output_type": "display_data"
    }
   ],
   "source": [
    "fig = px.line(df_all_per_res_scores, x=\"Residue Number\", y=[\"CatBoost\", \"XGBoost\", \"Random_Forest\"])\n",
    "fig.update_layout(\n",
    "    title=\"Per Residue Scores for All 3 Machine Learning Models\",\n",
    "    xaxis_title=\"Residue Number\",\n",
    "    yaxis_title=\"Per Residue Score\",\n",
    "    legend_title=\"ML Models\",\n",
    "    font=dict(size=16)\n",
    ")\n",
    "\n",
    "fig.show(\"svg\") # remove \"svg\" to make the graph interactive "
   ]
  },
  {
   "attachments": {},
   "cell_type": "markdown",
   "metadata": {},
   "source": [
    "### Part 2.3. Project the Results onto Protein Structures with the pymol_projections.py module. \n",
    " \n",
    "This section is essentially identical to 1.3, only that now we will output the ml results instead of the stats results"
   ]
  },
  {
   "cell_type": "code",
   "execution_count": 48,
   "metadata": {},
   "outputs": [
    {
     "name": "stdout",
     "output_type": "stream",
     "text": [
      "The file: tutorial_datasets\\PTP1B_ml_analysis\\CatBoost_Pymol_Per_Res_Scores.py was written to disk.\n",
      "The file: tutorial_datasets\\PTP1B_ml_analysis\\XGBoost_Pymol_Per_Res_Scores.py was written to disk.\n",
      "The file: tutorial_datasets\\PTP1B_ml_analysis\\Random_Forest_Pymol_Per_Res_Scores.py was written to disk.\n",
      "The file: tutorial_datasets\\PTP1B_ml_analysis\\CatBoost_Pymol_Per_Feature_Scores.py was written to disk.\n",
      "The file: tutorial_datasets\\PTP1B_ml_analysis\\XGBoost_Pymol_Per_Feature_Scores.py was written to disk.\n",
      "The file: tutorial_datasets\\PTP1B_ml_analysis\\Random_Forest_Pymol_Per_Feature_Scores.py was written to disk.\n"
     ]
    }
   ],
   "source": [
    "# Here you do not need to specify what model you would like to the output results for, all will be outputted simultaneously.\n",
    "pymol_projections.project_multiple_per_res_scores(\n",
    "    all_per_res_scores=ml_post_proc.all_per_residue_scores,\n",
    "    out_dir=ml_out_dir\n",
    ")\n",
    "\n",
    "pymol_projections.project_multiple_per_feature_scores(\n",
    "    all_per_feature_scores=ml_post_proc.all_per_feature_scores,\n",
    "    numb_features=\"all\",\n",
    "    out_dir=ml_out_dir\n",
    ")"
   ]
  },
  {
   "attachments": {},
   "cell_type": "markdown",
   "metadata": {},
   "source": []
  }
 ],
 "metadata": {
  "kernelspec": {
   "display_name": "ML_conf_features_3.8",
   "language": "python",
   "name": "python3"
  },
  "language_info": {
   "codemirror_mode": {
    "name": "ipython",
    "version": 3
   },
   "file_extension": ".py",
   "mimetype": "text/x-python",
   "name": "python",
   "nbconvert_exporter": "python",
   "pygments_lexer": "ipython3",
   "version": "3.8.12"
  },
  "orig_nbformat": 4,
  "vscode": {
   "interpreter": {
    "hash": "d5d41bf74c17b5a6e59a3d560c52f1b05d1a02d51345af3a6d64602d4eaded4e"
   }
  }
 },
 "nbformat": 4,
 "nbformat_minor": 2
}
